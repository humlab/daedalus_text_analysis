{
 "cells": [
  {
   "cell_type": "code",
   "execution_count": 4,
   "metadata": {},
   "outputs": [],
   "source": [
    "import nltk\n",
    "\n",
    "from corpora.zip_utility import ZipReader, store_documents_to_archive\n",
    "from corpora.corpus_source_reader import SparvCorpusSourceReader\n",
    "\n",
    "default_transforms = [\n",
    "    lambda tokens: [ x.lower() for x in tokens ],\n",
    "    lambda tokens: [ x for x in tokens if len(x) > 2 ],\n",
    "    lambda tokens: [ x for x in tokens if any([c for c in x if c.isalpha()])],\n",
    "    lambda tokens: [ x for x in tokens if x not in nltk.corpus.stopwords.words('swedish') ]\n",
    "]\n",
    "\n",
    "def convert_alto_xml_to_text(source_archive, target_archive, postags=\"\", lemmatize=False, transforms=None, xslt_filename=None):\n",
    "    source = ZipReader(source_archive, pattern='*.xml', filenames=None)\n",
    "    documents = SparvCorpusSourceReader(source=source,\n",
    "                                        transforms=(transforms or []),\n",
    "                                        postags=postags,\n",
    "                                        lemmatize=lemmatize,\n",
    "                                        chunk_size=None,\n",
    "                                        xslt_filename=xslt_filename)\n",
    "    store_documents_to_archive(target_archive, documents)\n",
    "    \n",
    "# convert_alto_xml_to_text('./data/SOU_1990.zip', './data/SOU_1990_raw_text.zip', xslt_filename='./corpora/alto_xml_to_text.xslt')\n",
    "\n",
    "# convert_alto_xml_to_text('./data/SOU_1990.zip', './data/1990_nnpm_lc_gt2_nsw_lemma_text.zip', postags=\"|NN|PM|\",\n",
    "#                         lemmatize=True, transforms=default_transforms)\n",
    "\n",
    "convert_alto_xml_to_text('./data/kaffe_avsnitt.zip', './data/kaffe_avsnitt_nn_pm_lemma.zip', postags=\"|NN|PM|\", lemmatize=True, transforms=None)\n"
   ]
  },
  {
   "cell_type": "code",
   "execution_count": null,
   "metadata": {},
   "outputs": [],
   "source": [
    "corpus.dictionary.id2token"
   ]
  },
  {
   "cell_type": "code",
   "execution_count": null,
   "metadata": {},
   "outputs": [],
   "source": []
  }
 ],
 "metadata": {
  "kernelspec": {
   "display_name": "Python 3",
   "language": "python",
   "name": "python3"
  },
  "language_info": {
   "codemirror_mode": {
    "name": "ipython",
    "version": 3
   },
   "file_extension": ".py",
   "mimetype": "text/x-python",
   "name": "python",
   "nbconvert_exporter": "python",
   "pygments_lexer": "ipython3",
   "version": "3.6.5"
  }
 },
 "nbformat": 4,
 "nbformat_minor": 2
}
