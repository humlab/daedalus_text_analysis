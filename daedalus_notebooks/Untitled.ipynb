{
 "cells": [
  {
   "cell_type": "markdown",
   "metadata": {},
   "source": [
    "### Text Analysis Methods Quick Reference"
   ]
  },
  {
   "cell_type": "markdown",
   "metadata": {},
   "source": [
    "### TF-IDF"
   ]
  },
  {
   "cell_type": "markdown",
   "metadata": {},
   "source": [
    "### PMI - Pointwise Mutual Exclusion"
   ]
  },
  {
   "cell_type": "markdown",
   "metadata": {},
   "source": []
  },
  {
   "cell_type": "markdown",
   "metadata": {},
   "source": [
    "### Dirichlet"
   ]
  },
  {
   "cell_type": "code",
   "execution_count": 74,
   "metadata": {},
   "outputs": [],
   "source": [
    "# Code\n",
    "%run ./common/widgets_utility\n",
    "%matplotlib inline\n",
    "import numpy as np\n",
    "import matplotlib.pyplot as plt\n",
    "import matplotlib.tri as tri\n",
    "\n",
    "    \n",
    "# Mid-points of triangle sides opposite of each corner\n",
    "corners = np.array([[0, 0], [1, 0], [0.5, 0.75**0.5]])\n",
    "triangle = tri.Triangulation(corners[:, 0], corners[:, 1])\n",
    "\n",
    "midpoints = [(corners[(i + 1) % 3] + corners[(i + 2) % 3]) / 2.0 \\\n",
    "             for i in range(3)]\n",
    "def xy2bc(xy, tol=1.e-3):\n",
    "    '''Converts 2D Cartesian coordinates to barycentric.'''\n",
    "    s = [(corners[i] - midpoints[i]).dot(xy - midpoints[i]) / 0.75 \\\n",
    "         for i in range(3)]\n",
    "    return np.clip(s, tol, 1.0 - tol)\n",
    "\n",
    "\n",
    "from functools import reduce\n",
    "from math import gamma\n",
    "from operator import mul\n",
    "import numpy as np\n",
    "import math\n",
    "from operator import mul\n",
    "\n",
    "\n",
    "class Dirichlet(object):\n",
    "    \n",
    "    def __init__(self, alpha):\n",
    "        self._alpha = np.array(alpha)\n",
    "        self._coef = gamma(np.sum(self._alpha)) /\n",
    "                     reduce(mul, [gamma(a) for a in self._alpha])\n",
    "        \n",
    "    def pdf(self, x):\n",
    "        '''Returns pdf value for `x`.'''\n",
    "        \n",
    "        X = reduce(mul, [xx ** (aa - 1) for (xx, aa) in zip(x, self._alpha)])\n",
    "        \n",
    "        return self._coef * X\n",
    "    \n",
    "def draw_pdf_contours(dist, nlevels=200, subdiv=8, **kwargs):\n",
    "\n",
    "    refiner = tri.UniformTriRefiner(triangle)\n",
    "    trimesh = refiner.refine_triangulation(subdiv=subdiv)\n",
    "    pvals = [dist.pdf(xy2bc(xy)) for xy in zip(trimesh.x, trimesh.y)]\n",
    "\n",
    "    plt.tricontourf(trimesh, pvals, nlevels, **kwargs)\n",
    "    plt.axis('equal')\n",
    "    plt.xlim(0, 1)\n",
    "    plt.ylim(0, 0.75**0.5)\n",
    "    plt.axis('off')\n",
    "    "
   ]
  },
  {
   "cell_type": "code",
   "execution_count": 73,
   "metadata": {
    "code_folding": []
   },
   "outputs": [
    {
     "data": {
      "application/vnd.jupyter.widget-view+json": {
       "model_id": "6bab29d129c4446d903daab82beca4d3",
       "version_major": 2,
       "version_minor": 0
      },
      "text/html": [
       "<p>Failed to display Jupyter Widget of type <code>VBox</code>.</p>\n",
       "<p>\n",
       "  If you're reading this message in the Jupyter Notebook or JupyterLab Notebook, it may mean\n",
       "  that the widgets JavaScript is still loading. If this message persists, it\n",
       "  likely means that the widgets JavaScript library is either not installed or\n",
       "  not enabled. See the <a href=\"https://ipywidgets.readthedocs.io/en/stable/user_install.html\">Jupyter\n",
       "  Widgets Documentation</a> for setup instructions.\n",
       "</p>\n",
       "<p>\n",
       "  If you're reading this message in another frontend (for example, a static\n",
       "  rendering on GitHub or <a href=\"https://nbviewer.jupyter.org/\">NBViewer</a>),\n",
       "  it may mean that your frontend doesn't currently support widgets.\n",
       "</p>\n"
      ],
      "text/plain": [
       "VBox(children=(HBox(children=(FloatSlider(value=5.0, continuous_update=False, description='a1', min=0.001, step=0.01), FloatSlider(value=5.0, continuous_update=False, description='a2', min=0.001, step=0.01), FloatSlider(value=5.0, continuous_update=False, description='a3', min=0.001, step=0.01), IntSlider(value=8, continuous_update=False, description='n', max=16, min=1))), HBox(children=(Output(),))))"
      ]
     },
     "metadata": {},
     "output_type": "display_data"
    }
   ],
   "source": [
    "# Xode\n",
    "def display_pdf_contours(a1, a2, a3, subdiv):\n",
    "    \n",
    "    alpha = [a1, a2, a3]\n",
    "    dirichlet_sample = Dirichlet(alpha) \n",
    "    print(alpha)\n",
    "    print(dirichlet_sample._coef)\n",
    "    print([gamma(a) for a in dirichlet_sample._alpha])\n",
    "    print(dirichlet_sample.pdf([1,1,1]))\n",
    "\n",
    "    print(np.random.dirichlet(alpha))\n",
    "    \n",
    "    # draw_pdf_contours(Dirichlet([a1, a2, a3]), subdiv=subdiv)\n",
    "\n",
    "a1=widgets.FloatSlider(description='a1', min=0.001, max=100.0, step=0.01, value=5.0, continuous_update=False)\n",
    "a2=widgets.FloatSlider(description='a2', min=0.001, max=100.0, step=0.01, value=5.0, continuous_update=False)\n",
    "a3=widgets.FloatSlider(description='a3', min=0.001, max=100.0, step=0.01, value=5.0, continuous_update=False)\n",
    "\n",
    "subdiv=widgets.IntSlider(description='n', min=1, max=16, step=1, value=8, continuous_update=False)\n",
    "\n",
    "w = widgets.interactive(\n",
    "    display_pdf_contours, a1=a1, a2=a2, a3=a3, subdiv=subdiv\n",
    ")\n",
    "\n",
    "display(widgets.VBox([\n",
    "    widgets.HBox([a1, a2, a3, subdiv]),\n",
    "    widgets.HBox([w.children[-1]])\n",
    "]))\n",
    "w.update()\n"
   ]
  },
  {
   "cell_type": "code",
   "execution_count": 26,
   "metadata": {},
   "outputs": [],
   "source": [
    "from scipy.special import gamma"
   ]
  },
  {
   "cell_type": "code",
   "execution_count": 28,
   "metadata": {},
   "outputs": [
    {
     "data": {
      "text/plain": [
       "27.93175373836837"
      ]
     },
     "execution_count": 28,
     "metadata": {},
     "output_type": "execute_result"
    }
   ],
   "source": [
    "gamma(5.1)"
   ]
  },
  {
   "cell_type": "code",
   "execution_count": 41,
   "metadata": {},
   "outputs": [
    {
     "data": {
      "text/plain": [
       "inf"
      ]
     },
     "execution_count": 41,
     "metadata": {},
     "output_type": "execute_result"
    }
   ],
   "source": [
    "gamma(0)"
   ]
  },
  {
   "cell_type": "code",
   "execution_count": 55,
   "metadata": {},
   "outputs": [
    {
     "data": {
      "image/png": "[encoded data removed]",
      "text/plain": [
       "<matplotlib.figure.Figure at 0x7f0cb79f0d30>"
      ]
     },
     "metadata": {},
     "output_type": "display_data"
    }
   ],
   "source": [
    "import numpy as np\n",
    "import matplotlib.pyplot as plt\n",
    "\n",
    "t = np.arange(-10, 10., 0.000001)\n",
    "\n",
    "# red dashes, blue squares and green triangles\n",
    "plt.plot(t, [ gamma(x) for x in t ], 'b')\n",
    "plt.show()\n"
   ]
  },
  {
   "cell_type": "code",
   "execution_count": 36,
   "metadata": {},
   "outputs": [
    {
     "data": {
      "text/plain": [
       "9999.422883231622"
      ]
     },
     "execution_count": 36,
     "metadata": {},
     "output_type": "execute_result"
    }
   ],
   "source": [
    "gamma(0.0001)"
   ]
  },
  {
   "cell_type": "code",
   "execution_count": 61,
   "metadata": {},
   "outputs": [
    {
     "data": {
      "text/plain": [
       "-0.0"
      ]
     },
     "execution_count": 61,
     "metadata": {},
     "output_type": "execute_result"
    }
   ],
   "source": [
    "gamma(-1000.4)"
   ]
  },
  {
   "cell_type": "code",
   "execution_count": 66,
   "metadata": {},
   "outputs": [
    {
     "data": {
      "text/plain": [
       "27.98409999999999"
      ]
     },
     "execution_count": 66,
     "metadata": {},
     "output_type": "execute_result"
    }
   ],
   "source": [
    "(-2.3)**4\n"
   ]
  },
  {
   "cell_type": "code",
   "execution_count": null,
   "metadata": {},
   "outputs": [],
   "source": []
  }
 ],
 "metadata": {
  "kernelspec": {
   "display_name": "Python 3",
   "language": "python",
   "name": "python3"
  },
  "language_info": {
   "codemirror_mode": {
    "name": "ipython",
    "version": 3
   },
   "file_extension": ".py",
   "mimetype": "text/x-python",
   "name": "python",
   "nbconvert_exporter": "python",
   "pygments_lexer": "ipython3",
   "version": "3.5.3"
  }
 },
 "nbformat": 4,
 "nbformat_minor": 2
}
