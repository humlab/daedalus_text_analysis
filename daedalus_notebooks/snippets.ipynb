{
 "cells": [
  {
   "cell_type": "code",
   "execution_count": 2,
   "metadata": {},
   "outputs": [
    {
     "data": {
      "image/png": "[encoded data removed]",
      "text/plain": [
       "<matplotlib.figure.Figure at 0x7f436fb736a0>"
      ]
     },
     "metadata": {},
     "output_type": "display_data"
    }
   ],
   "source": [
    "%matplotlib inline\n",
    "from matplotlib import pyplot as plt\n",
    "import numpy as np\n",
    "from matplotlib_venn import venn3, venn3_circles\n",
    "plt.figure(figsize=(4,4))\n",
    "v = venn3(subsets=(1, 1, 1, 1, 1, 1, 1), set_labels = ('A', 'B', 'C'))\n",
    "v.get_patch_by_id('100').set_alpha(1.0)\n",
    "v.get_patch_by_id('100').set_color('white')\n",
    "v.get_label_by_id('100').set_text('Unknown')\n",
    "v.get_label_by_id('A').set_text('Set \"A\"')\n",
    "c = venn3_circles(subsets=(1, 1, 1, 1, 1, 1, 1), linestyle='dashed')\n",
    "c[0].set_lw(1.0)\n",
    "c[0].set_ls('dotted')\n",
    "plt.title(\"Sample Venn diagram\")\n",
    "plt.annotate('Unknown set', xy=v.get_label_by_id('100').get_position() - np.array([0, 0.05]), xytext=(-70,-70),\n",
    "             ha='center', textcoords='offset points', bbox=dict(boxstyle='round,pad=0.5', fc='gray', alpha=0.1),\n",
    "             arrowprops=dict(arrowstyle='->', connectionstyle='arc3,rad=0.5',color='gray'))\n",
    "plt.show()"
   ]
  },
  {
   "cell_type": "code",
   "execution_count": null,
   "metadata": {},
   "outputs": [],
   "source": [
    "set1 = set(['A', 'B', 'C', 'D'])\n",
    "set2 = set(['B', 'C', 'D', 'E'])\n",
    "set3 = set(['C', 'D',' E', 'F', 'G'])\n",
    "\n",
    "venn3([set1, set2, set3], ('Set1', 'Set2', 'Set3'))\n",
    "plt.show()"
   ]
  },
  {
   "cell_type": "code",
   "execution_count": null,
   "metadata": {
    "code_folding": [
     0
    ]
   },
   "outputs": [],
   "source": [
    "# DEMO: Zoom-Window\n",
    "import numpy as np\n",
    "\n",
    "from bokeh.layouts import row\n",
    "from bokeh.models import ColumnDataSource, CustomJS, Rect\n",
    "from bokeh.plotting import output_notebook, figure, show\n",
    "\n",
    "output_file('range_update_callback.html')\n",
    "\n",
    "N = 4000\n",
    "\n",
    "x = np.random.random(size=N) * 100\n",
    "y = np.random.random(size=N) * 100\n",
    "radii = np.random.random(size=N) * 1.5\n",
    "colors = [\n",
    "    \"#%02x%02x%02x\" % (int(r), int(g), 150) for r, g in zip(50+2*x, 30+2*y)\n",
    "]\n",
    "\n",
    "source = ColumnDataSource({'x': [], 'y': [], 'width': [], 'height': []})\n",
    "\n",
    "jscode=\"\"\"\n",
    "    var data = source.data;\n",
    "    var start = cb_obj.start;\n",
    "    var end = cb_obj.end;\n",
    "    data['%s'] = [start + (end - start) / 2];\n",
    "    data['%s'] = [end - start];\n",
    "    source.change.emit();\n",
    "\"\"\"\n",
    "\n",
    "p1 = figure(title='Pan and Zoom Here', x_range=(0, 100), y_range=(0, 100),\n",
    "            tools='box_zoom,wheel_zoom,pan,reset', plot_width=400, plot_height=400)\n",
    "p1.scatter(x, y, radius=radii, fill_color=colors, fill_alpha=0.6, line_color=None)\n",
    "\n",
    "p1.x_range.callback = CustomJS(\n",
    "        args=dict(source=source), code=jscode % ('x', 'width'))\n",
    "p1.y_range.callback = CustomJS(\n",
    "        args=dict(source=source), code=jscode % ('y', 'height'))\n",
    "\n",
    "p2 = figure(title='See Zoom Window Here', x_range=(0, 100), y_range=(0, 100),\n",
    "            tools='', plot_width=400, plot_height=400)\n",
    "p2.scatter(x, y, radius=radii, fill_color=colors, fill_alpha=0.6, line_color=None)\n",
    "rect = Rect(x='x', y='y', width='width', height='height', fill_alpha=0.1,\n",
    "            line_color='black', fill_color='black')\n",
    "p2.add_glyph(source, rect)\n",
    "\n",
    "layout = row(p1, p2)\n",
    "\n",
    "show(layout)"
   ]
  },
  {
   "cell_type": "markdown",
   "metadata": {},
   "source": [
    "### Godness of Fit\n",
    "Goodness of Fit using **Kolmogorov-Smirnov** (alternatives are **chi square** and **maximum likelihood**) \n",
    "\n",
    "https://stats.stackexchange.com/questions/113464/understanding-scipy-kolmogorov-smirnov-test\n",
    "*\"For the KS test the p-value is itself distributed uniformly in [0,1] if the H0 is true (which it is if you test whether it your sample is from U(0,1)U(0,1) and the random number generation works okay). It therefore must \"vary wildly\" between 0 and 1, in fact its standard deviation is 1/12−−√1/12 which is roughly 0.3.\"*\n",
    "\n",
    "https://en.m.wikipedia.org/wiki/Kolmogorov%E2%80%93Smirnov_test\n",
    "*\"The Kolmogorov–Smirnov statistic quantifies a distance between the empirical distribution function of the sample and the cumulative distribution function of the reference distribution, or between the empirical distribution functions of two samples. The null distribution of this statistic is calculated under the null hypothesis that the sample is drawn from the reference distribution (in the one-sample case) or that the samples are drawn from the same distribution (in the two-sample case). In each case, the distributions considered under the null hypothesis are continuous distributions but are otherwise unrestricted....The Kolmogorov–Smirnov test can be modified to serve as a goodness of fit test. \"* \n",
    "\n",
    "https://docs.scipy.org/doc/scipy/reference/generated/scipy.stats.wasserstein_distance.html\n",
    "\n",
    "scipy.stats.wasserstein_distance"
   ]
  },
  {
   "cell_type": "code",
   "execution_count": null,
   "metadata": {
    "code_folding": [
     0
    ]
   },
   "outputs": [],
   "source": [
    "# https://stats.stackexchange.com/questions/113464/understanding-scipy-kolmogorov-smirnov-test\n",
    "\n",
    "import numpy as np\n",
    "import scipy\n",
    "a = np.random.uniform(size=4999)\n",
    "\n",
    "print(scipy.stats.kstest(a, 'uniform'))\n",
    "\n",
    "rvs = df.loc[(df.document_id==0)]['weight']\n",
    "\n",
    "scipy.stats.kstest(rvs,'uniform')\n",
    "stats.kstest([1,2,3,4,5,6], 'uniform')\n"
   ]
  },
  {
   "cell_type": "markdown",
   "metadata": {},
   "source": [
    "### Topic Clustering\n",
    "Compute topic clustering based on the distances between the T-SNE 2D coordinates. The SciPy linkage() takes an n x m matrice i.e. n points in m-dimensional vector space (can also take a 1D condensed distance matrix).\n",
    "\n",
    "1. The first plot takes the num_topics x 2 matrix that T-SNE produced as input\n",
    "2. The second example takes the \"raw\" vectorized num_topics x num_words matrix  as input i.e same input as to T-SNE\n"
   ]
  },
  {
   "cell_type": "code",
   "execution_count": 3,
   "metadata": {
    "code_folding": [
     0
    ]
   },
   "outputs": [
    {
     "ename": "NameError",
     "evalue": "name 'ModelUtility' is not defined",
     "output_type": "error",
     "traceback": [
      "\u001b[0;31m---------------------------------------------------------------------------\u001b[0m",
      "\u001b[0;31mNameError\u001b[0m                                 Traceback (most recent call last)",
      "\u001b[0;32m<ipython-input-3-16b6bd76264b>\u001b[0m in \u001b[0;36m<module>\u001b[0;34m()\u001b[0m\n\u001b[1;32m     11\u001b[0m \u001b[0;32melse\u001b[0m\u001b[0;34m:\u001b[0m\u001b[0;34m\u001b[0m\u001b[0m\n\u001b[1;32m     12\u001b[0m     \u001b[0mn_words\u001b[0m \u001b[0;34m=\u001b[0m \u001b[0;36m50\u001b[0m\u001b[0;34m\u001b[0m\u001b[0m\n\u001b[0;32m---> 13\u001b[0;31m     \u001b[0mX_n_space\u001b[0m\u001b[0;34m,\u001b[0m \u001b[0m_\u001b[0m \u001b[0;34m=\u001b[0m \u001b[0mModelUtility\u001b[0m\u001b[0;34m.\u001b[0m\u001b[0mcompute_topic_terms_vector_space\u001b[0m\u001b[0;34m(\u001b[0m\u001b[0mstate\u001b[0m\u001b[0;34m.\u001b[0m\u001b[0mget_lda\u001b[0m\u001b[0;34m(\u001b[0m\u001b[0;34m)\u001b[0m\u001b[0;34m,\u001b[0m \u001b[0mn_words\u001b[0m\u001b[0;34m)\u001b[0m\u001b[0;34m\u001b[0m\u001b[0m\n\u001b[0m\u001b[1;32m     14\u001b[0m     \u001b[0mC\u001b[0m \u001b[0;34m=\u001b[0m \u001b[0mlinkage\u001b[0m\u001b[0;34m(\u001b[0m\u001b[0mX_n_space\u001b[0m\u001b[0;34m.\u001b[0m\u001b[0mtoarray\u001b[0m\u001b[0;34m(\u001b[0m\u001b[0;34m)\u001b[0m\u001b[0;34m,\u001b[0m \u001b[0mmethod\u001b[0m\u001b[0;34m=\u001b[0m\u001b[0;34m'single'\u001b[0m\u001b[0;34m,\u001b[0m \u001b[0mmetric\u001b[0m\u001b[0;34m=\u001b[0m\u001b[0;34m'euclidean'\u001b[0m\u001b[0;34m,\u001b[0m \u001b[0moptimal_ordering\u001b[0m\u001b[0;34m=\u001b[0m\u001b[0;32mFalse\u001b[0m\u001b[0;34m)\u001b[0m\u001b[0;34m\u001b[0m\u001b[0m\n\u001b[1;32m     15\u001b[0m \u001b[0;34m\u001b[0m\u001b[0m\n",
      "\u001b[0;31mNameError\u001b[0m: name 'ModelUtility' is not defined"
     ]
    }
   ],
   "source": [
    "# DEPRECATED\n",
    "from matplotlib import pyplot as plt\n",
    "from scipy.cluster.hierarchy import linkage, dendrogram\n",
    "\n",
    "# Compute hierarchical/agglomerative clustering.\n",
    "# https://docs.scipy.org/doc/scipy/reference/generated/scipy.cluster.hierarchy.linkage.html\n",
    "# https://stackoverflow.com/questions/11917779/how-to-plot-and-annotate-hierarchical-clustering-dendrograms-in-scipy-matplotlib\n",
    "\n",
    "if False:\n",
    "    C = linkage(X_reduced, method='single', metric='euclidean', optimal_ordering=False)\n",
    "else:\n",
    "    n_words = 50\n",
    "    X_n_space, _ = ModelUtility.compute_topic_terms_vector_space(state.get_lda(), n_words)\n",
    "    C = linkage(X_n_space.toarray(), method='single', metric='euclidean', optimal_ordering=False)\n",
    "    \n",
    "plt.figure(figsize=(24,12))\n",
    "R = dendrogram(C, orientation='left')\n",
    "plt.show()\n",
    "plt.close()\n"
   ]
  },
  {
   "cell_type": "code",
   "execution_count": null,
   "metadata": {
    "code_folding": [
     0
    ]
   },
   "outputs": [],
   "source": [
    "# Code\n",
    "import pandas as pd\n",
    "from bokeh.layouts import row\n",
    "category_size = 100\n",
    "\n",
    "topic_weights = state.get_document_topic_weights()[['document_id', 'topic_id', 'weight']]\n",
    "\n",
    "sd = topic_weights.weight.apply(lambda x: int(category_size * x))\n",
    "s_count = len(topic_weights)\n",
    "\n",
    "sd = sd[sd>0]\n",
    "v_count = len(sd)\n",
    "x_count = s_count - v_count\n",
    "d_count = len(topic_weights.document_id.unique())\n",
    "t_count = len(topic_weights.topic_id.unique())\n",
    "\n",
    "print('The data consists of {} documents, {} topics giving {} topic shares'.format(d_count, t_count, s_count))\n",
    "print('As much as {0:.2f}% of the documents topic shares are 0 ({1} out of {2})'.format(\n",
    "    100*x_count/s_count,x_count,s_count))\n",
    "print(\"The following graphs show the distribution of topic shares in absolute number and percentages\")\n",
    "\n",
    "ys = sd[sd>0].groupby(sd).size()\n",
    "xs = ys.index\n",
    "ysp = ys.apply(lambda x: x/v_count)\n",
    "\n",
    "p1 = figure(width=400, height=400, tools='',\n",
    "    x_axis_label='Number of topic shares',\n",
    "    y_axis_label='Percentage of all topics having that share')\n",
    "\n",
    "cd = p1.vbar(x=xs,width=1,top=ys,line_width=2)\n",
    "            \n",
    "p2 = figure(width=400, height=400, tools='',\n",
    "    x_axis_label='Topic''s share in document (percentage)',\n",
    "    y_axis_label='Percentage of all topics having that share')\n",
    "\n",
    "cd = p2.line(x=xs, y=ysp, line_width=2)\n",
    "show(row(p1,p2))\n"
   ]
  },
  {
   "cell_type": "markdown",
   "metadata": {},
   "source": [
    "### Grubbs Outlier Test"
   ]
  },
  {
   "cell_type": "code",
   "execution_count": null,
   "metadata": {
    "code_folding": [
     0,
     5
    ]
   },
   "outputs": [],
   "source": [
    "# Grubs Test\n",
    "import numpy as np\n",
    "from scipy.stats import t, zscore\n",
    " \n",
    " \n",
    "def grubbs(X, test='two-tailed', alpha=0.05):\n",
    " \n",
    "    '''\n",
    "    Performs Grubbs' test for outliers recursively until the null hypothesis is\n",
    "    true.\n",
    " \n",
    "    Parameters\n",
    "    ----------\n",
    "    X : ndarray\n",
    "        A numpy array to be tested for outliers.\n",
    "    test : str\n",
    "        Describes the types of outliers to look for. Can be 'min' (look for\n",
    "        small outliers), 'max' (look for large outliers), or 'two-tailed' (look\n",
    "        for both).\n",
    "    alpha : float\n",
    "        The significance level.\n",
    " \n",
    "    Returns\n",
    "    -------\n",
    "    X : ndarray\n",
    "        The original array with outliers removed.\n",
    "    outliers : ndarray\n",
    "        An array of outliers.\n",
    "    '''\n",
    " \n",
    "    Z = zscore(X, ddof=1)  # Z-score\n",
    "    N = len(X)  # number of samples\n",
    " \n",
    "    # calculate extreme index and the critical t value based on the test\n",
    "    if test == 'two-tailed':\n",
    "        extreme_ix = lambda Z: np.abs(Z).argmax()\n",
    "        t_crit = lambda N: t.isf(alpha / (2.*N), N-2)\n",
    "    elif test == 'max':\n",
    "        extreme_ix = lambda Z: Z.argmax()\n",
    "        t_crit = lambda N: t.isf(alpha / N, N-2)\n",
    "    elif test == 'min':\n",
    "        extreme_ix = lambda Z: Z.argmin()\n",
    "        t_crit = lambda N: t.isf(alpha / N, N-2)\n",
    "    else:\n",
    "        raise ValueError(\"Test must be 'min', 'max', or 'two-tailed'\")\n",
    " \n",
    "    # compute the threshold\n",
    "    thresh = lambda N: (N - 1.) / np.sqrt(N) * \\\n",
    "        np.sqrt(t_crit(N)**2 / (N - 2 + t_crit(N)**2))\n",
    " \n",
    "    # create array to store outliers\n",
    "    outliers = np.array([])\n",
    " \n",
    "    # loop throught the array and remove any outliers\n",
    "    while abs(Z[extreme_ix(Z)]) > thresh(N):\n",
    " \n",
    "        # update the outliers\n",
    "        outliers = np.r_[outliers, X[extreme_ix(Z)]]\n",
    "        # remove outlier from array\n",
    "        X = np.delete(X, extreme_ix(Z))\n",
    "        # repeat Z score\n",
    "        Z = zscore(X, ddof=1)\n",
    "        N = len(X)\n",
    " \n",
    "    return X, outliers"
   ]
  },
  {
   "cell_type": "markdown",
   "metadata": {},
   "source": [
    "### Adjust Connector Arrow to Node Circumference"
   ]
  },
  {
   "cell_type": "code",
   "execution_count": null,
   "metadata": {
    "code_folding": [
     0
    ]
   },
   "outputs": [],
   "source": [
    "# Code\n",
    "'''\n",
    "[x1, x2], {y1, y2}, R\n",
    "\n",
    "\n",
    "y = k * x + m\n",
    "\n",
    "R^2 = (y2 - y0)^2 +  (x2 - x0)^2\n",
    "\n",
    "\n",
    "y1 = k * x1 + m\n",
    "y2 = k * x2 + m\n",
    "\n",
    "y2 = k * x2 + y1 - k * x1\n",
    "y2 - y1 = k * x2 - k * x1 = k * (x2 - x1)\n",
    "k = (y2 - y1) / (x2 - x1)\n",
    "m = y1 - k * x1\n",
    "'''\n",
    "def adjust_connector_line(xs, ys,radius):\n",
    "    x1, x2 = xs\n",
    "    y1, y2 = ys\n",
    "    dx, dy = x2 - x1, y2 - y1\n",
    "    length = math.sqrt(dx * dx + dy * dy)\n",
    "    if (length > 0):\n",
    "        dx /= length\n",
    "        dy /= length\n",
    "    dx *= radius #length - radius\n",
    "    dy *= radius #length - radius\n",
    "    return [x1 + dx, x2 - dx], [y1 + dy, y2 - dy]"
   ]
  },
  {
   "cell_type": "code",
   "execution_count": 7,
   "metadata": {},
   "outputs": [
    {
     "name": "stderr",
     "output_type": "stream",
     "text": [
      "/usr/local/lib/python3.5/dist-packages/ipykernel_launcher.py:50: DeprecationWarning: \n",
      ".ix is deprecated. Please use\n",
      ".loc for label based indexing or\n",
      ".iloc for positional indexing\n",
      "\n",
      "See the documentation here:\n",
      "http://pandas.pydata.org/pandas-docs/stable/indexing.html#ix-indexer-is-deprecated\n",
      "E-1001 (BAD_COLUMN_NAME): Glyph refers to nonexistent column name: colors [renderer: GlyphRenderer(id='6249fe64-39b4-456e-ba7f-efbcc929d627', ...)]\n"
     ]
    },
    {
     "data": {
      "text/html": [
       "\n",
       "<div class=\"bk-root\">\n",
       "    <div class=\"bk-plotdiv\" id=\"48b7b816-df6d-40e1-b0f3-42d146f71b73\"></div>\n",
       "</div>"
      ]
     },
     "metadata": {},
     "output_type": "display_data"
    },
    {
     "data": {
      "application/javascript": [
       "(function(root) {\n",
       "  function embed_document(root) {\n",
       "    \n",
       "  var docs_json = {\"2b3db52f-66cd-46a1-a280-962c2a654c48\":{\"roots\":{\"references\":[{\"attributes\":{\"callback\":null,\"column_names\":[\"species\",\"index\",\"sepal_width\",\"petal_length\",\"petal_width\",\"sepal_length\"],\"data\":{\"colors\":[\"red\",\"red\",\"red\",\"red\",\"red\",\"red\",\"red\",\"red\",\"red\",\"red\",\"red\",\"red\",\"red\",\"red\",\"red\",\"red\",\"red\",\"red\",\"red\",\"red\",\"red\",\"red\",\"red\",\"red\",\"red\",\"red\",\"red\",\"red\",\"red\",\"red\",\"red\",\"red\",\"red\",\"red\",\"red\",\"red\",\"red\",\"red\",\"red\",\"red\",\"red\",\"red\",\"red\",\"red\",\"red\",\"red\",\"red\",\"red\",\"red\",\"red\",\"green\",\"green\",\"green\",\"green\",\"green\",\"green\",\"green\",\"green\",\"green\",\"green\",\"green\",\"green\",\"green\",\"green\",\"green\",\"green\",\"green\",\"green\",\"green\",\"green\",\"green\",\"green\",\"green\",\"green\",\"green\",\"green\",\"green\",\"green\",\"green\",\"green\",\"green\",\"green\",\"green\",\"green\",\"green\",\"green\",\"green\",\"green\",\"green\",\"green\",\"green\",\"green\",\"green\",\"green\",\"green\",\"green\",\"green\",\"green\",\"green\",\"green\",\"blue\",\"blue\",\"blue\",\"blue\",\"blue\",\"blue\",\"blue\",\"blue\",\"blue\",\"blue\",\"blue\",\"blue\",\"blue\",\"blue\",\"blue\",\"blue\",\"blue\",\"blue\",\"blue\",\"blue\",\"blue\",\"blue\",\"blue\",\"blue\",\"blue\",\"blue\",\"blue\",\"blue\",\"blue\",\"blue\",\"blue\",\"blue\",\"blue\",\"blue\",\"blue\",\"blue\",\"blue\",\"blue\",\"blue\",\"blue\",\"blue\",\"blue\",\"blue\",\"blue\",\"blue\",\"blue\",\"blue\",\"blue\",\"blue\",\"blue\"],\"index\":[0,1,2,3,4,5,6,7,8,9,10,11,12,13,14,15,16,17,18,19,20,21,22,23,24,25,26,27,28,29,30,31,32,33,34,35,36,37,38,39,40,41,42,43,44,45,46,47,48,49,50,51,52,53,54,55,56,57,58,59,60,61,62,63,64,65,66,67,68,69,70,71,72,73,74,75,76,77,78,79,80,81,82,83,84,85,86,87,88,89,90,91,92,93,94,95,96,97,98,99,100,101,102,103,104,105,106,107,108,109,110,111,112,113,114,115,116,117,118,119,120,121,122,123,124,125,126,127,128,129,130,131,132,133,134,135,136,137,138,139,140,141,142,143,144,145,146,147,148,149],\"petal_length\":{\"__ndarray__\":\"ZmZmZmZm9j9mZmZmZmb2P83MzMzMzPQ/AAAAAAAA+D9mZmZmZmb2PzMzMzMzM/s/ZmZmZmZm9j8AAAAAAAD4P2ZmZmZmZvY/AAAAAAAA+D8AAAAAAAD4P5qZmZmZmfk/ZmZmZmZm9j+amZmZmZnxPzMzMzMzM/M/AAAAAAAA+D/NzMzMzMz0P2ZmZmZmZvY/MzMzMzMz+z8AAAAAAAD4PzMzMzMzM/s/AAAAAAAA+D8AAAAAAADwPzMzMzMzM/s/ZmZmZmZm/j+amZmZmZn5P5qZmZmZmfk/AAAAAAAA+D9mZmZmZmb2P5qZmZmZmfk/mpmZmZmZ+T8AAAAAAAD4PwAAAAAAAPg/ZmZmZmZm9j8AAAAAAAD4PzMzMzMzM/M/zczMzMzM9D9mZmZmZmb2P83MzMzMzPQ/AAAAAAAA+D/NzMzMzMz0P83MzMzMzPQ/zczMzMzM9D+amZmZmZn5P2ZmZmZmZv4/ZmZmZmZm9j+amZmZmZn5P2ZmZmZmZvY/AAAAAAAA+D9mZmZmZmb2P83MzMzMzBJAAAAAAAAAEkCamZmZmZkTQAAAAAAAABBAZmZmZmZmEkAAAAAAAAASQM3MzMzMzBJAZmZmZmZmCkBmZmZmZmYSQDMzMzMzMw9AAAAAAAAADEDNzMzMzMwQQAAAAAAAABBAzczMzMzMEkDNzMzMzMwMQJqZmZmZmRFAAAAAAAAAEkBmZmZmZmYQQAAAAAAAABJAMzMzMzMzD0AzMzMzMzMTQAAAAAAAABBAmpmZmZmZE0DNzMzMzMwSQDMzMzMzMxFAmpmZmZmZEUAzMzMzMzMTQAAAAAAAABRAAAAAAAAAEkAAAAAAAAAMQGZmZmZmZg5AmpmZmZmZDUAzMzMzMzMPQGZmZmZmZhRAAAAAAAAAEkAAAAAAAAASQM3MzMzMzBJAmpmZmZmZEUBmZmZmZmYQQAAAAAAAABBAmpmZmZmZEUBmZmZmZmYSQAAAAAAAABBAZmZmZmZmCkDNzMzMzMwQQM3MzMzMzBBAzczMzMzMEEAzMzMzMzMRQAAAAAAAAAhAZmZmZmZmEEAAAAAAAAAYQGZmZmZmZhRAmpmZmZmZF0BmZmZmZmYWQDMzMzMzMxdAZmZmZmZmGkAAAAAAAAASQDMzMzMzMxlAMzMzMzMzF0BmZmZmZmYYQGZmZmZmZhRAMzMzMzMzFUAAAAAAAAAWQAAAAAAAABRAZmZmZmZmFEAzMzMzMzMVQAAAAAAAABZAzczMzMzMGkCamZmZmZkbQAAAAAAAABRAzczMzMzMFkCamZmZmZkTQM3MzMzMzBpAmpmZmZmZE0DNzMzMzMwWQAAAAAAAABhAMzMzMzMzE0CamZmZmZkTQGZmZmZmZhZAMzMzMzMzF0BmZmZmZmYYQJqZmZmZmRlAZmZmZmZmFkBmZmZmZmYUQGZmZmZmZhZAZmZmZmZmGEBmZmZmZmYWQAAAAAAAABZAMzMzMzMzE0CamZmZmZkVQGZmZmZmZhZAZmZmZmZmFEBmZmZmZmYUQJqZmZmZmRdAzczMzMzMFkDNzMzMzMwUQAAAAAAAABRAzczMzMzMFECamZmZmZkVQGZmZmZmZhRA\",\"dtype\":\"float64\",\"shape\":[150]},\"petal_width\":{\"__ndarray__\":\"mpmZmZmZyT+amZmZmZnJP5qZmZmZmck/mpmZmZmZyT+amZmZmZnJP5qZmZmZmdk/MzMzMzMz0z+amZmZmZnJP5qZmZmZmck/mpmZmZmZuT+amZmZmZnJP5qZmZmZmck/mpmZmZmZuT+amZmZmZm5P5qZmZmZmck/mpmZmZmZ2T+amZmZmZnZPzMzMzMzM9M/MzMzMzMz0z8zMzMzMzPTP5qZmZmZmck/mpmZmZmZ2T+amZmZmZnJPwAAAAAAAOA/mpmZmZmZyT+amZmZmZnJP5qZmZmZmdk/mpmZmZmZyT+amZmZmZnJP5qZmZmZmck/mpmZmZmZyT+amZmZmZnZP5qZmZmZmbk/mpmZmZmZyT+amZmZmZnJP5qZmZmZmck/mpmZmZmZyT+amZmZmZm5P5qZmZmZmck/mpmZmZmZyT8zMzMzMzPTPzMzMzMzM9M/mpmZmZmZyT8zMzMzMzPjP5qZmZmZmdk/MzMzMzMz0z+amZmZmZnJP5qZmZmZmck/mpmZmZmZyT+amZmZmZnJP2ZmZmZmZvY/AAAAAAAA+D8AAAAAAAD4P83MzMzMzPQ/AAAAAAAA+D/NzMzMzMz0P5qZmZmZmfk/AAAAAAAA8D/NzMzMzMz0P2ZmZmZmZvY/AAAAAAAA8D8AAAAAAAD4PwAAAAAAAPA/ZmZmZmZm9j/NzMzMzMz0P2ZmZmZmZvY/AAAAAAAA+D8AAAAAAADwPwAAAAAAAPg/mpmZmZmZ8T/NzMzMzMz8P83MzMzMzPQ/AAAAAAAA+D8zMzMzMzPzP83MzMzMzPQ/ZmZmZmZm9j9mZmZmZmb2PzMzMzMzM/s/AAAAAAAA+D8AAAAAAADwP5qZmZmZmfE/AAAAAAAA8D8zMzMzMzPzP5qZmZmZmfk/AAAAAAAA+D+amZmZmZn5PwAAAAAAAPg/zczMzMzM9D/NzMzMzMz0P83MzMzMzPQ/MzMzMzMz8z9mZmZmZmb2PzMzMzMzM/M/AAAAAAAA8D/NzMzMzMz0PzMzMzMzM/M/zczMzMzM9D/NzMzMzMz0P5qZmZmZmfE/zczMzMzM9D8AAAAAAAAEQGZmZmZmZv4/zczMzMzMAEDNzMzMzMz8P5qZmZmZmQFAzczMzMzMAEAzMzMzMzP7P83MzMzMzPw/zczMzMzM/D8AAAAAAAAEQAAAAAAAAABAZmZmZmZm/j/NzMzMzMwAQAAAAAAAAABAMzMzMzMzA0BmZmZmZmYCQM3MzMzMzPw/mpmZmZmZAUBmZmZmZmYCQAAAAAAAAPg/ZmZmZmZmAkAAAAAAAAAAQAAAAAAAAABAzczMzMzM/D/NzMzMzMwAQM3MzMzMzPw/zczMzMzM/D/NzMzMzMz8P83MzMzMzABAmpmZmZmZ+T9mZmZmZmb+PwAAAAAAAABAmpmZmZmZAUAAAAAAAAD4P2ZmZmZmZvY/ZmZmZmZmAkAzMzMzMzMDQM3MzMzMzPw/zczMzMzM/D/NzMzMzMwAQDMzMzMzMwNAZmZmZmZmAkBmZmZmZmb+P2ZmZmZmZgJAAAAAAAAABEBmZmZmZmYCQGZmZmZmZv4/AAAAAAAAAEBmZmZmZmYCQM3MzMzMzPw/\",\"dtype\":\"float64\",\"shape\":[150]},\"sepal_length\":{\"__ndarray__\":\"ZmZmZmZmFECamZmZmZkTQM3MzMzMzBJAZmZmZmZmEkAAAAAAAAAUQJqZmZmZmRVAZmZmZmZmEkAAAAAAAAAUQJqZmZmZmRFAmpmZmZmZE0CamZmZmZkVQDMzMzMzMxNAMzMzMzMzE0AzMzMzMzMRQDMzMzMzMxdAzczMzMzMFkCamZmZmZkVQGZmZmZmZhRAzczMzMzMFkBmZmZmZmYUQJqZmZmZmRVAZmZmZmZmFEBmZmZmZmYSQGZmZmZmZhRAMzMzMzMzE0AAAAAAAAAUQAAAAAAAABRAzczMzMzMFEDNzMzMzMwUQM3MzMzMzBJAMzMzMzMzE0CamZmZmZkVQM3MzMzMzBRAAAAAAAAAFkCamZmZmZkTQAAAAAAAABRAAAAAAAAAFkCamZmZmZkTQJqZmZmZmRFAZmZmZmZmFEAAAAAAAAAUQAAAAAAAABJAmpmZmZmZEUAAAAAAAAAUQGZmZmZmZhRAMzMzMzMzE0BmZmZmZmYUQGZmZmZmZhJAMzMzMzMzFUAAAAAAAAAUQAAAAAAAABxAmpmZmZmZGUCamZmZmZkbQAAAAAAAABZAAAAAAAAAGkDNzMzMzMwWQDMzMzMzMxlAmpmZmZmZE0BmZmZmZmYaQM3MzMzMzBRAAAAAAAAAFECamZmZmZkXQAAAAAAAABhAZmZmZmZmGEBmZmZmZmYWQM3MzMzMzBpAZmZmZmZmFkAzMzMzMzMXQM3MzMzMzBhAZmZmZmZmFkCamZmZmZkXQGZmZmZmZhhAMzMzMzMzGUBmZmZmZmYYQJqZmZmZmRlAZmZmZmZmGkAzMzMzMzMbQM3MzMzMzBpAAAAAAAAAGEDNzMzMzMwWQAAAAAAAABZAAAAAAAAAFkAzMzMzMzMXQAAAAAAAABhAmpmZmZmZFUAAAAAAAAAYQM3MzMzMzBpAMzMzMzMzGUBmZmZmZmYWQAAAAAAAABZAAAAAAAAAFkBmZmZmZmYYQDMzMzMzMxdAAAAAAAAAFEBmZmZmZmYWQM3MzMzMzBZAzczMzMzMFkDNzMzMzMwYQGZmZmZmZhRAzczMzMzMFkAzMzMzMzMZQDMzMzMzMxdAZmZmZmZmHEAzMzMzMzMZQAAAAAAAABpAZmZmZmZmHkCamZmZmZkTQDMzMzMzMx1AzczMzMzMGkDNzMzMzMwcQAAAAAAAABpAmpmZmZmZGUAzMzMzMzMbQM3MzMzMzBZAMzMzMzMzF0CamZmZmZkZQAAAAAAAABpAzczMzMzMHkDNzMzMzMweQAAAAAAAABhAmpmZmZmZG0BmZmZmZmYWQM3MzMzMzB5AMzMzMzMzGUDNzMzMzMwaQM3MzMzMzBxAzczMzMzMGEBmZmZmZmYYQJqZmZmZmRlAzczMzMzMHECamZmZmZkdQJqZmZmZmR9AmpmZmZmZGUAzMzMzMzMZQGZmZmZmZhhAzczMzMzMHkAzMzMzMzMZQJqZmZmZmRlAAAAAAAAAGECamZmZmZkbQM3MzMzMzBpAmpmZmZmZG0AzMzMzMzMXQDMzMzMzMxtAzczMzMzMGkDNzMzMzMwaQDMzMzMzMxlAAAAAAAAAGkDNzMzMzMwYQJqZmZmZmRdA\",\"dtype\":\"float64\",\"shape\":[150]},\"sepal_width\":{\"__ndarray__\":\"AAAAAAAADEAAAAAAAAAIQJqZmZmZmQlAzczMzMzMCEDNzMzMzMwMQDMzMzMzMw9AMzMzMzMzC0AzMzMzMzMLQDMzMzMzMwdAzczMzMzMCECamZmZmZkNQDMzMzMzMwtAAAAAAAAACEAAAAAAAAAIQAAAAAAAABBAmpmZmZmZEUAzMzMzMzMPQAAAAAAAAAxAZmZmZmZmDkBmZmZmZmYOQDMzMzMzMwtAmpmZmZmZDUDNzMzMzMwMQGZmZmZmZgpAMzMzMzMzC0AAAAAAAAAIQDMzMzMzMwtAAAAAAAAADEAzMzMzMzMLQJqZmZmZmQlAzczMzMzMCEAzMzMzMzMLQGZmZmZmZhBAzczMzMzMEEDNzMzMzMwIQJqZmZmZmQlAAAAAAAAADEDNzMzMzMwMQAAAAAAAAAhAMzMzMzMzC0AAAAAAAAAMQGZmZmZmZgJAmpmZmZmZCUAAAAAAAAAMQGZmZmZmZg5AAAAAAAAACEBmZmZmZmYOQJqZmZmZmQlAmpmZmZmZDUBmZmZmZmYKQJqZmZmZmQlAmpmZmZmZCUDNzMzMzMwIQGZmZmZmZgJAZmZmZmZmBkBmZmZmZmYGQGZmZmZmZgpAMzMzMzMzA0AzMzMzMzMHQJqZmZmZmQVAAAAAAAAAAEAAAAAAAAAIQJqZmZmZmQFAMzMzMzMzB0AzMzMzMzMHQM3MzMzMzAhAAAAAAAAACECamZmZmZkFQJqZmZmZmQFAAAAAAAAABECamZmZmZkJQGZmZmZmZgZAAAAAAAAABEBmZmZmZmYGQDMzMzMzMwdAAAAAAAAACEBmZmZmZmYGQAAAAAAAAAhAMzMzMzMzB0DNzMzMzMwEQDMzMzMzMwNAMzMzMzMzA0CamZmZmZkFQJqZmZmZmQVAAAAAAAAACEAzMzMzMzMLQM3MzMzMzAhAZmZmZmZmAkAAAAAAAAAIQAAAAAAAAARAzczMzMzMBEAAAAAAAAAIQM3MzMzMzARAZmZmZmZmAkCamZmZmZkFQAAAAAAAAAhAMzMzMzMzB0AzMzMzMzMHQAAAAAAAAARAZmZmZmZmBkBmZmZmZmYKQJqZmZmZmQVAAAAAAAAACEAzMzMzMzMHQAAAAAAAAAhAAAAAAAAACEAAAAAAAAAEQDMzMzMzMwdAAAAAAAAABEDNzMzMzMwMQJqZmZmZmQlAmpmZmZmZBUAAAAAAAAAIQAAAAAAAAARAZmZmZmZmBkCamZmZmZkJQAAAAAAAAAhAZmZmZmZmDkDNzMzMzMwEQJqZmZmZmQFAmpmZmZmZCUBmZmZmZmYGQGZmZmZmZgZAmpmZmZmZBUBmZmZmZmYKQJqZmZmZmQlAZmZmZmZmBkAAAAAAAAAIQGZmZmZmZgZAAAAAAAAACEBmZmZmZmYGQGZmZmZmZg5AZmZmZmZmBkBmZmZmZmYGQM3MzMzMzARAAAAAAAAACEAzMzMzMzMLQM3MzMzMzAhAAAAAAAAACEDNzMzMzMwIQM3MzMzMzAhAzczMzMzMCECamZmZmZkFQJqZmZmZmQlAZmZmZmZmCkAAAAAAAAAIQAAAAAAAAARAAAAAAAAACEAzMzMzMzMLQAAAAAAAAAhA\",\"dtype\":\"float64\",\"shape\":[150]},\"species\":[\"setosa\",\"setosa\",\"setosa\",\"setosa\",\"setosa\",\"setosa\",\"setosa\",\"setosa\",\"setosa\",\"setosa\",\"setosa\",\"setosa\",\"setosa\",\"setosa\",\"setosa\",\"setosa\",\"setosa\",\"setosa\",\"setosa\",\"setosa\",\"setosa\",\"setosa\",\"setosa\",\"setosa\",\"setosa\",\"setosa\",\"setosa\",\"setosa\",\"setosa\",\"setosa\",\"setosa\",\"setosa\",\"setosa\",\"setosa\",\"setosa\",\"setosa\",\"setosa\",\"setosa\",\"setosa\",\"setosa\",\"setosa\",\"setosa\",\"setosa\",\"setosa\",\"setosa\",\"setosa\",\"setosa\",\"setosa\",\"setosa\",\"setosa\",\"versicolor\",\"versicolor\",\"versicolor\",\"versicolor\",\"versicolor\",\"versicolor\",\"versicolor\",\"versicolor\",\"versicolor\",\"versicolor\",\"versicolor\",\"versicolor\",\"versicolor\",\"versicolor\",\"versicolor\",\"versicolor\",\"versicolor\",\"versicolor\",\"versicolor\",\"versicolor\",\"versicolor\",\"versicolor\",\"versicolor\",\"versicolor\",\"versicolor\",\"versicolor\",\"versicolor\",\"versicolor\",\"versicolor\",\"versicolor\",\"versicolor\",\"versicolor\",\"versicolor\",\"versicolor\",\"versicolor\",\"versicolor\",\"versicolor\",\"versicolor\",\"versicolor\",\"versicolor\",\"versicolor\",\"versicolor\",\"versicolor\",\"versicolor\",\"versicolor\",\"versicolor\",\"versicolor\",\"versicolor\",\"versicolor\",\"versicolor\",\"virginica\",\"virginica\",\"virginica\",\"virginica\",\"virginica\",\"virginica\",\"virginica\",\"virginica\",\"virginica\",\"virginica\",\"virginica\",\"virginica\",\"virginica\",\"virginica\",\"virginica\",\"virginica\",\"virginica\",\"virginica\",\"virginica\",\"virginica\",\"virginica\",\"virginica\",\"virginica\",\"virginica\",\"virginica\",\"virginica\",\"virginica\",\"virginica\",\"virginica\",\"virginica\",\"virginica\",\"virginica\",\"virginica\",\"virginica\",\"virginica\",\"virginica\",\"virginica\",\"virginica\",\"virginica\",\"virginica\",\"virginica\",\"virginica\",\"virginica\",\"virginica\",\"virginica\",\"virginica\",\"virginica\",\"virginica\",\"virginica\",\"virginica\"]}},\"id\":\"984c8830-fbe3-4e04-a32b-4b037eab8bff\",\"type\":\"ColumnDataSource\"},{\"attributes\":{\"months\":[0,6]},\"id\":\"30acefba-2019-4fd7-a95c-189d6a07da39\",\"type\":\"MonthsTicker\"},{\"attributes\":{\"days\":[1,15]},\"id\":\"e4b6bac8-8d16-4b11-966b-90f7d5e6fce2\",\"type\":\"DaysTicker\"},{\"attributes\":{},\"id\":\"822f4718-fa68-4f0e-8384-edccea18768e\",\"type\":\"BasicTicker\"},{\"attributes\":{\"children\":[{\"id\":\"5ed37b04-ade0-4566-9a5b-1b69dc370cd3\",\"type\":\"WidgetBox\"},{\"id\":\"c76b69c2-87f8-4e13-a3c2-e7dc3491cbce\",\"subtype\":\"Figure\",\"type\":\"Plot\"}],\"sizing_mode\":\"scale_width\"},\"id\":\"9475d231-0858-4b06-898c-c9e55c897fee\",\"type\":\"Row\"},{\"attributes\":{},\"id\":\"0d8ae294-2746-481e-90a1-e3df500bf59e\",\"type\":\"WheelZoomTool\"},{\"attributes\":{},\"id\":\"c106c949-86cb-4149-834a-e06835c2bc20\",\"type\":\"SaveTool\"},{\"attributes\":{\"months\":[0,1,2,3,4,5,6,7,8,9,10,11]},\"id\":\"827c8eeb-8a48-4232-bca1-1d7f578e7904\",\"type\":\"MonthsTicker\"},{\"attributes\":{\"fill_alpha\":{\"value\":0.5},\"fill_color\":{\"value\":\"firebrick\"},\"line_alpha\":{\"value\":0.5},\"line_color\":{\"value\":null},\"size\":{\"units\":\"screen\",\"value\":20},\"x\":{\"field\":\"x\"},\"y\":{\"field\":\"y\"}},\"id\":\"122b6681-f988-4225-b490-cb69d411e5f4\",\"type\":\"Circle\"},{\"attributes\":{},\"id\":\"162e1431-4635-45a8-8089-ba5c7a223ecc\",\"type\":\"BasicTickFormatter\"},{\"attributes\":{\"data_source\":{\"id\":\"a091d2bc-a2f8-4cb5-9c89-08dc19dd059a\",\"type\":\"ColumnDataSource\"},\"glyph\":{\"id\":\"8ca32630-0525-481c-bdff-138553e500dd\",\"type\":\"Circle\"},\"hover_glyph\":{\"id\":\"122b6681-f988-4225-b490-cb69d411e5f4\",\"type\":\"Circle\"},\"muted_glyph\":null,\"nonselection_glyph\":{\"id\":\"41589113-955c-4713-9489-e2db5874439d\",\"type\":\"Circle\"},\"selection_glyph\":null,\"view\":{\"id\":\"c6bbe63a-5a49-43ea-b801-3e0fa8ee91c1\",\"type\":\"CDSView\"}},\"id\":\"ce3fcba9-e1c5-494a-a19f-e6e4cde6931a\",\"type\":\"GlyphRenderer\"},{\"attributes\":{},\"id\":\"aa3807f1-12dd-4b37-ab20-f01c5302fe93\",\"type\":\"LinearScale\"},{\"attributes\":{\"fill_alpha\":{\"value\":0.1},\"fill_color\":{\"value\":\"#1f77b4\"},\"line_alpha\":{\"value\":0.1},\"line_color\":{\"value\":\"#1f77b4\"},\"size\":{\"units\":\"screen\",\"value\":20},\"x\":{\"field\":\"x\"},\"y\":{\"field\":\"y\"}},\"id\":\"41589113-955c-4713-9489-e2db5874439d\",\"type\":\"Circle\"},{\"attributes\":{\"children\":[{\"id\":\"c7b3df4a-cf5b-46a3-8058-adc3d83fd612\",\"type\":\"WidgetBox\"}],\"sizing_mode\":\"scale_width\"},\"id\":\"0f6b07ee-69ab-49b8-b13a-9c0a61837021\",\"type\":\"Row\"},{\"attributes\":{\"fill_alpha\":{\"value\":0.1},\"fill_color\":{\"value\":\"#1f77b4\"},\"line_alpha\":{\"value\":0.1},\"line_color\":{\"value\":\"#1f77b4\"},\"size\":{\"units\":\"screen\",\"value\":10},\"x\":{\"field\":\"petal_length\"},\"y\":{\"field\":\"petal_width\"}},\"id\":\"b3cc5f18-99c7-4931-9607-5be13a200af3\",\"type\":\"Circle\"},{\"attributes\":{\"overlay\":{\"id\":\"5333afe6-0199-425d-9230-47fa3d1980ad\",\"type\":\"BoxAnnotation\"}},\"id\":\"6b5ffc0f-1320-423b-9810-d55a0e9bf0f4\",\"type\":\"BoxZoomTool\"},{\"attributes\":{},\"id\":\"0720a10f-c22d-4f68-b3ef-9f97a060ea18\",\"type\":\"ResetTool\"},{\"attributes\":{},\"id\":\"3e5fb0d1-776a-4e95-ab51-c2118c95fc58\",\"type\":\"BasicTickFormatter\"},{\"attributes\":{\"source\":{\"id\":\"a091d2bc-a2f8-4cb5-9c89-08dc19dd059a\",\"type\":\"ColumnDataSource\"}},\"id\":\"c6bbe63a-5a49-43ea-b801-3e0fa8ee91c1\",\"type\":\"CDSView\"},{\"attributes\":{},\"id\":\"a8fc5c8e-6887-4c08-be36-119b938a5523\",\"type\":\"LinearScale\"},{\"attributes\":{},\"id\":\"0a2398ba-4f81-46b7-a425-073684e179d5\",\"type\":\"HelpTool\"},{\"attributes\":{\"border_line_color\":{\"value\":null},\"items\":[{\"id\":\"f6838e97-8313-47aa-8a7e-f7ca9367afca\",\"type\":\"LegendItem\"}],\"location\":\"center_left\",\"orientation\":\"horizontal\",\"plot\":{\"id\":\"c76b69c2-87f8-4e13-a3c2-e7dc3491cbce\",\"subtype\":\"Figure\",\"type\":\"Plot\"}},\"id\":\"4f783cd3-2d37-4c55-bd2d-1f51bd552a9f\",\"type\":\"Legend\"},{\"attributes\":{\"data_source\":{\"id\":\"83fa3025-d931-48a8-9418-e91c385e3905\",\"type\":\"ColumnDataSource\"},\"glyph\":{\"id\":\"f6b76e1f-8ff2-499b-b0e7-04a075bdc33d\",\"type\":\"Line\"},\"hover_glyph\":null,\"muted_glyph\":null,\"nonselection_glyph\":{\"id\":\"83b11b9c-d698-4923-8589-4b8d7edbdf28\",\"type\":\"Line\"},\"selection_glyph\":null,\"view\":{\"id\":\"1cec6b0b-e02f-4e71-8da5-7014eeb240f3\",\"type\":\"CDSView\"}},\"id\":\"494b3e03-5c0a-496d-a75f-171822097b34\",\"type\":\"GlyphRenderer\"},{\"attributes\":{},\"id\":\"3a130c85-af04-47ec-9427-3cbfd3d8f16e\",\"type\":\"BasicTickFormatter\"},{\"attributes\":{\"formatter\":{\"id\":\"3a130c85-af04-47ec-9427-3cbfd3d8f16e\",\"type\":\"BasicTickFormatter\"},\"plot\":{\"id\":\"efc0c473-4d23-4822-bc15-5c288ea445f4\",\"subtype\":\"Figure\",\"type\":\"Plot\"},\"ticker\":{\"id\":\"e2f1b627-768c-453f-a0ec-d8df0103abc3\",\"type\":\"BasicTicker\"}},\"id\":\"f9bcba13-d6ed-4354-a46f-e8eb97c2fc9a\",\"type\":\"LinearAxis\"},{\"attributes\":{\"fill_alpha\":{\"value\":0.1},\"fill_color\":{\"value\":\"grey\"},\"line_alpha\":{\"value\":0.1},\"line_color\":{\"value\":null},\"size\":{\"units\":\"screen\",\"value\":20},\"x\":{\"field\":\"x\"},\"y\":{\"field\":\"y\"}},\"id\":\"8ca32630-0525-481c-bdff-138553e500dd\",\"type\":\"Circle\"},{\"attributes\":{\"num_minor_ticks\":5,\"tickers\":[{\"id\":\"9c8ec77e-ae76-49a6-b90c-3bbb5fbd51db\",\"type\":\"AdaptiveTicker\"},{\"id\":\"9ad7b6d9-23fd-4e54-b053-927c19dd6209\",\"type\":\"AdaptiveTicker\"},{\"id\":\"4a3505af-1094-44e6-9d7b-ac803cd9b956\",\"type\":\"AdaptiveTicker\"},{\"id\":\"35cd4c3e-6105-4b51-9f35-2f7ea169725e\",\"type\":\"DaysTicker\"},{\"id\":\"2b58262e-f88b-4556-a85b-f57eaf22b10c\",\"type\":\"DaysTicker\"},{\"id\":\"ca518bcf-3a51-479a-9c6f-e4db3c590a01\",\"type\":\"DaysTicker\"},{\"id\":\"e4b6bac8-8d16-4b11-966b-90f7d5e6fce2\",\"type\":\"DaysTicker\"},{\"id\":\"827c8eeb-8a48-4232-bca1-1d7f578e7904\",\"type\":\"MonthsTicker\"},{\"id\":\"758a6e03-972e-404d-9ab8-6a7088963e3a\",\"type\":\"MonthsTicker\"},{\"id\":\"f44fc5b4-4d68-4845-8417-bfb35cf7ae13\",\"type\":\"MonthsTicker\"},{\"id\":\"30acefba-2019-4fd7-a95c-189d6a07da39\",\"type\":\"MonthsTicker\"},{\"id\":\"c9ae3c9d-6c50-4328-80f8-a81bd3b54b5b\",\"type\":\"YearsTicker\"}]},\"id\":\"f6912bd9-f309-41b5-9f84-9feb0166013a\",\"type\":\"DatetimeTicker\"},{\"attributes\":{},\"id\":\"e2f1b627-768c-453f-a0ec-d8df0103abc3\",\"type\":\"BasicTicker\"},{\"attributes\":{\"children\":[{\"id\":\"efc0c473-4d23-4822-bc15-5c288ea445f4\",\"subtype\":\"Figure\",\"type\":\"Plot\"},{\"id\":\"dd197046-e75b-4db3-a827-ca600b229e02\",\"type\":\"WidgetBox\"}],\"sizing_mode\":\"scale_width\"},\"id\":\"0f1b2bea-79a8-46cc-b1c5-c161677287ac\",\"type\":\"Row\"},{\"attributes\":{\"days\":[1,8,15,22]},\"id\":\"ca518bcf-3a51-479a-9c6f-e4db3c590a01\",\"type\":\"DaysTicker\"},{\"attributes\":{\"children\":[{\"id\":\"0f6b07ee-69ab-49b8-b13a-9c0a61837021\",\"type\":\"Row\"},{\"id\":\"9475d231-0858-4b06-898c-c9e55c897fee\",\"type\":\"Row\"},{\"id\":\"3bdeb25f-6fe1-418b-ab4b-1729446abdbd\",\"type\":\"Row\"},{\"id\":\"0f1b2bea-79a8-46cc-b1c5-c161677287ac\",\"type\":\"Row\"}],\"sizing_mode\":\"scale_width\"},\"id\":\"9df50c81-df28-485b-83c6-05cea7c30436\",\"type\":\"Column\"},{\"attributes\":{\"callback\":null},\"id\":\"04a382f9-7de0-4cf3-8237-b07c5949381d\",\"type\":\"DataRange1d\"},{\"attributes\":{\"base\":24,\"mantissas\":[1,2,4,6,8,12],\"max_interval\":43200000.0,\"min_interval\":3600000.0,\"num_minor_ticks\":0},\"id\":\"4a3505af-1094-44e6-9d7b-ac803cd9b956\",\"type\":\"AdaptiveTicker\"},{\"attributes\":{\"days\":[1,2,3,4,5,6,7,8,9,10,11,12,13,14,15,16,17,18,19,20,21,22,23,24,25,26,27,28,29,30,31]},\"id\":\"35cd4c3e-6105-4b51-9f35-2f7ea169725e\",\"type\":\"DaysTicker\"},{\"attributes\":{\"mantissas\":[1,2,5],\"max_interval\":500.0,\"num_minor_ticks\":0},\"id\":\"9c8ec77e-ae76-49a6-b90c-3bbb5fbd51db\",\"type\":\"AdaptiveTicker\"},{\"attributes\":{\"active_drag\":\"auto\",\"active_inspect\":\"auto\",\"active_scroll\":\"auto\",\"active_tap\":\"auto\",\"tools\":[{\"id\":\"99fb322e-0133-46c5-b36f-e4e32550a299\",\"type\":\"HoverTool\"}]},\"id\":\"e80d38d5-7b42-4d4d-bb95-40e8fce4c97f\",\"type\":\"Toolbar\"},{\"attributes\":{\"sizing_mode\":\"scale_width\",\"text\":\"\\n        Bacon ipsum dolor amet hamburger brisket prosciutto, pork ball tip andouille\\n        sausage landjaeger filet mignon ribeye ground round. Jerky fatback cupim\\n        landjaeger meatball pork loin corned beef, frankfurter short ribs short loin\\n        bresaola capicola chuck kevin. Andouille biltong turkey, tail t-bone ribeye\\n        short loin tongue prosciutto kielbasa short ribs boudin. Swine beef ribs\\n        tri-tip filet mignon bresaola boudin beef meatball venison leberkas fatback\\n        strip steak landjaeger drumstick prosciutto.\\n        Bacon ipsum dolor amet hamburger brisket prosciutto, pork ball tip andouille\\n        sausage landjaeger filet mignon ribeye ground round. Jerky fatback cupim\\n        landjaeger meatball pork loin corned beef, frankfurter short ribs short loin\\n        bresaola capicola chuck kevin. Andouille biltong turkey, tail t-bone ribeye\\n        short loin tongue prosciutto kielbasa short ribs boudin. Swine beef ribs\\n        tri-tip filet mignon bresaola boudin beef meatball venison leberkas fatback\\n        strip steak landjaeger drumstick prosciutto.\\n        \"},\"id\":\"8f291588-20c6-4d9a-9cc0-b123140be740\",\"type\":\"Paragraph\"},{\"attributes\":{\"children\":[{\"id\":\"708393c9-79b4-4c6a-8768-f8f53d1152ba\",\"type\":\"Div\"}],\"sizing_mode\":\"scale_width\"},\"id\":\"c7b3df4a-cf5b-46a3-8058-adc3d83fd612\",\"type\":\"WidgetBox\"},{\"attributes\":{\"source\":{\"id\":\"984c8830-fbe3-4e04-a32b-4b037eab8bff\",\"type\":\"ColumnDataSource\"}},\"id\":\"044c43a8-505d-424f-be25-98e8ec8e8a61\",\"type\":\"CDSView\"},{\"attributes\":{},\"id\":\"60de55ac-39fa-4535-bb95-ef104a3d5cbc\",\"type\":\"LinearScale\"},{\"attributes\":{},\"id\":\"28f0bef4-722c-4a90-98a4-f5a3cef7735a\",\"type\":\"PanTool\"},{\"attributes\":{\"days\":[1,4,7,10,13,16,19,22,25,28]},\"id\":\"2b58262e-f88b-4556-a85b-f57eaf22b10c\",\"type\":\"DaysTicker\"},{\"attributes\":{\"label\":{\"field\":\"species\"},\"renderers\":[{\"id\":\"6249fe64-39b4-456e-ba7f-efbcc929d627\",\"type\":\"GlyphRenderer\"}]},\"id\":\"f6838e97-8313-47aa-8a7e-f7ca9367afca\",\"type\":\"LegendItem\"},{\"attributes\":{\"active_drag\":\"auto\",\"active_inspect\":\"auto\",\"active_scroll\":\"auto\",\"active_tap\":\"auto\",\"tools\":[{\"id\":\"28f0bef4-722c-4a90-98a4-f5a3cef7735a\",\"type\":\"PanTool\"},{\"id\":\"0d8ae294-2746-481e-90a1-e3df500bf59e\",\"type\":\"WheelZoomTool\"},{\"id\":\"6b5ffc0f-1320-423b-9810-d55a0e9bf0f4\",\"type\":\"BoxZoomTool\"},{\"id\":\"c106c949-86cb-4149-834a-e06835c2bc20\",\"type\":\"SaveTool\"},{\"id\":\"0720a10f-c22d-4f68-b3ef-9f97a060ea18\",\"type\":\"ResetTool\"},{\"id\":\"0a2398ba-4f81-46b7-a425-073684e179d5\",\"type\":\"HelpTool\"}]},\"id\":\"d7268015-8b02-4f4c-9ec7-145ae0c8a010\",\"type\":\"Toolbar\"},{\"attributes\":{\"bottom_units\":\"screen\",\"fill_alpha\":{\"value\":0.5},\"fill_color\":{\"value\":\"lightgrey\"},\"left_units\":\"screen\",\"level\":\"overlay\",\"line_alpha\":{\"value\":1.0},\"line_color\":{\"value\":\"black\"},\"line_dash\":[4,4],\"line_width\":{\"value\":2},\"plot\":null,\"render_mode\":\"css\",\"right_units\":\"screen\",\"top_units\":\"screen\"},\"id\":\"5333afe6-0199-425d-9230-47fa3d1980ad\",\"type\":\"BoxAnnotation\"},{\"attributes\":{\"children\":[{\"id\":\"9be65e22-4bfd-4057-9c37-18b8c0ec2126\",\"type\":\"Paragraph\"}],\"sizing_mode\":\"scale_width\"},\"id\":\"230389cc-c1ae-4e2a-961f-bd4d7f95204e\",\"type\":\"WidgetBox\"},{\"attributes\":{},\"id\":\"00096ae2-9a0b-4bad-ae39-3ac8bbbfe8a6\",\"type\":\"LinearScale\"},{\"attributes\":{\"plot\":null,\"text\":\"Iris Morphology\"},\"id\":\"2588f8c7-db4c-4b78-82a6-125405906087\",\"type\":\"Title\"},{\"attributes\":{\"children\":[{\"id\":\"8f291588-20c6-4d9a-9cc0-b123140be740\",\"type\":\"Paragraph\"}],\"sizing_mode\":\"scale_width\"},\"id\":\"5ed37b04-ade0-4566-9a5b-1b69dc370cd3\",\"type\":\"WidgetBox\"},{\"attributes\":{\"months\":[0,2,4,6,8,10]},\"id\":\"758a6e03-972e-404d-9ab8-6a7088963e3a\",\"type\":\"MonthsTicker\"},{\"attributes\":{\"callback\":null},\"id\":\"6457b9eb-9701-4360-bd72-6082db7d715d\",\"type\":\"DataRange1d\"},{\"attributes\":{\"callback\":null},\"id\":\"b2e12531-b23d-44dc-8f6c-c54475727fc0\",\"type\":\"DataRange1d\"},{\"attributes\":{\"sizing_mode\":\"scale_width\",\"text\":\"\\n        <h3>Welcome to Layout!</h3>\\n        <p>Hopefully you'll see from the code, that the layout tries to get out of your way\\n        and do the right thing. Of course, it might not always, so please report bugs as you\\n        find them and attach them to the epic we're creating <a href=\\\"\\\">here</a>.</p>\\n        <p>This is an example of <code>scale_width</code> mode (happy to continue the conversations\\n        about what to name the modes). In <code>scale_width</code> everything responds to the width\\n        that's available to it. Plots alter their height to maintain their aspect ratio, and widgets\\n        are allowed to grow as tall as they need to accomodate themselves. Often times widgets\\n        stay the same height, but text is a good example of a widget that doesn't.</p>\\n        <h4>I want to stress that this was all written in python. There is no templating or\\n        use of <code>bokeh.embed</code>.</h4>\\n    \"},\"id\":\"708393c9-79b4-4c6a-8768-f8f53d1152ba\",\"type\":\"Div\"},{\"attributes\":{},\"id\":\"c9ae3c9d-6c50-4328-80f8-a81bd3b54b5b\",\"type\":\"YearsTicker\"},{\"attributes\":{\"callback\":null},\"id\":\"3965c52c-e4d1-45b0-bb1a-35399d3ad21d\",\"type\":\"DataRange1d\"},{\"attributes\":{\"callback\":null,\"mode\":\"hline\",\"renderers\":[{\"id\":\"ce3fcba9-e1c5-494a-a19f-e6e4cde6931a\",\"type\":\"GlyphRenderer\"}],\"tooltips\":null},\"id\":\"99fb322e-0133-46c5-b36f-e4e32550a299\",\"type\":\"HoverTool\"},{\"attributes\":{\"base\":60,\"mantissas\":[1,2,5,10,15,20,30],\"max_interval\":1800000.0,\"min_interval\":1000.0,\"num_minor_ticks\":0},\"id\":\"9ad7b6d9-23fd-4e54-b053-927c19dd6209\",\"type\":\"AdaptiveTicker\"},{\"attributes\":{\"sizing_mode\":\"scale_width\",\"text\":\"\\n        Bacon ipsum dolor amet hamburger brisket prosciutto, pork ball tip andouille\\n        sausage landjaeger filet mignon ribeye ground round. Jerky fatback cupim\\n        landjaeger meatball pork loin corned beef, frankfurter short ribs short loin\\n        bresaola capicola chuck kevin. Andouille biltong turkey, tail t-bone ribeye\\n        short loin tongue prosciutto kielbasa short ribs boudin. Swine beef ribs\\n        tri-tip filet mignon bresaola boudin beef meatball venison leberkas fatback\\n        strip steak landjaeger drumstick prosciutto.\\n        Bacon ipsum dolor amet hamburger brisket prosciutto, pork ball tip andouille\\n        sausage landjaeger filet mignon ribeye ground round. Jerky fatback cupim\\n        landjaeger meatball pork loin corned beef, frankfurter short ribs short loin\\n        bresaola capicola chuck kevin. Andouille biltong turkey, tail t-bone ribeye\\n        short loin tongue prosciutto kielbasa short ribs boudin. Swine beef ribs\\n        tri-tip filet mignon bresaola boudin beef meatball venison leberkas fatback\\n        strip steak landjaeger drumstick prosciutto.\\n        \"},\"id\":\"65b0d93a-cdc9-4c82-b984-a81aa1e899ad\",\"type\":\"Paragraph\"},{\"attributes\":{\"formatter\":{\"id\":\"ce49a140-38a1-4c1b-bbc7-07f8dc6032d8\",\"type\":\"DatetimeTickFormatter\"},\"plot\":{\"id\":\"efc0c473-4d23-4822-bc15-5c288ea445f4\",\"subtype\":\"Figure\",\"type\":\"Plot\"},\"ticker\":{\"id\":\"f6912bd9-f309-41b5-9f84-9feb0166013a\",\"type\":\"DatetimeTicker\"}},\"id\":\"a8101c46-2325-4ff7-a699-9b571b536444\",\"type\":\"DatetimeAxis\"},{\"attributes\":{\"below\":[{\"id\":\"a8101c46-2325-4ff7-a699-9b571b536444\",\"type\":\"DatetimeAxis\"}],\"left\":[{\"id\":\"f9bcba13-d6ed-4354-a46f-e8eb97c2fc9a\",\"type\":\"LinearAxis\"}],\"plot_height\":400,\"plot_width\":800,\"renderers\":[{\"id\":\"a8101c46-2325-4ff7-a699-9b571b536444\",\"type\":\"DatetimeAxis\"},{\"id\":\"096a654a-a087-4791-b144-f58fda192803\",\"type\":\"Grid\"},{\"id\":\"f9bcba13-d6ed-4354-a46f-e8eb97c2fc9a\",\"type\":\"LinearAxis\"},{\"id\":\"a51cfec3-1ace-4936-b908-98d3057427c3\",\"type\":\"Grid\"},{\"id\":\"494b3e03-5c0a-496d-a75f-171822097b34\",\"type\":\"GlyphRenderer\"},{\"id\":\"ce3fcba9-e1c5-494a-a19f-e6e4cde6931a\",\"type\":\"GlyphRenderer\"}],\"sizing_mode\":\"scale_width\",\"title\":{\"id\":\"8d4b1be3-63c2-4472-8cab-de5bf052d387\",\"type\":\"Title\"},\"toolbar\":{\"id\":\"e80d38d5-7b42-4d4d-bb95-40e8fce4c97f\",\"type\":\"Toolbar\"},\"toolbar_location\":null,\"x_range\":{\"id\":\"b2e12531-b23d-44dc-8f6c-c54475727fc0\",\"type\":\"DataRange1d\"},\"x_scale\":{\"id\":\"a8fc5c8e-6887-4c08-be36-119b938a5523\",\"type\":\"LinearScale\"},\"y_range\":{\"id\":\"6457b9eb-9701-4360-bd72-6082db7d715d\",\"type\":\"DataRange1d\"},\"y_scale\":{\"id\":\"00096ae2-9a0b-4bad-ae39-3ac8bbbfe8a6\",\"type\":\"LinearScale\"}},\"id\":\"efc0c473-4d23-4822-bc15-5c288ea445f4\",\"subtype\":\"Figure\",\"type\":\"Plot\"},{\"attributes\":{\"plot\":null,\"text\":\"Hover over points\"},\"id\":\"8d4b1be3-63c2-4472-8cab-de5bf052d387\",\"type\":\"Title\"},{\"attributes\":{},\"id\":\"ce49a140-38a1-4c1b-bbc7-07f8dc6032d8\",\"type\":\"DatetimeTickFormatter\"},{\"attributes\":{},\"id\":\"3a4ae418-fe8a-4379-a506-09b0e85dff76\",\"type\":\"BasicTicker\"},{\"attributes\":{\"children\":[{\"id\":\"230389cc-c1ae-4e2a-961f-bd4d7f95204e\",\"type\":\"WidgetBox\"}],\"sizing_mode\":\"scale_width\"},\"id\":\"3bdeb25f-6fe1-418b-ab4b-1729446abdbd\",\"type\":\"Row\"},{\"attributes\":{\"axis_label\":\"Petal Width\",\"formatter\":{\"id\":\"162e1431-4635-45a8-8089-ba5c7a223ecc\",\"type\":\"BasicTickFormatter\"},\"plot\":{\"id\":\"c76b69c2-87f8-4e13-a3c2-e7dc3491cbce\",\"subtype\":\"Figure\",\"type\":\"Plot\"},\"ticker\":{\"id\":\"3a4ae418-fe8a-4379-a506-09b0e85dff76\",\"type\":\"BasicTicker\"}},\"id\":\"8ade4f92-25ef-4b51-8419-8180bddd5dfa\",\"type\":\"LinearAxis\"},{\"attributes\":{\"fill_alpha\":{\"value\":0.2},\"fill_color\":{\"field\":\"colors\"},\"line_color\":{\"field\":\"colors\"},\"size\":{\"units\":\"screen\",\"value\":10},\"x\":{\"field\":\"petal_length\"},\"y\":{\"field\":\"petal_width\"}},\"id\":\"58c60206-5fdc-49e4-a3d9-b38ad5a028aa\",\"type\":\"Circle\"},{\"attributes\":{\"sizing_mode\":\"scale_width\",\"text\":\"\\n        Bacon ipsum dolor amet hamburger brisket prosciutto, pork ball tip andouille\\n        sausage landjaeger filet mignon ribeye ground round. Jerky fatback cupim\\n        landjaeger meatball pork loin corned beef, frankfurter short ribs short loin\\n        bresaola capicola chuck kevin. Andouille biltong turkey, tail t-bone ribeye\\n        short loin tongue prosciutto kielbasa short ribs boudin. Swine beef ribs\\n        tri-tip filet mignon bresaola boudin beef meatball venison leberkas fatback\\n        strip steak landjaeger drumstick prosciutto.\\n        Bacon ipsum dolor amet hamburger brisket prosciutto, pork ball tip andouille\\n        sausage landjaeger filet mignon ribeye ground round. Jerky fatback cupim\\n        landjaeger meatball pork loin corned beef, frankfurter short ribs short loin\\n        bresaola capicola chuck kevin. Andouille biltong turkey, tail t-bone ribeye\\n        short loin tongue prosciutto kielbasa short ribs boudin. Swine beef ribs\\n        tri-tip filet mignon bresaola boudin beef meatball venison leberkas fatback\\n        strip steak landjaeger drumstick prosciutto.\\n        \"},\"id\":\"9be65e22-4bfd-4057-9c37-18b8c0ec2126\",\"type\":\"Paragraph\"},{\"attributes\":{\"callback\":null,\"column_names\":[\"x\",\"y\"],\"data\":{\"x\":{\"__ndarray__\":\"AADyke23ckIAADDb7bdyQgAAbiTut3JCAACsbe63ckIAAOq27rdyQgAAKADvt3JCAABmSe+3ckIAAKSS77dyQgAA4tvvt3JCAAAgJfC3ckIAAF5u8LdyQgAAnLfwt3JCAADaAPG3ckIAABhK8bdyQgAAVpPxt3JCAACU3PG3ckIAANIl8rdyQgAAEG/yt3JCAABOuPK3ckIAAIwB87dyQgAAykrzt3JCAAAIlPO3ckIAAEbd87dyQgAAhCb0t3JCAADCb/S3ckIAAAC59LdyQgAAPgL1t3JCAAB8S/W3ckIAALqU9bdyQgAA+N31t3JCAAA2J/a3ckIAAHRw9rdyQgAAsrn2t3JCAADwAve3ckIAAC5M97dyQgAAbJX3t3JCAACq3ve3ckIAAOgn+LdyQgAAJnH4t3JCAABkuvi3ckIAAKID+bdyQgAA4Ez5t3JCAAAelvm3ckIAAFzf+bdyQgAAmij6t3JCAADYcfq3ckIAABa7+rdyQgAAVAT7t3JCAACSTfu3ckIAANCW+7dyQgAADuD7t3JCAABMKfy3ckIAAIpy/LdyQgAAyLv8t3JCAAAGBf23ckIAAERO/bdyQgAAgpf9t3JCAADA4P23ckIAAP4p/rdyQgAAPHP+t3JCAAB6vP63ckIAALgF/7dyQgAA9k7/t3JCAAA0mP+3ckIAAHLh/7dyQgAAsCoAuHJCAADucwC4ckIAACy9ALhyQgAAagYBuHJCAACoTwG4ckIAAOaYAbhyQgAAJOIBuHJCAABiKwK4ckIAAKB0ArhyQgAA3r0CuHJCAAAcBwO4ckIAAFpQA7hyQgAAmJkDuHJCAADW4gO4ckIAABQsBLhyQgAAUnUEuHJCAACQvgS4ckIAAM4HBbhyQgAADFEFuHJCAABKmgW4ckIAAIjjBbhyQgAAxiwGuHJCAAAEdga4ckIAAEK/BrhyQgAAgAgHuHJCAAC+UQe4ckIAAPyaB7hyQgAAOuQHuHJCAAB4LQi4ckIAALZ2CLhyQgAA9L8IuHJCAAAyCQm4ckIAAHBSCbhyQgAArpsJuHJCAADs5Am4ckIAACouCrhyQgAAaHcKuHJCAACmwAq4ckIAAOQJC7hyQgAAIlMLuHJCAABgnAu4ckIAAJ7lC7hyQgAA3C4MuHJCAAAaeAy4ckIAAFjBDLhyQgAAlgoNuHJCAADUUw24ckIAABKdDbhyQgAAUOYNuHJCAACOLw64ckIAAMx4DrhyQgAACsIOuHJCAABICw+4ckIAAIZUD7hyQgAAxJ0PuHJCAAAC5w+4ckIAAEAwELhyQgAAfnkQuHJCAAC8whC4ckIAAPoLEbhyQgAAOFURuHJCAAB2nhG4ckIAALTnEbhyQgAA8jASuHJCAAAwehK4ckIAAG7DErhyQgAArAwTuHJCAADqVRO4ckIAACifE7hyQgAAZugTuHJCAACkMRS4ckIAAOJ6FLhyQgAAIMQUuHJCAABeDRW4ckIAAJxWFbhyQgAA2p8VuHJCAAAY6RW4ckIAAFYyFrhyQgAAlHsWuHJCAADSxBa4ckIAABAOF7hyQgAATlcXuHJCAACMoBe4ckIAAMrpF7hyQgAACDMYuHJCAABGfBi4ckIAAITFGLhyQgAAwg4ZuHJCAAAAWBm4ckIAAD6hGbhyQgAAfOoZuHJCAAC6Mxq4ckIAAPh8GrhyQgAANsYauHJCAAB0Dxu4ckIAALJYG7hyQgAA8KEbuHJCAAAu6xu4ckIAAGw0HLhyQgAAqn0cuHJCAADoxhy4ckIAACYQHbhyQgAAZFkduHJCAACioh24ckIAAODrHbhyQgAAHjUeuHJCAABcfh64ckIAAJrHHrhyQgAA2BAfuHJCAAAWWh+4ckIAAFSjH7hyQgAAkuwfuHJCAADQNSC4ckIAAA5/ILhyQgAATMgguHJCAACKESG4ckIAAMhaIbhyQgAABqQhuHJCAABE7SG4ckIAAII2IrhyQgAAwH8iuHJCAAD+yCK4ckIAADwSI7hyQgAAelsjuHJCAAC4pCO4ckIAAPbtI7hyQgAANDckuHJCAABygCS4ckIAALDJJLhyQgAA7hIluHJCAAAsXCW4ckIAAGqlJbhyQgAAqO4luHJCAADmNya4ckIAACSBJrhyQgAAYsomuHJCAACgEye4ckIAAN5cJ7hyQgAAHKYnuHJCAABa7ye4ckIAAJg4KLhyQgAA1oEouHJCAAAUyyi4ckIAAFIUKbhyQgAAkF0puHJCAADOpim4ckIAAAzwKbhyQgAASjkquHJCAACIgiq4ckIAAMbLKrhyQgAABBUruHJCAABCXiu4ckIAAICnK7hyQgAAvvAruHJCAAD8OSy4ckIAADqDLLhyQgAAeMwsuHJCAAC2FS24ckIAAPReLbhyQgAAMqgtuHJCAABw8S24ckIAAK46LrhyQgAA7IMuuHJCAAAqzS64ckIAAGgWL7hyQgAApl8vuHJCAADkqC+4ckIAACLyL7hyQgAAYDswuHJCAACehDC4ckIAANzNMLhyQgAAGhcxuHJCAABYYDG4ckIAAJapMbhyQgAA1PIxuHJCAAASPDK4ckIAAFCFMrhyQgAAjs4yuHJCAADMFzO4ckIAAAphM7hyQgAASKozuHJCAACG8zO4ckIAAMQ8NLhyQgAAAoY0uHJCAABAzzS4ckIAAH4YNbhyQgAAvGE1uHJCAAD6qjW4ckIAADj0NbhyQgAAdj02uHJCAAC0hja4ckIAAPLPNrhyQgAAMBk3uHJCAABuYje4ckIAAKyrN7hyQgAA6vQ3uHJCAAAoPji4ckIAAGaHOLhyQgAApNA4uHJCAADiGTm4ckIAACBjObhyQgAAXqw5uHJCAACc9Tm4ckIAANo+OrhyQgAAGIg6uHJCAABW0Tq4ckIAAJQaO7hyQgAA0mM7uHJCAAAQrTu4ckIAAE72O7hyQgAAjD88uHJCAADKiDy4ckIAAAjSPLhyQgAARhs9uHJCAACEZD24ckIAAMKtPbhyQgAAAPc9uHJCAAA+QD64ckIAAHyJPrhyQgAAutI+uHJCAAD4Gz+4ckIAADZlP7hyQgAAdK4/uHJC\",\"dtype\":\"float64\",\"shape\":[288]},\"y\":[143,147,150,152,152,152,154,155,142,140,138,134,131,130,128,127,126,126,126,126,127,129,131,132,134,136,136,136,136,135,134,132,130,130,130,129,128,127,125,124,123,123,122,121,120,118,115,112,111,111,110,110,109,108,107,107,107,108,107,105,105,105,105,104,103,102,99,97,96,94,94,93,93,92,91,92,94,95,96,97,99,102,104,112,112,112,111,110,107,104,105,105,103,99,96,94,95,102,114,128,144,160,173,185,196,205,209,214,219,226,234,241,248,255,260,265,268,270,272,271,271,268,265,261,256,253,250,246,244,241,237,233,229,225,222,204,200,197,193,190,186,182,179,175,171,168,164,158,154,151,148,145,141,133,139,152,173,196,217,233,244,249,250,253,256,260,263,265,265,264,260,254,246,234,217,200,188,181,175,169,164,159,154,147,138,132,129,127,123,117,111,106,104,103,100,94,88,83,78,75,73,71,69,68,67,67,68,70,71,71,70,69,68,67,67,67,66,67,69,71,74,76,78,80,80,80,80,80,80,82,84,87,90,92,87,87,86,86,86,86,87,87,87,85,83,82,83,87,95,107,118,130,141,149,172,179,187,201,214,221,225,230,232,230,223,216,208,199,191,185,181,177,176,177,176,173,171,169,163,154,152,153,154,154,153,151,150,150]}},\"id\":\"a091d2bc-a2f8-4cb5-9c89-08dc19dd059a\",\"type\":\"ColumnDataSource\"},{\"attributes\":{\"data_source\":{\"id\":\"984c8830-fbe3-4e04-a32b-4b037eab8bff\",\"type\":\"ColumnDataSource\"},\"glyph\":{\"id\":\"58c60206-5fdc-49e4-a3d9-b38ad5a028aa\",\"type\":\"Circle\"},\"hover_glyph\":null,\"muted_glyph\":null,\"nonselection_glyph\":{\"id\":\"b3cc5f18-99c7-4931-9607-5be13a200af3\",\"type\":\"Circle\"},\"selection_glyph\":null,\"view\":{\"id\":\"044c43a8-505d-424f-be25-98e8ec8e8a61\",\"type\":\"CDSView\"}},\"id\":\"6249fe64-39b4-456e-ba7f-efbcc929d627\",\"type\":\"GlyphRenderer\"},{\"attributes\":{\"plot\":{\"id\":\"efc0c473-4d23-4822-bc15-5c288ea445f4\",\"subtype\":\"Figure\",\"type\":\"Plot\"},\"ticker\":{\"id\":\"f6912bd9-f309-41b5-9f84-9feb0166013a\",\"type\":\"DatetimeTicker\"}},\"id\":\"096a654a-a087-4791-b144-f58fda192803\",\"type\":\"Grid\"},{\"attributes\":{\"plot\":{\"id\":\"c76b69c2-87f8-4e13-a3c2-e7dc3491cbce\",\"subtype\":\"Figure\",\"type\":\"Plot\"},\"ticker\":{\"id\":\"822f4718-fa68-4f0e-8384-edccea18768e\",\"type\":\"BasicTicker\"}},\"id\":\"528642d9-9702-4650-a285-093041ff5b30\",\"type\":\"Grid\"},{\"attributes\":{\"dimension\":1,\"plot\":{\"id\":\"efc0c473-4d23-4822-bc15-5c288ea445f4\",\"subtype\":\"Figure\",\"type\":\"Plot\"},\"ticker\":{\"id\":\"e2f1b627-768c-453f-a0ec-d8df0103abc3\",\"type\":\"BasicTicker\"}},\"id\":\"a51cfec3-1ace-4936-b908-98d3057427c3\",\"type\":\"Grid\"},{\"attributes\":{\"line_alpha\":0.1,\"line_color\":\"#1f77b4\",\"line_dash\":[4,4],\"x\":{\"field\":\"x\"},\"y\":{\"field\":\"y\"}},\"id\":\"83b11b9c-d698-4923-8589-4b8d7edbdf28\",\"type\":\"Line\"},{\"attributes\":{\"dimension\":1,\"plot\":{\"id\":\"c76b69c2-87f8-4e13-a3c2-e7dc3491cbce\",\"subtype\":\"Figure\",\"type\":\"Plot\"},\"ticker\":{\"id\":\"3a4ae418-fe8a-4379-a506-09b0e85dff76\",\"type\":\"BasicTicker\"}},\"id\":\"e54d0c08-ace6-4734-803c-baed7d1e2e1b\",\"type\":\"Grid\"},{\"attributes\":{\"callback\":null,\"column_names\":[\"x\",\"y\"],\"data\":{\"x\":{\"__ndarray__\":\"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\",\"dtype\":\"float64\",\"shape\":[288]},\"y\":[143,147,150,152,152,152,154,155,142,140,138,134,131,130,128,127,126,126,126,126,127,129,131,132,134,136,136,136,136,135,134,132,130,130,130,129,128,127,125,124,123,123,122,121,120,118,115,112,111,111,110,110,109,108,107,107,107,108,107,105,105,105,105,104,103,102,99,97,96,94,94,93,93,92,91,92,94,95,96,97,99,102,104,112,112,112,111,110,107,104,105,105,103,99,96,94,95,102,114,128,144,160,173,185,196,205,209,214,219,226,234,241,248,255,260,265,268,270,272,271,271,268,265,261,256,253,250,246,244,241,237,233,229,225,222,204,200,197,193,190,186,182,179,175,171,168,164,158,154,151,148,145,141,133,139,152,173,196,217,233,244,249,250,253,256,260,263,265,265,264,260,254,246,234,217,200,188,181,175,169,164,159,154,147,138,132,129,127,123,117,111,106,104,103,100,94,88,83,78,75,73,71,69,68,67,67,68,70,71,71,70,69,68,67,67,67,66,67,69,71,74,76,78,80,80,80,80,80,80,82,84,87,90,92,87,87,86,86,86,86,87,87,87,85,83,82,83,87,95,107,118,130,141,149,172,179,187,201,214,221,225,230,232,230,223,216,208,199,191,185,181,177,176,177,176,173,171,169,163,154,152,153,154,154,153,151,150,150]}},\"id\":\"83fa3025-d931-48a8-9418-e91c385e3905\",\"type\":\"ColumnDataSource\"},{\"attributes\":{\"source\":{\"id\":\"83fa3025-d931-48a8-9418-e91c385e3905\",\"type\":\"ColumnDataSource\"}},\"id\":\"1cec6b0b-e02f-4e71-8da5-7014eeb240f3\",\"type\":\"CDSView\"},{\"attributes\":{\"months\":[0,4,8]},\"id\":\"f44fc5b4-4d68-4845-8417-bfb35cf7ae13\",\"type\":\"MonthsTicker\"},{\"attributes\":{\"above\":[{\"id\":\"4f783cd3-2d37-4c55-bd2d-1f51bd552a9f\",\"type\":\"Legend\"}],\"below\":[{\"id\":\"bc5f8745-1026-421b-a70f-b8e8b251377c\",\"type\":\"LinearAxis\"}],\"left\":[{\"id\":\"8ade4f92-25ef-4b51-8419-8180bddd5dfa\",\"type\":\"LinearAxis\"}],\"renderers\":[{\"id\":\"bc5f8745-1026-421b-a70f-b8e8b251377c\",\"type\":\"LinearAxis\"},{\"id\":\"528642d9-9702-4650-a285-093041ff5b30\",\"type\":\"Grid\"},{\"id\":\"8ade4f92-25ef-4b51-8419-8180bddd5dfa\",\"type\":\"LinearAxis\"},{\"id\":\"e54d0c08-ace6-4734-803c-baed7d1e2e1b\",\"type\":\"Grid\"},{\"id\":\"5333afe6-0199-425d-9230-47fa3d1980ad\",\"type\":\"BoxAnnotation\"},{\"id\":\"4f783cd3-2d37-4c55-bd2d-1f51bd552a9f\",\"type\":\"Legend\"},{\"id\":\"6249fe64-39b4-456e-ba7f-efbcc929d627\",\"type\":\"GlyphRenderer\"}],\"sizing_mode\":\"scale_width\",\"title\":{\"id\":\"2588f8c7-db4c-4b78-82a6-125405906087\",\"type\":\"Title\"},\"toolbar\":{\"id\":\"d7268015-8b02-4f4c-9ec7-145ae0c8a010\",\"type\":\"Toolbar\"},\"x_range\":{\"id\":\"3965c52c-e4d1-45b0-bb1a-35399d3ad21d\",\"type\":\"DataRange1d\"},\"x_scale\":{\"id\":\"60de55ac-39fa-4535-bb95-ef104a3d5cbc\",\"type\":\"LinearScale\"},\"y_range\":{\"id\":\"04a382f9-7de0-4cf3-8237-b07c5949381d\",\"type\":\"DataRange1d\"},\"y_scale\":{\"id\":\"aa3807f1-12dd-4b37-ab20-f01c5302fe93\",\"type\":\"LinearScale\"}},\"id\":\"c76b69c2-87f8-4e13-a3c2-e7dc3491cbce\",\"subtype\":\"Figure\",\"type\":\"Plot\"},{\"attributes\":{\"axis_label\":\"Petal Length\",\"formatter\":{\"id\":\"3e5fb0d1-776a-4e95-ab51-c2118c95fc58\",\"type\":\"BasicTickFormatter\"},\"plot\":{\"id\":\"c76b69c2-87f8-4e13-a3c2-e7dc3491cbce\",\"subtype\":\"Figure\",\"type\":\"Plot\"},\"ticker\":{\"id\":\"822f4718-fa68-4f0e-8384-edccea18768e\",\"type\":\"BasicTicker\"}},\"id\":\"bc5f8745-1026-421b-a70f-b8e8b251377c\",\"type\":\"LinearAxis\"},{\"attributes\":{\"line_color\":\"gray\",\"line_dash\":[4,4],\"x\":{\"field\":\"x\"},\"y\":{\"field\":\"y\"}},\"id\":\"f6b76e1f-8ff2-499b-b0e7-04a075bdc33d\",\"type\":\"Line\"},{\"attributes\":{\"children\":[{\"id\":\"65b0d93a-cdc9-4c82-b984-a81aa1e899ad\",\"type\":\"Paragraph\"}],\"sizing_mode\":\"scale_width\"},\"id\":\"dd197046-e75b-4db3-a827-ca600b229e02\",\"type\":\"WidgetBox\"}],\"root_ids\":[\"9df50c81-df28-485b-83c6-05cea7c30436\"]},\"title\":\"Bokeh Application\",\"version\":\"0.12.13\"}};\n",
       "  var render_items = [{\"docid\":\"2b3db52f-66cd-46a1-a280-962c2a654c48\",\"elementid\":\"48b7b816-df6d-40e1-b0f3-42d146f71b73\",\"modelid\":\"9df50c81-df28-485b-83c6-05cea7c30436\"}];\n",
       "  root.Bokeh.embed.embed_items_notebook(docs_json, render_items);\n",
       "\n",
       "  }\n",
       "  if (root.Bokeh !== undefined) {\n",
       "    embed_document(root);\n",
       "  } else {\n",
       "    var attempts = 0;\n",
       "    var timer = setInterval(function(root) {\n",
       "      if (root.Bokeh !== undefined) {\n",
       "        embed_document(root);\n",
       "        clearInterval(timer);\n",
       "      }\n",
       "      attempts++;\n",
       "      if (attempts > 100) {\n",
       "        console.log(\"Bokeh: ERROR: Unable to run BokehJS code because BokehJS library is missing\")\n",
       "        clearInterval(timer);\n",
       "      }\n",
       "    }, 10, root)\n",
       "  }\n",
       "})(window);"
      ],
      "application/vnd.bokehjs_exec.v0+json": ""
     },
     "metadata": {
      "application/vnd.bokehjs_exec.v0+json": {
       "id": "9df50c81-df28-485b-83c6-05cea7c30436"
      }
     },
     "output_type": "display_data"
    },
    {
     "name": "stderr",
     "output_type": "stream",
     "text": [
      "E-1001 (BAD_COLUMN_NAME): Glyph refers to nonexistent column name: colors [renderer: GlyphRenderer(id='6249fe64-39b4-456e-ba7f-efbcc929d627', ...)]\n"
     ]
    }
   ],
   "source": [
    "from bokeh.sampledata.glucose import data\n",
    "from bokeh.sampledata.iris import flowers\n",
    "\n",
    "from bokeh.io import show, output_file\n",
    "from bokeh.layouts import layout\n",
    "from bokeh.models import ColumnDataSource, Paragraph, HoverTool, Div\n",
    "from bokeh.plotting import figure\n",
    "\n",
    "output_file(\"words_and_plots.html\")\n",
    "\n",
    "\n",
    "def text():\n",
    "    return Paragraph(text=\"\"\"\n",
    "        Bacon ipsum dolor amet hamburger brisket prosciutto, pork ball tip andouille\n",
    "        sausage landjaeger filet mignon ribeye ground round. Jerky fatback cupim\n",
    "        landjaeger meatball pork loin corned beef, frankfurter short ribs short loin\n",
    "        bresaola capicola chuck kevin. Andouille biltong turkey, tail t-bone ribeye\n",
    "        short loin tongue prosciutto kielbasa short ribs boudin. Swine beef ribs\n",
    "        tri-tip filet mignon bresaola boudin beef meatball venison leberkas fatback\n",
    "        strip steak landjaeger drumstick prosciutto.\n",
    "        Bacon ipsum dolor amet hamburger brisket prosciutto, pork ball tip andouille\n",
    "        sausage landjaeger filet mignon ribeye ground round. Jerky fatback cupim\n",
    "        landjaeger meatball pork loin corned beef, frankfurter short ribs short loin\n",
    "        bresaola capicola chuck kevin. Andouille biltong turkey, tail t-bone ribeye\n",
    "        short loin tongue prosciutto kielbasa short ribs boudin. Swine beef ribs\n",
    "        tri-tip filet mignon bresaola boudin beef meatball venison leberkas fatback\n",
    "        strip steak landjaeger drumstick prosciutto.\n",
    "        \"\"\")\n",
    "\n",
    "\n",
    "def scatter():\n",
    "    colormap = {'setosa': 'red', 'versicolor': 'green', 'virginica': 'blue'}\n",
    "    source = ColumnDataSource(flowers)\n",
    "    source.data['colors'] = [colormap[x] for x in flowers['species']]\n",
    "    s = figure(title = \"Iris Morphology\")\n",
    "    s.xaxis.axis_label = 'Petal Length'\n",
    "    s.yaxis.axis_label = 'Petal Width'\n",
    "    s.circle(\"petal_length\", \"petal_width\", color=\"colors\", source=source,\n",
    "             fill_alpha=0.2, size=10, legend=\"species\")\n",
    "    # Lets move the legend off-canvas!\n",
    "    legend = s.legend[0]\n",
    "    legend.border_line_color = None\n",
    "    legend.orientation = 'horizontal'\n",
    "    legend.location = 'center_left'\n",
    "    s.above.append(legend)\n",
    "    return s\n",
    "\n",
    "\n",
    "def hover_plot():\n",
    "    x = data.ix['2010-10-06'].index.to_series()\n",
    "    y = data.ix['2010-10-06']['glucose']\n",
    "    p = figure(\n",
    "        plot_width=800, plot_height=400, x_axis_type=\"datetime\",\n",
    "        tools=\"\", toolbar_location=None, title='Hover over points'\n",
    "    )\n",
    "    p.line(x, y, line_dash=\"4 4\", line_width=1, color='gray')\n",
    "    cr = p.circle(\n",
    "        x, y, size=20, fill_color=\"grey\", alpha=0.1, line_color=None,\n",
    "        hover_fill_color=\"firebrick\", hover_alpha=0.5, hover_line_color=None\n",
    "    )\n",
    "    p.add_tools(HoverTool(tooltips=None, renderers=[cr], mode='hline'))\n",
    "    return p\n",
    "\n",
    "def intro():\n",
    "    return Div(text=\"\"\"\n",
    "        <h3>Welcome to Layout!</h3>\n",
    "        <p>Hopefully you'll see from the code, that the layout tries to get out of your way\n",
    "        and do the right thing. Of course, it might not always, so please report bugs as you\n",
    "        find them and attach them to the epic we're creating <a href=\"\">here</a>.</p>\n",
    "        <p>This is an example of <code>scale_width</code> mode (happy to continue the conversations\n",
    "        about what to name the modes). In <code>scale_width</code> everything responds to the width\n",
    "        that's available to it. Plots alter their height to maintain their aspect ratio, and widgets\n",
    "        are allowed to grow as tall as they need to accomodate themselves. Often times widgets\n",
    "        stay the same height, but text is a good example of a widget that doesn't.</p>\n",
    "        <h4>I want to stress that this was all written in python. There is no templating or\n",
    "        use of <code>bokeh.embed</code>.</h4>\n",
    "    \"\"\")\n",
    "\n",
    "\n",
    "l = layout(\n",
    "    [\n",
    "        [intro()],\n",
    "        [text(), scatter()],\n",
    "        [text()],\n",
    "        [hover_plot(), text()],\n",
    "    ],\n",
    "    sizing_mode='scale_width'\n",
    ")\n",
    "\n",
    "show(l)"
   ]
  },
  {
   "cell_type": "code",
   "execution_count": null,
   "metadata": {},
   "outputs": [],
   "source": []
  }
 ],
 "metadata": {
  "kernelspec": {
   "display_name": "Python 3",
   "language": "python",
   "name": "python3"
  },
  "language_info": {
   "codemirror_mode": {
    "name": "ipython",
    "version": 3
   },
   "file_extension": ".py",
   "mimetype": "text/x-python",
   "name": "python",
   "nbconvert_exporter": "python",
   "pygments_lexer": "ipython3",
   "version": "3.5.3"
  },
  "varInspector": {
   "cols": {
    "lenName": 16,
    "lenType": 16,
    "lenVar": 40
   },
   "kernels_config": {
    "python": {
     "delete_cmd_postfix": "",
     "delete_cmd_prefix": "del ",
     "library": "var_list.py",
     "varRefreshCmd": "print(var_dic_list())"
    },
    "r": {
     "delete_cmd_postfix": ") ",
     "delete_cmd_prefix": "rm(",
     "library": "var_list.r",
     "varRefreshCmd": "cat(var_dic_list()) "
    }
   },
   "types_to_exclude": [
    "module",
    "function",
    "builtin_function_or_method",
    "instance",
    "_Feature"
   ],
   "window_display": false
  }
 },
 "nbformat": 4,
 "nbformat_minor": 2
}
