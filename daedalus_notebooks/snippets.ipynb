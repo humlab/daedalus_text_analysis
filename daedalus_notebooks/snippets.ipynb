{
 "cells": [
  {
   "cell_type": "code",
   "execution_count": null,
   "metadata": {},
   "outputs": [],
   "source": [
    "# DEMO: Zoom-Window\n",
    "import numpy as np\n",
    "\n",
    "from bokeh.layouts import row\n",
    "from bokeh.models import ColumnDataSource, CustomJS, Rect\n",
    "from bokeh.plotting import output_notebook, figure, show\n",
    "\n",
    "output_file('range_update_callback.html')\n",
    "\n",
    "N = 4000\n",
    "\n",
    "x = np.random.random(size=N) * 100\n",
    "y = np.random.random(size=N) * 100\n",
    "radii = np.random.random(size=N) * 1.5\n",
    "colors = [\n",
    "    \"#%02x%02x%02x\" % (int(r), int(g), 150) for r, g in zip(50+2*x, 30+2*y)\n",
    "]\n",
    "\n",
    "source = ColumnDataSource({'x': [], 'y': [], 'width': [], 'height': []})\n",
    "\n",
    "jscode=\"\"\"\n",
    "    var data = source.data;\n",
    "    var start = cb_obj.start;\n",
    "    var end = cb_obj.end;\n",
    "    data['%s'] = [start + (end - start) / 2];\n",
    "    data['%s'] = [end - start];\n",
    "    source.change.emit();\n",
    "\"\"\"\n",
    "\n",
    "p1 = figure(title='Pan and Zoom Here', x_range=(0, 100), y_range=(0, 100),\n",
    "            tools='box_zoom,wheel_zoom,pan,reset', plot_width=400, plot_height=400)\n",
    "p1.scatter(x, y, radius=radii, fill_color=colors, fill_alpha=0.6, line_color=None)\n",
    "\n",
    "p1.x_range.callback = CustomJS(\n",
    "        args=dict(source=source), code=jscode % ('x', 'width'))\n",
    "p1.y_range.callback = CustomJS(\n",
    "        args=dict(source=source), code=jscode % ('y', 'height'))\n",
    "\n",
    "p2 = figure(title='See Zoom Window Here', x_range=(0, 100), y_range=(0, 100),\n",
    "            tools='', plot_width=400, plot_height=400)\n",
    "p2.scatter(x, y, radius=radii, fill_color=colors, fill_alpha=0.6, line_color=None)\n",
    "rect = Rect(x='x', y='y', width='width', height='height', fill_alpha=0.1,\n",
    "            line_color='black', fill_color='black')\n",
    "p2.add_glyph(source, rect)\n",
    "\n",
    "layout = row(p1, p2)\n",
    "\n",
    "show(layout)"
   ]
  },
  {
   "cell_type": "code",
   "execution_count": 9,
   "metadata": {},
   "outputs": [
    {
     "data": {
      "text/plain": [
       "{'a': 9, 'b': 2, 'c': 0}"
      ]
     },
     "execution_count": 9,
     "metadata": {},
     "output_type": "execute_result"
    }
   ],
   "source": [
    "extend = lambda a,b: a.update(b) or a\n",
    "\n",
    "dict_extend(dict(a=1,b=2), dict(a=9,c=0))"
   ]
  },
  {
   "cell_type": "code",
   "execution_count": 1,
   "metadata": {},
   "outputs": [
    {
     "ename": "ImportError",
     "evalue": "No module named 'bokeh.charts'",
     "output_type": "error",
     "traceback": [
      "\u001b[0;31m---------------------------------------------------------------------------\u001b[0m",
      "\u001b[0;31mImportError\u001b[0m                               Traceback (most recent call last)",
      "\u001b[0;32m<ipython-input-1-640e7603c05b>\u001b[0m in \u001b[0;36m<module>\u001b[0;34m()\u001b[0m\n\u001b[1;32m      1\u001b[0m \u001b[0;32mimport\u001b[0m \u001b[0mpandas\u001b[0m \u001b[0;32mas\u001b[0m \u001b[0mpd\u001b[0m\u001b[0;34m\u001b[0m\u001b[0m\n\u001b[0;32m----> 2\u001b[0;31m \u001b[0;32mfrom\u001b[0m \u001b[0mbokeh\u001b[0m\u001b[0;34m.\u001b[0m\u001b[0mcharts\u001b[0m \u001b[0;32mimport\u001b[0m \u001b[0moutput_file\u001b[0m\u001b[0;34m,\u001b[0m \u001b[0mChord\u001b[0m\u001b[0;34m\u001b[0m\u001b[0m\n\u001b[0m\u001b[1;32m      3\u001b[0m \u001b[0;32mfrom\u001b[0m \u001b[0mbokeh\u001b[0m\u001b[0;34m.\u001b[0m\u001b[0mio\u001b[0m \u001b[0;32mimport\u001b[0m \u001b[0mshow\u001b[0m\u001b[0;34m\u001b[0m\u001b[0m\n\u001b[1;32m      4\u001b[0m \u001b[0;32mfrom\u001b[0m \u001b[0mbokeh\u001b[0m\u001b[0;34m.\u001b[0m\u001b[0msampledata\u001b[0m\u001b[0;34m.\u001b[0m\u001b[0mles_mis\u001b[0m \u001b[0;32mimport\u001b[0m \u001b[0mdata\u001b[0m\u001b[0;34m\u001b[0m\u001b[0m\n\u001b[1;32m      5\u001b[0m \u001b[0;34m\u001b[0m\u001b[0m\n",
      "\u001b[0;31mImportError\u001b[0m: No module named 'bokeh.charts'"
     ]
    }
   ],
   "source": [
    "import pandas as pd\n",
    "from bokeh.charts import output_file, Chord\n",
    "from bokeh.io import show\n",
    "from bokeh.sampledata.les_mis import data\n",
    " \n",
    "nodes = data['nodes']\n",
    "links = data['links']\n",
    " \n",
    "nodes_df = pd.DataFrame(nodes)\n",
    "links_df = pd.DataFrame(links)\n",
    " \n",
    "source_data = links_df.merge(nodes_df, how='left', left_on='source', right_index=True)\n",
    "source_data = source_data.merge(nodes_df, how='left', left_on='target', right_index=True)\n",
    "source_data = source_data[source_data[\"value\"] > 5]\n",
    "source_data\n",
    " \n",
    "chord_from_df = Chord(source_data, source=\"name_x\", target=\"name_y\", value=\"value\")\n",
    "output_file('chord-diagram-bokeh.html', mode=\"inline\")\n",
    "show(chord_from_df)\n"
   ]
  },
  {
   "cell_type": "code",
   "execution_count": null,
   "metadata": {},
   "outputs": [],
   "source": [
    "'''\n",
    "[x1, x2], {y1, y2}, R\n",
    "\n",
    "\n",
    "y = k * x + m\n",
    "\n",
    "R^2 = (y2 - y0)^2 +  (x2 - x0)^2\n",
    "\n",
    "\n",
    "y1 = k * x1 + m\n",
    "y2 = k * x2 + m\n",
    "\n",
    "y2 = k * x2 + y1 - k * x1\n",
    "y2 - y1 = k * x2 - k * x1 = k * (x2 - x1)\n",
    "k = (y2 - y1) / (x2 - x1)\n",
    "m = y1 - k * x1\n",
    "'''\n",
    "def adjust_connector_line(xs, ys,radius):\n",
    "    x1, x2 = xs\n",
    "    y1, y2 = ys\n",
    "    dx, dy = x2 - x1, y2 - y1\n",
    "    length = math.sqrt(dx * dx + dy * dy)\n",
    "    if (length > 0):\n",
    "        dx /= length\n",
    "        dy /= length\n",
    "    dx *= radius #length - radius\n",
    "    dy *= radius #length - radius\n",
    "    return [x1 + dx, x2 - dx], [y1 + dy, y2 - dy]"
   ]
  },
  {
   "cell_type": "code",
   "execution_count": null,
   "metadata": {},
   "outputs": [],
   "source": [
    "\n",
    "\n",
    "import numpy as np\n",
    "\n",
    "from bokeh.plotting import output_file, figure, show\n",
    "from bokeh.layouts import row\n",
    "from bokeh.models import ColumnDataSource, CustomJS, Rect\n",
    "\n",
    "output_file('range_update_callback.html')\n",
    "\n",
    "N = 4000\n",
    "\n",
    "x = np.random.random(size=N) * 100\n",
    "y = np.random.random(size=N) * 100\n",
    "radii = np.random.random(size=N) * 1.5\n",
    "colors = [\"#%02x%02x%02x\" % (int(r), int(g), 150) for r, g in zip(np.floor(50+2*x), np.floor(30+2*y))]\n",
    "\n",
    "source = ColumnDataSource({'x': [], 'y': [], 'width': [], 'height': []})\n",
    "\n",
    "jscode=\"\"\"\n",
    "        var data = source.get('data');\n",
    "        var start = range.get('start');\n",
    "        var end = range.get('end');\n",
    "        data['%s'] = [start + (end - start) / 2];\n",
    "        data['%s'] = [end - start];\n",
    "        source.trigger('change');\n",
    "    \"\"\"\n",
    "\n",
    "p1 = figure(title='Pan and Zoom Here', x_range=(0, 100), y_range=(0, 100),\n",
    "            tools='box_zoom,wheel_zoom,pan,reset', plot_width=400, plot_height=400)\n",
    "p1.scatter(x, y, radius=radii, fill_color=colors, fill_alpha=0.6, line_color=None)\n",
    "\n",
    "p1.x_range.callback = CustomJS(\n",
    "        args=dict(source=source, range=p1.x_range), code=jscode % ('x', 'width'))\n",
    "\n",
    "p1.y_range.callback = CustomJS(\n",
    "        args=dict(source=source, range=p1.y_range), code=jscode % ('y', 'height'))\n",
    "\n",
    "p2 = figure(title='See Zoom Window Here', x_range=(0, 100), y_range=(0, 100),\n",
    "            tools='', plot_width=400, plot_height=400)\n",
    "p2.scatter(x, y, radius=radii, fill_color=colors, fill_alpha=0.6, line_color=None)\n",
    "rect = Rect(x='x', y='y', width='width', height='height', fill_alpha=0.1,\n",
    "            line_color='black', fill_color='black')\n",
    "p2.add_glyph(source, rect)\n",
    "\n",
    "show(row(p1,p2))\n",
    "\n"
   ]
  },
  {
   "cell_type": "code",
   "execution_count": null,
   "metadata": {},
   "outputs": [],
   "source": []
  }
 ],
 "metadata": {
  "kernelspec": {
   "display_name": "Python 3",
   "language": "python",
   "name": "python3"
  },
  "language_info": {
   "codemirror_mode": {
    "name": "ipython",
    "version": 3
   },
   "file_extension": ".py",
   "mimetype": "text/x-python",
   "name": "python",
   "nbconvert_exporter": "python",
   "pygments_lexer": "ipython3",
   "version": "3.5.3"
  }
 },
 "nbformat": 4,
 "nbformat_minor": 2
}
