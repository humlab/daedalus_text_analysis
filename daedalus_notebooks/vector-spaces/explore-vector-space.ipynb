{
 "cells": [
  {
   "cell_type": "markdown",
   "metadata": {},
   "source": [
    "# Explore Daedalus Word Vector Space Models\n",
    "The first three lines in the first cell runs code found in utility scripts which reside in the same folder as the notebook.\n",
    "The remaining lines imports dependent libraries and sets up the notebook."
   ]
  },
  {
   "cell_type": "code",
   "execution_count": 4,
   "metadata": {},
   "outputs": [],
   "source": [
    "%run ./utility\n",
    "%run ./model_utility\n",
    "%run ./bokeh_plot_utility"
   ]
  },
  {
   "cell_type": "code",
   "execution_count": 5,
   "metadata": {},
   "outputs": [],
   "source": [
    "from __future__ import print_function\n",
    "from ipywidgets import interact, interactive, fixed, interact_manual\n",
    "import ipywidgets as widgets\n",
    "\n",
    "import bokeh; bokeh.__version__\n",
    "from bokeh.plotting import show, output_notebook, output_file"
   ]
  },
  {
   "cell_type": "code",
   "execution_count": 6,
   "metadata": {
    "scrolled": true
   },
   "outputs": [
    {
     "data": {
      "text/html": [
       "\n",
       "    <div class=\"bk-root\">\n",
       "        <a href=\"https://bokeh.pydata.org\" target=\"_blank\" class=\"bk-logo bk-logo-small bk-logo-notebook\"></a>\n",
       "        <span id=\"99b2540d-e4eb-4b72-a4b6-4e36802aa8ac\">Loading BokehJS ...</span>\n",
       "    </div>"
      ]
     },
     "metadata": {},
     "output_type": "display_data"
    },
    {
     "data": {
      "application/javascript": [
       "\n",
       "(function(root) {\n",
       "  function now() {\n",
       "    return new Date();\n",
       "  }\n",
       "\n",
       "  var force = true;\n",
       "\n",
       "  if (typeof (root._bokeh_onload_callbacks) === \"undefined\" || force === true) {\n",
       "    root._bokeh_onload_callbacks = [];\n",
       "    root._bokeh_is_loading = undefined;\n",
       "  }\n",
       "\n",
       "  var JS_MIME_TYPE = 'application/javascript';\n",
       "  var HTML_MIME_TYPE = 'text/html';\n",
       "  var EXEC_MIME_TYPE = 'application/vnd.bokehjs_exec.v0+json';\n",
       "  var CLASS_NAME = 'output_bokeh rendered_html';\n",
       "\n",
       "  /**\n",
       "   * Render data to the DOM node\n",
       "   */\n",
       "  function render(props, node) {\n",
       "    var script = document.createElement(\"script\");\n",
       "    node.appendChild(script);\n",
       "  }\n",
       "\n",
       "  /**\n",
       "   * Handle when an output is cleared or removed\n",
       "   */\n",
       "  function handleClearOutput(event, handle) {\n",
       "    var cell = handle.cell;\n",
       "\n",
       "    var id = cell.output_area._bokeh_element_id;\n",
       "    var server_id = cell.output_area._bokeh_server_id;\n",
       "    // Clean up Bokeh references\n",
       "    if (id !== undefined) {\n",
       "      Bokeh.index[id].model.document.clear();\n",
       "      delete Bokeh.index[id];\n",
       "    }\n",
       "\n",
       "    if (server_id !== undefined) {\n",
       "      // Clean up Bokeh references\n",
       "      var cmd = \"from bokeh.io.state import curstate; print(curstate().uuid_to_server['\" + server_id + \"'].get_sessions()[0].document.roots[0]._id)\";\n",
       "      cell.notebook.kernel.execute(cmd, {\n",
       "        iopub: {\n",
       "          output: function(msg) {\n",
       "            var element_id = msg.content.text.trim();\n",
       "            Bokeh.index[element_id].model.document.clear();\n",
       "            delete Bokeh.index[element_id];\n",
       "          }\n",
       "        }\n",
       "      });\n",
       "      // Destroy server and session\n",
       "      var cmd = \"import bokeh.io.notebook as ion; ion.destroy_server('\" + server_id + \"')\";\n",
       "      cell.notebook.kernel.execute(cmd);\n",
       "    }\n",
       "  }\n",
       "\n",
       "  /**\n",
       "   * Handle when a new output is added\n",
       "   */\n",
       "  function handleAddOutput(event, handle) {\n",
       "    var output_area = handle.output_area;\n",
       "    var output = handle.output;\n",
       "\n",
       "    // limit handleAddOutput to display_data with EXEC_MIME_TYPE content only\n",
       "    if ((output.output_type != \"display_data\") || (!output.data.hasOwnProperty(EXEC_MIME_TYPE))) {\n",
       "      return\n",
       "    }\n",
       "\n",
       "    var toinsert = output_area.element.find(\".\" + CLASS_NAME.split(' ')[0]);\n",
       "\n",
       "    if (output.metadata[EXEC_MIME_TYPE][\"id\"] !== undefined) {\n",
       "      toinsert[0].firstChild.textContent = output.data[JS_MIME_TYPE];\n",
       "      // store reference to embed id on output_area\n",
       "      output_area._bokeh_element_id = output.metadata[EXEC_MIME_TYPE][\"id\"];\n",
       "    }\n",
       "    if (output.metadata[EXEC_MIME_TYPE][\"server_id\"] !== undefined) {\n",
       "      var bk_div = document.createElement(\"div\");\n",
       "      bk_div.innerHTML = output.data[HTML_MIME_TYPE];\n",
       "      var script_attrs = bk_div.children[0].attributes;\n",
       "      for (var i = 0; i < script_attrs.length; i++) {\n",
       "        toinsert[0].firstChild.setAttribute(script_attrs[i].name, script_attrs[i].value);\n",
       "      }\n",
       "      // store reference to server id on output_area\n",
       "      output_area._bokeh_server_id = output.metadata[EXEC_MIME_TYPE][\"server_id\"];\n",
       "    }\n",
       "  }\n",
       "\n",
       "  function register_renderer(events, OutputArea) {\n",
       "\n",
       "    function append_mime(data, metadata, element) {\n",
       "      // create a DOM node to render to\n",
       "      var toinsert = this.create_output_subarea(\n",
       "        metadata,\n",
       "        CLASS_NAME,\n",
       "        EXEC_MIME_TYPE\n",
       "      );\n",
       "      this.keyboard_manager.register_events(toinsert);\n",
       "      // Render to node\n",
       "      var props = {data: data, metadata: metadata[EXEC_MIME_TYPE]};\n",
       "      render(props, toinsert[0]);\n",
       "      element.append(toinsert);\n",
       "      return toinsert\n",
       "    }\n",
       "\n",
       "    /* Handle when an output is cleared or removed */\n",
       "    events.on('clear_output.CodeCell', handleClearOutput);\n",
       "    events.on('delete.Cell', handleClearOutput);\n",
       "\n",
       "    /* Handle when a new output is added */\n",
       "    events.on('output_added.OutputArea', handleAddOutput);\n",
       "\n",
       "    /**\n",
       "     * Register the mime type and append_mime function with output_area\n",
       "     */\n",
       "    OutputArea.prototype.register_mime_type(EXEC_MIME_TYPE, append_mime, {\n",
       "      /* Is output safe? */\n",
       "      safe: true,\n",
       "      /* Index of renderer in `output_area.display_order` */\n",
       "      index: 0\n",
       "    });\n",
       "  }\n",
       "\n",
       "  // register the mime type if in Jupyter Notebook environment and previously unregistered\n",
       "  if (root.Jupyter !== undefined) {\n",
       "    var events = require('base/js/events');\n",
       "    var OutputArea = require('notebook/js/outputarea').OutputArea;\n",
       "\n",
       "    if (OutputArea.prototype.mime_types().indexOf(EXEC_MIME_TYPE) == -1) {\n",
       "      register_renderer(events, OutputArea);\n",
       "    }\n",
       "  }\n",
       "\n",
       "  \n",
       "  if (typeof (root._bokeh_timeout) === \"undefined\" || force === true) {\n",
       "    root._bokeh_timeout = Date.now() + 5000;\n",
       "    root._bokeh_failed_load = false;\n",
       "  }\n",
       "\n",
       "  var NB_LOAD_WARNING = {'data': {'text/html':\n",
       "     \"<div style='background-color: #fdd'>\\n\"+\n",
       "     \"<p>\\n\"+\n",
       "     \"BokehJS does not appear to have successfully loaded. If loading BokehJS from CDN, this \\n\"+\n",
       "     \"may be due to a slow or bad network connection. Possible fixes:\\n\"+\n",
       "     \"</p>\\n\"+\n",
       "     \"<ul>\\n\"+\n",
       "     \"<li>re-rerun `output_notebook()` to attempt to load from CDN again, or</li>\\n\"+\n",
       "     \"<li>use INLINE resources instead, as so:</li>\\n\"+\n",
       "     \"</ul>\\n\"+\n",
       "     \"<code>\\n\"+\n",
       "     \"from bokeh.resources import INLINE\\n\"+\n",
       "     \"output_notebook(resources=INLINE)\\n\"+\n",
       "     \"</code>\\n\"+\n",
       "     \"</div>\"}};\n",
       "\n",
       "  function display_loaded() {\n",
       "    var el = document.getElementById(\"99b2540d-e4eb-4b72-a4b6-4e36802aa8ac\");\n",
       "    if (el != null) {\n",
       "      el.textContent = \"BokehJS is loading...\";\n",
       "    }\n",
       "    if (root.Bokeh !== undefined) {\n",
       "      if (el != null) {\n",
       "        el.textContent = \"BokehJS \" + root.Bokeh.version + \" successfully loaded.\";\n",
       "      }\n",
       "    } else if (Date.now() < root._bokeh_timeout) {\n",
       "      setTimeout(display_loaded, 100)\n",
       "    }\n",
       "  }\n",
       "\n",
       "\n",
       "  function run_callbacks() {\n",
       "    try {\n",
       "      root._bokeh_onload_callbacks.forEach(function(callback) { callback() });\n",
       "    }\n",
       "    finally {\n",
       "      delete root._bokeh_onload_callbacks\n",
       "    }\n",
       "    console.info(\"Bokeh: all callbacks have finished\");\n",
       "  }\n",
       "\n",
       "  function load_libs(js_urls, callback) {\n",
       "    root._bokeh_onload_callbacks.push(callback);\n",
       "    if (root._bokeh_is_loading > 0) {\n",
       "      console.log(\"Bokeh: BokehJS is being loaded, scheduling callback at\", now());\n",
       "      return null;\n",
       "    }\n",
       "    if (js_urls == null || js_urls.length === 0) {\n",
       "      run_callbacks();\n",
       "      return null;\n",
       "    }\n",
       "    console.log(\"Bokeh: BokehJS not loaded, scheduling load and callback at\", now());\n",
       "    root._bokeh_is_loading = js_urls.length;\n",
       "    for (var i = 0; i < js_urls.length; i++) {\n",
       "      var url = js_urls[i];\n",
       "      var s = document.createElement('script');\n",
       "      s.src = url;\n",
       "      s.async = false;\n",
       "      s.onreadystatechange = s.onload = function() {\n",
       "        root._bokeh_is_loading--;\n",
       "        if (root._bokeh_is_loading === 0) {\n",
       "          console.log(\"Bokeh: all BokehJS libraries loaded\");\n",
       "          run_callbacks()\n",
       "        }\n",
       "      };\n",
       "      s.onerror = function() {\n",
       "        console.warn(\"failed to load library \" + url);\n",
       "      };\n",
       "      console.log(\"Bokeh: injecting script tag for BokehJS library: \", url);\n",
       "      document.getElementsByTagName(\"head\")[0].appendChild(s);\n",
       "    }\n",
       "  };var element = document.getElementById(\"99b2540d-e4eb-4b72-a4b6-4e36802aa8ac\");\n",
       "  if (element == null) {\n",
       "    console.log(\"Bokeh: ERROR: autoload.js configured with elementid '99b2540d-e4eb-4b72-a4b6-4e36802aa8ac' but no matching script tag was found. \")\n",
       "    return false;\n",
       "  }\n",
       "\n",
       "  var js_urls = [\"https://cdn.pydata.org/bokeh/release/bokeh-0.12.13.min.js\", \"https://cdn.pydata.org/bokeh/release/bokeh-widgets-0.12.13.min.js\", \"https://cdn.pydata.org/bokeh/release/bokeh-tables-0.12.13.min.js\", \"https://cdn.pydata.org/bokeh/release/bokeh-gl-0.12.13.min.js\"];\n",
       "\n",
       "  var inline_js = [\n",
       "    function(Bokeh) {\n",
       "      Bokeh.set_log_level(\"info\");\n",
       "    },\n",
       "    \n",
       "    function(Bokeh) {\n",
       "      \n",
       "    },\n",
       "    function(Bokeh) {\n",
       "      console.log(\"Bokeh: injecting CSS: https://cdn.pydata.org/bokeh/release/bokeh-0.12.13.min.css\");\n",
       "      Bokeh.embed.inject_css(\"https://cdn.pydata.org/bokeh/release/bokeh-0.12.13.min.css\");\n",
       "      console.log(\"Bokeh: injecting CSS: https://cdn.pydata.org/bokeh/release/bokeh-widgets-0.12.13.min.css\");\n",
       "      Bokeh.embed.inject_css(\"https://cdn.pydata.org/bokeh/release/bokeh-widgets-0.12.13.min.css\");\n",
       "      console.log(\"Bokeh: injecting CSS: https://cdn.pydata.org/bokeh/release/bokeh-tables-0.12.13.min.css\");\n",
       "      Bokeh.embed.inject_css(\"https://cdn.pydata.org/bokeh/release/bokeh-tables-0.12.13.min.css\");\n",
       "    }\n",
       "  ];\n",
       "\n",
       "  function run_inline_js() {\n",
       "    \n",
       "    if ((root.Bokeh !== undefined) || (force === true)) {\n",
       "      for (var i = 0; i < inline_js.length; i++) {\n",
       "        inline_js[i].call(root, root.Bokeh);\n",
       "      }if (force === true) {\n",
       "        display_loaded();\n",
       "      }} else if (Date.now() < root._bokeh_timeout) {\n",
       "      setTimeout(run_inline_js, 100);\n",
       "    } else if (!root._bokeh_failed_load) {\n",
       "      console.log(\"Bokeh: BokehJS failed to load within specified timeout.\");\n",
       "      root._bokeh_failed_load = true;\n",
       "    } else if (force !== true) {\n",
       "      var cell = $(document.getElementById(\"99b2540d-e4eb-4b72-a4b6-4e36802aa8ac\")).parents('.cell').data().cell;\n",
       "      cell.output_area.append_execute_result(NB_LOAD_WARNING)\n",
       "    }\n",
       "\n",
       "  }\n",
       "\n",
       "  if (root._bokeh_is_loading === 0) {\n",
       "    console.log(\"Bokeh: BokehJS loaded, going straight to plotting\");\n",
       "    run_inline_js();\n",
       "  } else {\n",
       "    load_libs(js_urls, function() {\n",
       "      console.log(\"Bokeh: BokehJS plotting callback run at\", now());\n",
       "      run_inline_js();\n",
       "    });\n",
       "  }\n",
       "}(window));"
      ],
      "application/vnd.bokehjs_load.v0+json": "\n(function(root) {\n  function now() {\n    return new Date();\n  }\n\n  var force = true;\n\n  if (typeof (root._bokeh_onload_callbacks) === \"undefined\" || force === true) {\n    root._bokeh_onload_callbacks = [];\n    root._bokeh_is_loading = undefined;\n  }\n\n  \n\n  \n  if (typeof (root._bokeh_timeout) === \"undefined\" || force === true) {\n    root._bokeh_timeout = Date.now() + 5000;\n    root._bokeh_failed_load = false;\n  }\n\n  var NB_LOAD_WARNING = {'data': {'text/html':\n     \"<div style='background-color: #fdd'>\\n\"+\n     \"<p>\\n\"+\n     \"BokehJS does not appear to have successfully loaded. If loading BokehJS from CDN, this \\n\"+\n     \"may be due to a slow or bad network connection. Possible fixes:\\n\"+\n     \"</p>\\n\"+\n     \"<ul>\\n\"+\n     \"<li>re-rerun `output_notebook()` to attempt to load from CDN again, or</li>\\n\"+\n     \"<li>use INLINE resources instead, as so:</li>\\n\"+\n     \"</ul>\\n\"+\n     \"<code>\\n\"+\n     \"from bokeh.resources import INLINE\\n\"+\n     \"output_notebook(resources=INLINE)\\n\"+\n     \"</code>\\n\"+\n     \"</div>\"}};\n\n  function display_loaded() {\n    var el = document.getElementById(\"99b2540d-e4eb-4b72-a4b6-4e36802aa8ac\");\n    if (el != null) {\n      el.textContent = \"BokehJS is loading...\";\n    }\n    if (root.Bokeh !== undefined) {\n      if (el != null) {\n        el.textContent = \"BokehJS \" + root.Bokeh.version + \" successfully loaded.\";\n      }\n    } else if (Date.now() < root._bokeh_timeout) {\n      setTimeout(display_loaded, 100)\n    }\n  }\n\n\n  function run_callbacks() {\n    try {\n      root._bokeh_onload_callbacks.forEach(function(callback) { callback() });\n    }\n    finally {\n      delete root._bokeh_onload_callbacks\n    }\n    console.info(\"Bokeh: all callbacks have finished\");\n  }\n\n  function load_libs(js_urls, callback) {\n    root._bokeh_onload_callbacks.push(callback);\n    if (root._bokeh_is_loading > 0) {\n      console.log(\"Bokeh: BokehJS is being loaded, scheduling callback at\", now());\n      return null;\n    }\n    if (js_urls == null || js_urls.length === 0) {\n      run_callbacks();\n      return null;\n    }\n    console.log(\"Bokeh: BokehJS not loaded, scheduling load and callback at\", now());\n    root._bokeh_is_loading = js_urls.length;\n    for (var i = 0; i < js_urls.length; i++) {\n      var url = js_urls[i];\n      var s = document.createElement('script');\n      s.src = url;\n      s.async = false;\n      s.onreadystatechange = s.onload = function() {\n        root._bokeh_is_loading--;\n        if (root._bokeh_is_loading === 0) {\n          console.log(\"Bokeh: all BokehJS libraries loaded\");\n          run_callbacks()\n        }\n      };\n      s.onerror = function() {\n        console.warn(\"failed to load library \" + url);\n      };\n      console.log(\"Bokeh: injecting script tag for BokehJS library: \", url);\n      document.getElementsByTagName(\"head\")[0].appendChild(s);\n    }\n  };var element = document.getElementById(\"99b2540d-e4eb-4b72-a4b6-4e36802aa8ac\");\n  if (element == null) {\n    console.log(\"Bokeh: ERROR: autoload.js configured with elementid '99b2540d-e4eb-4b72-a4b6-4e36802aa8ac' but no matching script tag was found. \")\n    return false;\n  }\n\n  var js_urls = [\"https://cdn.pydata.org/bokeh/release/bokeh-0.12.13.min.js\", \"https://cdn.pydata.org/bokeh/release/bokeh-widgets-0.12.13.min.js\", \"https://cdn.pydata.org/bokeh/release/bokeh-tables-0.12.13.min.js\", \"https://cdn.pydata.org/bokeh/release/bokeh-gl-0.12.13.min.js\"];\n\n  var inline_js = [\n    function(Bokeh) {\n      Bokeh.set_log_level(\"info\");\n    },\n    \n    function(Bokeh) {\n      \n    },\n    function(Bokeh) {\n      console.log(\"Bokeh: injecting CSS: https://cdn.pydata.org/bokeh/release/bokeh-0.12.13.min.css\");\n      Bokeh.embed.inject_css(\"https://cdn.pydata.org/bokeh/release/bokeh-0.12.13.min.css\");\n      console.log(\"Bokeh: injecting CSS: https://cdn.pydata.org/bokeh/release/bokeh-widgets-0.12.13.min.css\");\n      Bokeh.embed.inject_css(\"https://cdn.pydata.org/bokeh/release/bokeh-widgets-0.12.13.min.css\");\n      console.log(\"Bokeh: injecting CSS: https://cdn.pydata.org/bokeh/release/bokeh-tables-0.12.13.min.css\");\n      Bokeh.embed.inject_css(\"https://cdn.pydata.org/bokeh/release/bokeh-tables-0.12.13.min.css\");\n    }\n  ];\n\n  function run_inline_js() {\n    \n    if ((root.Bokeh !== undefined) || (force === true)) {\n      for (var i = 0; i < inline_js.length; i++) {\n        inline_js[i].call(root, root.Bokeh);\n      }if (force === true) {\n        display_loaded();\n      }} else if (Date.now() < root._bokeh_timeout) {\n      setTimeout(run_inline_js, 100);\n    } else if (!root._bokeh_failed_load) {\n      console.log(\"Bokeh: BokehJS failed to load within specified timeout.\");\n      root._bokeh_failed_load = true;\n    } else if (force !== true) {\n      var cell = $(document.getElementById(\"99b2540d-e4eb-4b72-a4b6-4e36802aa8ac\")).parents('.cell').data().cell;\n      cell.output_area.append_execute_result(NB_LOAD_WARNING)\n    }\n\n  }\n\n  if (root._bokeh_is_loading === 0) {\n    console.log(\"Bokeh: BokehJS loaded, going straight to plotting\");\n    run_inline_js();\n  } else {\n    load_libs(js_urls, function() {\n      console.log(\"Bokeh: BokehJS plotting callback run at\", now());\n      run_inline_js();\n    });\n  }\n}(window));"
     },
     "metadata": {},
     "output_type": "display_data"
    }
   ],
   "source": [
    "\n",
    "output_notebook()\n",
    "\n",
    "# %autosave 120\n",
    "#  %config IPCompleter.greedy=True\n"
   ]
  },
  {
   "cell_type": "code",
   "execution_count": 7,
   "metadata": {},
   "outputs": [
    {
     "data": {
      "application/javascript": [
       "IPython.OutputArea.prototype._should_scroll = function(lines) {\n",
       "    return false;\n",
       "}"
      ],
      "text/plain": [
       "<IPython.core.display.Javascript object>"
      ]
     },
     "metadata": {},
     "output_type": "display_data"
    }
   ],
   "source": [
    "%%javascript\n",
    "IPython.OutputArea.prototype._should_scroll = function(lines) {\n",
    "    return false;\n",
    "}"
   ]
  },
  {
   "cell_type": "markdown",
   "metadata": {},
   "source": [
    "Avaliable vector space models are stored in subfolder./data and **get_model_names** retrives the filenames of all dat-files. Function **load_model_vector** returns avaliable models stored in ./data sub-folder. New models can be added simpy by uploading them to **~/notebooks/VaticanTexts/data** (with for instance WinSCP). The function **load_model_vector** loads a specific model as an instance of gensims Word2Vec model class.\n",
    "\n",
    "Remember to re-run all dependens cells (use **run** button or **shift-enter**) after a new model is loaded. There is no automatic execution of sub-sequent cells enables."
   ]
  },
  {
   "cell_type": "code",
   "execution_count": 8,
   "metadata": {
    "scrolled": true
   },
   "outputs": [
    {
     "data": {
      "application/vnd.jupyter.widget-view+json": {
       "model_id": "78a7ca09a84646e08485f0b1bca83674",
       "version_major": 2,
       "version_minor": 0
      },
      "text/html": [
       "<p>Failed to display Jupyter Widget of type <code>interactive</code>.</p>\n",
       "<p>\n",
       "  If you're reading this message in the Jupyter Notebook or JupyterLab Notebook, it may mean\n",
       "  that the widgets JavaScript is still loading. If this message persists, it\n",
       "  likely means that the widgets JavaScript library is either not installed or\n",
       "  not enabled. See the <a href=\"https://ipywidgets.readthedocs.io/en/stable/user_install.html\">Jupyter\n",
       "  Widgets Documentation</a> for setup instructions.\n",
       "</p>\n",
       "<p>\n",
       "  If you're reading this message in another frontend (for example, a static\n",
       "  rendering on GitHub or <a href=\"https://nbviewer.jupyter.org/\">NBViewer</a>),\n",
       "  it may mean that your frontend doesn't currently support widgets.\n",
       "</p>\n"
      ],
      "text/plain": [
       "interactive(children=(Dropdown(description='model_filename', options=('w2v_model_skip_gram_win_5_dim_100_iter_20_mc_5_benedict-xvi_no_stopwords_bigrams.dat', 'w2v_model_skip_gram_win_5_dim_100_iter_20_mc_5_benedict-xvi_no_stopwords_bigramsspeeches.dat', 'w2v_model_skip_gram_win_5_dim_50_iter_20_mc_5_benedict-xvi_no_stopwords_bigramsspeeches.dat', 'w2v_model_skip_gram_win_5_dim_100_iter_20_mc_5_francesco.dat', 'w2v_model_skip_gram_win_5_dim_100_iter_20_mc_5_benedict-xvi.dat', 'w2v_model_skip_gram_win_5_dim_100_iter_20_mc_5_francesco_no_stopwords_bigramsspeeches.dat', 'w2v_model_skip_gram_win_5_dim_100_iter_20_mc_5_francesco_no_stopwords_bigrams.dat', 'w2v_model_skip_gram_win_5_dim_50_iter_20_mc_5_francesco_no_stopwords_bigramsspeeches.dat', 'w2v_model_skip_gram_win_5_dim_100_iter_20_mc_5_benedict-xvi+francesco.dat'), value='w2v_model_skip_gram_win_5_dim_100_iter_20_mc_5_benedict-xvi_no_stopwords_bigrams.dat'), Output()), _dom_classes=('widget-interact',))"
      ]
     },
     "metadata": {},
     "output_type": "display_data"
    }
   ],
   "source": [
    "word_vectors = None\n",
    "@interact(model_filename=ModelUtility.get_model_names('./data'))\n",
    "def load_model(model_filename):\n",
    "    global word_vectors\n",
    "    word_vectors = ModelUtility.load_model_vector(os.path.join('./data', model_filename))\n",
    "    print('Model {} loaded...'.format(model_filename))"
   ]
  },
  {
   "cell_type": "markdown",
   "metadata": {},
   "source": [
    "### Word vector expression examples\n",
    "The **compute_most_similar_expression** function in ModelUtility parses a string of words each (optionally) prefixed with a plus or minus sign. The extracted \"positive\" and \"negative\" words are then used as arguments to gensims **most_similar** function, which, using numeric vector operations (add and subtract) finds the words most similar (cosine similarity) to the resulting."
   ]
  },
  {
   "cell_type": "code",
   "execution_count": 17,
   "metadata": {
    "scrolled": true
   },
   "outputs": [
    {
     "data": {
      "text/plain": [
       "[('woman', 0.7157337069511414),\n",
       " ('creature', 0.5413386225700378),\n",
       " ('person', 0.5249775648117065),\n",
       " ('drunken', 0.4849020838737488),\n",
       " ('maiden', 0.4841741621494293),\n",
       " ('child', 0.4810275435447693),\n",
       " ('canaanite', 0.4793747663497925),\n",
       " ('prophetess', 0.4675884246826172),\n",
       " ('son', 0.4525896906852722),\n",
       " ('man-god', 0.45154744386672974)]"
      ]
     },
     "execution_count": 17,
     "metadata": {},
     "output_type": "execute_result"
    }
   ],
   "source": [
    "w2vcompute = ModelUtility.compute_most_similar_expression\n",
    "\n",
    "w2vcompute(word_vectors, \"man - boy + girl\")[:10]"
   ]
  },
  {
   "cell_type": "code",
   "execution_count": 18,
   "metadata": {
    "scrolled": true
   },
   "outputs": [
    {
     "data": {
      "text/plain": [
       "[('flung', 0.550287127494812),\n",
       " ('abyss', 0.5427220463752747),\n",
       " ('heavens', 0.5331960916519165),\n",
       " ('fury', 0.5196661949157715),\n",
       " ('curtain', 0.5175411105155945),\n",
       " ('sin', 0.5130163431167603),\n",
       " ('clings', 0.5093719959259033),\n",
       " ('tempter', 0.5081292390823364),\n",
       " ('death', 0.499502032995224),\n",
       " ('underworld', 0.49372774362564087)]"
      ]
     },
     "execution_count": 18,
     "metadata": {},
     "output_type": "execute_result"
    }
   ],
   "source": [
    "w2vcompute(word_vectors, \"heaven - good + evil\")[:10]\n",
    "\n",
    "word_vectors.most_similar(positive=['heaven', 'evil'], negative=['good'])\n"
   ]
  },
  {
   "cell_type": "code",
   "execution_count": 19,
   "metadata": {
    "scrolled": true
   },
   "outputs": [
    {
     "data": {
      "text/plain": [
       "[('crucified', 0.5988434553146362),\n",
       " ('death', 0.5572134852409363),\n",
       " ('risen', 0.5409574508666992)]"
      ]
     },
     "execution_count": 19,
     "metadata": {},
     "output_type": "execute_result"
    }
   ],
   "source": [
    "w2vcompute(word_vectors, \"christ - good + evil\")[:3]"
   ]
  },
  {
   "cell_type": "code",
   "execution_count": 24,
   "metadata": {
    "scrolled": true
   },
   "outputs": [
    {
     "data": {
      "text/plain": [
       "[('presbyterate', 0.3858250379562378),\n",
       " ('parishes', 0.3382936120033264),\n",
       " ('turin', 0.3314526677131653),\n",
       " ('umbria', 0.32949939370155334),\n",
       " ('diocese', 0.328837513923645),\n",
       " ('local', 0.32045096158981323),\n",
       " ('diocesan', 0.3154292702674866),\n",
       " ('molise', 0.3135276734828949),\n",
       " ('incardinated', 0.30767229199409485),\n",
       " ('naples', 0.3055073320865631)]"
      ]
     },
     "execution_count": 24,
     "metadata": {},
     "output_type": "execute_result"
    }
   ],
   "source": [
    "w2vcompute(word_vectors, \"italy - rome + london\")[:3]\n",
    "\n"
   ]
  },
  {
   "cell_type": "markdown",
   "metadata": {},
   "source": [
    "### Reduce the high-dimensional word vectors to 2D using t-SNE (sklearn)\n",
    "\n",
    "t-SNE transforms a set of coordinates in a high-dimensional vector space (our word vectors) into a \"faithful\" representation in a lower-dimensional space e.g. 3D-space or a 2D-plane. The algorithm was introduced in 2008 by van der Maaten and Hinton [\\[1\\]](http://www.jmlr.org/papers/volume9/vandermaaten08a/vandermaaten08a.pdf). t-SNE (tries to) preserves *local distances* when coordinates are transformes to lower dimensions (i.e preserves clusters).\n",
    "Things to consider:\n",
    "1. What is the impact of reducing *only a subset* of the coordinates (compares to reducing the entire vocabulary)? That is, if we are intresested in a subset of words, we can 1) reduce the entire vocabulary or 2) only reduce the subset (for speed). \n",
    "2. t-SNE has a “perplexity” parameter which effects the local vs global clustering of the data. The perplexity affects the (guessed) distributon of neighbouring points to a given point. It is important to try different values for this parameter."
   ]
  },
  {
   "cell_type": "code",
   "execution_count": 25,
   "metadata": {
    "scrolled": true
   },
   "outputs": [
    {
     "data": {
      "text/plain": [
       "' \\ntotal_tsne_df = reduce_dimensions(word_vectors, list(word_vectors.vocab.keys()), n_components=2)\\n'"
      ]
     },
     "execution_count": 25,
     "metadata": {},
     "output_type": "execute_result"
    }
   ],
   "source": [
    "# dimensionality reduction - selected word vectors are converted to 2d vectors\n",
    "def reduce_dimensions(word_vectors, words_of_interest=None, n_components=2, perplexity=30):\n",
    "    from sklearn.manifold import TSNE\n",
    "\n",
    "    vectors = word_vectors if words_of_interest is None else [word_vectors[w] for w in words_of_interest]\n",
    "\n",
    "    tsne_model = TSNE(n_components=n_components, perplexity=perplexity, verbose=0, random_state=0)\n",
    "    tsne_w2v = tsne_model.fit_transform(vectors)\n",
    "\n",
    "    # put everything in a dataframe\n",
    "    tsne_df = pd.DataFrame(tsne_w2v, columns=['x', 'y'])\n",
    "    tsne_df['words'] = words_of_interest\n",
    "    return tsne_df\n",
    "\n",
    "''' \n",
    "total_tsne_df = reduce_dimensions(word_vectors, list(word_vectors.vocab.keys()), n_components=2)\n",
    "'''"
   ]
  },
  {
   "cell_type": "markdown",
   "metadata": {},
   "source": [
    "Plot top N words with different perplexities:"
   ]
  },
  {
   "cell_type": "code",
   "execution_count": 26,
   "metadata": {
    "scrolled": false
   },
   "outputs": [
    {
     "data": {
      "application/vnd.jupyter.widget-view+json": {
       "model_id": "9af8c657d68b4d9d9a8e5888a12244eb",
       "version_major": 2,
       "version_minor": 0
      },
      "text/html": [
       "<p>Failed to display Jupyter Widget of type <code>interactive</code>.</p>\n",
       "<p>\n",
       "  If you're reading this message in the Jupyter Notebook or JupyterLab Notebook, it may mean\n",
       "  that the widgets JavaScript is still loading. If this message persists, it\n",
       "  likely means that the widgets JavaScript library is either not installed or\n",
       "  not enabled. See the <a href=\"https://ipywidgets.readthedocs.io/en/stable/user_install.html\">Jupyter\n",
       "  Widgets Documentation</a> for setup instructions.\n",
       "</p>\n",
       "<p>\n",
       "  If you're reading this message in another frontend (for example, a static\n",
       "  rendering on GitHub or <a href=\"https://nbviewer.jupyter.org/\">NBViewer</a>),\n",
       "  it may mean that your frontend doesn't currently support widgets.\n",
       "</p>\n"
      ],
      "text/plain": [
       "interactive(children=(IntSlider(value=10, description='w'), IntSlider(value=30, description='perplexity', min=1), Output()), _dom_classes=('widget-interact',))"
      ]
     },
     "metadata": {},
     "output_type": "display_data"
    }
   ],
   "source": [
    "TITLES = { 'title': \"Word vectors reduced to XY using T-SNE\", 'xlabel': 'X-component', 'ylabel': 'Y-component' }\n",
    "@interact(w=(0,100),perplexity=(1,100))\n",
    "def update(w=10,perplexity=30):\n",
    "    global word_vectors\n",
    "    words_of_interest = list(word_vectors.vocab.keys())[:w]\n",
    "    ids_of_interest = [ word_vectors.vocab[x] for x in words_of_interest ]\n",
    "    tsne_df = reduce_dimensions(word_vectors, words_of_interest,perplexity=perplexity)\n",
    "    # tsne_df = total_tsne_df.loc[total_tsne_df.words.isin(words_of_interest)]\n",
    "    p2 = bokeh_scatter_plot_xy_words(tsne_df, line_data=False, **TITLES)\n",
    "    show(p2)\n",
    "    "
   ]
  },
  {
   "cell_type": "markdown",
   "metadata": {},
   "source": [
    "### Plot word pairs"
   ]
  },
  {
   "cell_type": "code",
   "execution_count": 28,
   "metadata": {
    "scrolled": false
   },
   "outputs": [
    {
     "data": {
      "text/html": [
       "\n",
       "<div class=\"bk-root\">\n",
       "    <div class=\"bk-plotdiv\" id=\"38f519e4-f398-419f-b080-49a800175316\"></div>\n",
       "</div>"
      ]
     },
     "metadata": {},
     "output_type": "display_data"
    },
    {
     "data": {
      "application/javascript": [
       "(function(root) {\n",
       "  function embed_document(root) {\n",
       "    \n",
       "  var docs_json = {\"ee624b72-31c2-4763-8646-4b9e3ddb5427\":{\"roots\":{\"references\":[{\"attributes\":{\"data_source\":{\"id\":\"c14c4fe3-8121-4ab7-b925-0fa4fa50e6f9\",\"type\":\"ColumnDataSource\"},\"glyph\":{\"id\":\"fd364f39-7944-4586-9f09-cc06cf6e7fcd\",\"type\":\"Circle\"},\"hover_glyph\":null,\"muted_glyph\":null,\"nonselection_glyph\":{\"id\":\"09a9c272-95ac-4484-86a8-b1b92e3a7d73\",\"type\":\"Circle\"},\"selection_glyph\":null,\"view\":{\"id\":\"cab20057-9f62-4a9f-a7e5-e146137dc261\",\"type\":\"CDSView\"}},\"id\":\"c7443579-2e1f-4b3d-9658-8fe0ffc4a2d9\",\"type\":\"GlyphRenderer\"},{\"attributes\":{\"fill_alpha\":{\"value\":0.1},\"fill_color\":{\"value\":\"#1f77b4\"},\"line_alpha\":{\"value\":0.1},\"line_color\":{\"value\":\"#1f77b4\"},\"size\":{\"units\":\"screen\",\"value\":8},\"x\":{\"field\":\"x\"},\"y\":{\"field\":\"y\"}},\"id\":\"09a9c272-95ac-4484-86a8-b1b92e3a7d73\",\"type\":\"Circle\"},{\"attributes\":{},\"id\":\"1fd5f92f-6ec0-4256-840c-f3c1a15b0db7\",\"type\":\"LinearScale\"},{\"attributes\":{},\"id\":\"e44058be-1e99-4f2f-9eca-b010c3e2c7b9\",\"type\":\"BasicTickFormatter\"},{\"attributes\":{\"overlay\":{\"id\":\"af01db45-93ba-4f5b-9598-c55f41ca92c4\",\"type\":\"BoxAnnotation\"}},\"id\":\"575b843a-0aef-462a-94e5-44d9cd683025\",\"type\":\"BoxZoomTool\"},{\"attributes\":{\"plot\":{\"id\":\"418c308b-43ca-49e3-a46d-41334d09e4d4\",\"subtype\":\"Figure\",\"type\":\"Plot\"},\"ticker\":{\"id\":\"accc4b39-f9b4-4edf-966d-d8b795bac54c\",\"type\":\"BasicTicker\"}},\"id\":\"8f8b28c8-7a1a-4ecd-b27f-f188fefd90ab\",\"type\":\"Grid\"},{\"attributes\":{\"plot\":null,\"text\":\"Word vectors reduced to XY using T-SNE\"},\"id\":\"7ca8382c-e6c5-4b86-848f-5e88adaaa053\",\"type\":\"Title\"},{\"attributes\":{\"fill_alpha\":{\"value\":0.5},\"fill_color\":{\"value\":\"blue\"},\"line_alpha\":{\"value\":0.5},\"line_color\":{\"value\":\"blue\"},\"size\":{\"units\":\"screen\",\"value\":8},\"x\":{\"field\":\"x\"},\"y\":{\"field\":\"y\"}},\"id\":\"fd364f39-7944-4586-9f09-cc06cf6e7fcd\",\"type\":\"Circle\"},{\"attributes\":{\"end\":{\"id\":\"3be77c93-5c34-47ec-9a01-dc66bae5cad0\",\"type\":\"OpenHead\"},\"plot\":{\"id\":\"418c308b-43ca-49e3-a46d-41334d09e4d4\",\"subtype\":\"Figure\",\"type\":\"Plot\"},\"source\":null,\"start\":null,\"x_end\":{\"value\":12.141270637512207},\"x_start\":{\"value\":-169.0209197998047},\"y_end\":{\"value\":374.51702880859375},\"y_start\":{\"value\":193.3751983642578}},\"id\":\"844751b0-6c43-468b-b3ab-262a41d6afc0\",\"type\":\"Arrow\"},{\"attributes\":{\"axis_label\":\"X-component\",\"formatter\":{\"id\":\"e44058be-1e99-4f2f-9eca-b010c3e2c7b9\",\"type\":\"BasicTickFormatter\"},\"plot\":{\"id\":\"418c308b-43ca-49e3-a46d-41334d09e4d4\",\"subtype\":\"Figure\",\"type\":\"Plot\"},\"ticker\":{\"id\":\"accc4b39-f9b4-4edf-966d-d8b795bac54c\",\"type\":\"BasicTicker\"}},\"id\":\"9f31e19d-3a30-44fa-90b2-97329b581d3f\",\"type\":\"LinearAxis\"},{\"attributes\":{},\"id\":\"5065775b-cea6-44a8-8af0-a4e990ec78de\",\"type\":\"SaveTool\"},{\"attributes\":{\"callback\":null,\"column_names\":[\"index\",\"y\",\"x\",\"words\"],\"data\":{\"index\":[0,1,2,3,4,5,6,7,8,9],\"words\":[\"heaven\",\"hell\",\"boy\",\"girl\",\"husband\",\"wife\",\"son\",\"daughter\",\"father\",\"mother\"],\"x\":{\"__ndarray__\":\"WwUpw6VCQkFRE23DaglkwtolqcP+uVdDSOYIQjZgwEO1Pc9CPLmNQw==\",\"dtype\":\"float32\",\"shape\":[10]},\"y\":{\"__ndarray__\":\"DWBBQy5Cu0NNKYTDoliRwiwgij91qSfDh0muw/qqx0Fd/sRCui+RQw==\",\"dtype\":\"float32\",\"shape\":[10]}}},\"id\":\"5b0d503c-9f90-4479-8a78-883ad8c820e5\",\"type\":\"ColumnDataSource\"},{\"attributes\":{},\"id\":\"accc4b39-f9b4-4edf-966d-d8b795bac54c\",\"type\":\"BasicTicker\"},{\"attributes\":{\"axis_label\":\"Y-component\",\"formatter\":{\"id\":\"d63c28e3-fbb0-4100-917f-f7f137fa47d6\",\"type\":\"BasicTickFormatter\"},\"plot\":{\"id\":\"418c308b-43ca-49e3-a46d-41334d09e4d4\",\"subtype\":\"Figure\",\"type\":\"Plot\"},\"ticker\":{\"id\":\"7492f393-c546-451b-b926-fccb4775c736\",\"type\":\"BasicTicker\"}},\"id\":\"7fce1c17-7539-4520-a99a-ddca37dc2132\",\"type\":\"LinearAxis\"},{\"attributes\":{\"level\":\"glyph\",\"plot\":{\"id\":\"418c308b-43ca-49e3-a46d-41334d09e4d4\",\"subtype\":\"Figure\",\"type\":\"Plot\"},\"source\":{\"id\":\"5b0d503c-9f90-4479-8a78-883ad8c820e5\",\"type\":\"ColumnDataSource\"},\"text\":{\"field\":\"words\"},\"text_font_size\":{\"value\":\"9pt\"},\"x\":{\"field\":\"x\"},\"x_offset\":{\"value\":5},\"y\":{\"field\":\"y\"},\"y_offset\":{\"value\":5}},\"id\":\"8e99ef53-4dba-41bd-836e-8fec5a87275c\",\"type\":\"LabelSet\"},{\"attributes\":{\"line_color\":{\"value\":\"firebrick\"},\"plot\":null,\"size\":10},\"id\":\"3be77c93-5c34-47ec-9a01-dc66bae5cad0\",\"type\":\"OpenHead\"},{\"attributes\":{},\"id\":\"7492f393-c546-451b-b926-fccb4775c736\",\"type\":\"BasicTicker\"},{\"attributes\":{},\"id\":\"ade47d04-88f8-463b-b2f5-026ac9f7b9e5\",\"type\":\"LinearScale\"},{\"attributes\":{\"active_drag\":\"auto\",\"active_inspect\":\"auto\",\"active_scroll\":\"auto\",\"active_tap\":\"auto\",\"tools\":[{\"id\":\"8e6c1198-b378-4c9d-afc1-cf49782a6b01\",\"type\":\"PanTool\"},{\"id\":\"f9f54863-44c5-44a7-97fb-71f1fd612f0c\",\"type\":\"WheelZoomTool\"},{\"id\":\"575b843a-0aef-462a-94e5-44d9cd683025\",\"type\":\"BoxZoomTool\"},{\"id\":\"5374a8cc-a671-4d84-89a9-4c26d9705c99\",\"type\":\"ResetTool\"},{\"id\":\"1bee9268-b744-41e0-b25b-96e7e42ea8e6\",\"type\":\"HoverTool\"},{\"id\":\"5065775b-cea6-44a8-8af0-a4e990ec78de\",\"type\":\"SaveTool\"}]},\"id\":\"bc0665a6-6a0b-455d-bcac-d849a080788f\",\"type\":\"Toolbar\"},{\"attributes\":{},\"id\":\"d63c28e3-fbb0-4100-917f-f7f137fa47d6\",\"type\":\"BasicTickFormatter\"},{\"attributes\":{\"dimension\":1,\"plot\":{\"id\":\"418c308b-43ca-49e3-a46d-41334d09e4d4\",\"subtype\":\"Figure\",\"type\":\"Plot\"},\"ticker\":{\"id\":\"7492f393-c546-451b-b926-fccb4775c736\",\"type\":\"BasicTicker\"}},\"id\":\"90e4968a-af27-41c2-ae3e-cdb57e4aa5fa\",\"type\":\"Grid\"},{\"attributes\":{},\"id\":\"f9f54863-44c5-44a7-97fb-71f1fd612f0c\",\"type\":\"WheelZoomTool\"},{\"attributes\":{\"end\":{\"id\":\"3be77c93-5c34-47ec-9a01-dc66bae5cad0\",\"type\":\"OpenHead\"},\"plot\":{\"id\":\"418c308b-43ca-49e3-a46d-41334d09e4d4\",\"subtype\":\"Figure\",\"type\":\"Plot\"},\"source\":null,\"start\":null,\"x_end\":{\"value\":283.4471435546875},\"x_start\":{\"value\":103.62052154541016},\"y_end\":{\"value\":290.37286376953125},\"y_start\":{\"value\":98.4968032836914}},\"id\":\"4b3475ea-0659-4acb-9309-14d796361456\",\"type\":\"Arrow\"},{\"attributes\":{\"callback\":null},\"id\":\"2cff9642-43b6-47c3-aad8-6a45286914c4\",\"type\":\"DataRange1d\"},{\"attributes\":{\"source\":{\"id\":\"c14c4fe3-8121-4ab7-b925-0fa4fa50e6f9\",\"type\":\"ColumnDataSource\"}},\"id\":\"cab20057-9f62-4a9f-a7e5-e146137dc261\",\"type\":\"CDSView\"},{\"attributes\":{\"callback\":null,\"tooltips\":[[\"word\",\"@words\"]]},\"id\":\"1bee9268-b744-41e0-b25b-96e7e42ea8e6\",\"type\":\"HoverTool\"},{\"attributes\":{\"bottom_units\":\"screen\",\"fill_alpha\":{\"value\":0.5},\"fill_color\":{\"value\":\"lightgrey\"},\"left_units\":\"screen\",\"level\":\"overlay\",\"line_alpha\":{\"value\":1.0},\"line_color\":{\"value\":\"black\"},\"line_dash\":[4,4],\"line_width\":{\"value\":2},\"plot\":null,\"render_mode\":\"css\",\"right_units\":\"screen\",\"top_units\":\"screen\"},\"id\":\"af01db45-93ba-4f5b-9598-c55f41ca92c4\",\"type\":\"BoxAnnotation\"},{\"attributes\":{},\"id\":\"8e6c1198-b378-4c9d-afc1-cf49782a6b01\",\"type\":\"PanTool\"},{\"attributes\":{\"end\":{\"id\":\"3be77c93-5c34-47ec-9a01-dc66bae5cad0\",\"type\":\"OpenHead\"},\"plot\":{\"id\":\"418c308b-43ca-49e3-a46d-41334d09e4d4\",\"subtype\":\"Figure\",\"type\":\"Plot\"},\"source\":null,\"start\":null,\"x_end\":{\"value\":384.75164794921875},\"x_start\":{\"value\":34.224884033203125},\"y_end\":{\"value\":24.958484649658203},\"y_start\":{\"value\":-348.5744323730469}},\"id\":\"409efac2-0706-4101-9185-74bf64db6547\",\"type\":\"Arrow\"},{\"attributes\":{\"callback\":null},\"id\":\"94931921-eea7-4929-87b6-541354aa5528\",\"type\":\"DataRange1d\"},{\"attributes\":{\"callback\":null,\"column_names\":[\"index\",\"y\",\"x\",\"words\"],\"data\":{\"index\":[0,1,2,3,4,5,6,7,8,9],\"words\":[\"heaven\",\"hell\",\"boy\",\"girl\",\"husband\",\"wife\",\"son\",\"daughter\",\"father\",\"mother\"],\"x\":{\"__ndarray__\":\"WwUpw6VCQkFRE23DaglkwtolqcP+uVdDSOYIQjZgwEO1Pc9CPLmNQw==\",\"dtype\":\"float32\",\"shape\":[10]},\"y\":{\"__ndarray__\":\"DWBBQy5Cu0NNKYTDoliRwiwgij91qSfDh0muw/qqx0Fd/sRCui+RQw==\",\"dtype\":\"float32\",\"shape\":[10]}}},\"id\":\"c14c4fe3-8121-4ab7-b925-0fa4fa50e6f9\",\"type\":\"ColumnDataSource\"},{\"attributes\":{\"end\":{\"id\":\"3be77c93-5c34-47ec-9a01-dc66bae5cad0\",\"type\":\"OpenHead\"},\"plot\":{\"id\":\"418c308b-43ca-49e3-a46d-41334d09e4d4\",\"subtype\":\"Figure\",\"type\":\"Plot\"},\"source\":null,\"start\":null,\"x_end\":{\"value\":-57.009193420410156},\"x_start\":{\"value\":-237.07545471191406},\"y_end\":{\"value\":-72.67311096191406},\"y_start\":{\"value\":-264.3226623535156}},\"id\":\"6e8729eb-f3fe-4f50-8d20-867ac663479a\",\"type\":\"Arrow\"},{\"attributes\":{},\"id\":\"5374a8cc-a671-4d84-89a9-4c26d9705c99\",\"type\":\"ResetTool\"},{\"attributes\":{\"below\":[{\"id\":\"9f31e19d-3a30-44fa-90b2-97329b581d3f\",\"type\":\"LinearAxis\"}],\"left\":[{\"id\":\"7fce1c17-7539-4520-a99a-ddca37dc2132\",\"type\":\"LinearAxis\"}],\"plot_width\":700,\"renderers\":[{\"id\":\"9f31e19d-3a30-44fa-90b2-97329b581d3f\",\"type\":\"LinearAxis\"},{\"id\":\"8f8b28c8-7a1a-4ecd-b27f-f188fefd90ab\",\"type\":\"Grid\"},{\"id\":\"7fce1c17-7539-4520-a99a-ddca37dc2132\",\"type\":\"LinearAxis\"},{\"id\":\"90e4968a-af27-41c2-ae3e-cdb57e4aa5fa\",\"type\":\"Grid\"},{\"id\":\"af01db45-93ba-4f5b-9598-c55f41ca92c4\",\"type\":\"BoxAnnotation\"},{\"id\":\"c7443579-2e1f-4b3d-9658-8fe0ffc4a2d9\",\"type\":\"GlyphRenderer\"},{\"id\":\"844751b0-6c43-468b-b3ab-262a41d6afc0\",\"type\":\"Arrow\"},{\"id\":\"6e8729eb-f3fe-4f50-8d20-867ac663479a\",\"type\":\"Arrow\"},{\"id\":\"2a62e41b-8850-4469-abfd-e26f9d6115bd\",\"type\":\"Arrow\"},{\"id\":\"409efac2-0706-4101-9185-74bf64db6547\",\"type\":\"Arrow\"},{\"id\":\"4b3475ea-0659-4acb-9309-14d796361456\",\"type\":\"Arrow\"},{\"id\":\"8e99ef53-4dba-41bd-836e-8fec5a87275c\",\"type\":\"LabelSet\"}],\"title\":{\"id\":\"7ca8382c-e6c5-4b86-848f-5e88adaaa053\",\"type\":\"Title\"},\"toolbar\":{\"id\":\"bc0665a6-6a0b-455d-bcac-d849a080788f\",\"type\":\"Toolbar\"},\"toolbar_location\":\"above\",\"x_range\":{\"id\":\"2cff9642-43b6-47c3-aad8-6a45286914c4\",\"type\":\"DataRange1d\"},\"x_scale\":{\"id\":\"ade47d04-88f8-463b-b2f5-026ac9f7b9e5\",\"type\":\"LinearScale\"},\"y_range\":{\"id\":\"94931921-eea7-4929-87b6-541354aa5528\",\"type\":\"DataRange1d\"},\"y_scale\":{\"id\":\"1fd5f92f-6ec0-4256-840c-f3c1a15b0db7\",\"type\":\"LinearScale\"}},\"id\":\"418c308b-43ca-49e3-a46d-41334d09e4d4\",\"subtype\":\"Figure\",\"type\":\"Plot\"},{\"attributes\":{\"end\":{\"id\":\"3be77c93-5c34-47ec-9a01-dc66bae5cad0\",\"type\":\"OpenHead\"},\"plot\":{\"id\":\"418c308b-43ca-49e3-a46d-41334d09e4d4\",\"subtype\":\"Figure\",\"type\":\"Plot\"},\"source\":null,\"start\":null,\"x_end\":{\"value\":215.72653198242188},\"x_start\":{\"value\":-338.29571533203125},\"y_end\":{\"value\":-167.6619415283203},\"y_start\":{\"value\":1.0791068077087402}},\"id\":\"2a62e41b-8850-4469-abfd-e26f9d6115bd\",\"type\":\"Arrow\"}],\"root_ids\":[\"418c308b-43ca-49e3-a46d-41334d09e4d4\"]},\"title\":\"Bokeh Application\",\"version\":\"0.12.13\"}};\n",
       "  var render_items = [{\"docid\":\"ee624b72-31c2-4763-8646-4b9e3ddb5427\",\"elementid\":\"38f519e4-f398-419f-b080-49a800175316\",\"modelid\":\"418c308b-43ca-49e3-a46d-41334d09e4d4\",\"notebook_comms_target\":\"db2d4355-2d7f-477b-85b7-ed1c7a53c222\"}];\n",
       "  root.Bokeh.embed.embed_items_notebook(docs_json, render_items);\n",
       "\n",
       "  }\n",
       "  if (root.Bokeh !== undefined) {\n",
       "    embed_document(root);\n",
       "  } else {\n",
       "    var attempts = 0;\n",
       "    var timer = setInterval(function(root) {\n",
       "      if (root.Bokeh !== undefined) {\n",
       "        embed_document(root);\n",
       "        clearInterval(timer);\n",
       "      }\n",
       "      attempts++;\n",
       "      if (attempts > 100) {\n",
       "        console.log(\"Bokeh: ERROR: Unable to run BokehJS code because BokehJS library is missing\")\n",
       "        clearInterval(timer);\n",
       "      }\n",
       "    }, 10, root)\n",
       "  }\n",
       "})(window);"
      ],
      "application/vnd.bokehjs_exec.v0+json": ""
     },
     "metadata": {
      "application/vnd.bokehjs_exec.v0+json": {
       "id": "418c308b-43ca-49e3-a46d-41334d09e4d4"
      }
     },
     "output_type": "display_data"
    },
    {
     "data": {
      "text/html": [
       "<p><code>&lt;Bokeh Notebook handle for <strong>In[28]</strong>&gt;</code></p>"
      ],
      "text/plain": [
       "<bokeh.io.notebook.CommsHandle at 0x7f1f72fb2cf8>"
      ]
     },
     "execution_count": 28,
     "metadata": {},
     "output_type": "execute_result"
    }
   ],
   "source": [
    "words_of_interest =  ['heaven', 'hell', 'boy', 'girl', 'husband', 'wife', 'son', 'daughter', 'father', 'mother']\n",
    "tsne_df = reduce_dimensions(word_vectors, words_of_interest)\n",
    "p3 = bokeh_scatter_plot_xy_words(tsne_df, line_data=True, **TITLES)\n",
    "show(p3, notebook_handle=True)"
   ]
  },
  {
   "cell_type": "code",
   "execution_count": 32,
   "metadata": {
    "scrolled": false
   },
   "outputs": [
    {
     "data": {
      "text/html": [
       "\n",
       "<div class=\"bk-root\">\n",
       "    <div class=\"bk-plotdiv\" id=\"e6751fcf-fd5d-4033-a88b-f593278603b1\"></div>\n",
       "</div>"
      ]
     },
     "metadata": {},
     "output_type": "display_data"
    },
    {
     "data": {
      "application/javascript": [
       "(function(root) {\n",
       "  function embed_document(root) {\n",
       "    \n",
       "  var docs_json = {\"4cbd3c50-1f37-41c8-b6e8-174fb4c10cf8\":{\"roots\":{\"references\":[{\"attributes\":{},\"id\":\"ef9bcec4-26e9-476a-bb95-63fd291f9eb6\",\"type\":\"SaveTool\"},{\"attributes\":{\"callback\":null},\"id\":\"6c10e1d8-04aa-49b8-a81f-4e3777e8969b\",\"type\":\"DataRange1d\"},{\"attributes\":{\"callback\":null},\"id\":\"9856657a-a6bc-4748-bc0a-99f2a6263b89\",\"type\":\"DataRange1d\"},{\"attributes\":{\"fill_alpha\":{\"value\":0.1},\"fill_color\":{\"value\":\"#1f77b4\"},\"line_alpha\":{\"value\":0.1},\"line_color\":{\"value\":\"#1f77b4\"},\"size\":{\"units\":\"screen\",\"value\":8},\"x\":{\"field\":\"x\"},\"y\":{\"field\":\"y\"}},\"id\":\"03fa138e-5efb-4a46-98a7-25ac5e0b5f40\",\"type\":\"Circle\"},{\"attributes\":{\"plot\":null,\"text\":\"Word vectors reduced to XY using T-SNE\"},\"id\":\"29da7d05-911b-4893-b028-07419d43c69d\",\"type\":\"Title\"},{\"attributes\":{\"callback\":null,\"column_names\":[\"index\",\"y\",\"words\",\"x\",\"color\"],\"data\":{\"color\":[\"green\",\"green\",\"green\",\"green\",\"green\",\"green\",\"green\",\"green\",\"green\",\"green\",\"green\",\"green\",\"green\",\"green\",\"green\",\"green\",\"green\",\"green\",\"green\",\"green\",\"green\",\"green\",\"green\",\"green\",\"green\",\"green\",\"green\",\"green\",\"green\",\"green\",\"green\",\"green\",\"green\",\"green\",\"green\",\"green\",\"green\",\"green\",\"green\",\"firebrick\",\"firebrick\",\"firebrick\",\"firebrick\",\"firebrick\",\"firebrick\",\"firebrick\",\"firebrick\",\"firebrick\",\"firebrick\",\"firebrick\",\"firebrick\",\"firebrick\",\"firebrick\",\"firebrick\",\"firebrick\",\"firebrick\",\"firebrick\",\"firebrick\"],\"index\":[0,1,2,3,4,5,6,7,8,9,10,11,12,13,14,15,16,17,18,19,20,21,22,23,24,25,26,27,28,29,30,31,32,33,34,35,36,37,38,39,40,41,42,43,44,45,46,47,48,49,50,51,52,53,54,55,56,57],\"words\":[\"divine\",\"hallowed\",\"humble\",\"pure\",\"revered\",\"righteous\",\"spiritual\",\"sublime\",\"believing\",\"clean\",\"devotional\",\"faithful\",\"good\",\"innocent\",\"moral\",\"perfect\",\"upright\",\"angelic\",\"blessed\",\"chaste\",\"consecrated\",\"dedicated\",\"devoted\",\"devout\",\"glorified\",\"godly\",\"immaculate\",\"just\",\"messianic\",\"pious\",\"prayerful\",\"reverent\",\"saintly\",\"sanctified\",\"seraphic\",\"spotless\",\"undefiled\",\"venerable\",\"venerated\",\"sinful\",\"vicious\",\"vile\",\"wicked\",\"abandoned\",\"base\",\"debased\",\"degenerate\",\"degraded\",\"dirty\",\"fast\",\"low\",\"mean\",\"twisted\",\"bad\",\"dissolute\",\"evil\",\"filthy\",\"unhealthy\"],\"x\":{\"__ndarray__\":\"nz0eQapYYEIs03nANMxLQXyvx8EP7ZhBnX1zQVpBRcHggIi/Nb88QIJ0+sFg+T1AMnT2wcGLwkHa6chBAOfnwKZEOMKVMp4/aZcLQkyrLsLV7TLCxu7vQNTDcT/12onBxJfOQTOEAsJb7LlByG6owRQ/AULyEtrBrgxOwTcc/8AcUlBBAs//QTTYeMGLKWBBf7CXQLGaaUIjKjNCxo2fwTkI/MH5YrDBWM/6QCpEO0GXeVVCH1+Pv8DNIcF3QNw/vMwJQhS6OMKnIStCQO4ywtBJ1cG3oJPBKjdiwSVTscBSBqjA6L57wQ==\",\"dtype\":\"float32\",\"shape\":[58]},\"y\":{\"__ndarray__\":\"JWsywWZSjcA2QFrBDc57QbjYa8EHq1hCjLK1wV/1jMDldBnCE+SOQnEcQsIXor/BotFoQQdnGkJ6lqbBtYiLQD5qFkBDKR/ApiUev1euh8HbrwLC2K1UwufdbcKJTALC16k2QUAkXL8GwLPAXhrfQJMtD8IoOAHCSb9CwhLz2cHUbRHCOVCxQZ2nhcFgjvg/ZyoSQUYTeEGiIBFBm4uMQpbaNkLH9MRBeVdMQlFB8EGWpw/Ch3AOQvA96UHWlrVBF2Vnwr1/F0L614fBwSCpQWI6BkIRsVVCvOCRQbqCRUKfioZBNIUbQg==\",\"dtype\":\"float32\",\"shape\":[58]}}},\"id\":\"e822a136-5f49-4a9b-b35a-9546a12170c4\",\"type\":\"ColumnDataSource\"},{\"attributes\":{\"bottom_units\":\"screen\",\"fill_alpha\":{\"value\":0.5},\"fill_color\":{\"value\":\"lightgrey\"},\"left_units\":\"screen\",\"level\":\"overlay\",\"line_alpha\":{\"value\":1.0},\"line_color\":{\"value\":\"black\"},\"line_dash\":[4,4],\"line_width\":{\"value\":2},\"plot\":null,\"render_mode\":\"css\",\"right_units\":\"screen\",\"top_units\":\"screen\"},\"id\":\"0aa589eb-22f2-46b8-bf23-c57e84f2b4b2\",\"type\":\"BoxAnnotation\"},{\"attributes\":{\"axis_label\":\"Y-component\",\"formatter\":{\"id\":\"d0f33859-077a-4863-9752-ce9129b70706\",\"type\":\"BasicTickFormatter\"},\"plot\":{\"id\":\"1986c37a-8f9b-4c35-9a0a-289a2be4212e\",\"subtype\":\"Figure\",\"type\":\"Plot\"},\"ticker\":{\"id\":\"78907a12-3eee-48e4-965e-379c17f82f09\",\"type\":\"BasicTicker\"}},\"id\":\"ba0f719c-7f88-461f-996e-d02ccd19bcdc\",\"type\":\"LinearAxis\"},{\"attributes\":{\"callback\":null,\"column_names\":[\"index\",\"y\",\"words\",\"x\",\"color\"],\"data\":{\"color\":[\"green\",\"green\",\"green\",\"green\",\"green\",\"green\",\"green\",\"green\",\"green\",\"green\",\"green\",\"green\",\"green\",\"green\",\"green\",\"green\",\"green\",\"green\",\"green\",\"green\",\"green\",\"green\",\"green\",\"green\",\"green\",\"green\",\"green\",\"green\",\"green\",\"green\",\"green\",\"green\",\"green\",\"green\",\"green\",\"green\",\"green\",\"green\",\"green\",\"firebrick\",\"firebrick\",\"firebrick\",\"firebrick\",\"firebrick\",\"firebrick\",\"firebrick\",\"firebrick\",\"firebrick\",\"firebrick\",\"firebrick\",\"firebrick\",\"firebrick\",\"firebrick\",\"firebrick\",\"firebrick\",\"firebrick\",\"firebrick\",\"firebrick\"],\"index\":[0,1,2,3,4,5,6,7,8,9,10,11,12,13,14,15,16,17,18,19,20,21,22,23,24,25,26,27,28,29,30,31,32,33,34,35,36,37,38,39,40,41,42,43,44,45,46,47,48,49,50,51,52,53,54,55,56,57],\"words\":[\"divine\",\"hallowed\",\"humble\",\"pure\",\"revered\",\"righteous\",\"spiritual\",\"sublime\",\"believing\",\"clean\",\"devotional\",\"faithful\",\"good\",\"innocent\",\"moral\",\"perfect\",\"upright\",\"angelic\",\"blessed\",\"chaste\",\"consecrated\",\"dedicated\",\"devoted\",\"devout\",\"glorified\",\"godly\",\"immaculate\",\"just\",\"messianic\",\"pious\",\"prayerful\",\"reverent\",\"saintly\",\"sanctified\",\"seraphic\",\"spotless\",\"undefiled\",\"venerable\",\"venerated\",\"sinful\",\"vicious\",\"vile\",\"wicked\",\"abandoned\",\"base\",\"debased\",\"degenerate\",\"degraded\",\"dirty\",\"fast\",\"low\",\"mean\",\"twisted\",\"bad\",\"dissolute\",\"evil\",\"filthy\",\"unhealthy\"],\"x\":{\"__ndarray__\":\"nz0eQapYYEIs03nANMxLQXyvx8EP7ZhBnX1zQVpBRcHggIi/Nb88QIJ0+sFg+T1AMnT2wcGLwkHa6chBAOfnwKZEOMKVMp4/aZcLQkyrLsLV7TLCxu7vQNTDcT/12onBxJfOQTOEAsJb7LlByG6owRQ/AULyEtrBrgxOwTcc/8AcUlBBAs//QTTYeMGLKWBBf7CXQLGaaUIjKjNCxo2fwTkI/MH5YrDBWM/6QCpEO0GXeVVCH1+Pv8DNIcF3QNw/vMwJQhS6OMKnIStCQO4ywtBJ1cG3oJPBKjdiwSVTscBSBqjA6L57wQ==\",\"dtype\":\"float32\",\"shape\":[58]},\"y\":{\"__ndarray__\":\"JWsywWZSjcA2QFrBDc57QbjYa8EHq1hCjLK1wV/1jMDldBnCE+SOQnEcQsIXor/BotFoQQdnGkJ6lqbBtYiLQD5qFkBDKR/ApiUev1euh8HbrwLC2K1UwufdbcKJTALC16k2QUAkXL8GwLPAXhrfQJMtD8IoOAHCSb9CwhLz2cHUbRHCOVCxQZ2nhcFgjvg/ZyoSQUYTeEGiIBFBm4uMQpbaNkLH9MRBeVdMQlFB8EGWpw/Ch3AOQvA96UHWlrVBF2Vnwr1/F0L614fBwSCpQWI6BkIRsVVCvOCRQbqCRUKfioZBNIUbQg==\",\"dtype\":\"float32\",\"shape\":[58]}}},\"id\":\"d40855a8-0f7d-452c-9f30-4da4d82e5b25\",\"type\":\"ColumnDataSource\"},{\"attributes\":{\"fill_alpha\":{\"value\":0.5},\"fill_color\":{\"field\":\"color\"},\"line_alpha\":{\"value\":0.5},\"line_color\":{\"field\":\"color\"},\"size\":{\"units\":\"screen\",\"value\":8},\"x\":{\"field\":\"x\"},\"y\":{\"field\":\"y\"}},\"id\":\"4bc42794-b9f7-4993-baeb-d8b3f38e9553\",\"type\":\"Circle\"},{\"attributes\":{},\"id\":\"cea7d593-18a3-4484-91ec-21ea33becd72\",\"type\":\"LinearScale\"},{\"attributes\":{\"level\":\"glyph\",\"plot\":{\"id\":\"1986c37a-8f9b-4c35-9a0a-289a2be4212e\",\"subtype\":\"Figure\",\"type\":\"Plot\"},\"source\":{\"id\":\"d40855a8-0f7d-452c-9f30-4da4d82e5b25\",\"type\":\"ColumnDataSource\"},\"text\":{\"field\":\"words\"},\"text_font_size\":{\"value\":\"9pt\"},\"x\":{\"field\":\"x\"},\"x_offset\":{\"value\":5},\"y\":{\"field\":\"y\"},\"y_offset\":{\"value\":5}},\"id\":\"23d06409-9e4d-4c00-b53c-fd2511c94c95\",\"type\":\"LabelSet\"},{\"attributes\":{},\"id\":\"4f6910d3-77e5-4262-9a02-fcc33e5c2d17\",\"type\":\"BasicTickFormatter\"},{\"attributes\":{\"callback\":null,\"tooltips\":[[\"word\",\"@words\"]]},\"id\":\"90fd7c19-1279-4ebe-b8bd-bea060b5fd92\",\"type\":\"HoverTool\"},{\"attributes\":{},\"id\":\"fbc9c6e2-91ba-4880-9c1e-5f0247fd090a\",\"type\":\"PanTool\"},{\"attributes\":{\"axis_label\":\"X-component\",\"formatter\":{\"id\":\"4f6910d3-77e5-4262-9a02-fcc33e5c2d17\",\"type\":\"BasicTickFormatter\"},\"plot\":{\"id\":\"1986c37a-8f9b-4c35-9a0a-289a2be4212e\",\"subtype\":\"Figure\",\"type\":\"Plot\"},\"ticker\":{\"id\":\"1b5e72d7-490e-49ff-8c60-0bfd9f925e6c\",\"type\":\"BasicTicker\"}},\"id\":\"f7f77f07-1cbe-4900-b2ca-3d31fba753cb\",\"type\":\"LinearAxis\"},{\"attributes\":{\"overlay\":{\"id\":\"0aa589eb-22f2-46b8-bf23-c57e84f2b4b2\",\"type\":\"BoxAnnotation\"}},\"id\":\"07a6bf65-6fbd-4faf-ae20-242804c876e9\",\"type\":\"BoxZoomTool\"},{\"attributes\":{\"below\":[{\"id\":\"f7f77f07-1cbe-4900-b2ca-3d31fba753cb\",\"type\":\"LinearAxis\"}],\"left\":[{\"id\":\"ba0f719c-7f88-461f-996e-d02ccd19bcdc\",\"type\":\"LinearAxis\"}],\"plot_width\":700,\"renderers\":[{\"id\":\"f7f77f07-1cbe-4900-b2ca-3d31fba753cb\",\"type\":\"LinearAxis\"},{\"id\":\"e2fb89f5-e4f8-4606-8c6e-d113c295053b\",\"type\":\"Grid\"},{\"id\":\"ba0f719c-7f88-461f-996e-d02ccd19bcdc\",\"type\":\"LinearAxis\"},{\"id\":\"d4ff11e5-c9a8-4e2b-a9a7-d6ce7026b94c\",\"type\":\"Grid\"},{\"id\":\"0aa589eb-22f2-46b8-bf23-c57e84f2b4b2\",\"type\":\"BoxAnnotation\"},{\"id\":\"0a034b08-164a-4e54-b00b-e3a9a36ec14d\",\"type\":\"GlyphRenderer\"},{\"id\":\"23d06409-9e4d-4c00-b53c-fd2511c94c95\",\"type\":\"LabelSet\"}],\"title\":{\"id\":\"29da7d05-911b-4893-b028-07419d43c69d\",\"type\":\"Title\"},\"toolbar\":{\"id\":\"647e292a-8c75-465e-8732-57ccfbe05338\",\"type\":\"Toolbar\"},\"toolbar_location\":\"above\",\"x_range\":{\"id\":\"9856657a-a6bc-4748-bc0a-99f2a6263b89\",\"type\":\"DataRange1d\"},\"x_scale\":{\"id\":\"b970d532-75fc-4c17-a204-9418bf17326f\",\"type\":\"LinearScale\"},\"y_range\":{\"id\":\"6c10e1d8-04aa-49b8-a81f-4e3777e8969b\",\"type\":\"DataRange1d\"},\"y_scale\":{\"id\":\"cea7d593-18a3-4484-91ec-21ea33becd72\",\"type\":\"LinearScale\"}},\"id\":\"1986c37a-8f9b-4c35-9a0a-289a2be4212e\",\"subtype\":\"Figure\",\"type\":\"Plot\"},{\"attributes\":{},\"id\":\"b970d532-75fc-4c17-a204-9418bf17326f\",\"type\":\"LinearScale\"},{\"attributes\":{\"source\":{\"id\":\"e822a136-5f49-4a9b-b35a-9546a12170c4\",\"type\":\"ColumnDataSource\"}},\"id\":\"9b8a9af8-1fb0-4d9b-9cd6-1f34123834ff\",\"type\":\"CDSView\"},{\"attributes\":{},\"id\":\"e9c768f4-9bcf-4fd0-9415-bb8778e23039\",\"type\":\"ResetTool\"},{\"attributes\":{},\"id\":\"2b8bc291-7d97-4c37-9fa5-a17f14f9b46d\",\"type\":\"WheelZoomTool\"},{\"attributes\":{},\"id\":\"1b5e72d7-490e-49ff-8c60-0bfd9f925e6c\",\"type\":\"BasicTicker\"},{\"attributes\":{\"data_source\":{\"id\":\"e822a136-5f49-4a9b-b35a-9546a12170c4\",\"type\":\"ColumnDataSource\"},\"glyph\":{\"id\":\"4bc42794-b9f7-4993-baeb-d8b3f38e9553\",\"type\":\"Circle\"},\"hover_glyph\":null,\"muted_glyph\":null,\"nonselection_glyph\":{\"id\":\"03fa138e-5efb-4a46-98a7-25ac5e0b5f40\",\"type\":\"Circle\"},\"selection_glyph\":null,\"view\":{\"id\":\"9b8a9af8-1fb0-4d9b-9cd6-1f34123834ff\",\"type\":\"CDSView\"}},\"id\":\"0a034b08-164a-4e54-b00b-e3a9a36ec14d\",\"type\":\"GlyphRenderer\"},{\"attributes\":{},\"id\":\"d0f33859-077a-4863-9752-ce9129b70706\",\"type\":\"BasicTickFormatter\"},{\"attributes\":{},\"id\":\"78907a12-3eee-48e4-965e-379c17f82f09\",\"type\":\"BasicTicker\"},{\"attributes\":{\"dimension\":1,\"plot\":{\"id\":\"1986c37a-8f9b-4c35-9a0a-289a2be4212e\",\"subtype\":\"Figure\",\"type\":\"Plot\"},\"ticker\":{\"id\":\"78907a12-3eee-48e4-965e-379c17f82f09\",\"type\":\"BasicTicker\"}},\"id\":\"d4ff11e5-c9a8-4e2b-a9a7-d6ce7026b94c\",\"type\":\"Grid\"},{\"attributes\":{\"plot\":{\"id\":\"1986c37a-8f9b-4c35-9a0a-289a2be4212e\",\"subtype\":\"Figure\",\"type\":\"Plot\"},\"ticker\":{\"id\":\"1b5e72d7-490e-49ff-8c60-0bfd9f925e6c\",\"type\":\"BasicTicker\"}},\"id\":\"e2fb89f5-e4f8-4606-8c6e-d113c295053b\",\"type\":\"Grid\"},{\"attributes\":{\"active_drag\":\"auto\",\"active_inspect\":\"auto\",\"active_scroll\":\"auto\",\"active_tap\":\"auto\",\"tools\":[{\"id\":\"fbc9c6e2-91ba-4880-9c1e-5f0247fd090a\",\"type\":\"PanTool\"},{\"id\":\"2b8bc291-7d97-4c37-9fa5-a17f14f9b46d\",\"type\":\"WheelZoomTool\"},{\"id\":\"07a6bf65-6fbd-4faf-ae20-242804c876e9\",\"type\":\"BoxZoomTool\"},{\"id\":\"e9c768f4-9bcf-4fd0-9415-bb8778e23039\",\"type\":\"ResetTool\"},{\"id\":\"90fd7c19-1279-4ebe-b8bd-bea060b5fd92\",\"type\":\"HoverTool\"},{\"id\":\"ef9bcec4-26e9-476a-bb95-63fd291f9eb6\",\"type\":\"SaveTool\"}]},\"id\":\"647e292a-8c75-465e-8732-57ccfbe05338\",\"type\":\"Toolbar\"}],\"root_ids\":[\"1986c37a-8f9b-4c35-9a0a-289a2be4212e\"]},\"title\":\"Bokeh Application\",\"version\":\"0.12.13\"}};\n",
       "  var render_items = [{\"docid\":\"4cbd3c50-1f37-41c8-b6e8-174fb4c10cf8\",\"elementid\":\"e6751fcf-fd5d-4033-a88b-f593278603b1\",\"modelid\":\"1986c37a-8f9b-4c35-9a0a-289a2be4212e\"}];\n",
       "  root.Bokeh.embed.embed_items_notebook(docs_json, render_items);\n",
       "\n",
       "  }\n",
       "  if (root.Bokeh !== undefined) {\n",
       "    embed_document(root);\n",
       "  } else {\n",
       "    var attempts = 0;\n",
       "    var timer = setInterval(function(root) {\n",
       "      if (root.Bokeh !== undefined) {\n",
       "        embed_document(root);\n",
       "        clearInterval(timer);\n",
       "      }\n",
       "      attempts++;\n",
       "      if (attempts > 100) {\n",
       "        console.log(\"Bokeh: ERROR: Unable to run BokehJS code because BokehJS library is missing\")\n",
       "        clearInterval(timer);\n",
       "      }\n",
       "    }, 10, root)\n",
       "  }\n",
       "})(window);"
      ],
      "application/vnd.bokehjs_exec.v0+json": ""
     },
     "metadata": {
      "application/vnd.bokehjs_exec.v0+json": {
       "id": "1986c37a-8f9b-4c35-9a0a-289a2be4212e"
      }
     },
     "output_type": "display_data"
    }
   ],
   "source": [
    "holy_words = ['divine', 'hallowed', 'humble', 'pure', 'revered', 'righteous', 'spiritual', 'sublime', 'believing', 'clean', 'devotional', 'faithful', 'good', 'innocent', 'moral', 'perfect', 'upright', 'angelic', 'blessed', 'chaste', 'consecrated', 'dedicated', 'devoted', 'devout', 'faultless', 'glorified', 'god-fearing', 'godlike', 'godly', 'immaculate', 'just', 'messianic', 'pietistic', 'pious', 'prayerful', 'reverent', 'sacrosanct', 'sainted', 'saintlike', 'saintly', 'sanctified', 'seraphic', 'spotless', 'uncorrupt', 'undefiled', 'untainted', 'unworldly', 'venerable', 'venerated']\n",
    "holy_antonyms = ['lewd', 'nefarious', 'shameless', 'sinful', 'vicious', 'vile', 'wanton', 'warped', 'wicked', 'abandoned', 'base', 'debased', 'debauched', 'degenerate', 'degraded', 'dirty', 'fast', 'low', 'mean', 'perverted', 'twisted', 'vitiate', 'vitiated', 'bad', 'dirty-minded', 'dissolute', 'evil', 'filthy', 'flagitous', 'gone to the dogs', 'kinky', 'lascivious', 'licentious', 'miscreant', 'profligate', 'putrid', 'rotten', 'unhealthy', 'unnatural', 'villainous']\n",
    "\n",
    "words_of_interest = [ x for x in holy_words + holy_antonyms if x in word_vectors.vocab.keys() ]\n",
    "tsne_df = reduce_dimensions(word_vectors, words_of_interest)\n",
    "tsne_df['color'] = tsne_df.words.apply(lambda x: 'green' if x in holy_words else 'firebrick')\n",
    "p4 = bokeh_scatter_plot_xy_words(tsne_df, **TITLES)\n",
    "show(p4)"
   ]
  },
  {
   "cell_type": "markdown",
   "metadata": {},
   "source": [
    "### Visualize anthologies"
   ]
  },
  {
   "cell_type": "code",
   "execution_count": 33,
   "metadata": {
    "scrolled": true
   },
   "outputs": [],
   "source": [
    "def compute_similarity_to_anthologies(word_vectors, scale_x_pair, scale_y_pair, word_list):\n",
    "\n",
    "    scale_x = word_vectors[scale_x_pair[0]] - word_vectors[scale_x_pair[1]]\n",
    "    scale_y = word_vectors[scale_y_pair[0]] - word_vectors[scale_y_pair[1]]\n",
    "\n",
    "    word_x_similarity = [1 - spatial.distance.cosine(scale_x, word_vectors[x]) for x in word_list ]\n",
    "    word_y_similarity = [1 - spatial.distance.cosine(scale_y, word_vectors[x]) for x in word_list ]\n",
    "\n",
    "    df = pd.DataFrame({ 'words': word_list, 'x': word_x_similarity, 'y': word_y_similarity })\n",
    "\n",
    "    return df\n",
    "\n",
    "def compute_similarity_to_single_words(word_vectors, word_x, word_y, word_list):\n",
    "\n",
    "    word_x_similarity = [ word_vectors.similarity(x, word_x) for x in word_list ]\n",
    "    word_y_similarity = [ word_vectors.similarity(x, word_y) for x in word_list ]\n",
    "\n",
    "    df = pd.DataFrame({ 'words': word_list, 'x': word_x_similarity, 'y': word_y_similarity })\n",
    "\n",
    "    return df\n",
    "\n",
    "def seed_word_toplist(word_vectors, seed_word, topn=100):\n",
    "     # return [ seed_word ] + [ z[0] for z in word_vectors.most_similar_cosmul(seed_word, topn=topn) ]\n",
    "     return [ seed_word ] + [ z[0] for z in word_vectors.most_similar(seed_word, topn=topn) ]\n",
    "    "
   ]
  },
  {
   "cell_type": "code",
   "execution_count": 34,
   "metadata": {
    "scrolled": true
   },
   "outputs": [],
   "source": [
    "import bokeh.plotting as bp\n",
    "from bokeh.models import ColumnDataSource, HoverTool, BoxSelectTool, LabelSet, Label, Arrow, OpenHead\n",
    "from bokeh.plotting import figure, show, output_notebook, output_file\n",
    "\n",
    "TOOLS = \"pan,wheel_zoom,box_zoom,reset,hover,previewsave\"\n",
    "\n",
    "def bokeh_plot_xy_words(df_words, title='', xlabel='', ylabel='', line_data=False, filename=None, default_color='blue'):\n",
    "\n",
    "    plot = bp.figure(plot_width=700, plot_height=600, title=title, tools=TOOLS, toolbar_location=\"above\") #, x_axis_type=None, y_axis_type=None, min_border=1)\n",
    "\n",
    "    color = 'color' if 'color' in df_words.columns else default_color\n",
    "    \n",
    "    plot.xaxis[0].axis_label = xlabel\n",
    "    plot.yaxis[0].axis_label = ylabel\n",
    "\n",
    "    source = ColumnDataSource(df_words)\n",
    "\n",
    "    plot.diamond(x='x', y='y', size=8, source=df_words, alpha=0.5, color=color)\n",
    "\n",
    "    labels = LabelSet(x='x', y='y', text='words', level='glyph',text_font_size=\"9pt\", x_offset=5, y_offset=5, source=source, render_mode='canvas')\n",
    "    plot.add_layout(labels)\n",
    "\n",
    "    return plot\n",
    "\n",
    "def show_similarity_to_anthologies(word_vectors, xpair, ypair, word_list):\n",
    "    word_list = [ x for x in word_list if x in word_vectors.vocab.keys() ]\n",
    "    df = compute_similarity_to_anthologies(word_vectors, xpair, ypair, word_list)\n",
    "    xlabel = '{}{}{}'.format(xpair[1], 50 * ' ', xpair[0])\n",
    "    ylabel = '{}{}{}'.format(ypair[1], 50 * ' ', ypair[0])\n",
    "    p5 = bokeh_plot_xy_words(df, xlabel=xlabel, ylabel=ylabel)\n",
    "    show(p5)\n"
   ]
  },
  {
   "cell_type": "code",
   "execution_count": 35,
   "metadata": {},
   "outputs": [
    {
     "data": {
      "text/html": [
       "\n",
       "<div class=\"bk-root\">\n",
       "    <div class=\"bk-plotdiv\" id=\"ce050113-1717-428d-8b3c-a56243578474\"></div>\n",
       "</div>"
      ]
     },
     "metadata": {},
     "output_type": "display_data"
    },
    {
     "data": {
      "application/javascript": [
       "(function(root) {\n",
       "  function embed_document(root) {\n",
       "    \n",
       "  var docs_json = {\"32037862-c653-4824-a001-520578513374\":{\"roots\":{\"references\":[{\"attributes\":{\"bottom_units\":\"screen\",\"fill_alpha\":{\"value\":0.5},\"fill_color\":{\"value\":\"lightgrey\"},\"left_units\":\"screen\",\"level\":\"overlay\",\"line_alpha\":{\"value\":1.0},\"line_color\":{\"value\":\"black\"},\"line_dash\":[4,4],\"line_width\":{\"value\":2},\"plot\":null,\"render_mode\":\"css\",\"right_units\":\"screen\",\"top_units\":\"screen\"},\"id\":\"9da94663-8733-4e48-b23a-e2e9494e872b\",\"type\":\"BoxAnnotation\"},{\"attributes\":{\"callback\":null},\"id\":\"bed92ddb-463b-424f-9419-b2a3e4159146\",\"type\":\"DataRange1d\"},{\"attributes\":{\"level\":\"glyph\",\"plot\":{\"id\":\"5afb78e8-db8f-4c3b-9f2a-19baa4bddd8c\",\"subtype\":\"Figure\",\"type\":\"Plot\"},\"source\":{\"id\":\"9072438f-b123-4682-86ca-38ce6519030c\",\"type\":\"ColumnDataSource\"},\"text\":{\"field\":\"words\"},\"text_font_size\":{\"value\":\"9pt\"},\"x\":{\"field\":\"x\"},\"x_offset\":{\"value\":5},\"y\":{\"field\":\"y\"},\"y_offset\":{\"value\":5}},\"id\":\"a8290efd-60ca-40cf-a616-b7d8612a5f8f\",\"type\":\"LabelSet\"},{\"attributes\":{\"data_source\":{\"id\":\"280f7a28-bc3b-4f05-96aa-dfc62ddb776a\",\"type\":\"ColumnDataSource\"},\"glyph\":{\"id\":\"1715923f-d38b-4db4-a69c-6a87bddb497e\",\"type\":\"Diamond\"},\"hover_glyph\":null,\"muted_glyph\":null,\"nonselection_glyph\":{\"id\":\"aed20c62-04c3-4631-b354-12ddd47e349b\",\"type\":\"Diamond\"},\"selection_glyph\":null,\"view\":{\"id\":\"2460bd29-291c-48ca-8982-a89a08d90fe6\",\"type\":\"CDSView\"}},\"id\":\"3366e802-c8e6-4f1b-8009-1d8ae173d3a5\",\"type\":\"GlyphRenderer\"},{\"attributes\":{\"plot\":{\"id\":\"5afb78e8-db8f-4c3b-9f2a-19baa4bddd8c\",\"subtype\":\"Figure\",\"type\":\"Plot\"},\"ticker\":{\"id\":\"7df7be77-a73a-4d10-822b-354254c88b75\",\"type\":\"BasicTicker\"}},\"id\":\"e6853d07-9311-4ea8-850c-9ee2313d8e7c\",\"type\":\"Grid\"},{\"attributes\":{},\"id\":\"1b697738-1a5d-4f67-9e32-5442137aac61\",\"type\":\"BasicTickFormatter\"},{\"attributes\":{\"below\":[{\"id\":\"e9525a0c-c0de-4760-bdde-29a022faec62\",\"type\":\"LinearAxis\"}],\"left\":[{\"id\":\"d6080cda-2944-4eb3-8890-4db7b9f342c3\",\"type\":\"LinearAxis\"}],\"plot_width\":700,\"renderers\":[{\"id\":\"e9525a0c-c0de-4760-bdde-29a022faec62\",\"type\":\"LinearAxis\"},{\"id\":\"e6853d07-9311-4ea8-850c-9ee2313d8e7c\",\"type\":\"Grid\"},{\"id\":\"d6080cda-2944-4eb3-8890-4db7b9f342c3\",\"type\":\"LinearAxis\"},{\"id\":\"863a23e4-61b7-4c76-82c1-8812ca0ffae2\",\"type\":\"Grid\"},{\"id\":\"9da94663-8733-4e48-b23a-e2e9494e872b\",\"type\":\"BoxAnnotation\"},{\"id\":\"3366e802-c8e6-4f1b-8009-1d8ae173d3a5\",\"type\":\"GlyphRenderer\"},{\"id\":\"a8290efd-60ca-40cf-a616-b7d8612a5f8f\",\"type\":\"LabelSet\"}],\"title\":{\"id\":\"82f23926-08c1-4fe1-ad25-1f04a400c32d\",\"type\":\"Title\"},\"toolbar\":{\"id\":\"d8a219a2-5e75-4d13-ab1f-42114a31cc6d\",\"type\":\"Toolbar\"},\"toolbar_location\":\"above\",\"x_range\":{\"id\":\"f1455c90-9186-4cf6-aaa0-8932fc45fb39\",\"type\":\"DataRange1d\"},\"x_scale\":{\"id\":\"99786d23-18a0-47af-9097-1c28fe60d3aa\",\"type\":\"LinearScale\"},\"y_range\":{\"id\":\"bed92ddb-463b-424f-9419-b2a3e4159146\",\"type\":\"DataRange1d\"},\"y_scale\":{\"id\":\"fbf259ab-6523-4485-a2fa-f408010de945\",\"type\":\"LinearScale\"}},\"id\":\"5afb78e8-db8f-4c3b-9f2a-19baa4bddd8c\",\"subtype\":\"Figure\",\"type\":\"Plot\"},{\"attributes\":{},\"id\":\"5555dfdb-8970-44de-8751-b76be2fe01c0\",\"type\":\"SaveTool\"},{\"attributes\":{},\"id\":\"1394b22f-f737-4d27-9dbb-a446d3cbbd1d\",\"type\":\"BasicTicker\"},{\"attributes\":{\"fill_alpha\":{\"value\":0.1},\"fill_color\":{\"value\":\"#1f77b4\"},\"line_alpha\":{\"value\":0.1},\"line_color\":{\"value\":\"#1f77b4\"},\"size\":{\"units\":\"screen\",\"value\":8},\"x\":{\"field\":\"x\"},\"y\":{\"field\":\"y\"}},\"id\":\"aed20c62-04c3-4631-b354-12ddd47e349b\",\"type\":\"Diamond\"},{\"attributes\":{},\"id\":\"fbf259ab-6523-4485-a2fa-f408010de945\",\"type\":\"LinearScale\"},{\"attributes\":{\"plot\":null,\"text\":\"\"},\"id\":\"82f23926-08c1-4fe1-ad25-1f04a400c32d\",\"type\":\"Title\"},{\"attributes\":{\"axis_label\":\"north                                                  south\",\"formatter\":{\"id\":\"1b697738-1a5d-4f67-9e32-5442137aac61\",\"type\":\"BasicTickFormatter\"},\"plot\":{\"id\":\"5afb78e8-db8f-4c3b-9f2a-19baa4bddd8c\",\"subtype\":\"Figure\",\"type\":\"Plot\"},\"ticker\":{\"id\":\"1394b22f-f737-4d27-9dbb-a446d3cbbd1d\",\"type\":\"BasicTicker\"}},\"id\":\"d6080cda-2944-4eb3-8890-4db7b9f342c3\",\"type\":\"LinearAxis\"},{\"attributes\":{},\"id\":\"d5f436ea-58d2-434d-bcf8-62d2b998fb32\",\"type\":\"PanTool\"},{\"attributes\":{},\"id\":\"781be90b-3502-43c2-9fbf-991c81f00ecb\",\"type\":\"WheelZoomTool\"},{\"attributes\":{},\"id\":\"7df7be77-a73a-4d10-822b-354254c88b75\",\"type\":\"BasicTicker\"},{\"attributes\":{},\"id\":\"db6a6352-f374-498d-a3c5-5ccb60acc099\",\"type\":\"BasicTickFormatter\"},{\"attributes\":{\"callback\":null},\"id\":\"8fa65072-98c2-49b4-9114-02a69dced0f2\",\"type\":\"HoverTool\"},{\"attributes\":{\"callback\":null,\"column_names\":[\"index\",\"y\",\"x\",\"words\"],\"data\":{\"index\":[0,1,2,3,4,5,6,7,8,9,10,11,12,13,14,15,16,17,18,19,20,21,22,23,24,25,26,27,28,29,30,31,32,33,34,35,36,37,38,39,40,41,42,43,44,45,46,47,48,49,50,51,52,53,54,55,56,57],\"words\":[\"divine\",\"hallowed\",\"humble\",\"pure\",\"revered\",\"righteous\",\"spiritual\",\"sublime\",\"believing\",\"clean\",\"devotional\",\"faithful\",\"good\",\"innocent\",\"moral\",\"perfect\",\"upright\",\"angelic\",\"blessed\",\"chaste\",\"consecrated\",\"dedicated\",\"devoted\",\"devout\",\"glorified\",\"godly\",\"immaculate\",\"just\",\"messianic\",\"pious\",\"prayerful\",\"reverent\",\"saintly\",\"sanctified\",\"seraphic\",\"spotless\",\"undefiled\",\"venerable\",\"venerated\",\"sinful\",\"vicious\",\"vile\",\"wicked\",\"abandoned\",\"base\",\"debased\",\"degenerate\",\"degraded\",\"dirty\",\"fast\",\"low\",\"mean\",\"twisted\",\"bad\",\"dissolute\",\"evil\",\"filthy\",\"unhealthy\"],\"x\":{\"__ndarray__\":\"AAAAYCXuuL8AAABgXHvAvwAAAAC3nKE/AAAAgMz7lL8AAADAbSxaPwAAAKAvYri/AAAAINWUn78AAAAgaQ+xvwAAAGCN57I/AAAAQDJ8p78AAADgY+m7PwAAAADG0sa/AAAAQKMEwL8AAAAgDJbRvwAAACA915E/AAAAgO0amz8AAADAQMyjvwAAAECI3rg/AAAA4C9brL8AAAAACJlgvwAAAEBb6cu/AAAAQNWvu78AAABgQxXHvwAAAMBAOJ+/AAAAAMG5sj8AAABgFS2nvwAAAOBlJ6q/AAAAYDTPm78AAACAr0LGvwAAAID73LS/AAAA4EeKtr8AAAAAYbq1vwAAAEDAg5w/AAAAYMw8tL8AAABAQf6jPwAAAGC39qa/AAAAYI7Orb8AAAAgagCiPwAAAGA2oW8/AAAAYOL/kr8AAAAgNPTFPwAAAOAYano/AAAAAMz8o78AAACA2+i6vwAAAIAruri/AAAAgFYMwD8AAAAgERyuPwAAAAD906A/AAAAgIwOrj8AAAAAj2tvvwAAAIDF7sA/AAAA4Bnrsj8AAABA+Fa5PwAAAGDPJ6U/AAAAYDZPxj8AAACAf3mUPwAAAOBeBHk/AAAAQCvazD8=\",\"dtype\":\"float64\",\"shape\":[58]},\"y\":{\"__ndarray__\":\"AAAAoFARsD8AAABAgGGivwAAAIA/HMc/AAAAwIInwD8AAACg3BHEvwAAAOBsQLO/AAAAYEbasb8AAAAAvKnIPwAAAAByYJa/AAAAgPEMxD8AAADApVKOPwAAACCLTJ0/AAAAgMrKtz8AAABg4FSsPwAAAKDQBqK/AAAAwLoRgD8AAABAzvjDPwAAAKAedrU/AAAAIHoZfb8AAAAAc0asPwAAAGDyuH8/AAAAYGE3sb8AAACgTP2avwAAAACAx8Q/AAAAQJ1iub8AAADA0CjLPwAAAEChG6Q/AAAA4FRLxT8AAAAgcEmKvwAAAEDp7ae/AAAAYHAtuj8AAABgRYK+PwAAAGBN7bI/AAAAYB7Wo78AAACg6V7LvwAAACAkfK2/AAAAgIKvqz8AAABgttTKvwAAAIBNypm/AAAAIDq8wz8AAAAgsuGWPwAAAGCL3J2/AAAA4JRCb78AAAAAKp6+vwAAAOC21ro/AAAAgJzHk78AAACAiIShvwAAAMDdHam/AAAAYMrBvL8AAABACTO3PwAAAGB8lqk/AAAAALNbrL8AAABA26ekvwAAAICGMa4/AAAAgJvFaj8AAADgN1G5PwAAAACvA7k/AAAAoPbbuL8=\",\"dtype\":\"float64\",\"shape\":[58]}}},\"id\":\"9072438f-b123-4682-86ca-38ce6519030c\",\"type\":\"ColumnDataSource\"},{\"attributes\":{\"source\":{\"id\":\"280f7a28-bc3b-4f05-96aa-dfc62ddb776a\",\"type\":\"ColumnDataSource\"}},\"id\":\"2460bd29-291c-48ca-8982-a89a08d90fe6\",\"type\":\"CDSView\"},{\"attributes\":{\"overlay\":{\"id\":\"9da94663-8733-4e48-b23a-e2e9494e872b\",\"type\":\"BoxAnnotation\"}},\"id\":\"570c6aad-c67c-4ecc-9fa4-de5021e353f9\",\"type\":\"BoxZoomTool\"},{\"attributes\":{\"axis_label\":\"east                                                  west\",\"formatter\":{\"id\":\"db6a6352-f374-498d-a3c5-5ccb60acc099\",\"type\":\"BasicTickFormatter\"},\"plot\":{\"id\":\"5afb78e8-db8f-4c3b-9f2a-19baa4bddd8c\",\"subtype\":\"Figure\",\"type\":\"Plot\"},\"ticker\":{\"id\":\"7df7be77-a73a-4d10-822b-354254c88b75\",\"type\":\"BasicTicker\"}},\"id\":\"e9525a0c-c0de-4760-bdde-29a022faec62\",\"type\":\"LinearAxis\"},{\"attributes\":{},\"id\":\"f61e8d32-0b88-43a2-89e1-f70dc0a28ae3\",\"type\":\"ResetTool\"},{\"attributes\":{},\"id\":\"99786d23-18a0-47af-9097-1c28fe60d3aa\",\"type\":\"LinearScale\"},{\"attributes\":{\"callback\":null,\"column_names\":[\"index\",\"y\",\"x\",\"words\"],\"data\":{\"index\":[0,1,2,3,4,5,6,7,8,9,10,11,12,13,14,15,16,17,18,19,20,21,22,23,24,25,26,27,28,29,30,31,32,33,34,35,36,37,38,39,40,41,42,43,44,45,46,47,48,49,50,51,52,53,54,55,56,57],\"words\":[\"divine\",\"hallowed\",\"humble\",\"pure\",\"revered\",\"righteous\",\"spiritual\",\"sublime\",\"believing\",\"clean\",\"devotional\",\"faithful\",\"good\",\"innocent\",\"moral\",\"perfect\",\"upright\",\"angelic\",\"blessed\",\"chaste\",\"consecrated\",\"dedicated\",\"devoted\",\"devout\",\"glorified\",\"godly\",\"immaculate\",\"just\",\"messianic\",\"pious\",\"prayerful\",\"reverent\",\"saintly\",\"sanctified\",\"seraphic\",\"spotless\",\"undefiled\",\"venerable\",\"venerated\",\"sinful\",\"vicious\",\"vile\",\"wicked\",\"abandoned\",\"base\",\"debased\",\"degenerate\",\"degraded\",\"dirty\",\"fast\",\"low\",\"mean\",\"twisted\",\"bad\",\"dissolute\",\"evil\",\"filthy\",\"unhealthy\"],\"x\":{\"__ndarray__\":\"AAAAYCXuuL8AAABgXHvAvwAAAAC3nKE/AAAAgMz7lL8AAADAbSxaPwAAAKAvYri/AAAAINWUn78AAAAgaQ+xvwAAAGCN57I/AAAAQDJ8p78AAADgY+m7PwAAAADG0sa/AAAAQKMEwL8AAAAgDJbRvwAAACA915E/AAAAgO0amz8AAADAQMyjvwAAAECI3rg/AAAA4C9brL8AAAAACJlgvwAAAEBb6cu/AAAAQNWvu78AAABgQxXHvwAAAMBAOJ+/AAAAAMG5sj8AAABgFS2nvwAAAOBlJ6q/AAAAYDTPm78AAACAr0LGvwAAAID73LS/AAAA4EeKtr8AAAAAYbq1vwAAAEDAg5w/AAAAYMw8tL8AAABAQf6jPwAAAGC39qa/AAAAYI7Orb8AAAAgagCiPwAAAGA2oW8/AAAAYOL/kr8AAAAgNPTFPwAAAOAYano/AAAAAMz8o78AAACA2+i6vwAAAIAruri/AAAAgFYMwD8AAAAgERyuPwAAAAD906A/AAAAgIwOrj8AAAAAj2tvvwAAAIDF7sA/AAAA4Bnrsj8AAABA+Fa5PwAAAGDPJ6U/AAAAYDZPxj8AAACAf3mUPwAAAOBeBHk/AAAAQCvazD8=\",\"dtype\":\"float64\",\"shape\":[58]},\"y\":{\"__ndarray__\":\"AAAAoFARsD8AAABAgGGivwAAAIA/HMc/AAAAwIInwD8AAACg3BHEvwAAAOBsQLO/AAAAYEbasb8AAAAAvKnIPwAAAAByYJa/AAAAgPEMxD8AAADApVKOPwAAACCLTJ0/AAAAgMrKtz8AAABg4FSsPwAAAKDQBqK/AAAAwLoRgD8AAABAzvjDPwAAAKAedrU/AAAAIHoZfb8AAAAAc0asPwAAAGDyuH8/AAAAYGE3sb8AAACgTP2avwAAAACAx8Q/AAAAQJ1iub8AAADA0CjLPwAAAEChG6Q/AAAA4FRLxT8AAAAgcEmKvwAAAEDp7ae/AAAAYHAtuj8AAABgRYK+PwAAAGBN7bI/AAAAYB7Wo78AAACg6V7LvwAAACAkfK2/AAAAgIKvqz8AAABgttTKvwAAAIBNypm/AAAAIDq8wz8AAAAgsuGWPwAAAGCL3J2/AAAA4JRCb78AAAAAKp6+vwAAAOC21ro/AAAAgJzHk78AAACAiIShvwAAAMDdHam/AAAAYMrBvL8AAABACTO3PwAAAGB8lqk/AAAAALNbrL8AAABA26ekvwAAAICGMa4/AAAAgJvFaj8AAADgN1G5PwAAAACvA7k/AAAAoPbbuL8=\",\"dtype\":\"float64\",\"shape\":[58]}}},\"id\":\"280f7a28-bc3b-4f05-96aa-dfc62ddb776a\",\"type\":\"ColumnDataSource\"},{\"attributes\":{\"callback\":null},\"id\":\"f1455c90-9186-4cf6-aaa0-8932fc45fb39\",\"type\":\"DataRange1d\"},{\"attributes\":{\"active_drag\":\"auto\",\"active_inspect\":\"auto\",\"active_scroll\":\"auto\",\"active_tap\":\"auto\",\"tools\":[{\"id\":\"d5f436ea-58d2-434d-bcf8-62d2b998fb32\",\"type\":\"PanTool\"},{\"id\":\"781be90b-3502-43c2-9fbf-991c81f00ecb\",\"type\":\"WheelZoomTool\"},{\"id\":\"570c6aad-c67c-4ecc-9fa4-de5021e353f9\",\"type\":\"BoxZoomTool\"},{\"id\":\"f61e8d32-0b88-43a2-89e1-f70dc0a28ae3\",\"type\":\"ResetTool\"},{\"id\":\"8fa65072-98c2-49b4-9114-02a69dced0f2\",\"type\":\"HoverTool\"},{\"id\":\"5555dfdb-8970-44de-8751-b76be2fe01c0\",\"type\":\"SaveTool\"}]},\"id\":\"d8a219a2-5e75-4d13-ab1f-42114a31cc6d\",\"type\":\"Toolbar\"},{\"attributes\":{\"dimension\":1,\"plot\":{\"id\":\"5afb78e8-db8f-4c3b-9f2a-19baa4bddd8c\",\"subtype\":\"Figure\",\"type\":\"Plot\"},\"ticker\":{\"id\":\"1394b22f-f737-4d27-9dbb-a446d3cbbd1d\",\"type\":\"BasicTicker\"}},\"id\":\"863a23e4-61b7-4c76-82c1-8812ca0ffae2\",\"type\":\"Grid\"},{\"attributes\":{\"fill_alpha\":{\"value\":0.5},\"fill_color\":{\"value\":\"blue\"},\"line_alpha\":{\"value\":0.5},\"line_color\":{\"value\":\"blue\"},\"size\":{\"units\":\"screen\",\"value\":8},\"x\":{\"field\":\"x\"},\"y\":{\"field\":\"y\"}},\"id\":\"1715923f-d38b-4db4-a69c-6a87bddb497e\",\"type\":\"Diamond\"}],\"root_ids\":[\"5afb78e8-db8f-4c3b-9f2a-19baa4bddd8c\"]},\"title\":\"Bokeh Application\",\"version\":\"0.12.13\"}};\n",
       "  var render_items = [{\"docid\":\"32037862-c653-4824-a001-520578513374\",\"elementid\":\"ce050113-1717-428d-8b3c-a56243578474\",\"modelid\":\"5afb78e8-db8f-4c3b-9f2a-19baa4bddd8c\"}];\n",
       "  root.Bokeh.embed.embed_items_notebook(docs_json, render_items);\n",
       "\n",
       "  }\n",
       "  if (root.Bokeh !== undefined) {\n",
       "    embed_document(root);\n",
       "  } else {\n",
       "    var attempts = 0;\n",
       "    var timer = setInterval(function(root) {\n",
       "      if (root.Bokeh !== undefined) {\n",
       "        embed_document(root);\n",
       "        clearInterval(timer);\n",
       "      }\n",
       "      attempts++;\n",
       "      if (attempts > 100) {\n",
       "        console.log(\"Bokeh: ERROR: Unable to run BokehJS code because BokehJS library is missing\")\n",
       "        clearInterval(timer);\n",
       "      }\n",
       "    }, 10, root)\n",
       "  }\n",
       "})(window);"
      ],
      "application/vnd.bokehjs_exec.v0+json": ""
     },
     "metadata": {
      "application/vnd.bokehjs_exec.v0+json": {
       "id": "5afb78e8-db8f-4c3b-9f2a-19baa4bddd8c"
      }
     },
     "output_type": "display_data"
    }
   ],
   "source": [
    "xpair = ('west', 'east')\n",
    "ypair = ('south', 'north')\n",
    "word_list = holy_words + holy_antonyms\n",
    "show_similarity_to_anthologies(word_vectors, xpair, ypair, word_list)"
   ]
  },
  {
   "cell_type": "code",
   "execution_count": null,
   "metadata": {},
   "outputs": [],
   "source": []
  }
 ],
 "metadata": {
  "kernelspec": {
   "display_name": "Python 3",
   "language": "python",
   "name": "python3"
  },
  "language_info": {
   "codemirror_mode": {
    "name": "ipython",
    "version": 3
   },
   "file_extension": ".py",
   "mimetype": "text/x-python",
   "name": "python",
   "nbconvert_exporter": "python",
   "pygments_lexer": "ipython3",
   "version": "3.5.3"
  }
 },
 "nbformat": 4,
 "nbformat_minor": 2
}
