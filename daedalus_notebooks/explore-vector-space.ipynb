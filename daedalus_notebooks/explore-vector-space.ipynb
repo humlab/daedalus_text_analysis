{
 "cells": [
  {
   "cell_type": "markdown",
   "metadata": {},
   "source": [
    "## Explore Daedalus Word Vector Space Models\n",
    "The first three lines in the first cell runs code found in utility scripts which reside in the same folder as the notebook.\n",
    "The remaining lines imports dependent libraries and sets up the notebook."
   ]
  },
  {
   "cell_type": "markdown",
   "metadata": {},
   "source": [
    "### Setup Notebook and Dependencies\n",
    "The first three lines in the first cell runs code found in utility scripts which reside in the same folder as the notebook. The remaining lines imports dependent libraries and sets up the notebook."
   ]
  },
  {
   "cell_type": "code",
   "execution_count": 17,
   "metadata": {
    "code_folding": []
   },
   "outputs": [
    {
     "data": {
      "application/javascript": [
       "IPython.notebook.set_autosave_interval(120000)"
      ]
     },
     "metadata": {},
     "output_type": "display_data"
    },
    {
     "name": "stdout",
     "output_type": "stream",
     "text": [
      "Autosaving every 120 seconds\n"
     ]
    },
    {
     "data": {
      "text/html": [
       "\n",
       "    <div class=\"bk-root\">\n",
       "        <a href=\"https://bokeh.pydata.org\" target=\"_blank\" class=\"bk-logo bk-logo-small bk-logo-notebook\"></a>\n",
       "        <span id=\"1a599cf7-8ab8-411f-a710-6781d2079c95\">Loading BokehJS ...</span>\n",
       "    </div>"
      ]
     },
     "metadata": {},
     "output_type": "display_data"
    },
    {
     "data": {
      "application/javascript": [
       "\n",
       "(function(root) {\n",
       "  function now() {\n",
       "    return new Date();\n",
       "  }\n",
       "\n",
       "  var force = true;\n",
       "\n",
       "  if (typeof (root._bokeh_onload_callbacks) === \"undefined\" || force === true) {\n",
       "    root._bokeh_onload_callbacks = [];\n",
       "    root._bokeh_is_loading = undefined;\n",
       "  }\n",
       "\n",
       "  var JS_MIME_TYPE = 'application/javascript';\n",
       "  var HTML_MIME_TYPE = 'text/html';\n",
       "  var EXEC_MIME_TYPE = 'application/vnd.bokehjs_exec.v0+json';\n",
       "  var CLASS_NAME = 'output_bokeh rendered_html';\n",
       "\n",
       "  /**\n",
       "   * Render data to the DOM node\n",
       "   */\n",
       "  function render(props, node) {\n",
       "    var script = document.createElement(\"script\");\n",
       "    node.appendChild(script);\n",
       "  }\n",
       "\n",
       "  /**\n",
       "   * Handle when an output is cleared or removed\n",
       "   */\n",
       "  function handleClearOutput(event, handle) {\n",
       "    var cell = handle.cell;\n",
       "\n",
       "    var id = cell.output_area._bokeh_element_id;\n",
       "    var server_id = cell.output_area._bokeh_server_id;\n",
       "    // Clean up Bokeh references\n",
       "    if (id !== undefined) {\n",
       "      Bokeh.index[id].model.document.clear();\n",
       "      delete Bokeh.index[id];\n",
       "    }\n",
       "\n",
       "    if (server_id !== undefined) {\n",
       "      // Clean up Bokeh references\n",
       "      var cmd = \"from bokeh.io.state import curstate; print(curstate().uuid_to_server['\" + server_id + \"'].get_sessions()[0].document.roots[0]._id)\";\n",
       "      cell.notebook.kernel.execute(cmd, {\n",
       "        iopub: {\n",
       "          output: function(msg) {\n",
       "            var element_id = msg.content.text.trim();\n",
       "            Bokeh.index[element_id].model.document.clear();\n",
       "            delete Bokeh.index[element_id];\n",
       "          }\n",
       "        }\n",
       "      });\n",
       "      // Destroy server and session\n",
       "      var cmd = \"import bokeh.io.notebook as ion; ion.destroy_server('\" + server_id + \"')\";\n",
       "      cell.notebook.kernel.execute(cmd);\n",
       "    }\n",
       "  }\n",
       "\n",
       "  /**\n",
       "   * Handle when a new output is added\n",
       "   */\n",
       "  function handleAddOutput(event, handle) {\n",
       "    var output_area = handle.output_area;\n",
       "    var output = handle.output;\n",
       "\n",
       "    // limit handleAddOutput to display_data with EXEC_MIME_TYPE content only\n",
       "    if ((output.output_type != \"display_data\") || (!output.data.hasOwnProperty(EXEC_MIME_TYPE))) {\n",
       "      return\n",
       "    }\n",
       "\n",
       "    var toinsert = output_area.element.find(\".\" + CLASS_NAME.split(' ')[0]);\n",
       "\n",
       "    if (output.metadata[EXEC_MIME_TYPE][\"id\"] !== undefined) {\n",
       "      toinsert[0].firstChild.textContent = output.data[JS_MIME_TYPE];\n",
       "      // store reference to embed id on output_area\n",
       "      output_area._bokeh_element_id = output.metadata[EXEC_MIME_TYPE][\"id\"];\n",
       "    }\n",
       "    if (output.metadata[EXEC_MIME_TYPE][\"server_id\"] !== undefined) {\n",
       "      var bk_div = document.createElement(\"div\");\n",
       "      bk_div.innerHTML = output.data[HTML_MIME_TYPE];\n",
       "      var script_attrs = bk_div.children[0].attributes;\n",
       "      for (var i = 0; i < script_attrs.length; i++) {\n",
       "        toinsert[0].firstChild.setAttribute(script_attrs[i].name, script_attrs[i].value);\n",
       "      }\n",
       "      // store reference to server id on output_area\n",
       "      output_area._bokeh_server_id = output.metadata[EXEC_MIME_TYPE][\"server_id\"];\n",
       "    }\n",
       "  }\n",
       "\n",
       "  function register_renderer(events, OutputArea) {\n",
       "\n",
       "    function append_mime(data, metadata, element) {\n",
       "      // create a DOM node to render to\n",
       "      var toinsert = this.create_output_subarea(\n",
       "        metadata,\n",
       "        CLASS_NAME,\n",
       "        EXEC_MIME_TYPE\n",
       "      );\n",
       "      this.keyboard_manager.register_events(toinsert);\n",
       "      // Render to node\n",
       "      var props = {data: data, metadata: metadata[EXEC_MIME_TYPE]};\n",
       "      render(props, toinsert[0]);\n",
       "      element.append(toinsert);\n",
       "      return toinsert\n",
       "    }\n",
       "\n",
       "    /* Handle when an output is cleared or removed */\n",
       "    events.on('clear_output.CodeCell', handleClearOutput);\n",
       "    events.on('delete.Cell', handleClearOutput);\n",
       "\n",
       "    /* Handle when a new output is added */\n",
       "    events.on('output_added.OutputArea', handleAddOutput);\n",
       "\n",
       "    /**\n",
       "     * Register the mime type and append_mime function with output_area\n",
       "     */\n",
       "    OutputArea.prototype.register_mime_type(EXEC_MIME_TYPE, append_mime, {\n",
       "      /* Is output safe? */\n",
       "      safe: true,\n",
       "      /* Index of renderer in `output_area.display_order` */\n",
       "      index: 0\n",
       "    });\n",
       "  }\n",
       "\n",
       "  // register the mime type if in Jupyter Notebook environment and previously unregistered\n",
       "  if (root.Jupyter !== undefined) {\n",
       "    var events = require('base/js/events');\n",
       "    var OutputArea = require('notebook/js/outputarea').OutputArea;\n",
       "\n",
       "    if (OutputArea.prototype.mime_types().indexOf(EXEC_MIME_TYPE) == -1) {\n",
       "      register_renderer(events, OutputArea);\n",
       "    }\n",
       "  }\n",
       "\n",
       "  \n",
       "  if (typeof (root._bokeh_timeout) === \"undefined\" || force === true) {\n",
       "    root._bokeh_timeout = Date.now() + 5000;\n",
       "    root._bokeh_failed_load = false;\n",
       "  }\n",
       "\n",
       "  var NB_LOAD_WARNING = {'data': {'text/html':\n",
       "     \"<div style='background-color: #fdd'>\\n\"+\n",
       "     \"<p>\\n\"+\n",
       "     \"BokehJS does not appear to have successfully loaded. If loading BokehJS from CDN, this \\n\"+\n",
       "     \"may be due to a slow or bad network connection. Possible fixes:\\n\"+\n",
       "     \"</p>\\n\"+\n",
       "     \"<ul>\\n\"+\n",
       "     \"<li>re-rerun `output_notebook()` to attempt to load from CDN again, or</li>\\n\"+\n",
       "     \"<li>use INLINE resources instead, as so:</li>\\n\"+\n",
       "     \"</ul>\\n\"+\n",
       "     \"<code>\\n\"+\n",
       "     \"from bokeh.resources import INLINE\\n\"+\n",
       "     \"output_notebook(resources=INLINE)\\n\"+\n",
       "     \"</code>\\n\"+\n",
       "     \"</div>\"}};\n",
       "\n",
       "  function display_loaded() {\n",
       "    var el = document.getElementById(\"1a599cf7-8ab8-411f-a710-6781d2079c95\");\n",
       "    if (el != null) {\n",
       "      el.textContent = \"BokehJS is loading...\";\n",
       "    }\n",
       "    if (root.Bokeh !== undefined) {\n",
       "      if (el != null) {\n",
       "        el.textContent = \"BokehJS \" + root.Bokeh.version + \" successfully loaded.\";\n",
       "      }\n",
       "    } else if (Date.now() < root._bokeh_timeout) {\n",
       "      setTimeout(display_loaded, 100)\n",
       "    }\n",
       "  }\n",
       "\n",
       "\n",
       "  function run_callbacks() {\n",
       "    try {\n",
       "      root._bokeh_onload_callbacks.forEach(function(callback) { callback() });\n",
       "    }\n",
       "    finally {\n",
       "      delete root._bokeh_onload_callbacks\n",
       "    }\n",
       "    console.info(\"Bokeh: all callbacks have finished\");\n",
       "  }\n",
       "\n",
       "  function load_libs(js_urls, callback) {\n",
       "    root._bokeh_onload_callbacks.push(callback);\n",
       "    if (root._bokeh_is_loading > 0) {\n",
       "      console.log(\"Bokeh: BokehJS is being loaded, scheduling callback at\", now());\n",
       "      return null;\n",
       "    }\n",
       "    if (js_urls == null || js_urls.length === 0) {\n",
       "      run_callbacks();\n",
       "      return null;\n",
       "    }\n",
       "    console.log(\"Bokeh: BokehJS not loaded, scheduling load and callback at\", now());\n",
       "    root._bokeh_is_loading = js_urls.length;\n",
       "    for (var i = 0; i < js_urls.length; i++) {\n",
       "      var url = js_urls[i];\n",
       "      var s = document.createElement('script');\n",
       "      s.src = url;\n",
       "      s.async = false;\n",
       "      s.onreadystatechange = s.onload = function() {\n",
       "        root._bokeh_is_loading--;\n",
       "        if (root._bokeh_is_loading === 0) {\n",
       "          console.log(\"Bokeh: all BokehJS libraries loaded\");\n",
       "          run_callbacks()\n",
       "        }\n",
       "      };\n",
       "      s.onerror = function() {\n",
       "        console.warn(\"failed to load library \" + url);\n",
       "      };\n",
       "      console.log(\"Bokeh: injecting script tag for BokehJS library: \", url);\n",
       "      document.getElementsByTagName(\"head\")[0].appendChild(s);\n",
       "    }\n",
       "  };var element = document.getElementById(\"1a599cf7-8ab8-411f-a710-6781d2079c95\");\n",
       "  if (element == null) {\n",
       "    console.log(\"Bokeh: ERROR: autoload.js configured with elementid '1a599cf7-8ab8-411f-a710-6781d2079c95' but no matching script tag was found. \")\n",
       "    return false;\n",
       "  }\n",
       "\n",
       "  var js_urls = [\"https://cdn.pydata.org/bokeh/release/bokeh-0.12.13.min.js\", \"https://cdn.pydata.org/bokeh/release/bokeh-widgets-0.12.13.min.js\", \"https://cdn.pydata.org/bokeh/release/bokeh-tables-0.12.13.min.js\", \"https://cdn.pydata.org/bokeh/release/bokeh-gl-0.12.13.min.js\"];\n",
       "\n",
       "  var inline_js = [\n",
       "    function(Bokeh) {\n",
       "      Bokeh.set_log_level(\"info\");\n",
       "    },\n",
       "    \n",
       "    function(Bokeh) {\n",
       "      \n",
       "    },\n",
       "    function(Bokeh) {\n",
       "      console.log(\"Bokeh: injecting CSS: https://cdn.pydata.org/bokeh/release/bokeh-0.12.13.min.css\");\n",
       "      Bokeh.embed.inject_css(\"https://cdn.pydata.org/bokeh/release/bokeh-0.12.13.min.css\");\n",
       "      console.log(\"Bokeh: injecting CSS: https://cdn.pydata.org/bokeh/release/bokeh-widgets-0.12.13.min.css\");\n",
       "      Bokeh.embed.inject_css(\"https://cdn.pydata.org/bokeh/release/bokeh-widgets-0.12.13.min.css\");\n",
       "      console.log(\"Bokeh: injecting CSS: https://cdn.pydata.org/bokeh/release/bokeh-tables-0.12.13.min.css\");\n",
       "      Bokeh.embed.inject_css(\"https://cdn.pydata.org/bokeh/release/bokeh-tables-0.12.13.min.css\");\n",
       "    }\n",
       "  ];\n",
       "\n",
       "  function run_inline_js() {\n",
       "    \n",
       "    if ((root.Bokeh !== undefined) || (force === true)) {\n",
       "      for (var i = 0; i < inline_js.length; i++) {\n",
       "        inline_js[i].call(root, root.Bokeh);\n",
       "      }if (force === true) {\n",
       "        display_loaded();\n",
       "      }} else if (Date.now() < root._bokeh_timeout) {\n",
       "      setTimeout(run_inline_js, 100);\n",
       "    } else if (!root._bokeh_failed_load) {\n",
       "      console.log(\"Bokeh: BokehJS failed to load within specified timeout.\");\n",
       "      root._bokeh_failed_load = true;\n",
       "    } else if (force !== true) {\n",
       "      var cell = $(document.getElementById(\"1a599cf7-8ab8-411f-a710-6781d2079c95\")).parents('.cell').data().cell;\n",
       "      cell.output_area.append_execute_result(NB_LOAD_WARNING)\n",
       "    }\n",
       "\n",
       "  }\n",
       "\n",
       "  if (root._bokeh_is_loading === 0) {\n",
       "    console.log(\"Bokeh: BokehJS loaded, going straight to plotting\");\n",
       "    run_inline_js();\n",
       "  } else {\n",
       "    load_libs(js_urls, function() {\n",
       "      console.log(\"Bokeh: BokehJS plotting callback run at\", now());\n",
       "      run_inline_js();\n",
       "    });\n",
       "  }\n",
       "}(window));"
      ],
      "application/vnd.bokehjs_load.v0+json": "\n(function(root) {\n  function now() {\n    return new Date();\n  }\n\n  var force = true;\n\n  if (typeof (root._bokeh_onload_callbacks) === \"undefined\" || force === true) {\n    root._bokeh_onload_callbacks = [];\n    root._bokeh_is_loading = undefined;\n  }\n\n  \n\n  \n  if (typeof (root._bokeh_timeout) === \"undefined\" || force === true) {\n    root._bokeh_timeout = Date.now() + 5000;\n    root._bokeh_failed_load = false;\n  }\n\n  var NB_LOAD_WARNING = {'data': {'text/html':\n     \"<div style='background-color: #fdd'>\\n\"+\n     \"<p>\\n\"+\n     \"BokehJS does not appear to have successfully loaded. If loading BokehJS from CDN, this \\n\"+\n     \"may be due to a slow or bad network connection. Possible fixes:\\n\"+\n     \"</p>\\n\"+\n     \"<ul>\\n\"+\n     \"<li>re-rerun `output_notebook()` to attempt to load from CDN again, or</li>\\n\"+\n     \"<li>use INLINE resources instead, as so:</li>\\n\"+\n     \"</ul>\\n\"+\n     \"<code>\\n\"+\n     \"from bokeh.resources import INLINE\\n\"+\n     \"output_notebook(resources=INLINE)\\n\"+\n     \"</code>\\n\"+\n     \"</div>\"}};\n\n  function display_loaded() {\n    var el = document.getElementById(\"1a599cf7-8ab8-411f-a710-6781d2079c95\");\n    if (el != null) {\n      el.textContent = \"BokehJS is loading...\";\n    }\n    if (root.Bokeh !== undefined) {\n      if (el != null) {\n        el.textContent = \"BokehJS \" + root.Bokeh.version + \" successfully loaded.\";\n      }\n    } else if (Date.now() < root._bokeh_timeout) {\n      setTimeout(display_loaded, 100)\n    }\n  }\n\n\n  function run_callbacks() {\n    try {\n      root._bokeh_onload_callbacks.forEach(function(callback) { callback() });\n    }\n    finally {\n      delete root._bokeh_onload_callbacks\n    }\n    console.info(\"Bokeh: all callbacks have finished\");\n  }\n\n  function load_libs(js_urls, callback) {\n    root._bokeh_onload_callbacks.push(callback);\n    if (root._bokeh_is_loading > 0) {\n      console.log(\"Bokeh: BokehJS is being loaded, scheduling callback at\", now());\n      return null;\n    }\n    if (js_urls == null || js_urls.length === 0) {\n      run_callbacks();\n      return null;\n    }\n    console.log(\"Bokeh: BokehJS not loaded, scheduling load and callback at\", now());\n    root._bokeh_is_loading = js_urls.length;\n    for (var i = 0; i < js_urls.length; i++) {\n      var url = js_urls[i];\n      var s = document.createElement('script');\n      s.src = url;\n      s.async = false;\n      s.onreadystatechange = s.onload = function() {\n        root._bokeh_is_loading--;\n        if (root._bokeh_is_loading === 0) {\n          console.log(\"Bokeh: all BokehJS libraries loaded\");\n          run_callbacks()\n        }\n      };\n      s.onerror = function() {\n        console.warn(\"failed to load library \" + url);\n      };\n      console.log(\"Bokeh: injecting script tag for BokehJS library: \", url);\n      document.getElementsByTagName(\"head\")[0].appendChild(s);\n    }\n  };var element = document.getElementById(\"1a599cf7-8ab8-411f-a710-6781d2079c95\");\n  if (element == null) {\n    console.log(\"Bokeh: ERROR: autoload.js configured with elementid '1a599cf7-8ab8-411f-a710-6781d2079c95' but no matching script tag was found. \")\n    return false;\n  }\n\n  var js_urls = [\"https://cdn.pydata.org/bokeh/release/bokeh-0.12.13.min.js\", \"https://cdn.pydata.org/bokeh/release/bokeh-widgets-0.12.13.min.js\", \"https://cdn.pydata.org/bokeh/release/bokeh-tables-0.12.13.min.js\", \"https://cdn.pydata.org/bokeh/release/bokeh-gl-0.12.13.min.js\"];\n\n  var inline_js = [\n    function(Bokeh) {\n      Bokeh.set_log_level(\"info\");\n    },\n    \n    function(Bokeh) {\n      \n    },\n    function(Bokeh) {\n      console.log(\"Bokeh: injecting CSS: https://cdn.pydata.org/bokeh/release/bokeh-0.12.13.min.css\");\n      Bokeh.embed.inject_css(\"https://cdn.pydata.org/bokeh/release/bokeh-0.12.13.min.css\");\n      console.log(\"Bokeh: injecting CSS: https://cdn.pydata.org/bokeh/release/bokeh-widgets-0.12.13.min.css\");\n      Bokeh.embed.inject_css(\"https://cdn.pydata.org/bokeh/release/bokeh-widgets-0.12.13.min.css\");\n      console.log(\"Bokeh: injecting CSS: https://cdn.pydata.org/bokeh/release/bokeh-tables-0.12.13.min.css\");\n      Bokeh.embed.inject_css(\"https://cdn.pydata.org/bokeh/release/bokeh-tables-0.12.13.min.css\");\n    }\n  ];\n\n  function run_inline_js() {\n    \n    if ((root.Bokeh !== undefined) || (force === true)) {\n      for (var i = 0; i < inline_js.length; i++) {\n        inline_js[i].call(root, root.Bokeh);\n      }if (force === true) {\n        display_loaded();\n      }} else if (Date.now() < root._bokeh_timeout) {\n      setTimeout(run_inline_js, 100);\n    } else if (!root._bokeh_failed_load) {\n      console.log(\"Bokeh: BokehJS failed to load within specified timeout.\");\n      root._bokeh_failed_load = true;\n    } else if (force !== true) {\n      var cell = $(document.getElementById(\"1a599cf7-8ab8-411f-a710-6781d2079c95\")).parents('.cell').data().cell;\n      cell.output_area.append_execute_result(NB_LOAD_WARNING)\n    }\n\n  }\n\n  if (root._bokeh_is_loading === 0) {\n    console.log(\"Bokeh: BokehJS loaded, going straight to plotting\");\n    run_inline_js();\n  } else {\n    load_libs(js_urls, function() {\n      console.log(\"Bokeh: BokehJS plotting callback run at\", now());\n      run_inline_js();\n    });\n  }\n}(window));"
     },
     "metadata": {},
     "output_type": "display_data"
    }
   ],
   "source": [
    "# Setup Environment\n",
    "%run ./common/wordvector-utility\n",
    "%run ./common/vectorspace-utility\n",
    "%run ./common/widgets-utility\n",
    "\n",
    "import warnings\n",
    "\n",
    "warnings.filterwarnings(\"ignore\", category=DeprecationWarning) \n",
    "warnings.filterwarnings(\"ignore\", category=FutureWarning) \n",
    "\n",
    "from IPython.core.display import display, HTML, clear_output\n",
    "from IPython.core.interactiveshell import InteractiveShell\n",
    "from nltk import word_tokenize\n",
    "\n",
    "import ipywidgets as widgets\n",
    "import bokeh.models as bm\n",
    "import bokeh.plotting as bp\n",
    "import bokeh.io as bio\n",
    "import pandas as pd\n",
    "import numpy as np\n",
    "import types\n",
    "\n",
    "%autosave 120\n",
    "%config IPCompleter.greedy=True\n",
    "\n",
    "InteractiveShell.ast_node_interactivity = \"all\"\n",
    "TOOLS = \"pan,wheel_zoom,box_zoom,reset,previewsave\"\n",
    "\n",
    "bp.output_notebook()\n"
   ]
  },
  {
   "cell_type": "code",
   "execution_count": 18,
   "metadata": {
    "code_folding": [
     0
    ],
    "scrolled": true
   },
   "outputs": [
    {
     "data": {
      "application/javascript": [
       "IPython.OutputArea.prototype._should_scroll = function(lines) { return false; }"
      ],
      "text/plain": [
       "<IPython.core.display.Javascript object>"
      ]
     },
     "metadata": {},
     "output_type": "display_data"
    }
   ],
   "source": [
    "%%javascript\n",
    "IPython.OutputArea.prototype._should_scroll = function(lines) { return false; }"
   ]
  },
  {
   "cell_type": "markdown",
   "metadata": {},
   "source": [
    "### Select Word Vector Space Model (to be Used in Subsequent Steps)\n",
    "Avaliable vector space models are stored in subfolder./data. New models can be added simpy by uploading them to **~/notebooks/VaticanTexts/data** (with for instance WinSCP).\n",
    "- **get_model_names** retrieves the filenames of all dat-files. \n",
    "- **load_model_vector** returns avaliable models stored in ./data sub-folder.\n",
    "Remember to re-run all dependens cells (use **run** button or **shift-enter**) after a new model is loaded. There is no automatic execution of sub-sequent cells enables."
   ]
  },
  {
   "cell_type": "code",
   "execution_count": 19,
   "metadata": {
    "code_folding": [
     0
    ],
    "scrolled": true
   },
   "outputs": [
    {
     "data": {
      "application/vnd.jupyter.widget-view+json": {
       "model_id": "286f81d64aaf4685ae71d9ed7c9de4c7",
       "version_major": 2,
       "version_minor": 0
      },
      "text/html": [
       "<p>Failed to display Jupyter Widget of type <code>VBox</code>.</p>\n",
       "<p>\n",
       "  If you're reading this message in the Jupyter Notebook or JupyterLab Notebook, it may mean\n",
       "  that the widgets JavaScript is still loading. If this message persists, it\n",
       "  likely means that the widgets JavaScript library is either not installed or\n",
       "  not enabled. See the <a href=\"https://ipywidgets.readthedocs.io/en/stable/user_install.html\">Jupyter\n",
       "  Widgets Documentation</a> for setup instructions.\n",
       "</p>\n",
       "<p>\n",
       "  If you're reading this message in another frontend (for example, a static\n",
       "  rendering on GitHub or <a href=\"https://nbviewer.jupyter.org/\">NBViewer</a>),\n",
       "  it may mean that your frontend doesn't currently support widgets.\n",
       "</p>\n"
      ],
      "text/plain": [
       "VBox(children=(Dropdown(description='Model', layout=Layout(width='75%'), options=('w2v_model_skip_gram_win_5_dim_100_iter_20_mc_5_complete_not_segmented.dat', 'w2v_model_skip_gram_win_5_dim_100_iter_20_mc_5_segmented_1980-1014.dat', 'w2v_model_skip_gram_win_5_dim_150_iter_20_mc_5_complete_not_segmented.dat', 'w2v_model_skip_gram_win_10_dim_100_iter_20_mc_5_segmented_1980-1014.dat', 'w2v_model_skip_gram_win_5_dim_50_iter_20_mc_5_complete_not_segmented.dat', 'w2v_model_skip_gram_win_7_dim_100_iter_20_mc_5_segmented_1980-1014.dat'), value='w2v_model_skip_gram_win_5_dim_100_iter_20_mc_5_complete_not_segmented.dat'), Output()))"
      ]
     },
     "metadata": {},
     "output_type": "display_data"
    }
   ],
   "source": [
    "# Current Model\n",
    "class ModelState:\n",
    "    \n",
    "    def __init__(self, data_folder):\n",
    "        \n",
    "        self.data_folder = data_folder\n",
    "        self.filenames = WordVectorUtility.get_model_names(data_folder)\n",
    "        self.filename = self.filenames[0]\n",
    "        self.wordvector = None\n",
    "        \n",
    "    def set_model(self, filename=None):\n",
    "\n",
    "        filename = filename or self.filename\n",
    "        self.filename = filename\n",
    "        self.wordvectors = WordVectorUtility.load_model_vector(os.path.join(self.data_folder, filename))\n",
    "        print('Model {} loaded...'.format(self.filename))\n",
    "\n",
    "state = ModelState('./vsm-data')\n",
    "\n",
    "z = BaseWidgetUtility()\n",
    "z.filename = z.create_select_widget(description='Model', options=state.filenames, value=state.filename, layout=widgets.Layout(width='75%'))\n",
    "w = widgets.interactive(state.set_model, filename=z.filename)\n",
    "display(widgets.VBox((z.filename,) + (w.children[-1],)))\n",
    "w.update()"
   ]
  },
  {
   "cell_type": "markdown",
   "metadata": {},
   "source": [
    "### Reduce the high-dimensional word vectors to 2D using t-SNE (sklearn)\n",
    "\n",
    "t-SNE transforms a set of coordinates in a high-dimensional vector space (our word vectors) into a \"faithful\" representation in a lower-dimensional space e.g. 3D-space or a 2D-plane. The algorithm was introduced in 2008 by van der Maaten and Hinton [\\[1\\]](http://www.jmlr.org/papers/volume9/vandermaaten08a/vandermaaten08a.pdf). t-SNE (tries to) preserves *local distances* when coordinates are transformes to lower dimensions (i.e preserves clusters).\n",
    "Things to consider:\n",
    "1. What is the impact of reducing *only a subset* of the coordinates (compares to reducing the entire vocabulary)? That is, if we are intresested in a subset of words, we can 1) reduce the entire vocabulary or 2) only reduce the subset (for speed). \n",
    "2. t-SNE has a “perplexity” parameter which effects the local vs global clustering of the data. The perplexity affects the (guessed) distributon of neighbouring points to a given point. It is important to try different values for this parameter."
   ]
  },
  {
   "cell_type": "code",
   "execution_count": 25,
   "metadata": {
    "code_folding": []
   },
   "outputs": [
    {
     "data": {
      "text/html": [
       "\n",
       "<div class=\"bk-root\">\n",
       "    <div class=\"bk-plotdiv\" id=\"6f4cff8e-8dc0-43fc-80d4-c1582fe565fa\"></div>\n",
       "</div>"
      ]
     },
     "metadata": {},
     "output_type": "display_data"
    },
    {
     "data": {
      "application/javascript": [
       "(function(root) {\n",
       "  function embed_document(root) {\n",
       "    \n",
       "  var docs_json = {\"fd5a6920-7f4a-468d-a751-ab6a930cdd33\":{\"roots\":{\"references\":[{\"attributes\":{\"callback\":null,\"column_names\":[\"y\",\"w\",\"x\"],\"data\":{\"w\":[\"\"],\"x\":[0],\"y\":[0]}},\"id\":\"a9ff342e-c246-43fa-8534-79a5a48148f2\",\"type\":\"ColumnDataSource\"},{\"attributes\":{},\"id\":\"bcaef812-a249-4cf2-8f0a-c5f3c924be1a\",\"type\":\"SaveTool\"},{\"attributes\":{},\"id\":\"fed44bb2-05dd-46ca-bc0d-c8d465901b08\",\"type\":\"LinearScale\"},{\"attributes\":{\"fill_color\":{\"value\":\"#1f77b4\"},\"line_color\":{\"value\":\"#1f77b4\"},\"x\":{\"field\":\"x\"},\"y\":{\"field\":\"y\"}},\"id\":\"7095cd30-a32b-457d-9dca-84c74e9aab64\",\"type\":\"Circle\"},{\"attributes\":{\"fill_alpha\":{\"value\":0.1},\"fill_color\":{\"value\":\"#1f77b4\"},\"line_alpha\":{\"value\":0.1},\"line_color\":{\"value\":\"#1f77b4\"},\"x\":{\"field\":\"x\"},\"y\":{\"field\":\"y\"}},\"id\":\"96cdc5e4-cc19-4a2b-8065-a4d7a780dc9b\",\"type\":\"Circle\"},{\"attributes\":{\"active_drag\":\"auto\",\"active_inspect\":\"auto\",\"active_scroll\":\"auto\",\"active_tap\":\"auto\",\"tools\":[{\"id\":\"7825958f-da60-4aef-874c-3954ac6292ba\",\"type\":\"PanTool\"},{\"id\":\"1d3d3dc2-9060-4b7c-a94e-4163138a7451\",\"type\":\"WheelZoomTool\"},{\"id\":\"b802690d-9cdc-44a8-9d79-9cbbb7d11597\",\"type\":\"BoxZoomTool\"},{\"id\":\"edccb9a9-fb12-4239-84cf-81e9ef924cc8\",\"type\":\"ResetTool\"},{\"id\":\"bcaef812-a249-4cf2-8f0a-c5f3c924be1a\",\"type\":\"SaveTool\"}]},\"id\":\"797784b9-ec65-42df-b6c5-39f82b6e793b\",\"type\":\"Toolbar\"},{\"attributes\":{\"callback\":null},\"id\":\"07432650-7313-488d-9d8e-b44acfad785a\",\"type\":\"DataRange1d\"},{\"attributes\":{},\"id\":\"95897d47-f6bf-4775-bf45-12f1af7ac792\",\"type\":\"LinearScale\"},{\"attributes\":{},\"id\":\"1d3d3dc2-9060-4b7c-a94e-4163138a7451\",\"type\":\"WheelZoomTool\"},{\"attributes\":{\"callback\":null},\"id\":\"863f34d2-f49b-4722-a6e3-60790852f376\",\"type\":\"DataRange1d\"},{\"attributes\":{\"overlay\":{\"id\":\"364fcc4f-fa0e-420f-a8e5-76ca2d53a14d\",\"type\":\"BoxAnnotation\"}},\"id\":\"b802690d-9cdc-44a8-9d79-9cbbb7d11597\",\"type\":\"BoxZoomTool\"},{\"attributes\":{\"level\":\"glyph\",\"plot\":{\"id\":\"5ba2c2f6-f1ca-4793-a3fb-86f41d600c65\",\"subtype\":\"Figure\",\"type\":\"Plot\"},\"source\":{\"id\":\"a9ff342e-c246-43fa-8534-79a5a48148f2\",\"type\":\"ColumnDataSource\"},\"text\":{\"field\":\"w\"},\"x\":{\"field\":\"x\"},\"x_offset\":{\"value\":-2},\"y\":{\"field\":\"y\"},\"y_offset\":{\"value\":5}},\"id\":\"7d0a436a-0554-42b2-90b9-ff6e25d102e3\",\"type\":\"LabelSet\"},{\"attributes\":{\"bottom_units\":\"screen\",\"fill_alpha\":{\"value\":0.5},\"fill_color\":{\"value\":\"lightgrey\"},\"left_units\":\"screen\",\"level\":\"overlay\",\"line_alpha\":{\"value\":1.0},\"line_color\":{\"value\":\"black\"},\"line_dash\":[4,4],\"line_width\":{\"value\":2},\"plot\":null,\"render_mode\":\"css\",\"right_units\":\"screen\",\"top_units\":\"screen\"},\"id\":\"364fcc4f-fa0e-420f-a8e5-76ca2d53a14d\",\"type\":\"BoxAnnotation\"},{\"attributes\":{\"data_source\":{\"id\":\"a9ff342e-c246-43fa-8534-79a5a48148f2\",\"type\":\"ColumnDataSource\"},\"glyph\":{\"id\":\"7095cd30-a32b-457d-9dca-84c74e9aab64\",\"type\":\"Circle\"},\"hover_glyph\":null,\"muted_glyph\":null,\"nonselection_glyph\":{\"id\":\"96cdc5e4-cc19-4a2b-8065-a4d7a780dc9b\",\"type\":\"Circle\"},\"selection_glyph\":null,\"view\":{\"id\":\"d0a02648-2303-47c7-9b2e-eca461de4dfe\",\"type\":\"CDSView\"}},\"id\":\"6d07f8d3-74f3-4f57-a4ca-846bd15ebc71\",\"type\":\"GlyphRenderer\"},{\"attributes\":{},\"id\":\"7825958f-da60-4aef-874c-3954ac6292ba\",\"type\":\"PanTool\"},{\"attributes\":{\"source\":{\"id\":\"a9ff342e-c246-43fa-8534-79a5a48148f2\",\"type\":\"ColumnDataSource\"}},\"id\":\"d0a02648-2303-47c7-9b2e-eca461de4dfe\",\"type\":\"CDSView\"},{\"attributes\":{},\"id\":\"edccb9a9-fb12-4239-84cf-81e9ef924cc8\",\"type\":\"ResetTool\"},{\"attributes\":{\"plot\":null,\"text\":\"T-SNE Dimensionality Reduction of Word Vector Space Model\"},\"id\":\"e10ad470-0861-416e-9676-e56f3935ce75\",\"type\":\"Title\"},{\"attributes\":{\"plot_width\":900,\"renderers\":[{\"id\":\"364fcc4f-fa0e-420f-a8e5-76ca2d53a14d\",\"type\":\"BoxAnnotation\"},{\"id\":\"6d07f8d3-74f3-4f57-a4ca-846bd15ebc71\",\"type\":\"GlyphRenderer\"},{\"id\":\"7d0a436a-0554-42b2-90b9-ff6e25d102e3\",\"type\":\"LabelSet\"}],\"title\":{\"id\":\"e10ad470-0861-416e-9676-e56f3935ce75\",\"type\":\"Title\"},\"toolbar\":{\"id\":\"797784b9-ec65-42df-b6c5-39f82b6e793b\",\"type\":\"Toolbar\"},\"x_range\":{\"id\":\"863f34d2-f49b-4722-a6e3-60790852f376\",\"type\":\"DataRange1d\"},\"x_scale\":{\"id\":\"95897d47-f6bf-4775-bf45-12f1af7ac792\",\"type\":\"LinearScale\"},\"y_range\":{\"id\":\"07432650-7313-488d-9d8e-b44acfad785a\",\"type\":\"DataRange1d\"},\"y_scale\":{\"id\":\"fed44bb2-05dd-46ca-bc0d-c8d465901b08\",\"type\":\"LinearScale\"}},\"id\":\"5ba2c2f6-f1ca-4793-a3fb-86f41d600c65\",\"subtype\":\"Figure\",\"type\":\"Plot\"}],\"root_ids\":[\"5ba2c2f6-f1ca-4793-a3fb-86f41d600c65\"]},\"title\":\"Bokeh Application\",\"version\":\"0.12.13\"}};\n",
       "  var render_items = [{\"docid\":\"fd5a6920-7f4a-468d-a751-ab6a930cdd33\",\"elementid\":\"6f4cff8e-8dc0-43fc-80d4-c1582fe565fa\",\"modelid\":\"5ba2c2f6-f1ca-4793-a3fb-86f41d600c65\",\"notebook_comms_target\":\"522af7ed-e0da-4929-bf5b-84f3fd798a95\"}];\n",
       "  root.Bokeh.embed.embed_items_notebook(docs_json, render_items);\n",
       "\n",
       "  }\n",
       "  if (root.Bokeh !== undefined) {\n",
       "    embed_document(root);\n",
       "  } else {\n",
       "    var attempts = 0;\n",
       "    var timer = setInterval(function(root) {\n",
       "      if (root.Bokeh !== undefined) {\n",
       "        embed_document(root);\n",
       "        clearInterval(timer);\n",
       "      }\n",
       "      attempts++;\n",
       "      if (attempts > 100) {\n",
       "        console.log(\"Bokeh: ERROR: Unable to run BokehJS code because BokehJS library is missing\")\n",
       "        clearInterval(timer);\n",
       "      }\n",
       "    }, 10, root)\n",
       "  }\n",
       "})(window);"
      ],
      "application/vnd.bokehjs_exec.v0+json": ""
     },
     "metadata": {
      "application/vnd.bokehjs_exec.v0+json": {
       "id": "5ba2c2f6-f1ca-4793-a3fb-86f41d600c65"
      }
     },
     "output_type": "display_data"
    }
   ],
   "source": [
    "# Setup T-SNE Plot\n",
    "def setup_tsne_plot():\n",
    "    xp = bp.figure(\n",
    "        plot_width=900, plot_height=600, title='T-SNE Dimensionality Reduction of Word Vector Space Model',\n",
    "        tools=TOOLS, toolbar_location=\"right\",\n",
    "        x_axis_type=None, y_axis_type=None\n",
    "    )\n",
    "    source = ColumnDataSource(dict(w=[''],x=[0], y=[0]))\n",
    "    crs = xp.scatter(x='x', y='y', source=source)\n",
    "    crl = bm.LabelSet(x='x', y='y', text='w', level='glyph', x_offset=-2, y_offset=5, source=source)\n",
    "    xp.add_layout(crl)\n",
    "    handle = bp.show(xp, notebook_handle=True)\n",
    "    return types.SimpleNamespace(handle=handle,source=source,points=crs,labels=crl)\n",
    "\n",
    "def tsne_plot_reduce(words_of_interest, method='tsne', perplexity=30):\n",
    "    global state\n",
    "    X_m_space, index2word = WordVectorUtility.create_X_m_space_matrix(state.wordvectors, words_of_interest)\n",
    "    opts = dict(n_components=2, init='pca', random_state=55887, perplexity=perplexity)\n",
    "    X_2_space = VectorSpaceHelper.reduce_dimensions(X_m_space, method=method, **opts)\n",
    "    return X_2_space, index2word\n",
    "    \n",
    "tsne_plot = setup_tsne_plot()\n"
   ]
  },
  {
   "cell_type": "code",
   "execution_count": 26,
   "metadata": {
    "code_folding": [
     0
    ]
   },
   "outputs": [
    {
     "data": {
      "application/vnd.jupyter.widget-view+json": {
       "model_id": "8f1d14f605be4a138e68f62be8ff58f3",
       "version_major": 2,
       "version_minor": 0
      },
      "text/html": [
       "<p>Failed to display Jupyter Widget of type <code>VBox</code>.</p>\n",
       "<p>\n",
       "  If you're reading this message in the Jupyter Notebook or JupyterLab Notebook, it may mean\n",
       "  that the widgets JavaScript is still loading. If this message persists, it\n",
       "  likely means that the widgets JavaScript library is either not installed or\n",
       "  not enabled. See the <a href=\"https://ipywidgets.readthedocs.io/en/stable/user_install.html\">Jupyter\n",
       "  Widgets Documentation</a> for setup instructions.\n",
       "</p>\n",
       "<p>\n",
       "  If you're reading this message in another frontend (for example, a static\n",
       "  rendering on GitHub or <a href=\"https://nbviewer.jupyter.org/\">NBViewer</a>),\n",
       "  it may mean that your frontend doesn't currently support widgets.\n",
       "</p>\n"
      ],
      "text/plain": [
       "VBox(children=(HBox(children=(Textarea(value='', description='Words', layout=Layout(height='200px', width='80%'), placeholder='(enter or paste words to be plotted)'), Dropdown(description='Method', index=1, options=('tsne', 'pca'), value='pca'))), IntProgress(value=0, description='Idle', layout=Layout(width='80%'), max=5), Output()))"
      ]
     },
     "metadata": {},
     "output_type": "display_data"
    }
   ],
   "source": [
    "# T-SNE Plot\n",
    "def update_tsne_plot(x,y,w):\n",
    "    tsne_plot.source.data.update(dict(w=w,x=x, y=y))\n",
    "    bio.push_notebook(handle=tsne_plot.handle)\n",
    "    \n",
    "def reduce_dimensions_and_display_words(raw_text):\n",
    "    global state, u\n",
    "    if len(raw_text) > 0 and raw_text[-1] != ' ':\n",
    "        return\n",
    "    words_of_interest = list(set(word_tokenize(raw_text)))\n",
    "\n",
    "    if len(words_of_interest) >= 3:\n",
    "        u.progress.value = 2\n",
    "        X_2_space, index2word = tsne_plot_reduce(words_of_interest)\n",
    "        u.progress.value = 3\n",
    "        update_tsne_plot(x=X_2_space[:, 0], y=X_2_space[:, 1], w=index2word)\n",
    "        u.progress.value = 5\n",
    "    u.progress.value = 0\n",
    "    \n",
    "u = BaseWidgetUtility(\n",
    "    progress = wf.create_int_progress_widget(\n",
    "        description='Idle', min=0, max=5, step=1, value=0, layout=widgets.Layout(width='80%')\n",
    "    ),\n",
    "    words=wf.create_text_area_input_widget(\n",
    "        description='Words', placeholder='(enter or paste words to be plotted)',\n",
    "        value='',layout=widgets.Layout(width='80%', height='200px') #, continuous_update=False\n",
    "    ),\n",
    "    method=wf.create_select_widget(description='Method', options=['tsne', 'pca'], value='pca')\n",
    ")\n",
    "\n",
    "iwa = widgets.interactive(reduce_dimensions_and_display_words, raw_text=u.words, method=u.method)\n",
    "display(widgets.VBox(\n",
    "    (widgets.HBox((u.words,) + (u.method,)),) +\n",
    "    (u.progress,) + (iwa.children[-1],)))\n",
    "iwa.update()"
   ]
  },
  {
   "cell_type": "code",
   "execution_count": 22,
   "metadata": {},
   "outputs": [
    {
     "data": {
      "text/plain": [
       "'vehicles projektledare analyser addendum moderniseringar fördröjt assessorn synnerlig mätningarna advancement quality energiska bildning tillkommer go venedig massiv informationsbitar kyrkas kopparverk jämförelsevis cern broschyrer landsvägen praktisera hvari pentium lösta 1860s skellefteå modifierade elan ledningarna navigera dockebyggnaden synen heritage ridån ocb individual jämnhet rutnät göran bomärke utdelning öpnas beryktade levnadsbeskrivning längsgående gasmarknaden kablarna designade halvledarteknik utger pasteur avtog stannade continental minnesbilder tv-program häri mobilen registrering framstöt kallad allsidig vistelsen exklusivt regulatorn egde jnträsenterna gastemperaturen teda inhämtas försiktiga enig torkar tangenter kornen gammaldags observed metallurg magnetosfären systemtänkande funderingar avspelning underkastades tändkulemotorn sällan knöts watnet dekorerat ningen informationssökning ökningen page vrids murbruk strumpor udden förbinder trakter polen tävla mål knaggar konstaterande murray uppgiften hammarbruken mm banting wärken preservation löjtnant sama caroline radiostationen mudderpråm except romarrikets pappersmassa intakt lugnt inhämtade zonca nedlagd medeltid palmstierna begge betryggande plastic sönderdelningen hornet malmen oenighet utstyret inkommo givetvis twärt samtid vinning fusioner amanuens itt ivrigaste ryds öden mista skänka vittnen ägs phenomenon retorts koleldning tapp åkning truckar hartz gulbrännande isotopen kundkretsen metallic anskaffades plåtslageriet samverkan vik synsätt nyfikenheten läkarvård tyskt grufvorne miljontals avsnitten inrättats mottagarstationen elektroniskt pottaskeraffinaderi vevstakar rhode yppa oas delegationen debattörer vald heinrich stavsjö kättingen federation strävandena treatise kartongark ögonvittne hope föremålssamlingar brukas appeared örnar patriarkala herrar diupet förlorade trumma flussmedel förvandlas inmurade ph.d fingo omsvängningen mikrokosmos berliners grävdes mikroskop hebbe kupolugn altaret double c/ analoga samlingslokaler känseln bero lättvattenkokare dymedelst tafatt formuleringar tröst anfall axel vattenmärke trettiotal arvid installerat ännu upptäckare schening wrench friend kontorspersonalen -ig öppnat mfi-10 myten tele-x skuggor onaturligt hindra infogas flygfisken registrerats'"
      ]
     },
     "execution_count": 22,
     "metadata": {},
     "output_type": "execute_result"
    }
   ],
   "source": [
    "' '.join(list(state.wordvectors.vocab.keys())[:250])"
   ]
  },
  {
   "cell_type": "markdown",
   "metadata": {},
   "source": [
    "### Word Vector Expression Calculator\n",
    "The **compute_most_similar_expression** function in ModelUtility parses a string of words each (optionally) prefixed with a plus or minus sign. The extracted \"positive\" and \"negative\" words are then used as arguments to gensims **most_similar** function, which, using numeric vector operations (add and subtract) finds the words most similar (cosine similarity) to the result of the given expression."
   ]
  },
  {
   "cell_type": "code",
   "execution_count": 23,
   "metadata": {
    "code_folding": []
   },
   "outputs": [
    {
     "data": {
      "text/html": [
       "\n",
       "<div class=\"bk-root\">\n",
       "    <div class=\"bk-plotdiv\" id=\"7d7ccaaa-e5ec-4803-848a-629f73fe378c\"></div>\n",
       "</div>"
      ]
     },
     "metadata": {},
     "output_type": "display_data"
    },
    {
     "data": {
      "application/javascript": [
       "(function(root) {\n",
       "  function embed_document(root) {\n",
       "    \n",
       "  var docs_json = {\"1f81490a-ea36-462c-890a-e623aaee5b5b\":{\"roots\":{\"references\":[{\"attributes\":{\"plot\":{\"id\":\"e09b0420-ff68-48b3-a28d-2fdeb09f66be\",\"subtype\":\"Figure\",\"type\":\"Plot\"},\"ticker\":{\"id\":\"52fcb0c7-7c17-4fd2-b241-b26166cecde5\",\"type\":\"BasicTicker\"}},\"id\":\"7fb6535f-05c8-4aec-abbe-0d7684d3a7c0\",\"type\":\"Grid\"},{\"attributes\":{\"line_alpha\":{\"value\":0.2},\"plot\":null,\"size\":10},\"id\":\"5b4a3675-9007-4595-bbe9-cd5d2be00a89\",\"type\":\"NormalHead\"},{\"attributes\":{\"callback\":null,\"data\":{}},\"id\":\"b5b18947-dbcc-46d1-9b30-ac89ac5ee39d\",\"type\":\"ColumnDataSource\"},{\"attributes\":{},\"id\":\"51252f0f-f8ca-4e34-bf80-b7fc07469cd4\",\"type\":\"LinearScale\"},{\"attributes\":{\"line_alpha\":{\"value\":0.2},\"plot\":null,\"size\":10},\"id\":\"fc3662ae-86d9-483f-94e3-65fef7007596\",\"type\":\"NormalHead\"},{\"attributes\":{\"level\":\"glyph\",\"plot\":{\"id\":\"e09b0420-ff68-48b3-a28d-2fdeb09f66be\",\"subtype\":\"Figure\",\"type\":\"Plot\"},\"source\":{\"id\":\"594e978c-9f22-4f88-8c24-8cc0e4ec53a3\",\"type\":\"ColumnDataSource\"},\"text\":{\"field\":\"w\"},\"x\":{\"field\":\"x\"},\"x_offset\":{\"value\":-2},\"y\":{\"field\":\"y\"},\"y_offset\":{\"value\":5}},\"id\":\"70652375-f663-4181-bf4d-ef64ab1bad2b\",\"type\":\"LabelSet\"},{\"attributes\":{},\"id\":\"85c34a16-e101-4e09-add0-2994a6608545\",\"type\":\"PanTool\"},{\"attributes\":{\"overlay\":{\"id\":\"4b381dd7-06d5-4477-b6bc-d7f9d68d94ac\",\"type\":\"BoxAnnotation\"}},\"id\":\"2a4cac32-dfaa-40fc-a6c7-83b85a4a4dac\",\"type\":\"BoxZoomTool\"},{\"attributes\":{\"source\":{\"id\":\"b5b18947-dbcc-46d1-9b30-ac89ac5ee39d\",\"type\":\"ColumnDataSource\"}},\"id\":\"bc7d47f4-fe47-4209-aecf-776d08c7d69c\",\"type\":\"CDSView\"},{\"attributes\":{\"data_source\":{\"id\":\"1b785b54-af69-4d27-b3dd-6570fba095eb\",\"type\":\"ColumnDataSource\"},\"glyph\":{\"id\":\"63a5fcf3-e294-4871-bd62-500da95560b7\",\"type\":\"Circle\"},\"hover_glyph\":null,\"muted_glyph\":null,\"nonselection_glyph\":{\"id\":\"5da023d9-cd28-4475-b89d-33cfcc943e07\",\"type\":\"Circle\"},\"selection_glyph\":null,\"view\":{\"id\":\"3461fd10-ff47-402b-ae25-ee3baeb846a3\",\"type\":\"CDSView\"}},\"id\":\"4413924d-16e4-40f6-aeb8-d6bff418669d\",\"type\":\"GlyphRenderer\"},{\"attributes\":{},\"id\":\"0abf561a-de8d-4bf6-8585-628dbbd03ad2\",\"type\":\"BasicTicker\"},{\"attributes\":{\"below\":[{\"id\":\"b3c386d9-578a-4d3c-af34-48f24dd5b1a5\",\"type\":\"LinearAxis\"}],\"left\":[{\"id\":\"e4d92dd6-7be1-4473-a7a5-25a3fe6ce2eb\",\"type\":\"LinearAxis\"}],\"plot_width\":900,\"renderers\":[{\"id\":\"b3c386d9-578a-4d3c-af34-48f24dd5b1a5\",\"type\":\"LinearAxis\"},{\"id\":\"7fb6535f-05c8-4aec-abbe-0d7684d3a7c0\",\"type\":\"Grid\"},{\"id\":\"e4d92dd6-7be1-4473-a7a5-25a3fe6ce2eb\",\"type\":\"LinearAxis\"},{\"id\":\"3f0585e9-2749-4115-9135-683b4a952dd0\",\"type\":\"Grid\"},{\"id\":\"4b381dd7-06d5-4477-b6bc-d7f9d68d94ac\",\"type\":\"BoxAnnotation\"},{\"id\":\"449e361a-b816-4a27-9b0d-d828b0e5a415\",\"type\":\"GlyphRenderer\"},{\"id\":\"4413924d-16e4-40f6-aeb8-d6bff418669d\",\"type\":\"GlyphRenderer\"},{\"id\":\"e47b07c5-3306-45db-b551-b9160f19b736\",\"type\":\"LabelSet\"},{\"id\":\"561fc1bd-e890-4d95-ae8e-9292a98de773\",\"type\":\"GlyphRenderer\"},{\"id\":\"70652375-f663-4181-bf4d-ef64ab1bad2b\",\"type\":\"LabelSet\"},{\"id\":\"b1e347cb-fee3-431a-911e-a64a1c712020\",\"type\":\"Arrow\"},{\"id\":\"ac297dc3-c7db-4719-9290-1c6b9e3fe1f7\",\"type\":\"Arrow\"}],\"title\":{\"id\":\"a4c9aba0-be8e-48be-90e1-3dcaaf5b1808\",\"type\":\"Title\"},\"toolbar\":{\"id\":\"de7fda3a-bd34-4a5e-b97c-79d4ffe6dbe7\",\"type\":\"Toolbar\"},\"x_range\":{\"id\":\"f0b9c047-5b4b-48d7-b074-561d759f7d17\",\"type\":\"DataRange1d\"},\"x_scale\":{\"id\":\"51edaf3b-2597-42b9-989d-5510d557a487\",\"type\":\"LinearScale\"},\"y_range\":{\"id\":\"e4a7f561-dc41-4df7-9be4-96b6c8e31c9a\",\"type\":\"DataRange1d\"},\"y_scale\":{\"id\":\"51252f0f-f8ca-4e34-bf80-b7fc07469cd4\",\"type\":\"LinearScale\"}},\"id\":\"e09b0420-ff68-48b3-a28d-2fdeb09f66be\",\"subtype\":\"Figure\",\"type\":\"Plot\"},{\"attributes\":{\"fill_color\":{\"value\":\"blue\"},\"line_color\":{\"value\":\"blue\"},\"size\":{\"units\":\"screen\",\"value\":10},\"x\":{\"value\":0},\"y\":{\"value\":0}},\"id\":\"20a8e4fd-4048-4adf-830c-95f74e3ad5c1\",\"type\":\"Cross\"},{\"attributes\":{\"source\":{\"id\":\"594e978c-9f22-4f88-8c24-8cc0e4ec53a3\",\"type\":\"ColumnDataSource\"}},\"id\":\"d67f128a-7b32-4a04-a545-a40a5b1a090f\",\"type\":\"CDSView\"},{\"attributes\":{\"formatter\":{\"id\":\"eac4fdd0-353b-47e3-8ac1-27d5d67900ac\",\"type\":\"BasicTickFormatter\"},\"plot\":{\"id\":\"e09b0420-ff68-48b3-a28d-2fdeb09f66be\",\"subtype\":\"Figure\",\"type\":\"Plot\"},\"ticker\":{\"id\":\"52fcb0c7-7c17-4fd2-b241-b26166cecde5\",\"type\":\"BasicTicker\"}},\"id\":\"b3c386d9-578a-4d3c-af34-48f24dd5b1a5\",\"type\":\"LinearAxis\"},{\"attributes\":{},\"id\":\"33d38939-5ad6-4480-9e9f-fe1bd8b592d7\",\"type\":\"SaveTool\"},{\"attributes\":{\"fill_color\":{\"value\":\"green\"},\"line_color\":{\"value\":\"green\"},\"size\":{\"units\":\"screen\",\"value\":5},\"x\":{\"field\":\"x\"},\"y\":{\"field\":\"y\"}},\"id\":\"99a0bb59-cd32-4f77-b4a1-6c4ffd19063d\",\"type\":\"Circle\"},{\"attributes\":{\"callback\":null},\"id\":\"f0b9c047-5b4b-48d7-b074-561d759f7d17\",\"type\":\"DataRange1d\"},{\"attributes\":{},\"id\":\"52fcb0c7-7c17-4fd2-b241-b26166cecde5\",\"type\":\"BasicTicker\"},{\"attributes\":{},\"id\":\"7e75fae4-e776-48c2-aa73-cf0364fb357e\",\"type\":\"BasicTickFormatter\"},{\"attributes\":{\"callback\":null,\"column_names\":[\"y\",\"w\",\"x\"],\"data\":{\"w\":[\"\"],\"x\":[0],\"y\":[0]}},\"id\":\"594e978c-9f22-4f88-8c24-8cc0e4ec53a3\",\"type\":\"ColumnDataSource\"},{\"attributes\":{\"level\":\"glyph\",\"plot\":{\"id\":\"e09b0420-ff68-48b3-a28d-2fdeb09f66be\",\"subtype\":\"Figure\",\"type\":\"Plot\"},\"source\":{\"id\":\"1b785b54-af69-4d27-b3dd-6570fba095eb\",\"type\":\"ColumnDataSource\"},\"text\":{\"field\":\"w\"},\"x\":{\"field\":\"x\"},\"x_offset\":{\"value\":-2},\"y\":{\"field\":\"y\"},\"y_offset\":{\"value\":5}},\"id\":\"e47b07c5-3306-45db-b551-b9160f19b736\",\"type\":\"LabelSet\"},{\"attributes\":{\"callback\":null,\"column_names\":[\"y\",\"y2\",\"w\",\"x\",\"x2\"],\"data\":{\"w\":[\"\"],\"x\":[0],\"x2\":[0],\"y\":[0],\"y2\":[0]}},\"id\":\"3d4236e9-8d4a-45d0-b17b-494a24851f1c\",\"type\":\"ColumnDataSource\"},{\"attributes\":{\"fill_alpha\":{\"value\":0.1},\"fill_color\":{\"value\":\"#1f77b4\"},\"line_alpha\":{\"value\":0.1},\"line_color\":{\"value\":\"#1f77b4\"},\"size\":{\"units\":\"screen\",\"value\":10},\"x\":{\"value\":0},\"y\":{\"value\":0}},\"id\":\"ef794ba1-2417-4105-a65f-bdc58bcba461\",\"type\":\"Cross\"},{\"attributes\":{\"plot\":null,\"text\":\"Word Vector Expressions\"},\"id\":\"a4c9aba0-be8e-48be-90e1-3dcaaf5b1808\",\"type\":\"Title\"},{\"attributes\":{},\"id\":\"eac4fdd0-353b-47e3-8ac1-27d5d67900ac\",\"type\":\"BasicTickFormatter\"},{\"attributes\":{\"data_source\":{\"id\":\"b5b18947-dbcc-46d1-9b30-ac89ac5ee39d\",\"type\":\"ColumnDataSource\"},\"glyph\":{\"id\":\"20a8e4fd-4048-4adf-830c-95f74e3ad5c1\",\"type\":\"Cross\"},\"hover_glyph\":null,\"muted_glyph\":null,\"nonselection_glyph\":{\"id\":\"ef794ba1-2417-4105-a65f-bdc58bcba461\",\"type\":\"Cross\"},\"selection_glyph\":null,\"view\":{\"id\":\"bc7d47f4-fe47-4209-aecf-776d08c7d69c\",\"type\":\"CDSView\"}},\"id\":\"449e361a-b816-4a27-9b0d-d828b0e5a415\",\"type\":\"GlyphRenderer\"},{\"attributes\":{\"callback\":null},\"id\":\"e4a7f561-dc41-4df7-9be4-96b6c8e31c9a\",\"type\":\"DataRange1d\"},{\"attributes\":{\"active_drag\":\"auto\",\"active_inspect\":\"auto\",\"active_scroll\":\"auto\",\"active_tap\":\"auto\",\"tools\":[{\"id\":\"85c34a16-e101-4e09-add0-2994a6608545\",\"type\":\"PanTool\"},{\"id\":\"af2fe9d1-cfe4-428b-a4c0-e7de57635ea6\",\"type\":\"WheelZoomTool\"},{\"id\":\"2a4cac32-dfaa-40fc-a6c7-83b85a4a4dac\",\"type\":\"BoxZoomTool\"},{\"id\":\"876fde40-3701-42eb-a6e7-aff857908458\",\"type\":\"ResetTool\"},{\"id\":\"33d38939-5ad6-4480-9e9f-fe1bd8b592d7\",\"type\":\"SaveTool\"}]},\"id\":\"de7fda3a-bd34-4a5e-b97c-79d4ffe6dbe7\",\"type\":\"Toolbar\"},{\"attributes\":{\"fill_color\":{\"value\":\"black\"},\"x\":{\"field\":\"x\"},\"y\":{\"field\":\"y\"}},\"id\":\"63a5fcf3-e294-4871-bd62-500da95560b7\",\"type\":\"Circle\"},{\"attributes\":{\"fill_alpha\":{\"value\":0.1},\"fill_color\":{\"value\":\"#1f77b4\"},\"line_alpha\":{\"value\":0.1},\"line_color\":{\"value\":\"#1f77b4\"},\"x\":{\"field\":\"x\"},\"y\":{\"field\":\"y\"}},\"id\":\"5da023d9-cd28-4475-b89d-33cfcc943e07\",\"type\":\"Circle\"},{\"attributes\":{\"end\":{\"id\":\"fc3662ae-86d9-483f-94e3-65fef7007596\",\"type\":\"NormalHead\"},\"line_color\":{\"value\":\"red\"},\"plot\":{\"id\":\"e09b0420-ff68-48b3-a28d-2fdeb09f66be\",\"subtype\":\"Figure\",\"type\":\"Plot\"},\"source\":{\"id\":\"1b785b54-af69-4d27-b3dd-6570fba095eb\",\"type\":\"ColumnDataSource\"},\"start\":null,\"x_end\":{\"field\":\"x\"},\"x_start\":{\"value\":0},\"y_end\":{\"field\":\"y\"},\"y_start\":{\"value\":0}},\"id\":\"b1e347cb-fee3-431a-911e-a64a1c712020\",\"type\":\"Arrow\"},{\"attributes\":{\"dimension\":1,\"plot\":{\"id\":\"e09b0420-ff68-48b3-a28d-2fdeb09f66be\",\"subtype\":\"Figure\",\"type\":\"Plot\"},\"ticker\":{\"id\":\"0abf561a-de8d-4bf6-8585-628dbbd03ad2\",\"type\":\"BasicTicker\"}},\"id\":\"3f0585e9-2749-4115-9135-683b4a952dd0\",\"type\":\"Grid\"},{\"attributes\":{\"end\":{\"id\":\"5b4a3675-9007-4595-bbe9-cd5d2be00a89\",\"type\":\"NormalHead\"},\"line_color\":{\"value\":\"blue\"},\"plot\":{\"id\":\"e09b0420-ff68-48b3-a28d-2fdeb09f66be\",\"subtype\":\"Figure\",\"type\":\"Plot\"},\"source\":{\"id\":\"3d4236e9-8d4a-45d0-b17b-494a24851f1c\",\"type\":\"ColumnDataSource\"},\"start\":null,\"x_end\":{\"field\":\"x2\"},\"x_start\":{\"field\":\"x\"},\"y_end\":{\"field\":\"y2\"},\"y_start\":{\"field\":\"y\"}},\"id\":\"ac297dc3-c7db-4719-9290-1c6b9e3fe1f7\",\"type\":\"Arrow\"},{\"attributes\":{\"formatter\":{\"id\":\"7e75fae4-e776-48c2-aa73-cf0364fb357e\",\"type\":\"BasicTickFormatter\"},\"plot\":{\"id\":\"e09b0420-ff68-48b3-a28d-2fdeb09f66be\",\"subtype\":\"Figure\",\"type\":\"Plot\"},\"ticker\":{\"id\":\"0abf561a-de8d-4bf6-8585-628dbbd03ad2\",\"type\":\"BasicTicker\"}},\"id\":\"e4d92dd6-7be1-4473-a7a5-25a3fe6ce2eb\",\"type\":\"LinearAxis\"},{\"attributes\":{\"source\":{\"id\":\"1b785b54-af69-4d27-b3dd-6570fba095eb\",\"type\":\"ColumnDataSource\"}},\"id\":\"3461fd10-ff47-402b-ae25-ee3baeb846a3\",\"type\":\"CDSView\"},{\"attributes\":{\"data_source\":{\"id\":\"594e978c-9f22-4f88-8c24-8cc0e4ec53a3\",\"type\":\"ColumnDataSource\"},\"glyph\":{\"id\":\"99a0bb59-cd32-4f77-b4a1-6c4ffd19063d\",\"type\":\"Circle\"},\"hover_glyph\":null,\"muted_glyph\":null,\"nonselection_glyph\":{\"id\":\"1a74b272-4cf9-46d2-90d6-04aad7e0408a\",\"type\":\"Circle\"},\"selection_glyph\":null,\"view\":{\"id\":\"d67f128a-7b32-4a04-a545-a40a5b1a090f\",\"type\":\"CDSView\"}},\"id\":\"561fc1bd-e890-4d95-ae8e-9292a98de773\",\"type\":\"GlyphRenderer\"},{\"attributes\":{},\"id\":\"876fde40-3701-42eb-a6e7-aff857908458\",\"type\":\"ResetTool\"},{\"attributes\":{},\"id\":\"af2fe9d1-cfe4-428b-a4c0-e7de57635ea6\",\"type\":\"WheelZoomTool\"},{\"attributes\":{},\"id\":\"51edaf3b-2597-42b9-989d-5510d557a487\",\"type\":\"LinearScale\"},{\"attributes\":{\"fill_alpha\":{\"value\":0.1},\"fill_color\":{\"value\":\"#1f77b4\"},\"line_alpha\":{\"value\":0.1},\"line_color\":{\"value\":\"#1f77b4\"},\"size\":{\"units\":\"screen\",\"value\":5},\"x\":{\"field\":\"x\"},\"y\":{\"field\":\"y\"}},\"id\":\"1a74b272-4cf9-46d2-90d6-04aad7e0408a\",\"type\":\"Circle\"},{\"attributes\":{\"bottom_units\":\"screen\",\"fill_alpha\":{\"value\":0.5},\"fill_color\":{\"value\":\"lightgrey\"},\"left_units\":\"screen\",\"level\":\"overlay\",\"line_alpha\":{\"value\":1.0},\"line_color\":{\"value\":\"black\"},\"line_dash\":[4,4],\"line_width\":{\"value\":2},\"plot\":null,\"render_mode\":\"css\",\"right_units\":\"screen\",\"top_units\":\"screen\"},\"id\":\"4b381dd7-06d5-4477-b6bc-d7f9d68d94ac\",\"type\":\"BoxAnnotation\"},{\"attributes\":{\"callback\":null,\"column_names\":[\"y\",\"w\",\"x\"],\"data\":{\"w\":[\"\"],\"x\":[0],\"y\":[0]}},\"id\":\"1b785b54-af69-4d27-b3dd-6570fba095eb\",\"type\":\"ColumnDataSource\"}],\"root_ids\":[\"e09b0420-ff68-48b3-a28d-2fdeb09f66be\"]},\"title\":\"Bokeh Application\",\"version\":\"0.12.13\"}};\n",
       "  var render_items = [{\"docid\":\"1f81490a-ea36-462c-890a-e623aaee5b5b\",\"elementid\":\"7d7ccaaa-e5ec-4803-848a-629f73fe378c\",\"modelid\":\"e09b0420-ff68-48b3-a28d-2fdeb09f66be\",\"notebook_comms_target\":\"8f26093c-2327-466e-a2d7-106f08b3cb14\"}];\n",
       "  root.Bokeh.embed.embed_items_notebook(docs_json, render_items);\n",
       "\n",
       "  }\n",
       "  if (root.Bokeh !== undefined) {\n",
       "    embed_document(root);\n",
       "  } else {\n",
       "    var attempts = 0;\n",
       "    var timer = setInterval(function(root) {\n",
       "      if (root.Bokeh !== undefined) {\n",
       "        embed_document(root);\n",
       "        clearInterval(timer);\n",
       "      }\n",
       "      attempts++;\n",
       "      if (attempts > 100) {\n",
       "        console.log(\"Bokeh: ERROR: Unable to run BokehJS code because BokehJS library is missing\")\n",
       "        clearInterval(timer);\n",
       "      }\n",
       "    }, 10, root)\n",
       "  }\n",
       "})(window);"
      ],
      "application/vnd.bokehjs_exec.v0+json": ""
     },
     "metadata": {
      "application/vnd.bokehjs_exec.v0+json": {
       "id": "e09b0420-ff68-48b3-a28d-2fdeb09f66be"
      }
     },
     "output_type": "display_data"
    }
   ],
   "source": [
    "#\n",
    "def update_expression_plot(exp_points, result_points, expr_trail):\n",
    "    global expression_plot\n",
    "    expression_plot.expr_words_source.data.update(exp_points)\n",
    "    expression_plot.result_words_source.data.update(result_points)\n",
    "    expression_plot.expr_trail_source.data.update(expr_trail)\n",
    "    bio.push_notebook(handle=expression_plot.handle)\n",
    "\n",
    "\n",
    "def setup_expression_plot():\n",
    "    xp = bp.figure(\n",
    "        plot_width=900, plot_height=600, title='Word Vector Expressions',\n",
    "        tools=TOOLS, toolbar_location=\"right\",\n",
    "        #x_axis_type=None, y_axis_type=None\n",
    "    )\n",
    "\n",
    "    xp.cross(x=0, y=0, size=10, color='blue')\n",
    "                                                                    \n",
    "    expr_words_source = ColumnDataSource(dict(w=[''],x=[0], y=[0]))\n",
    "    result_words_source = ColumnDataSource(dict(w=[''],x=[0], y=[0]))\n",
    "    expr_trail_source = ColumnDataSource(dict(w=[''],x=[0], y=[0], x2=[0], y2=[0]))\n",
    "    \n",
    "    crs = xp.scatter(x='x', y='y', color='black', source=expr_words_source)\n",
    "    crl = bm.LabelSet(x='x', y='y', text='w', level='glyph', x_offset=-2, y_offset=5, source=expr_words_source)\n",
    "    xp.add_layout(crl)\n",
    "    \n",
    "    rp = xp.scatter(x='x', y='y', size=5, color='green', source=result_words_source)\n",
    "    rl = bm.LabelSet(x='x', y='y', text='w', level='glyph', x_offset=-2, y_offset=5, source=result_words_source)\n",
    "    xp.add_layout(rl)\n",
    "    \n",
    "    xp.add_layout(bm.Arrow(\n",
    "        x_start=0,\n",
    "        y_start=0,\n",
    "        x_end='x',\n",
    "        y_end='y',\n",
    "        line_color='red',\n",
    "        source=expr_words_source,\n",
    "        end=bm.NormalHead(size=10, fill_color='black', fill_alpha=1.0, line_alpha=0.2),\n",
    "    ))\n",
    "\n",
    "    xp.add_layout(bm.Arrow(\n",
    "        x_start='x',\n",
    "        y_start='y',\n",
    "        x_end='x2',\n",
    "        y_end='y2',\n",
    "        line_color='blue',\n",
    "        source=expr_trail_source,\n",
    "        end=bm.NormalHead(size=10, fill_color='black', fill_alpha=1.0, line_alpha=0.2),\n",
    "    ))\n",
    " \n",
    "    handle = bp.show(xp, notebook_handle=True)\n",
    "    return types.SimpleNamespace(\n",
    "        handle=handle,\n",
    "        points=crs,\n",
    "        labels=crl,\n",
    "        expr_words_source=expr_words_source,\n",
    "        result_words_source=result_words_source,\n",
    "        expr_trail_source=expr_trail_source\n",
    "    )\n",
    "\n",
    "    \n",
    "expression_plot = setup_expression_plot()"
   ]
  },
  {
   "cell_type": "code",
   "execution_count": 24,
   "metadata": {
    "code_folding": [
     0
    ],
    "scrolled": true
   },
   "outputs": [
    {
     "data": {
      "application/vnd.jupyter.widget-view+json": {
       "model_id": "39fa0d2b0fe746c3968f31049cddddd6",
       "version_major": 2,
       "version_minor": 0
      },
      "text/html": [
       "<p>Failed to display Jupyter Widget of type <code>VBox</code>.</p>\n",
       "<p>\n",
       "  If you're reading this message in the Jupyter Notebook or JupyterLab Notebook, it may mean\n",
       "  that the widgets JavaScript is still loading. If this message persists, it\n",
       "  likely means that the widgets JavaScript library is either not installed or\n",
       "  not enabled. See the <a href=\"https://ipywidgets.readthedocs.io/en/stable/user_install.html\">Jupyter\n",
       "  Widgets Documentation</a> for setup instructions.\n",
       "</p>\n",
       "<p>\n",
       "  If you're reading this message in another frontend (for example, a static\n",
       "  rendering on GitHub or <a href=\"https://nbviewer.jupyter.org/\">NBViewer</a>),\n",
       "  it may mean that your frontend doesn't currently support widgets.\n",
       "</p>\n"
      ],
      "text/plain": [
       "VBox(children=(HBox(children=(Text(value='', description='Expression', layout=Layout(width='90%'), placeholder='(enter expression e.g. sverige + oslo - stockholm)'),)), HBox(children=(Dropdown(description='Reducer', index=1, options=('pca', 'tsne'), value='tsne'), IntSlider(value=10, continuous_update=False, description='Perplexity', min=10))), Output()))"
      ]
     },
     "metadata": {},
     "output_type": "display_data"
    }
   ],
   "source": [
    "# Calculator\n",
    "history_state = ['', 'man - pojke + flicka']\n",
    "z = BaseWidgetUtility(\n",
    "    method = wf.create_select_widget(\n",
    "        description='Reducer',\n",
    "        options=['pca', 'tsne' ],\n",
    "        value='tsne'\n",
    "    ),\n",
    "    perplexity=wf.create_int_slider(description='Perplexity', min=10, max=100, step=1, value=0),\n",
    "    expression = wf.create_text_input_widget(\n",
    "        description='Expression',\n",
    "        placeholder='(enter expression e.g. sverige + oslo - stockholm)',\n",
    "        value='',\n",
    "        layout=widgets.Layout(width='90%')\n",
    "    )\n",
    ")\n",
    "\n",
    "def compute_expression(expression, method, perplexity, n_top=10):\n",
    "    global state, history_state\n",
    "    \n",
    "    result, options = WordVectorUtility.compute_most_similar_expression(state.wordvectors, expression)\n",
    "\n",
    "    if result is None or options is None:\n",
    "        return\n",
    "    \n",
    "    expression_words = (options['positives'] or []) + (options['negatives'] or [])\n",
    "    \n",
    "    #if len(expression_words) < 3:\n",
    "    #    return\n",
    "    \n",
    "    result_words, result_weights = list(zip(*result[:n_top]))\n",
    "    result_words = [ z for z in result_words if z not in expression_words ]\n",
    "\n",
    "    #df = pd.DataFrame(result_words).assign(weight=result_weights)\n",
    "    #display(HTML(df.to_html()))\n",
    "    #return\n",
    "    \n",
    "    X_2_space, index2word = tsne_plot_reduce(expression_words+result_words,perplexity=perplexity)\n",
    "    \n",
    "    word2index = dict(zip(index2word, range(0, len(index2word))))\n",
    "\n",
    "    expr_index = [ word2index[x] for x in expression_words ]\n",
    "    result_index = [ word2index[x] for x in result_words ]\n",
    "    positives = options['positives']\n",
    "    color = len(index2word) * ['red']\n",
    "    expr_words=dict(\n",
    "        x=list(X_2_space[expr_index, 0]),\n",
    "        y=list(X_2_space[expr_index, 1]),\n",
    "        w=[ index2word[i] for i in expr_index ],\n",
    "        s=[ index2word[i] in positives for i in expr_index ]\n",
    "    )\n",
    "    result_words=dict(\n",
    "        x=list(X_2_space[result_index, 0]),\n",
    "        y=list(X_2_space[result_index, 1]),\n",
    "        w=[ index2word[i] for i in result_index ],\n",
    "    )\n",
    "    \n",
    "    expr_points = [dict(zip(expr_words,t)) for t in zip(*expr_words.values())]\n",
    "    trail = [dict(x=0, y=0, w='', x2=0, y2=0)]\n",
    "    for p in expr_points:\n",
    "        tp = trail[-1]\n",
    "        sign = 1 if p['s'] else -1\n",
    "        x, y = tp['x'] + sign * p['x'], tp['y'] + sign * p['y']\n",
    "        w = tp['w'] + (' + ' if p['s'] else ' - ') + p['w']\n",
    "        np = dict(x=x, y=y, w=w, x2=0, y2=0)\n",
    "        tp['x2'], tp['y2'] = np['x'], np['y']\n",
    "        trail += [ np ]\n",
    "    \n",
    "    expr_trail = dict(\n",
    "        x=[ p['x'] for p in trail ][1:-1],\n",
    "        y=[ p['y'] for p in trail ][1:-1],\n",
    "        w=[ p['w'] for p in trail ][1:-1],\n",
    "        x2=[ p['x2'] for p in trail ][1:-1],\n",
    "        y2=[ p['y2'] for p in trail ][1:-1]\n",
    "    )\n",
    "\n",
    "    update_expression_plot(expr_words, result_words, expr_trail)\n",
    "    \n",
    "    #point_map = dict(zip(index2word, zip(X_2_space[:, 0], X_2_space[:, 1])))\n",
    "\n",
    "    #update_expression_plot(x=X_2_space[:, 0], y=X_2_space[:, 1], w=index2word)\n",
    "            \n",
    "    df = pd.DataFrame(result_words).assign(weight=result_weights)\n",
    "    display(HTML(df.to_html()))\n",
    "        \n",
    "\n",
    "w = widgets.interactive(compute_expression, expression=z.expression, method=z.method, perplexity=z.perplexity)\n",
    "display(widgets.VBox(\n",
    "    (widgets.HBox((z.expression,)),) +\n",
    "    (widgets.HBox((z.method,) + (z.perplexity,)),) +\n",
    "    (w.children[-1],)\n",
    "    )\n",
    ")\n",
    "# w.update()\n",
    "# sverige + oslo - stockholm  "
   ]
  },
  {
   "cell_type": "markdown",
   "metadata": {},
   "source": [
    "### Test - T-SNE Reduction of Words"
   ]
  },
  {
   "cell_type": "markdown",
   "metadata": {},
   "source": [
    "Plot top N words with different perplexities:"
   ]
  },
  {
   "cell_type": "code",
   "execution_count": null,
   "metadata": {
    "scrolled": false
   },
   "outputs": [],
   "source": [
    "\n",
    "def scatter_plot_xy_words(\n",
    "    df_words, title='', xlabel='', ylabel='',\n",
    "    line_data=False, filename=None, default_color='blue',\n",
    "    plot_width=900, plot_height=900\n",
    "):\n",
    "\n",
    "    plot = bp.figure(\n",
    "        plot_width=plot_width, plot_height=plot_height, title=title,\n",
    "        tools=\"pan,wheel_zoom,box_zoom,reset,hover,previewsave\", toolbar_location=\"above\"\n",
    "    )\n",
    "\n",
    "    color = 'color' if 'color' in df_words.columns else default_color\n",
    "    \n",
    "    plot.scatter(x='x', y='y', size=8, source=df_words, alpha=0.5, color=color)\n",
    "    \n",
    "    plot.xaxis[0].axis_label = xlabel\n",
    "    plot.yaxis[0].axis_label = ylabel\n",
    "\n",
    "    source = bm.ColumnDataSource(df_words)\n",
    "    labels = bm.LabelSet(x='x', y='y', text='words', level='glyph',\n",
    "                      text_font_size=\"9pt\", x_offset=5, y_offset=5, source=source, render_mode='canvas')\n",
    "\n",
    "    hover = plot.select(dict(type=bm.HoverTool))\n",
    "    hover.tooltips={\"word\": \"@words\"}\n",
    "    \n",
    "    if line_data is True:\n",
    "        end_arrow = bm.OpenHead(line_color=\"firebrick\", line_width=1, size=10)\n",
    "        for i in range(1, len(df_words.index), 2):\n",
    "            x_start, y_start = df_words.iloc[i-1]['x'], df_words.iloc[i-1]['y']\n",
    "            x_end, y_end = df_words.iloc[i]['x'], df_words.iloc[i]['y']\n",
    "            plot.add_layout(bm.Arrow(end=end_arrow, x_start=x_start, y_start=y_start, x_end=x_end, y_end=y_end))\n",
    "\n",
    "    plot.add_layout(labels)\n",
    "    return plot\n",
    "\n",
    "# dimensionality reduction - selected word vectors are converted to 2d vectors\n",
    "def reduce_dimensions(X_m_space, n_components=2, perplexity=30):\n",
    "    from sklearn.manifold import TSNE\n",
    "    tsne_model = TSNE(n_components=n_components, perplexity=perplexity, verbose=0, random_state=0)\n",
    "    X_2_space = tsne_model.fit_transform(X_m_space)\n",
    "    return X_2_space\n",
    "\n",
    "TITLES = { 'title': \"Word vectors reduced to XY using T-SNE\", 'xlabel': 'X-component', 'ylabel': 'Y-component' }\n",
    "@interact(w=(0,100),perplexity=(1,100))\n",
    "def update(w=10,perplexity=30):\n",
    "    global state\n",
    "    words_of_interest = list(state.wordvectors.vocab.keys())[:w]\n",
    "    ids_of_interest = [ state.wordvectors.vocab[x] for x in words_of_interest ]\n",
    "    X_m_space = state.wordvectors if words_of_interest is None else \\\n",
    "        [state.wordvectors[w] for w in words_of_interest]\n",
    "    X_2_space = reduce_dimensions(X_m_space, n_components=2, perplexity=perplexity)\n",
    "    tsne_df = pd.DataFrame(X_2_space, columns=['x', 'y']).assign(words=words_of_interest)\n",
    "    p2 = bokeh_scatter_plot_xy_words(tsne_df, line_data=True, **TITLES)\n",
    "    show(p2)\n",
    "    "
   ]
  },
  {
   "cell_type": "markdown",
   "metadata": {},
   "source": [
    "### Plot word pairs"
   ]
  },
  {
   "cell_type": "code",
   "execution_count": null,
   "metadata": {
    "scrolled": false
   },
   "outputs": [],
   "source": [
    "words_of_interest =  ['heaven', 'hell', 'boy', 'girl', 'husband', 'wife', 'son', 'daughter', 'father', 'mother']\n",
    "tsne_df = reduce_dimensions(word_vectors, words_of_interest)\n",
    "p3 = bokeh_scatter_plot_xy_words(tsne_df, line_data=True, **TITLES)\n",
    "show(p3, notebook_handle=True)"
   ]
  },
  {
   "cell_type": "code",
   "execution_count": null,
   "metadata": {
    "scrolled": false
   },
   "outputs": [],
   "source": [
    "holy_words = ['divine', 'hallowed', 'humble', 'pure', 'revered', 'righteous', 'spiritual', 'sublime', 'believing', 'clean', 'devotional', 'faithful', 'good', 'innocent', 'moral', 'perfect', 'upright', 'angelic', 'blessed', 'chaste', 'consecrated', 'dedicated', 'devoted', 'devout', 'faultless', 'glorified', 'god-fearing', 'godlike', 'godly', 'immaculate', 'just', 'messianic', 'pietistic', 'pious', 'prayerful', 'reverent', 'sacrosanct', 'sainted', 'saintlike', 'saintly', 'sanctified', 'seraphic', 'spotless', 'uncorrupt', 'undefiled', 'untainted', 'unworldly', 'venerable', 'venerated']\n",
    "holy_antonyms = ['lewd', 'nefarious', 'shameless', 'sinful', 'vicious', 'vile', 'wanton', 'warped', 'wicked', 'abandoned', 'base', 'debased', 'debauched', 'degenerate', 'degraded', 'dirty', 'fast', 'low', 'mean', 'perverted', 'twisted', 'vitiate', 'vitiated', 'bad', 'dirty-minded', 'dissolute', 'evil', 'filthy', 'flagitous', 'gone to the dogs', 'kinky', 'lascivious', 'licentious', 'miscreant', 'profligate', 'putrid', 'rotten', 'unhealthy', 'unnatural', 'villainous']\n",
    "\n",
    "words_of_interest = [ x for x in holy_words + holy_antonyms if x in word_vectors.vocab.keys() ]\n",
    "tsne_df = reduce_dimensions(word_vectors, words_of_interest)\n",
    "tsne_df['color'] = tsne_df.words.apply(lambda x: 'green' if x in holy_words else 'firebrick')\n",
    "p4 = bokeh_scatter_plot_xy_words(tsne_df, **TITLES)\n",
    "show(p4)"
   ]
  },
  {
   "cell_type": "markdown",
   "metadata": {},
   "source": [
    "### Visualize anthologies"
   ]
  },
  {
   "cell_type": "code",
   "execution_count": null,
   "metadata": {
    "scrolled": true
   },
   "outputs": [],
   "source": [
    "def compute_similarity_to_anthologies(word_vectors, scale_x_pair, scale_y_pair, word_list):\n",
    "\n",
    "    scale_x = word_vectors[scale_x_pair[0]] - word_vectors[scale_x_pair[1]]\n",
    "    scale_y = word_vectors[scale_y_pair[0]] - word_vectors[scale_y_pair[1]]\n",
    "\n",
    "    word_x_similarity = [1 - spatial.distance.cosine(scale_x, word_vectors[x]) for x in word_list ]\n",
    "    word_y_similarity = [1 - spatial.distance.cosine(scale_y, word_vectors[x]) for x in word_list ]\n",
    "\n",
    "    df = pd.DataFrame({ 'words': word_list, 'x': word_x_similarity, 'y': word_y_similarity })\n",
    "\n",
    "    return df\n",
    "\n",
    "def compute_similarity_to_single_words(word_vectors, word_x, word_y, word_list):\n",
    "\n",
    "    word_x_similarity = [ word_vectors.similarity(x, word_x) for x in word_list ]\n",
    "    word_y_similarity = [ word_vectors.similarity(x, word_y) for x in word_list ]\n",
    "\n",
    "    df = pd.DataFrame({ 'words': word_list, 'x': word_x_similarity, 'y': word_y_similarity })\n",
    "\n",
    "    return df\n",
    "\n",
    "def seed_word_toplist(word_vectors, seed_word, topn=100):\n",
    "     # return [ seed_word ] + [ z[0] for z in word_vectors.most_similar_cosmul(seed_word, topn=topn) ]\n",
    "     return [ seed_word ] + [ z[0] for z in word_vectors.most_similar(seed_word, topn=topn) ]\n",
    "    "
   ]
  },
  {
   "cell_type": "code",
   "execution_count": null,
   "metadata": {
    "scrolled": true
   },
   "outputs": [],
   "source": [
    "import bokeh.plotting as bp\n",
    "from bokeh.models import ColumnDataSource, HoverTool, BoxSelectTool, LabelSet, Label, Arrow, OpenHead\n",
    "from bokeh.plotting import figure, show, output_notebook, output_file\n",
    "\n",
    "TOOLS = \"pan,wheel_zoom,box_zoom,reset,hover,previewsave\"\n",
    "\n",
    "def bokeh_plot_xy_words(df_words, title='', xlabel='', ylabel='', line_data=False, filename=None, default_color='blue'):\n",
    "\n",
    "    plot = bp.figure(plot_width=700, plot_height=600, title=title, tools=TOOLS, toolbar_location=\"above\") #, x_axis_type=None, y_axis_type=None, min_border=1)\n",
    "\n",
    "    color = 'color' if 'color' in df_words.columns else default_color\n",
    "    \n",
    "    plot.xaxis[0].axis_label = xlabel\n",
    "    plot.yaxis[0].axis_label = ylabel\n",
    "\n",
    "    source = ColumnDataSource(df_words)\n",
    "\n",
    "    plot.diamond(x='x', y='y', size=8, source=df_words, alpha=0.5, color=color)\n",
    "\n",
    "    labels = LabelSet(x='x', y='y', text='words', level='glyph',text_font_size=\"9pt\", x_offset=5, y_offset=5, source=source, render_mode='canvas')\n",
    "    plot.add_layout(labels)\n",
    "\n",
    "    return plot\n",
    "\n",
    "def show_similarity_to_anthologies(word_vectors, xpair, ypair, word_list):\n",
    "    word_list = [ x for x in word_list if x in word_vectors.vocab.keys() ]\n",
    "    df = compute_similarity_to_anthologies(word_vectors, xpair, ypair, word_list)\n",
    "    xlabel = '{}{}{}'.format(xpair[1], 50 * ' ', xpair[0])\n",
    "    ylabel = '{}{}{}'.format(ypair[1], 50 * ' ', ypair[0])\n",
    "    p5 = bokeh_plot_xy_words(df, xlabel=xlabel, ylabel=ylabel)\n",
    "    show(p5)\n"
   ]
  },
  {
   "cell_type": "code",
   "execution_count": null,
   "metadata": {},
   "outputs": [],
   "source": [
    "xpair = ('west', 'east')\n",
    "ypair = ('south', 'north')\n",
    "word_list = holy_words + holy_antonyms\n",
    "show_similarity_to_anthologies(word_vectors, xpair, ypair, word_list)"
   ]
  },
  {
   "cell_type": "code",
   "execution_count": null,
   "metadata": {},
   "outputs": [],
   "source": [
    "from ipywidgets import interact\n",
    "import numpy as np\n",
    "\n",
    "from bokeh.io import push_notebook, show, output_notebook\n",
    "from bokeh.plotting import figure\n",
    "output_notebook()\n",
    "\n",
    "x = np.linspace(0, 2*np.pi, 2000)\n",
    "y = np.sin(x)\n",
    "\n",
    "p = figure(title=\"simple line example\", plot_height=300, plot_width=600, y_range=(-5,5))\n",
    "r = p.line(x, y, color=\"#2222aa\", line_width=3)"
   ]
  },
  {
   "cell_type": "code",
   "execution_count": null,
   "metadata": {},
   "outputs": [],
   "source": [
    "def update(f, w=1, A=1, phi=0):\n",
    "    if   f == \"sin\": func = np.sin\n",
    "    elif f == \"cos\": func = np.cos\n",
    "    elif f == \"tan\": func = np.tan\n",
    "    r.data_source.data['y'] = A * func(w * x + phi)\n",
    "    push_notebook()\n",
    "    show(p, notebook_handle=True)\n",
    "\n",
    "interact(update, f=[\"sin\", \"cos\", \"tan\"], w=(0,100), A=(1,5), phi=(0, 20, 0.1))"
   ]
  },
  {
   "cell_type": "code",
   "execution_count": null,
   "metadata": {},
   "outputs": [],
   "source": []
  }
 ],
 "metadata": {
  "kernelspec": {
   "display_name": "Python 3",
   "language": "python",
   "name": "python3"
  },
  "language_info": {
   "codemirror_mode": {
    "name": "ipython",
    "version": 3
   },
   "file_extension": ".py",
   "mimetype": "text/x-python",
   "name": "python",
   "nbconvert_exporter": "python",
   "pygments_lexer": "ipython3",
   "version": "3.5.3"
  }
 },
 "nbformat": 4,
 "nbformat_minor": 2
}
