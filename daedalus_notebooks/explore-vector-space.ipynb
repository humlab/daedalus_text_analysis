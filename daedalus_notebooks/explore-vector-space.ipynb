{
 "cells": [
  {
   "cell_type": "markdown",
   "metadata": {},
   "source": [
    "## Explore Daedalus Word Vector Space Models\n",
    "\n",
    "Word embeddings (a.k.a word vectors or distributed representations) is a **dense** repr of words in a (relatively) **low-dimensional vector space**, compared to e.g. one-hot representation that is high-dimensional and sparse.\n",
    "\n",
    "- Zellig S. Harris, DISTRIBUTIONAL STRUCTURE, 1954 [PDF](http://www.tandfonline.com/doi/pdf/10.1080/00437956.1954.11659520)\n",
    "- Tomas Mikolov, et. al. Efficient Estimation of Word Representations in Vector Space. [PDF](https://arxiv.org/pdf/1301.3781)\n",
    "- Tomas Mikolov, et. al. Distributed Representations of Words and Phrases and their Compositionality. [PDF](https://arxiv.org/abs/1310.4546)\n",
    "- Turney, Pantel: From frequency to meaning: Vector space models of semantics [PDF](javascript:void(0))\n",
    "- Google Code Archive word2vec [Link](https://code.google.com/archive/p/word2vec/)\n",
    "- Shusen Liu: Visual Exploration of Semantic Relationships in Neural Word Embeddings, 2018 [PDF](http://ieeexplore.ieee.org/abstract/document/8019864/)\n",
    "- Word2vec in Python, Part Two: Optimizing (RADIM ŘEHŮŘEK), [Link](http://radimrehurek.com/2013/09/word2vec-in-python-part-two-optimizing/)\n",
    "- Talk by one of gensims developers: [Video](https://www.youtube.com/watch?v=tAxrlAVw-Tk&t=17s)\n",
    "- Word2Vec lecture: [Video](https://youtu.be/T8tQZChniMk)\n",
    "- Lecture, Christoffer Mannings, Stanford: [Video](https://youtu.be/ERibwqs9p38)\n",
    "\n",
    "- How exactly does word2vec work? [PDF](http://www.1-4-5.net/~dmm/ml/how_does_word2vec_work.pdf)\n",
    "- Ryan Heuser: [Word Vectors in the Eighteenth Century](http://ryanheuser.org/word-vectors/)\n",
    "- Ben Schmidt: [Vector Space Models for the Digital Humanities](http://bookworm.benschmidt.org/posts/2015-10-25-Word-Embeddings.html) [Visualization](http://benschmidt.org/profGender/#%7B%22database%22%3A%22RMP%22%2C%22plotType%22%3A%22pointchart%22%2C%22method%22%3A%22return_json%22%2C%22search_limits%22%3A%7B%22word%22%3A%5B%22funny%22%5D%2C%22department__id%22%3A%7B%22%24lte%22%3A25%7D%7D%2C%22aesthetic%22%3A%7B%22x%22%3A%22WordsPerMillion%22%2C%22y%22%3A%22department%22%2C%22color%22%3A%22gender%22%7D%2C%22counttype%22%3A%5B%22WordsPerMillion%22%5D%2C%22groups%22%3A%5B%22department%22%2C%22gender%22%5D%2C%22testGroup%22%3A%22D%22%7D)\n",
    "- Michael A. Gavin: [The Arithmetic of Concepts: a response to Peter de Bolla](http://modelingliteraryhistory.org/2015/09/18/the-arithmetic-of-concepts-a-response-to-peter-de-bolla/)\n"
   ]
  },
  {
   "cell_type": "markdown",
   "metadata": {},
   "source": [
    "Word2vec skip-gram: Use a small window (e.g. 2 = 5 words 2 w l/r) to get an **interchangability** model, and larger window (e.g. 50) to get an **attribute** model.\n",
    "\n",
    "|Method|Origin|Description|\n",
    "|---|---|---|\n",
    "|Word2vec|Google|Needs >= 5m words. https://code.google.com/p/word2vec/|\n",
    "|FastText|Facebook|Better than Word2Vec because of use of morphology - splits words into morphemes\n",
    "|GloVe|Stanford|Non-probibalistic (numeric) GloVe\n",
    "|**WordRank**||Performs well on small data (1m words). Gives top 10 words, skips the rest. Ranks words. Slow!|\n",
    "|VarEmbed|x|x|\n",
    "\n",
    " https://github.com/pydataberlin/conf2017slides/tree/master/data_science_for_digital_humanities\n",
    " https://github.com/pydataberlin\n",
    " https://gist.github.com/tmylk\n",
    " https://gist.github.com/tmylk/690374ba266d90f11bc40221cc6d3d90\n",
    " \n",
    "#### How?\n",
    "Assume a corpus C with vocabulay V of size N. Create co-occurrence matrix $M_{CO}$ of size N x N. Dimension needs to be reduced in such a way that $(N \\times N) = (N \\times K) \\times (K \\times N)$ where K is the target dimensionality.\n",
    "$M_{CO} = U \\times V$. In word2vec $U \\times V$ is approximated to $PMI(M_{CO}) - log(m)$\n",
    "\n",
    "CO-occurrence score in word2vec = Uword * Vcontext(?)\n",
    "\n",
    "Definition of PMI, Pointwise Mutual Information, from [Q&A](https://stackoverflow.com/questions/13488817/pointwise-mutual-information-on-text). P(x, y) is probability that words x and y co-occur in the same context, P(x) and P(y) are (global) probability of x and y. This equals the probability of x occuring, given that y occur.\n",
    "\\begin{equation}\n",
    "\\mathrm{pmi}(x,y)=\\log(\\frac{P(x, y)}{P(x)P(y)})=\\log(\\frac{P(x|y)}{P(x)})\n",
    "\\end{equation}\n"
   ]
  },
  {
   "cell_type": "markdown",
   "metadata": {},
   "source": [
    "#### Sample NLP Tasks\n",
    "- Language translation, detection\n",
    "- Sentiment analysis\n",
    "- PoS-tagging, Dependency analysis\n",
    "- Document ranking/classification, sentiment analysis.\n",
    "- Document querying (compare query vector and document vector with e.g [KL-divergence](http://web.engr.illinois.edu/~hanj/cs412/bk3/KL-divergence.pdf))\n",
    "- Recommendation system (such as Spotify). See [this](http://arno.uvt.nl/show.cgi?fid=136352) and [this](https://github.com/mattdennewitz/playlist-to-vec) link.\n"
   ]
  },
  {
   "cell_type": "markdown",
   "metadata": {},
   "source": [
    "### Step 0: Setup Notebook and Dependencies\n",
    "The first three lines in the first cell runs code found in utility scripts which reside in the same folder as the notebook. The remaining lines imports dependent libraries and sets up the notebook.<img src=\"./tm-data/images/w2v-workflow-prepare.svg\">"
   ]
  },
  {
   "cell_type": "code",
   "execution_count": 1,
   "metadata": {
    "code_folding": [
     0
    ]
   },
   "outputs": [
    {
     "data": {
      "application/javascript": [
       "IPython.notebook.set_autosave_interval(120000)"
      ]
     },
     "metadata": {},
     "output_type": "display_data"
    },
    {
     "name": "stdout",
     "output_type": "stream",
     "text": [
      "Autosaving every 120 seconds\n"
     ]
    },
    {
     "data": {
      "text/html": [
       "\n",
       "    <div class=\"bk-root\">\n",
       "        <a href=\"https://bokeh.pydata.org\" target=\"_blank\" class=\"bk-logo bk-logo-small bk-logo-notebook\"></a>\n",
       "        <span id=\"33e34c73-6029-46cf-8909-b88a3efbbea0\">Loading BokehJS ...</span>\n",
       "    </div>"
      ]
     },
     "metadata": {},
     "output_type": "display_data"
    },
    {
     "data": {
      "application/javascript": [
       "\n",
       "(function(root) {\n",
       "  function now() {\n",
       "    return new Date();\n",
       "  }\n",
       "\n",
       "  var force = true;\n",
       "\n",
       "  if (typeof (root._bokeh_onload_callbacks) === \"undefined\" || force === true) {\n",
       "    root._bokeh_onload_callbacks = [];\n",
       "    root._bokeh_is_loading = undefined;\n",
       "  }\n",
       "\n",
       "  var JS_MIME_TYPE = 'application/javascript';\n",
       "  var HTML_MIME_TYPE = 'text/html';\n",
       "  var EXEC_MIME_TYPE = 'application/vnd.bokehjs_exec.v0+json';\n",
       "  var CLASS_NAME = 'output_bokeh rendered_html';\n",
       "\n",
       "  /**\n",
       "   * Render data to the DOM node\n",
       "   */\n",
       "  function render(props, node) {\n",
       "    var script = document.createElement(\"script\");\n",
       "    node.appendChild(script);\n",
       "  }\n",
       "\n",
       "  /**\n",
       "   * Handle when an output is cleared or removed\n",
       "   */\n",
       "  function handleClearOutput(event, handle) {\n",
       "    var cell = handle.cell;\n",
       "\n",
       "    var id = cell.output_area._bokeh_element_id;\n",
       "    var server_id = cell.output_area._bokeh_server_id;\n",
       "    // Clean up Bokeh references\n",
       "    if (id !== undefined) {\n",
       "      Bokeh.index[id].model.document.clear();\n",
       "      delete Bokeh.index[id];\n",
       "    }\n",
       "\n",
       "    if (server_id !== undefined) {\n",
       "      // Clean up Bokeh references\n",
       "      var cmd = \"from bokeh.io.state import curstate; print(curstate().uuid_to_server['\" + server_id + \"'].get_sessions()[0].document.roots[0]._id)\";\n",
       "      cell.notebook.kernel.execute(cmd, {\n",
       "        iopub: {\n",
       "          output: function(msg) {\n",
       "            var element_id = msg.content.text.trim();\n",
       "            Bokeh.index[element_id].model.document.clear();\n",
       "            delete Bokeh.index[element_id];\n",
       "          }\n",
       "        }\n",
       "      });\n",
       "      // Destroy server and session\n",
       "      var cmd = \"import bokeh.io.notebook as ion; ion.destroy_server('\" + server_id + \"')\";\n",
       "      cell.notebook.kernel.execute(cmd);\n",
       "    }\n",
       "  }\n",
       "\n",
       "  /**\n",
       "   * Handle when a new output is added\n",
       "   */\n",
       "  function handleAddOutput(event, handle) {\n",
       "    var output_area = handle.output_area;\n",
       "    var output = handle.output;\n",
       "\n",
       "    // limit handleAddOutput to display_data with EXEC_MIME_TYPE content only\n",
       "    if ((output.output_type != \"display_data\") || (!output.data.hasOwnProperty(EXEC_MIME_TYPE))) {\n",
       "      return\n",
       "    }\n",
       "\n",
       "    var toinsert = output_area.element.find(\".\" + CLASS_NAME.split(' ')[0]);\n",
       "\n",
       "    if (output.metadata[EXEC_MIME_TYPE][\"id\"] !== undefined) {\n",
       "      toinsert[toinsert.length - 1].firstChild.textContent = output.data[JS_MIME_TYPE];\n",
       "      // store reference to embed id on output_area\n",
       "      output_area._bokeh_element_id = output.metadata[EXEC_MIME_TYPE][\"id\"];\n",
       "    }\n",
       "    if (output.metadata[EXEC_MIME_TYPE][\"server_id\"] !== undefined) {\n",
       "      var bk_div = document.createElement(\"div\");\n",
       "      bk_div.innerHTML = output.data[HTML_MIME_TYPE];\n",
       "      var script_attrs = bk_div.children[0].attributes;\n",
       "      for (var i = 0; i < script_attrs.length; i++) {\n",
       "        toinsert[toinsert.length - 1].firstChild.setAttribute(script_attrs[i].name, script_attrs[i].value);\n",
       "      }\n",
       "      // store reference to server id on output_area\n",
       "      output_area._bokeh_server_id = output.metadata[EXEC_MIME_TYPE][\"server_id\"];\n",
       "    }\n",
       "  }\n",
       "\n",
       "  function register_renderer(events, OutputArea) {\n",
       "\n",
       "    function append_mime(data, metadata, element) {\n",
       "      // create a DOM node to render to\n",
       "      var toinsert = this.create_output_subarea(\n",
       "        metadata,\n",
       "        CLASS_NAME,\n",
       "        EXEC_MIME_TYPE\n",
       "      );\n",
       "      this.keyboard_manager.register_events(toinsert);\n",
       "      // Render to node\n",
       "      var props = {data: data, metadata: metadata[EXEC_MIME_TYPE]};\n",
       "      render(props, toinsert[toinsert.length - 1]);\n",
       "      element.append(toinsert);\n",
       "      return toinsert\n",
       "    }\n",
       "\n",
       "    /* Handle when an output is cleared or removed */\n",
       "    events.on('clear_output.CodeCell', handleClearOutput);\n",
       "    events.on('delete.Cell', handleClearOutput);\n",
       "\n",
       "    /* Handle when a new output is added */\n",
       "    events.on('output_added.OutputArea', handleAddOutput);\n",
       "\n",
       "    /**\n",
       "     * Register the mime type and append_mime function with output_area\n",
       "     */\n",
       "    OutputArea.prototype.register_mime_type(EXEC_MIME_TYPE, append_mime, {\n",
       "      /* Is output safe? */\n",
       "      safe: true,\n",
       "      /* Index of renderer in `output_area.display_order` */\n",
       "      index: 0\n",
       "    });\n",
       "  }\n",
       "\n",
       "  // register the mime type if in Jupyter Notebook environment and previously unregistered\n",
       "  if (root.Jupyter !== undefined) {\n",
       "    var events = require('base/js/events');\n",
       "    var OutputArea = require('notebook/js/outputarea').OutputArea;\n",
       "\n",
       "    if (OutputArea.prototype.mime_types().indexOf(EXEC_MIME_TYPE) == -1) {\n",
       "      register_renderer(events, OutputArea);\n",
       "    }\n",
       "  }\n",
       "\n",
       "  \n",
       "  if (typeof (root._bokeh_timeout) === \"undefined\" || force === true) {\n",
       "    root._bokeh_timeout = Date.now() + 5000;\n",
       "    root._bokeh_failed_load = false;\n",
       "  }\n",
       "\n",
       "  var NB_LOAD_WARNING = {'data': {'text/html':\n",
       "     \"<div style='background-color: #fdd'>\\n\"+\n",
       "     \"<p>\\n\"+\n",
       "     \"BokehJS does not appear to have successfully loaded. If loading BokehJS from CDN, this \\n\"+\n",
       "     \"may be due to a slow or bad network connection. Possible fixes:\\n\"+\n",
       "     \"</p>\\n\"+\n",
       "     \"<ul>\\n\"+\n",
       "     \"<li>re-rerun `output_notebook()` to attempt to load from CDN again, or</li>\\n\"+\n",
       "     \"<li>use INLINE resources instead, as so:</li>\\n\"+\n",
       "     \"</ul>\\n\"+\n",
       "     \"<code>\\n\"+\n",
       "     \"from bokeh.resources import INLINE\\n\"+\n",
       "     \"output_notebook(resources=INLINE)\\n\"+\n",
       "     \"</code>\\n\"+\n",
       "     \"</div>\"}};\n",
       "\n",
       "  function display_loaded() {\n",
       "    var el = document.getElementById(\"33e34c73-6029-46cf-8909-b88a3efbbea0\");\n",
       "    if (el != null) {\n",
       "      el.textContent = \"BokehJS is loading...\";\n",
       "    }\n",
       "    if (root.Bokeh !== undefined) {\n",
       "      if (el != null) {\n",
       "        el.textContent = \"BokehJS \" + root.Bokeh.version + \" successfully loaded.\";\n",
       "      }\n",
       "    } else if (Date.now() < root._bokeh_timeout) {\n",
       "      setTimeout(display_loaded, 100)\n",
       "    }\n",
       "  }\n",
       "\n",
       "\n",
       "  function run_callbacks() {\n",
       "    try {\n",
       "      root._bokeh_onload_callbacks.forEach(function(callback) { callback() });\n",
       "    }\n",
       "    finally {\n",
       "      delete root._bokeh_onload_callbacks\n",
       "    }\n",
       "    console.info(\"Bokeh: all callbacks have finished\");\n",
       "  }\n",
       "\n",
       "  function load_libs(js_urls, callback) {\n",
       "    root._bokeh_onload_callbacks.push(callback);\n",
       "    if (root._bokeh_is_loading > 0) {\n",
       "      console.log(\"Bokeh: BokehJS is being loaded, scheduling callback at\", now());\n",
       "      return null;\n",
       "    }\n",
       "    if (js_urls == null || js_urls.length === 0) {\n",
       "      run_callbacks();\n",
       "      return null;\n",
       "    }\n",
       "    console.log(\"Bokeh: BokehJS not loaded, scheduling load and callback at\", now());\n",
       "    root._bokeh_is_loading = js_urls.length;\n",
       "    for (var i = 0; i < js_urls.length; i++) {\n",
       "      var url = js_urls[i];\n",
       "      var s = document.createElement('script');\n",
       "      s.src = url;\n",
       "      s.async = false;\n",
       "      s.onreadystatechange = s.onload = function() {\n",
       "        root._bokeh_is_loading--;\n",
       "        if (root._bokeh_is_loading === 0) {\n",
       "          console.log(\"Bokeh: all BokehJS libraries loaded\");\n",
       "          run_callbacks()\n",
       "        }\n",
       "      };\n",
       "      s.onerror = function() {\n",
       "        console.warn(\"failed to load library \" + url);\n",
       "      };\n",
       "      console.log(\"Bokeh: injecting script tag for BokehJS library: \", url);\n",
       "      document.getElementsByTagName(\"head\")[0].appendChild(s);\n",
       "    }\n",
       "  };var element = document.getElementById(\"33e34c73-6029-46cf-8909-b88a3efbbea0\");\n",
       "  if (element == null) {\n",
       "    console.log(\"Bokeh: ERROR: autoload.js configured with elementid '33e34c73-6029-46cf-8909-b88a3efbbea0' but no matching script tag was found. \")\n",
       "    return false;\n",
       "  }\n",
       "\n",
       "  var js_urls = [\"https://cdn.pydata.org/bokeh/release/bokeh-0.12.16.min.js\", \"https://cdn.pydata.org/bokeh/release/bokeh-widgets-0.12.16.min.js\", \"https://cdn.pydata.org/bokeh/release/bokeh-tables-0.12.16.min.js\", \"https://cdn.pydata.org/bokeh/release/bokeh-gl-0.12.16.min.js\"];\n",
       "\n",
       "  var inline_js = [\n",
       "    function(Bokeh) {\n",
       "      Bokeh.set_log_level(\"info\");\n",
       "    },\n",
       "    \n",
       "    function(Bokeh) {\n",
       "      \n",
       "    },\n",
       "    function(Bokeh) {\n",
       "      console.log(\"Bokeh: injecting CSS: https://cdn.pydata.org/bokeh/release/bokeh-0.12.16.min.css\");\n",
       "      Bokeh.embed.inject_css(\"https://cdn.pydata.org/bokeh/release/bokeh-0.12.16.min.css\");\n",
       "      console.log(\"Bokeh: injecting CSS: https://cdn.pydata.org/bokeh/release/bokeh-widgets-0.12.16.min.css\");\n",
       "      Bokeh.embed.inject_css(\"https://cdn.pydata.org/bokeh/release/bokeh-widgets-0.12.16.min.css\");\n",
       "      console.log(\"Bokeh: injecting CSS: https://cdn.pydata.org/bokeh/release/bokeh-tables-0.12.16.min.css\");\n",
       "      Bokeh.embed.inject_css(\"https://cdn.pydata.org/bokeh/release/bokeh-tables-0.12.16.min.css\");\n",
       "    }\n",
       "  ];\n",
       "\n",
       "  function run_inline_js() {\n",
       "    \n",
       "    if ((root.Bokeh !== undefined) || (force === true)) {\n",
       "      for (var i = 0; i < inline_js.length; i++) {\n",
       "        inline_js[i].call(root, root.Bokeh);\n",
       "      }if (force === true) {\n",
       "        display_loaded();\n",
       "      }} else if (Date.now() < root._bokeh_timeout) {\n",
       "      setTimeout(run_inline_js, 100);\n",
       "    } else if (!root._bokeh_failed_load) {\n",
       "      console.log(\"Bokeh: BokehJS failed to load within specified timeout.\");\n",
       "      root._bokeh_failed_load = true;\n",
       "    } else if (force !== true) {\n",
       "      var cell = $(document.getElementById(\"33e34c73-6029-46cf-8909-b88a3efbbea0\")).parents('.cell').data().cell;\n",
       "      cell.output_area.append_execute_result(NB_LOAD_WARNING)\n",
       "    }\n",
       "\n",
       "  }\n",
       "\n",
       "  if (root._bokeh_is_loading === 0) {\n",
       "    console.log(\"Bokeh: BokehJS loaded, going straight to plotting\");\n",
       "    run_inline_js();\n",
       "  } else {\n",
       "    load_libs(js_urls, function() {\n",
       "      console.log(\"Bokeh: BokehJS plotting callback run at\", now());\n",
       "      run_inline_js();\n",
       "    });\n",
       "  }\n",
       "}(window));"
      ],
      "application/vnd.bokehjs_load.v0+json": "\n(function(root) {\n  function now() {\n    return new Date();\n  }\n\n  var force = true;\n\n  if (typeof (root._bokeh_onload_callbacks) === \"undefined\" || force === true) {\n    root._bokeh_onload_callbacks = [];\n    root._bokeh_is_loading = undefined;\n  }\n\n  \n\n  \n  if (typeof (root._bokeh_timeout) === \"undefined\" || force === true) {\n    root._bokeh_timeout = Date.now() + 5000;\n    root._bokeh_failed_load = false;\n  }\n\n  var NB_LOAD_WARNING = {'data': {'text/html':\n     \"<div style='background-color: #fdd'>\\n\"+\n     \"<p>\\n\"+\n     \"BokehJS does not appear to have successfully loaded. If loading BokehJS from CDN, this \\n\"+\n     \"may be due to a slow or bad network connection. Possible fixes:\\n\"+\n     \"</p>\\n\"+\n     \"<ul>\\n\"+\n     \"<li>re-rerun `output_notebook()` to attempt to load from CDN again, or</li>\\n\"+\n     \"<li>use INLINE resources instead, as so:</li>\\n\"+\n     \"</ul>\\n\"+\n     \"<code>\\n\"+\n     \"from bokeh.resources import INLINE\\n\"+\n     \"output_notebook(resources=INLINE)\\n\"+\n     \"</code>\\n\"+\n     \"</div>\"}};\n\n  function display_loaded() {\n    var el = document.getElementById(\"33e34c73-6029-46cf-8909-b88a3efbbea0\");\n    if (el != null) {\n      el.textContent = \"BokehJS is loading...\";\n    }\n    if (root.Bokeh !== undefined) {\n      if (el != null) {\n        el.textContent = \"BokehJS \" + root.Bokeh.version + \" successfully loaded.\";\n      }\n    } else if (Date.now() < root._bokeh_timeout) {\n      setTimeout(display_loaded, 100)\n    }\n  }\n\n\n  function run_callbacks() {\n    try {\n      root._bokeh_onload_callbacks.forEach(function(callback) { callback() });\n    }\n    finally {\n      delete root._bokeh_onload_callbacks\n    }\n    console.info(\"Bokeh: all callbacks have finished\");\n  }\n\n  function load_libs(js_urls, callback) {\n    root._bokeh_onload_callbacks.push(callback);\n    if (root._bokeh_is_loading > 0) {\n      console.log(\"Bokeh: BokehJS is being loaded, scheduling callback at\", now());\n      return null;\n    }\n    if (js_urls == null || js_urls.length === 0) {\n      run_callbacks();\n      return null;\n    }\n    console.log(\"Bokeh: BokehJS not loaded, scheduling load and callback at\", now());\n    root._bokeh_is_loading = js_urls.length;\n    for (var i = 0; i < js_urls.length; i++) {\n      var url = js_urls[i];\n      var s = document.createElement('script');\n      s.src = url;\n      s.async = false;\n      s.onreadystatechange = s.onload = function() {\n        root._bokeh_is_loading--;\n        if (root._bokeh_is_loading === 0) {\n          console.log(\"Bokeh: all BokehJS libraries loaded\");\n          run_callbacks()\n        }\n      };\n      s.onerror = function() {\n        console.warn(\"failed to load library \" + url);\n      };\n      console.log(\"Bokeh: injecting script tag for BokehJS library: \", url);\n      document.getElementsByTagName(\"head\")[0].appendChild(s);\n    }\n  };var element = document.getElementById(\"33e34c73-6029-46cf-8909-b88a3efbbea0\");\n  if (element == null) {\n    console.log(\"Bokeh: ERROR: autoload.js configured with elementid '33e34c73-6029-46cf-8909-b88a3efbbea0' but no matching script tag was found. \")\n    return false;\n  }\n\n  var js_urls = [\"https://cdn.pydata.org/bokeh/release/bokeh-0.12.16.min.js\", \"https://cdn.pydata.org/bokeh/release/bokeh-widgets-0.12.16.min.js\", \"https://cdn.pydata.org/bokeh/release/bokeh-tables-0.12.16.min.js\", \"https://cdn.pydata.org/bokeh/release/bokeh-gl-0.12.16.min.js\"];\n\n  var inline_js = [\n    function(Bokeh) {\n      Bokeh.set_log_level(\"info\");\n    },\n    \n    function(Bokeh) {\n      \n    },\n    function(Bokeh) {\n      console.log(\"Bokeh: injecting CSS: https://cdn.pydata.org/bokeh/release/bokeh-0.12.16.min.css\");\n      Bokeh.embed.inject_css(\"https://cdn.pydata.org/bokeh/release/bokeh-0.12.16.min.css\");\n      console.log(\"Bokeh: injecting CSS: https://cdn.pydata.org/bokeh/release/bokeh-widgets-0.12.16.min.css\");\n      Bokeh.embed.inject_css(\"https://cdn.pydata.org/bokeh/release/bokeh-widgets-0.12.16.min.css\");\n      console.log(\"Bokeh: injecting CSS: https://cdn.pydata.org/bokeh/release/bokeh-tables-0.12.16.min.css\");\n      Bokeh.embed.inject_css(\"https://cdn.pydata.org/bokeh/release/bokeh-tables-0.12.16.min.css\");\n    }\n  ];\n\n  function run_inline_js() {\n    \n    if ((root.Bokeh !== undefined) || (force === true)) {\n      for (var i = 0; i < inline_js.length; i++) {\n        inline_js[i].call(root, root.Bokeh);\n      }if (force === true) {\n        display_loaded();\n      }} else if (Date.now() < root._bokeh_timeout) {\n      setTimeout(run_inline_js, 100);\n    } else if (!root._bokeh_failed_load) {\n      console.log(\"Bokeh: BokehJS failed to load within specified timeout.\");\n      root._bokeh_failed_load = true;\n    } else if (force !== true) {\n      var cell = $(document.getElementById(\"33e34c73-6029-46cf-8909-b88a3efbbea0\")).parents('.cell').data().cell;\n      cell.output_area.append_execute_result(NB_LOAD_WARNING)\n    }\n\n  }\n\n  if (root._bokeh_is_loading === 0) {\n    console.log(\"Bokeh: BokehJS loaded, going straight to plotting\");\n    run_inline_js();\n  } else {\n    load_libs(js_urls, function() {\n      console.log(\"Bokeh: BokehJS plotting callback run at\", now());\n      run_inline_js();\n    });\n  }\n}(window));"
     },
     "metadata": {},
     "output_type": "display_data"
    }
   ],
   "source": [
    "# Setup Environment\n",
    "%run ./common/wordvector_utility\n",
    "%run ./common/vectorspace_utility\n",
    "%run ./common/widgets_utility\n",
    "\n",
    "import warnings\n",
    "\n",
    "warnings.filterwarnings(\"ignore\", category=DeprecationWarning) \n",
    "warnings.filterwarnings(\"ignore\", category=FutureWarning) \n",
    "\n",
    "from IPython.core.display import display, HTML, clear_output\n",
    "from IPython.core.interactiveshell import InteractiveShell\n",
    "from nltk import word_tokenize\n",
    "\n",
    "import ipywidgets as widgets\n",
    "import bokeh.models as bm\n",
    "import bokeh.plotting as bp\n",
    "import bokeh.io as bio\n",
    "import pandas as pd\n",
    "import numpy as np\n",
    "import types\n",
    "\n",
    "%autosave 120\n",
    "%config IPCompleter.greedy=True\n",
    "\n",
    "InteractiveShell.ast_node_interactivity = \"all\"\n",
    "TOOLS = \"pan,wheel_zoom,box_zoom,reset,previewsave\"\n",
    "\n",
    "bp.output_notebook()\n"
   ]
  },
  {
   "cell_type": "code",
   "execution_count": 2,
   "metadata": {
    "code_folding": [],
    "scrolled": true
   },
   "outputs": [
    {
     "data": {
      "application/javascript": [
       "IPython.OutputArea.prototype._should_scroll = function(lines) { return false; }"
      ],
      "text/plain": [
       "<IPython.core.display.Javascript object>"
      ]
     },
     "metadata": {},
     "output_type": "display_data"
    }
   ],
   "source": [
    "%%javascript\n",
    "IPython.OutputArea.prototype._should_scroll = function(lines) { return false; }"
   ]
  },
  {
   "cell_type": "code",
   "execution_count": 3,
   "metadata": {
    "code_folding": [
     0
    ]
   },
   "outputs": [],
   "source": [
    "%%bash\n",
    "# sudo ./update_user_notebooks.bash"
   ]
  },
  {
   "cell_type": "markdown",
   "metadata": {},
   "source": [
    "### Step 1: Select Word Vector Space Model (to be Used in Subsequent Steps)\n",
    "Available vector space models are stored in subfolder./data. New models can be added simpy by uploading them to the **./tsm-data** folder (with for instance WinSCP). All files with extension '.dat' in this folder are assumed to be a WEM and hence added to the dropdown. Remember to re-run all dependens cells (use **run** button or **shift-enter**) when a new model has been selected. There is **no** automatic execution of sub-sequent cells!"
   ]
  },
  {
   "cell_type": "code",
   "execution_count": 4,
   "metadata": {
    "code_folding": [
     0
    ],
    "scrolled": true
   },
   "outputs": [
    {
     "data": {
      "application/vnd.jupyter.widget-view+json": {
       "model_id": "49e09526eb1943428ecc48e6d149e3c0",
       "version_major": 2,
       "version_minor": 0
      },
      "text/plain": [
       "VBox(children=(Dropdown(description='Model', layout=Layout(width='85%'), options=(None, 'GoogleNews-vectors-ne…"
      ]
     },
     "metadata": {},
     "output_type": "display_data"
    }
   ],
   "source": [
    "# Current Model\n",
    "class ModelState:\n",
    "    \n",
    "    def __init__(self, data_folder):\n",
    "        \n",
    "        self.data_folder = data_folder\n",
    "        self.WEM = None\n",
    "        self.patterns = ['*.dat', '*.bin.gz']\n",
    "        self.filenames = self.get_model_names(self.data_folder, self.patterns)\n",
    "        self.filename = self.filenames[0]\n",
    "        \n",
    "    def set_model(self, filename=None):\n",
    "\n",
    "        filename = filename or self.filename\n",
    "        \n",
    "        if filename is None:\n",
    "            print('Please select a model')\n",
    "            return\n",
    "        \n",
    "        print('Loading...')\n",
    "        self.filename = filename\n",
    "        self.WEM = WordVectorUtility.load_model_vector(os.path.join(self.data_folder, filename), limit=100000)\n",
    "        print('Model {} loaded...'.format(self.filename))\n",
    "\n",
    "    def get_basename(self):\n",
    "        basename = self.filename\n",
    "        for prefix in ['w2v_model_', 'w2v_']:\n",
    "            if basename.startswith(prefix):\n",
    "                basename = basename[len(prefix):]\n",
    "        return basename[:-4]\n",
    "\n",
    "    def get_statistics(self):\n",
    "        filename = os.path.join(self.data_folder, 'stats_{}.tsv'.format(self.get_basename()))\n",
    "        # print(filename)\n",
    "        df = pd.read_csv(filename, sep='\\t')\n",
    "        if 'Unnamed: 0' in df.columns:\n",
    "            df.drop('Unnamed: 0', axis=1, inplace=True)\n",
    "        return df\n",
    "    \n",
    "    def get_model_names(self, data_folder, patterns):\n",
    "\n",
    "        filenames = flatten([ glob.glob(os.path.join(data_folder, x)) for x in patterns ])\n",
    "        filenames = [ os.path.split(x)[1] for x in filenames ]\n",
    "        filenames.sort()\n",
    "        return [ None ] + filenames\n",
    "\n",
    "state = ModelState('./vsm-data')\n",
    "\n",
    "sw = BaseWidgetUtility(\n",
    "    filename=wf.create_select_widget(\n",
    "        description='Model', options=state.filenames, value=state.filename, layout=widgets.Layout(width='85%')\n",
    "    )\n",
    ")\n",
    "swi = widgets.interactive(state.set_model, filename=sw.filename)\n",
    "display(widgets.VBox([sw.filename, swi.children[-1]]))\n",
    "swi.update()"
   ]
  },
  {
   "cell_type": "markdown",
   "metadata": {},
   "source": [
    "### Corpus Statistics"
   ]
  },
  {
   "cell_type": "code",
   "execution_count": 5,
   "metadata": {
    "code_folding": [
     0
    ],
    "scrolled": true
   },
   "outputs": [
    {
     "data": {
      "application/vnd.jupyter.widget-view+json": {
       "model_id": "a49e041521b54073b5342a8689ef749d",
       "version_major": 2,
       "version_minor": 0
      },
      "text/plain": [
       "VBox(children=(HBox(children=(ToggleButtons(description='Type:', options=('Total', 'Processed'), value='Total'…"
      ]
     },
     "metadata": {},
     "output_type": "display_data"
    }
   ],
   "source": [
    "# Press SHIFT-ENTER to display or update stats\n",
    "wchart = widgets.Output()\n",
    "wtable = widgets.Output()\n",
    "\n",
    "def display_stats(count_type, view_type):\n",
    "    global wchart, wtable\n",
    "    try:\n",
    "        df = state.get_statistics()\n",
    "        df['year'] = df.filename.apply(lambda x: int(re.search(r'(\\d{4})', x).group(0)))\n",
    "        token_count = 'total_tokens' if count_type == 'Total' else 'tokens'\n",
    "        title = 'Total tokens per year' + (' stopwords, rare words removed, bigrams etc.' if count_type != 'Total' else '')\n",
    "        df_count = df.groupby('year')[[token_count]].agg([len, np.sum, np.mean, np.min, np.max, np.std])\n",
    "        df_count.columns = ['Documents', 'Tokens', 'Average', 'Min', 'Max', 'Std']\n",
    "        if view_type == 'Chart':\n",
    "            df_count[['Tokens', 'Average', 'Min', 'Max']].plot(figsize=(14,8), title=title)\n",
    "        else:\n",
    "            display(df_count)\n",
    "    except Exception as ex:\n",
    "        print(\"Statistics missing for selected model\")\n",
    "        \n",
    "cw = BaseWidgetUtility(\n",
    "    count_type=widgets.ToggleButtons(options=['Total', 'Processed'], description='Type:', disabled=False, button_style=''),\n",
    "    view_type=widgets.ToggleButtons(options=['Chart', 'Table'], description='View:', disabled=False, button_style='')\n",
    ")\n",
    "\n",
    "cwi = widgets.interactive(display_stats, count_type=cw.count_type, view_type=cw.view_type)\n",
    "display(widgets.VBox([widgets.HBox([cw.count_type, cw.view_type]), cwi.children[-1]]))\n",
    "cwi.update()"
   ]
  },
  {
   "cell_type": "markdown",
   "metadata": {},
   "source": [
    "### Step: Seed Similar Words"
   ]
  },
  {
   "cell_type": "code",
   "execution_count": 35,
   "metadata": {
    "code_folding": [
     0
    ]
   },
   "outputs": [
    {
     "data": {
      "application/vnd.jupyter.widget-view+json": {
       "model_id": "870a603c7c844f1eb030ab105f32a1cd",
       "version_major": 2,
       "version_minor": 0
      },
      "text/plain": [
       "VBox(children=(HBox(children=(Text(value='', description='Expression', layout=Layout(width='50%'), placeholder…"
      ]
     },
     "metadata": {},
     "output_type": "display_data"
    }
   ],
   "source": [
    "# Code\n",
    "%run ./common/vectorspace_utility\n",
    "def seed_similar_words(expression, n_top=10):\n",
    "    global state\n",
    "    #try:\n",
    "    result, options = WordVectorUtility.compute_most_similar_expression(state.WEM, expression, topn=n_top)\n",
    "    if result is None or options is None:\n",
    "        return\n",
    "    result_words, _ = list(zip(*result[:n_top]))\n",
    "    print(' '.join(list(result_words)))\n",
    "    df = pd.DataFrame(result, columns=['word', 'distance'])\n",
    "    display(df)\n",
    "#    except Exception as ex:\n",
    "#        print(ex)\n",
    "\n",
    "sw = BaseWidgetUtility(\n",
    "    n_top=wf.create_int_slider(description='Count', min=1, max=250, step=1, value=20),\n",
    "    expression = wf.create_text_input_widget(\n",
    "        description='Expression',\n",
    "        placeholder='(enter seed expression or word)',\n",
    "        value='',\n",
    "        layout=widgets.Layout(width='50%')\n",
    "    )\n",
    ")\n",
    "isw = widgets.interactive(seed_similar_words, expression=sw.expression, n_top=sw.n_top)\n",
    "display(widgets.VBox([\n",
    "    widgets.HBox([sw.expression, sw.n_top]),\n",
    "    isw.children[-1]\n",
    "]))\n",
    "\n"
   ]
  },
  {
   "cell_type": "markdown",
   "metadata": {},
   "source": [
    "### Step: Display a Set of Words Using Dimensionality Reduction\n",
    "\n",
    "Dimensionality reduction is a way to visualize high-dimensional word-vectors produced by word2vec in 2D or 3D. Note that these methods reduces the data in different ways, and under cetrain assumptions. Reducing data to lower dimensions will with certainty lose information (see discussion in [Q&A](https://stats.stackexchange.com/questions/66060/does-dimension-reduction-always-lose-some-information)). [This article](http://www.sci.utah.edu/~beiwang/publications/Word_Embeddings_BeiWang_2017.pdf) discusses some problems with D-reductions.\n",
    "\n",
    "See (Pearson, 1901 [PDF](http://stat.smmu.edu.cn/history/pearson1901.pdf)) and [Wikipedia](https://en.wikipedia.org/wiki/Principal_component_analysis#Dimensionality_reduction) for a description of Primary Component Analysis (PCA). See [(Maaten and Hinton, 2008)](http://www.jmlr.org/papers/volume9/vandermaaten08a/vandermaaten08a.pdf) for a descrioption of tSNE. t-SNE transforms a set of coordinates in a high-dimensional vector space (our word vectors) into a \"faithful\" representation in a lower-dimensional space e.g. 3D-space or a 2D-plane.  t-SNE (tries to) preserves *local distances* when coordinates are transformes to lower dimensions (i.e preserves clusters).\n",
    "\n",
    "Open questions:\n",
    "1. What is the impact of reducing *only a subset* of the coordinates (compares to reducing the entire vocabulary)? That is, if we are intresested in a subset of words, we can 1) reduce the entire vocabulary or 2) only reduce the subset (for speed). \n",
    "2. t-SNE has a “perplexity” parameter which effects the local vs global clustering of the data. The perplexity affects the (guessed) distributon of neighbouring points to a given point. Try different values for this parameter. This variable has no effect for PCA.\n"
   ]
  },
  {
   "cell_type": "code",
   "execution_count": 7,
   "metadata": {
    "code_folding": [
     0
    ]
   },
   "outputs": [
    {
     "data": {
      "text/html": [
       "\n",
       "<div class=\"bk-root\">\n",
       "    <div class=\"bk-plotdiv\" id=\"703dd237-86dd-4914-9f1e-29066d3673a1\"></div>\n",
       "</div>"
      ]
     },
     "metadata": {},
     "output_type": "display_data"
    },
    {
     "data": {
      "application/javascript": [
       "(function(root) {\n",
       "  function embed_document(root) {\n",
       "    \n",
       "  var docs_json = {\"abc0827b-75be-4104-956a-eaae3cb2ebca\":{\"roots\":{\"references\":[{\"attributes\":{\"plot\":null,\"text\":\"Dimensionality Reduced Word Vector Space Model\"},\"id\":\"758c19ed-e0ce-4ab6-a4d9-f51bdf5225d7\",\"type\":\"Title\"},{\"attributes\":{},\"id\":\"38447c49-2fcd-4ac7-af98-0cc692518790\",\"type\":\"LinearScale\"},{\"attributes\":{\"source\":{\"id\":\"6f297be9-1542-45d9-980f-7c1cdb373c61\",\"type\":\"ColumnDataSource\"}},\"id\":\"0798304a-a58f-4b53-8143-d015ae085dcd\",\"type\":\"CDSView\"},{\"attributes\":{\"level\":\"glyph\",\"plot\":{\"id\":\"26287495-acc5-4149-b702-f24b531a7db2\",\"subtype\":\"Figure\",\"type\":\"Plot\"},\"source\":{\"id\":\"6f297be9-1542-45d9-980f-7c1cdb373c61\",\"type\":\"ColumnDataSource\"},\"text\":{\"field\":\"w\"},\"x\":{\"field\":\"x\"},\"x_offset\":{\"value\":-2},\"y\":{\"field\":\"y\"},\"y_offset\":{\"value\":5}},\"id\":\"023c1d4b-38de-4d57-89c4-93e120f91feb\",\"type\":\"LabelSet\"},{\"attributes\":{\"callback\":null,\"column_names\":[\"w\",\"x\",\"y\"],\"data\":{\"w\":[\"\"],\"x\":[0],\"y\":[0]}},\"id\":\"6f297be9-1542-45d9-980f-7c1cdb373c61\",\"type\":\"ColumnDataSource\"},{\"attributes\":{},\"id\":\"cf5f994d-b0c0-4974-a59d-f4e376ff3118\",\"type\":\"PanTool\"},{\"attributes\":{\"data_source\":{\"id\":\"6f297be9-1542-45d9-980f-7c1cdb373c61\",\"type\":\"ColumnDataSource\"},\"glyph\":{\"id\":\"bca3bde1-199d-4f10-9bfa-ffbb22372baf\",\"type\":\"Circle\"},\"hover_glyph\":null,\"muted_glyph\":null,\"nonselection_glyph\":{\"id\":\"1c2dd764-2cc2-4ad8-aaf3-ff3098b45831\",\"type\":\"Circle\"},\"selection_glyph\":null,\"view\":{\"id\":\"0798304a-a58f-4b53-8143-d015ae085dcd\",\"type\":\"CDSView\"}},\"id\":\"a9b0f07f-c29c-44c9-839b-cdb22b291db9\",\"type\":\"GlyphRenderer\"},{\"attributes\":{\"fill_color\":{\"value\":\"#1f77b4\"},\"line_color\":{\"value\":\"#1f77b4\"},\"x\":{\"field\":\"x\"},\"y\":{\"field\":\"y\"}},\"id\":\"bca3bde1-199d-4f10-9bfa-ffbb22372baf\",\"type\":\"Circle\"},{\"attributes\":{\"plot_width\":1000,\"renderers\":[{\"id\":\"c701185e-5bc6-40aa-ac55-78d74a5dd15c\",\"type\":\"BoxAnnotation\"},{\"id\":\"a9b0f07f-c29c-44c9-839b-cdb22b291db9\",\"type\":\"GlyphRenderer\"},{\"id\":\"023c1d4b-38de-4d57-89c4-93e120f91feb\",\"type\":\"LabelSet\"}],\"title\":{\"id\":\"758c19ed-e0ce-4ab6-a4d9-f51bdf5225d7\",\"type\":\"Title\"},\"toolbar\":{\"id\":\"2fc901e6-08d5-4d50-a5ab-61db5921ba9d\",\"type\":\"Toolbar\"},\"x_range\":{\"id\":\"09c0d21b-da39-4c1c-9e30-2c044b627e6c\",\"type\":\"DataRange1d\"},\"x_scale\":{\"id\":\"c30c63f2-3c42-4311-a5e6-eb96998f8f0b\",\"type\":\"LinearScale\"},\"y_range\":{\"id\":\"1a39e837-2ba0-499a-80da-2c8ca760dac7\",\"type\":\"DataRange1d\"},\"y_scale\":{\"id\":\"38447c49-2fcd-4ac7-af98-0cc692518790\",\"type\":\"LinearScale\"}},\"id\":\"26287495-acc5-4149-b702-f24b531a7db2\",\"subtype\":\"Figure\",\"type\":\"Plot\"},{\"attributes\":{},\"id\":\"03258315-165d-49e1-a170-08eca7432f51\",\"type\":\"WheelZoomTool\"},{\"attributes\":{},\"id\":\"3942d1f6-a743-444c-a938-660aa5452d60\",\"type\":\"ResetTool\"},{\"attributes\":{},\"id\":\"c30c63f2-3c42-4311-a5e6-eb96998f8f0b\",\"type\":\"LinearScale\"},{\"attributes\":{\"callback\":null},\"id\":\"09c0d21b-da39-4c1c-9e30-2c044b627e6c\",\"type\":\"DataRange1d\"},{\"attributes\":{\"overlay\":{\"id\":\"c701185e-5bc6-40aa-ac55-78d74a5dd15c\",\"type\":\"BoxAnnotation\"}},\"id\":\"b5df02b3-791b-493d-b6ce-f31a1b87e45c\",\"type\":\"BoxZoomTool\"},{\"attributes\":{\"bottom_units\":\"screen\",\"fill_alpha\":{\"value\":0.5},\"fill_color\":{\"value\":\"lightgrey\"},\"left_units\":\"screen\",\"level\":\"overlay\",\"line_alpha\":{\"value\":1.0},\"line_color\":{\"value\":\"black\"},\"line_dash\":[4,4],\"line_width\":{\"value\":2},\"plot\":null,\"render_mode\":\"css\",\"right_units\":\"screen\",\"top_units\":\"screen\"},\"id\":\"c701185e-5bc6-40aa-ac55-78d74a5dd15c\",\"type\":\"BoxAnnotation\"},{\"attributes\":{\"active_drag\":\"auto\",\"active_inspect\":\"auto\",\"active_scroll\":\"auto\",\"active_tap\":\"auto\",\"tools\":[{\"id\":\"cf5f994d-b0c0-4974-a59d-f4e376ff3118\",\"type\":\"PanTool\"},{\"id\":\"03258315-165d-49e1-a170-08eca7432f51\",\"type\":\"WheelZoomTool\"},{\"id\":\"b5df02b3-791b-493d-b6ce-f31a1b87e45c\",\"type\":\"BoxZoomTool\"},{\"id\":\"3942d1f6-a743-444c-a938-660aa5452d60\",\"type\":\"ResetTool\"},{\"id\":\"0b16086a-163c-4d24-a094-c2f6ace7bfcd\",\"type\":\"SaveTool\"}]},\"id\":\"2fc901e6-08d5-4d50-a5ab-61db5921ba9d\",\"type\":\"Toolbar\"},{\"attributes\":{\"fill_alpha\":{\"value\":0.1},\"fill_color\":{\"value\":\"#1f77b4\"},\"line_alpha\":{\"value\":0.1},\"line_color\":{\"value\":\"#1f77b4\"},\"x\":{\"field\":\"x\"},\"y\":{\"field\":\"y\"}},\"id\":\"1c2dd764-2cc2-4ad8-aaf3-ff3098b45831\",\"type\":\"Circle\"},{\"attributes\":{},\"id\":\"0b16086a-163c-4d24-a094-c2f6ace7bfcd\",\"type\":\"SaveTool\"},{\"attributes\":{\"callback\":null},\"id\":\"1a39e837-2ba0-499a-80da-2c8ca760dac7\",\"type\":\"DataRange1d\"}],\"root_ids\":[\"26287495-acc5-4149-b702-f24b531a7db2\"]},\"title\":\"Bokeh Application\",\"version\":\"0.12.14\"}};\n",
       "  var render_items = [{\"docid\":\"abc0827b-75be-4104-956a-eaae3cb2ebca\",\"elementid\":\"703dd237-86dd-4914-9f1e-29066d3673a1\",\"modelid\":\"26287495-acc5-4149-b702-f24b531a7db2\",\"notebook_comms_target\":\"43fcad33-e568-4e32-95b6-6a07f68ac68d\"}];\n",
       "  root.Bokeh.embed.embed_items_notebook(docs_json, render_items);\n",
       "\n",
       "  }\n",
       "  if (root.Bokeh !== undefined) {\n",
       "    embed_document(root);\n",
       "  } else {\n",
       "    var attempts = 0;\n",
       "    var timer = setInterval(function(root) {\n",
       "      if (root.Bokeh !== undefined) {\n",
       "        embed_document(root);\n",
       "        clearInterval(timer);\n",
       "      }\n",
       "      attempts++;\n",
       "      if (attempts > 100) {\n",
       "        console.log(\"Bokeh: ERROR: Unable to run BokehJS code because BokehJS library is missing\")\n",
       "        clearInterval(timer);\n",
       "      }\n",
       "    }, 10, root)\n",
       "  }\n",
       "})(window);"
      ],
      "application/vnd.bokehjs_exec.v0+json": ""
     },
     "metadata": {
      "application/vnd.bokehjs_exec.v0+json": {
       "id": "26287495-acc5-4149-b702-f24b531a7db2"
      }
     },
     "output_type": "display_data"
    }
   ],
   "source": [
    "# Setup T-SNE Plot\n",
    "def setup_tsne_plot(title=''):\n",
    "    xp = bp.figure(\n",
    "        plot_width=1000, plot_height=600, title=title,\n",
    "        tools=TOOLS, toolbar_location=\"right\",\n",
    "        x_axis_type=None, y_axis_type=None\n",
    "    )\n",
    "    source = ColumnDataSource(dict(w=[''],x=[0], y=[0]))\n",
    "    crs = xp.scatter(x='x', y='y', source=source)\n",
    "    crl = bm.LabelSet(x='x', y='y', text='w', level='glyph', x_offset=-2, y_offset=5, source=source)\n",
    "    xp.add_layout(crl)\n",
    "    handle = bp.show(xp, notebook_handle=True)\n",
    "    return types.SimpleNamespace(handle=handle,source=source,points=crs,labels=crl)\n",
    "\n",
    "def tsne_plot_reduce(words_of_interest, method='tsne', perplexity=30):\n",
    "    global state\n",
    "    X_m_space, index2word = WordVectorUtility.create_X_m_space_matrix(state.WEM, words_of_interest)\n",
    "    opts = dict(n_components=2, init='pca', random_state=55887, perplexity=perplexity)\n",
    "    X_2_space = VectorSpaceHelper.reduce_dimensions(X_m_space, method=method, **opts)\n",
    "    return X_2_space, index2word\n",
    "    \n",
    "tsne_plot = setup_tsne_plot('Dimensionality Reduced Word Vector Space Model')\n"
   ]
  },
  {
   "cell_type": "code",
   "execution_count": 8,
   "metadata": {
    "code_folding": [
     0
    ]
   },
   "outputs": [
    {
     "data": {
      "application/vnd.jupyter.widget-view+json": {
       "model_id": "9637edd02d974425aba1d82127ac0b45",
       "version_major": 2,
       "version_minor": 0
      },
      "text/html": [
       "<p>Failed to display Jupyter Widget of type <code>VBox</code>.</p>\n",
       "<p>\n",
       "  If you're reading this message in the Jupyter Notebook or JupyterLab Notebook, it may mean\n",
       "  that the widgets JavaScript is still loading. If this message persists, it\n",
       "  likely means that the widgets JavaScript library is either not installed or\n",
       "  not enabled. See the <a href=\"https://ipywidgets.readthedocs.io/en/stable/user_install.html\">Jupyter\n",
       "  Widgets Documentation</a> for setup instructions.\n",
       "</p>\n",
       "<p>\n",
       "  If you're reading this message in another frontend (for example, a static\n",
       "  rendering on GitHub or <a href=\"https://nbviewer.jupyter.org/\">NBViewer</a>),\n",
       "  it may mean that your frontend doesn't currently support widgets.\n",
       "</p>\n"
      ],
      "text/plain": [
       "VBox(children=(HBox(children=(Textarea(value='', description='Words', layout=Layout(height='200px', width='80%'), placeholder='(enter or paste words to be plotted)'), VBox(children=(Dropdown(description='Method', index=1, layout=Layout(width='60%'), options=('TSNE', 'PCA'), value='PCA'), IntSlider(value=30, continuous_update=False, description='Perplexity', min=5), IntProgress(value=0, max=5))))), Output()))"
      ]
     },
     "metadata": {},
     "output_type": "display_data"
    }
   ],
   "source": [
    "# T-SNE/PCA dimensionality reduction\n",
    "def update_tsne_plot(x,y,w):\n",
    "    tsne_plot.source.data.update(dict(w=w,x=x, y=y))\n",
    "    bio.push_notebook(handle=tsne_plot.handle)\n",
    "    \n",
    "def reduce_dimensions_and_display_words(raw_text, method, perplexity):\n",
    "    global state, cw\n",
    "\n",
    "    if len(raw_text) > 0 and raw_text[-1] != ' ':\n",
    "        return\n",
    "    words_of_interest = list(set(word_tokenize(raw_text)))\n",
    "\n",
    "    if len(words_of_interest) >= 3:\n",
    "        cw.progress.value = 2\n",
    "        X_2_space, index2word = tsne_plot_reduce(words_of_interest, method.lower(), perplexity)\n",
    "        cw.progress.value = 3\n",
    "        update_tsne_plot(x=X_2_space[:, 0], y=X_2_space[:, 1], w=index2word)\n",
    "        cw.progress.value = 5\n",
    "    cw.progress.value = 0\n",
    "    \n",
    "cw = BaseWidgetUtility(\n",
    "    progress = wf.create_int_progress_widget(min=0, max=5, step=1, value=0),\n",
    "    words=wf.create_text_area_input_widget(\n",
    "        description='Words', placeholder='(enter or paste words to be plotted)',\n",
    "        value='', layout=widgets.Layout(width='80%', height='200px') #, continuous_update=False\n",
    "    ),\n",
    "    method=wf.create_select_widget(description='Method', options=['TSNE', 'PCA'], value='PCA',\n",
    "                                   layout=widgets.Layout(width=\"60%\")),\n",
    "    perplexity=wf.create_int_slider('Perplexity', min=5, max=100, step=1, value=30),\n",
    ")\n",
    "\n",
    "iwa = widgets.interactive(\n",
    "    reduce_dimensions_and_display_words,\n",
    "    raw_text=cw.words,\n",
    "    method=cw.method,\n",
    "    perplexity=cw.perplexity\n",
    ")\n",
    "\n",
    "display(widgets.VBox([\n",
    "    widgets.HBox([cw.words, widgets.VBox([cw.method, cw.perplexity, cw.progress])]),\n",
    "    iwa.children[-1]\n",
    "]))\n",
    "iwa.update()"
   ]
  },
  {
   "cell_type": "markdown",
   "metadata": {},
   "source": [
    "### Word Vector Expression Calculator\n",
    "This is an attempt to visualize word-vector expressions in 2D. Note that the word vector expression is computed in he high-dimensional vector space, as given in the result table, and in 2-dimensional vector space as visualized in the chart. The  dimensionality reduction loses information which explains the discripancies in result.\n",
    "\n",
    "The **compute_most_similar_expression** function in ModelUtility parses a string of words each (optionally) prefixed with a plus or minus sign. The extracted \"positive\" and \"negative\" words are then used as arguments to gensims **most_similar** function, which, using numeric vector operations (add and subtract) finds the words most similar (cosine similarity) to the result of the given expression.\n",
    "Example expressions:\n",
    "- kvinnor - flickor + pojkar\n",
    "- sverige + oslo - stockholm"
   ]
  },
  {
   "cell_type": "code",
   "execution_count": 9,
   "metadata": {
    "code_folding": [
     0
    ],
    "scrolled": false
   },
   "outputs": [
    {
     "data": {
      "text/html": [
       "\n",
       "<div class=\"bk-root\">\n",
       "    <div class=\"bk-plotdiv\" id=\"6f491504-9feb-447d-8f03-3989579f4c23\"></div>\n",
       "</div>"
      ]
     },
     "metadata": {},
     "output_type": "display_data"
    },
    {
     "data": {
      "application/javascript": [
       "(function(root) {\n",
       "  function embed_document(root) {\n",
       "    \n",
       "  var docs_json = {\"09bc2340-7e21-48fd-8ed4-c26882b3b2b8\":{\"roots\":{\"references\":[{\"attributes\":{\"fill_alpha\":{\"value\":0.1},\"fill_color\":{\"value\":\"#1f77b4\"},\"line_alpha\":{\"value\":0.1},\"line_color\":{\"value\":\"#1f77b4\"},\"size\":{\"units\":\"screen\",\"value\":5},\"x\":{\"field\":\"x\"},\"y\":{\"field\":\"y\"}},\"id\":\"8826d256-a45d-4802-891f-3f74c1f422f6\",\"type\":\"Circle\"},{\"attributes\":{\"formatter\":{\"id\":\"94f2b270-488b-4567-8085-3d85043bc827\",\"type\":\"BasicTickFormatter\"},\"plot\":{\"id\":\"0e1d2e39-02d5-4578-8d71-c7763c42d5ae\",\"subtype\":\"Figure\",\"type\":\"Plot\"},\"ticker\":{\"id\":\"a400c45f-0057-45cf-90ed-0e1e8f3fcd1e\",\"type\":\"BasicTicker\"}},\"id\":\"e54258d1-873e-4006-8054-921b8c265c5a\",\"type\":\"LinearAxis\"},{\"attributes\":{\"formatter\":{\"id\":\"afc980fa-85db-4a76-b5fd-513818b6d9c1\",\"type\":\"BasicTickFormatter\"},\"plot\":{\"id\":\"0e1d2e39-02d5-4578-8d71-c7763c42d5ae\",\"subtype\":\"Figure\",\"type\":\"Plot\"},\"ticker\":{\"id\":\"8fa15577-32c1-4512-95ba-64c3b2e6e1c1\",\"type\":\"BasicTicker\"}},\"id\":\"151763a5-869a-4b68-b584-b6c2f676fa29\",\"type\":\"LinearAxis\"},{\"attributes\":{},\"id\":\"94f2b270-488b-4567-8085-3d85043bc827\",\"type\":\"BasicTickFormatter\"},{\"attributes\":{\"data_source\":{\"id\":\"eb848acd-3f14-4656-848d-c6b733d4dc14\",\"type\":\"ColumnDataSource\"},\"glyph\":{\"id\":\"bac47d13-cf64-4d09-80de-04d05fd75b2e\",\"type\":\"Cross\"},\"hover_glyph\":null,\"muted_glyph\":null,\"nonselection_glyph\":{\"id\":\"ff2e3ee4-5253-4991-81db-32d4ab187bcb\",\"type\":\"Cross\"},\"selection_glyph\":null,\"view\":{\"id\":\"3eaaae20-9cbb-4691-a406-3f730bbb0da9\",\"type\":\"CDSView\"}},\"id\":\"389fe686-0ce1-42e1-be05-1b1dd0c7d558\",\"type\":\"GlyphRenderer\"},{\"attributes\":{\"fill_color\":{\"value\":\"blue\"},\"line_color\":{\"value\":\"blue\"},\"size\":{\"units\":\"screen\",\"value\":10},\"x\":{\"value\":0},\"y\":{\"value\":0}},\"id\":\"bac47d13-cf64-4d09-80de-04d05fd75b2e\",\"type\":\"Cross\"},{\"attributes\":{\"callback\":null},\"id\":\"982769b3-0a50-494b-8310-09b4ae4f77cc\",\"type\":\"DataRange1d\"},{\"attributes\":{\"level\":\"glyph\",\"plot\":{\"id\":\"0e1d2e39-02d5-4578-8d71-c7763c42d5ae\",\"subtype\":\"Figure\",\"type\":\"Plot\"},\"source\":{\"id\":\"9fc18279-194b-421a-9fb3-1811a645fa78\",\"type\":\"ColumnDataSource\"},\"text\":{\"field\":\"w\"},\"x\":{\"field\":\"x\"},\"x_offset\":{\"value\":-2},\"y\":{\"field\":\"y\"},\"y_offset\":{\"value\":5}},\"id\":\"e68e1b45-1024-4754-b268-ff8184a6271e\",\"type\":\"LabelSet\"},{\"attributes\":{\"callback\":null},\"id\":\"cd685c83-9aca-4c6e-b5df-85d30e8d8f20\",\"type\":\"DataRange1d\"},{\"attributes\":{},\"id\":\"a400c45f-0057-45cf-90ed-0e1e8f3fcd1e\",\"type\":\"BasicTicker\"},{\"attributes\":{\"plot\":{\"id\":\"0e1d2e39-02d5-4578-8d71-c7763c42d5ae\",\"subtype\":\"Figure\",\"type\":\"Plot\"},\"ticker\":{\"id\":\"a400c45f-0057-45cf-90ed-0e1e8f3fcd1e\",\"type\":\"BasicTicker\"}},\"id\":\"b41141cb-807f-4100-9e14-80c834f63aa7\",\"type\":\"Grid\"},{\"attributes\":{\"active_drag\":\"auto\",\"active_inspect\":\"auto\",\"active_scroll\":\"auto\",\"active_tap\":\"auto\",\"tools\":[{\"id\":\"611337b4-c88b-4523-a173-fac6fb96ba9b\",\"type\":\"PanTool\"},{\"id\":\"b3308981-0c07-45ae-8bda-a7f67052b008\",\"type\":\"WheelZoomTool\"},{\"id\":\"f8dd1a3a-6196-4146-9885-591ee78a53dd\",\"type\":\"BoxZoomTool\"},{\"id\":\"89bdb3e2-ddc5-4058-8689-b53a3f9c70ac\",\"type\":\"ResetTool\"},{\"id\":\"2284ca12-8631-4deb-ae4d-79ef009e866c\",\"type\":\"SaveTool\"}]},\"id\":\"45bdf737-2ee8-4b33-b12a-cb393ba84050\",\"type\":\"Toolbar\"},{\"attributes\":{\"fill_alpha\":{\"value\":0.1},\"fill_color\":{\"value\":\"#1f77b4\"},\"line_alpha\":{\"value\":0.1},\"line_color\":{\"value\":\"#1f77b4\"},\"x\":{\"field\":\"x\"},\"y\":{\"field\":\"y\"}},\"id\":\"7030842c-a904-4dba-be31-bcf076d08436\",\"type\":\"Circle\"},{\"attributes\":{\"source\":{\"id\":\"eb848acd-3f14-4656-848d-c6b733d4dc14\",\"type\":\"ColumnDataSource\"}},\"id\":\"3eaaae20-9cbb-4691-a406-3f730bbb0da9\",\"type\":\"CDSView\"},{\"attributes\":{\"callback\":null,\"data\":{}},\"id\":\"eb848acd-3f14-4656-848d-c6b733d4dc14\",\"type\":\"ColumnDataSource\"},{\"attributes\":{},\"id\":\"8fa15577-32c1-4512-95ba-64c3b2e6e1c1\",\"type\":\"BasicTicker\"},{\"attributes\":{\"end\":{\"id\":\"415320b6-4b05-4224-aadc-10bb72556d6c\",\"type\":\"NormalHead\"},\"line_color\":{\"value\":\"blue\"},\"plot\":{\"id\":\"0e1d2e39-02d5-4578-8d71-c7763c42d5ae\",\"subtype\":\"Figure\",\"type\":\"Plot\"},\"source\":{\"id\":\"f4594ed9-5db4-42e1-be98-32b666e551e3\",\"type\":\"ColumnDataSource\"},\"start\":null,\"x_end\":{\"field\":\"x2\"},\"x_start\":{\"field\":\"x\"},\"y_end\":{\"field\":\"y2\"},\"y_start\":{\"field\":\"y\"}},\"id\":\"10ee02c1-b676-4b68-8215-237633de1476\",\"type\":\"Arrow\"},{\"attributes\":{\"overlay\":{\"id\":\"eea078dd-6f79-4e8f-b0a4-1ed1fe487513\",\"type\":\"BoxAnnotation\"}},\"id\":\"f8dd1a3a-6196-4146-9885-591ee78a53dd\",\"type\":\"BoxZoomTool\"},{\"attributes\":{},\"id\":\"23e97ac4-f601-44eb-a354-e71cec66a5eb\",\"type\":\"LinearScale\"},{\"attributes\":{},\"id\":\"afc980fa-85db-4a76-b5fd-513818b6d9c1\",\"type\":\"BasicTickFormatter\"},{\"attributes\":{\"end\":{\"id\":\"fd93da4a-cd82-46ae-9c2e-2631e5498ba5\",\"type\":\"NormalHead\"},\"line_color\":{\"value\":\"red\"},\"plot\":{\"id\":\"0e1d2e39-02d5-4578-8d71-c7763c42d5ae\",\"subtype\":\"Figure\",\"type\":\"Plot\"},\"source\":{\"id\":\"f5f7de46-b3e5-4f92-9e43-d33bfc61f524\",\"type\":\"ColumnDataSource\"},\"start\":null,\"x_end\":{\"field\":\"x\"},\"x_start\":{\"value\":0},\"y_end\":{\"field\":\"y\"},\"y_start\":{\"value\":0}},\"id\":\"966f2e03-7a06-497d-92c2-294469ed222c\",\"type\":\"Arrow\"},{\"attributes\":{\"data_source\":{\"id\":\"9fc18279-194b-421a-9fb3-1811a645fa78\",\"type\":\"ColumnDataSource\"},\"glyph\":{\"id\":\"7479d367-2924-4044-ae60-053788bf6128\",\"type\":\"Circle\"},\"hover_glyph\":null,\"muted_glyph\":null,\"nonselection_glyph\":{\"id\":\"8826d256-a45d-4802-891f-3f74c1f422f6\",\"type\":\"Circle\"},\"selection_glyph\":null,\"view\":{\"id\":\"f9be0294-3ea4-452e-b7ad-68d672bdbf43\",\"type\":\"CDSView\"}},\"id\":\"657c0a95-4931-4c42-8040-6d6f18df32c9\",\"type\":\"GlyphRenderer\"},{\"attributes\":{\"source\":{\"id\":\"9fc18279-194b-421a-9fb3-1811a645fa78\",\"type\":\"ColumnDataSource\"}},\"id\":\"f9be0294-3ea4-452e-b7ad-68d672bdbf43\",\"type\":\"CDSView\"},{\"attributes\":{},\"id\":\"2284ca12-8631-4deb-ae4d-79ef009e866c\",\"type\":\"SaveTool\"},{\"attributes\":{\"bottom_units\":\"screen\",\"fill_alpha\":{\"value\":0.5},\"fill_color\":{\"value\":\"lightgrey\"},\"left_units\":\"screen\",\"level\":\"overlay\",\"line_alpha\":{\"value\":1.0},\"line_color\":{\"value\":\"black\"},\"line_dash\":[4,4],\"line_width\":{\"value\":2},\"plot\":null,\"render_mode\":\"css\",\"right_units\":\"screen\",\"top_units\":\"screen\"},\"id\":\"eea078dd-6f79-4e8f-b0a4-1ed1fe487513\",\"type\":\"BoxAnnotation\"},{\"attributes\":{\"line_alpha\":{\"value\":0.2},\"plot\":null,\"size\":10},\"id\":\"415320b6-4b05-4224-aadc-10bb72556d6c\",\"type\":\"NormalHead\"},{\"attributes\":{\"fill_color\":{\"value\":\"green\"},\"line_color\":{\"value\":\"green\"},\"size\":{\"units\":\"screen\",\"value\":5},\"x\":{\"field\":\"x\"},\"y\":{\"field\":\"y\"}},\"id\":\"7479d367-2924-4044-ae60-053788bf6128\",\"type\":\"Circle\"},{\"attributes\":{},\"id\":\"cb026574-a00d-4883-95d8-9f78ec2b57ad\",\"type\":\"LinearScale\"},{\"attributes\":{\"line_alpha\":{\"value\":0.2},\"plot\":null,\"size\":10},\"id\":\"fd93da4a-cd82-46ae-9c2e-2631e5498ba5\",\"type\":\"NormalHead\"},{\"attributes\":{},\"id\":\"611337b4-c88b-4523-a173-fac6fb96ba9b\",\"type\":\"PanTool\"},{\"attributes\":{\"level\":\"glyph\",\"plot\":{\"id\":\"0e1d2e39-02d5-4578-8d71-c7763c42d5ae\",\"subtype\":\"Figure\",\"type\":\"Plot\"},\"source\":{\"id\":\"f5f7de46-b3e5-4f92-9e43-d33bfc61f524\",\"type\":\"ColumnDataSource\"},\"text\":{\"field\":\"w\"},\"x\":{\"field\":\"x\"},\"x_offset\":{\"value\":-2},\"y\":{\"field\":\"y\"},\"y_offset\":{\"value\":5}},\"id\":\"0e9172b9-58ae-49ff-8441-19dbd867b959\",\"type\":\"LabelSet\"},{\"attributes\":{\"data_source\":{\"id\":\"f5f7de46-b3e5-4f92-9e43-d33bfc61f524\",\"type\":\"ColumnDataSource\"},\"glyph\":{\"id\":\"0412d88d-e784-46da-aba2-20ad9545729e\",\"type\":\"Circle\"},\"hover_glyph\":null,\"muted_glyph\":null,\"nonselection_glyph\":{\"id\":\"7030842c-a904-4dba-be31-bcf076d08436\",\"type\":\"Circle\"},\"selection_glyph\":null,\"view\":{\"id\":\"72696ffa-27e8-4dbd-8cd8-dd15921ec5a9\",\"type\":\"CDSView\"}},\"id\":\"5c49e3a5-b7d7-4dd8-b9d0-de69d0e23e09\",\"type\":\"GlyphRenderer\"},{\"attributes\":{\"source\":{\"id\":\"f5f7de46-b3e5-4f92-9e43-d33bfc61f524\",\"type\":\"ColumnDataSource\"}},\"id\":\"72696ffa-27e8-4dbd-8cd8-dd15921ec5a9\",\"type\":\"CDSView\"},{\"attributes\":{\"plot\":null,\"text\":\"Word Vector Expressions\"},\"id\":\"315b6cab-414a-4397-9c0f-60c520bb272c\",\"type\":\"Title\"},{\"attributes\":{\"fill_alpha\":{\"value\":0.1},\"fill_color\":{\"value\":\"#1f77b4\"},\"line_alpha\":{\"value\":0.1},\"line_color\":{\"value\":\"#1f77b4\"},\"size\":{\"units\":\"screen\",\"value\":10},\"x\":{\"value\":0},\"y\":{\"value\":0}},\"id\":\"ff2e3ee4-5253-4991-81db-32d4ab187bcb\",\"type\":\"Cross\"},{\"attributes\":{\"callback\":null,\"column_names\":[\"w\",\"x\",\"y\"],\"data\":{\"w\":[\"\"],\"x\":[0],\"y\":[0]}},\"id\":\"f5f7de46-b3e5-4f92-9e43-d33bfc61f524\",\"type\":\"ColumnDataSource\"},{\"attributes\":{\"below\":[{\"id\":\"e54258d1-873e-4006-8054-921b8c265c5a\",\"type\":\"LinearAxis\"}],\"left\":[{\"id\":\"151763a5-869a-4b68-b584-b6c2f676fa29\",\"type\":\"LinearAxis\"}],\"plot_width\":900,\"renderers\":[{\"id\":\"e54258d1-873e-4006-8054-921b8c265c5a\",\"type\":\"LinearAxis\"},{\"id\":\"b41141cb-807f-4100-9e14-80c834f63aa7\",\"type\":\"Grid\"},{\"id\":\"151763a5-869a-4b68-b584-b6c2f676fa29\",\"type\":\"LinearAxis\"},{\"id\":\"9d26b240-77e9-44ea-9cdb-e7f6c9570795\",\"type\":\"Grid\"},{\"id\":\"eea078dd-6f79-4e8f-b0a4-1ed1fe487513\",\"type\":\"BoxAnnotation\"},{\"id\":\"389fe686-0ce1-42e1-be05-1b1dd0c7d558\",\"type\":\"GlyphRenderer\"},{\"id\":\"5c49e3a5-b7d7-4dd8-b9d0-de69d0e23e09\",\"type\":\"GlyphRenderer\"},{\"id\":\"0e9172b9-58ae-49ff-8441-19dbd867b959\",\"type\":\"LabelSet\"},{\"id\":\"657c0a95-4931-4c42-8040-6d6f18df32c9\",\"type\":\"GlyphRenderer\"},{\"id\":\"e68e1b45-1024-4754-b268-ff8184a6271e\",\"type\":\"LabelSet\"},{\"id\":\"966f2e03-7a06-497d-92c2-294469ed222c\",\"type\":\"Arrow\"},{\"id\":\"10ee02c1-b676-4b68-8215-237633de1476\",\"type\":\"Arrow\"}],\"title\":{\"id\":\"315b6cab-414a-4397-9c0f-60c520bb272c\",\"type\":\"Title\"},\"toolbar\":{\"id\":\"45bdf737-2ee8-4b33-b12a-cb393ba84050\",\"type\":\"Toolbar\"},\"x_range\":{\"id\":\"982769b3-0a50-494b-8310-09b4ae4f77cc\",\"type\":\"DataRange1d\"},\"x_scale\":{\"id\":\"cb026574-a00d-4883-95d8-9f78ec2b57ad\",\"type\":\"LinearScale\"},\"y_range\":{\"id\":\"cd685c83-9aca-4c6e-b5df-85d30e8d8f20\",\"type\":\"DataRange1d\"},\"y_scale\":{\"id\":\"23e97ac4-f601-44eb-a354-e71cec66a5eb\",\"type\":\"LinearScale\"}},\"id\":\"0e1d2e39-02d5-4578-8d71-c7763c42d5ae\",\"subtype\":\"Figure\",\"type\":\"Plot\"},{\"attributes\":{\"dimension\":1,\"plot\":{\"id\":\"0e1d2e39-02d5-4578-8d71-c7763c42d5ae\",\"subtype\":\"Figure\",\"type\":\"Plot\"},\"ticker\":{\"id\":\"8fa15577-32c1-4512-95ba-64c3b2e6e1c1\",\"type\":\"BasicTicker\"}},\"id\":\"9d26b240-77e9-44ea-9cdb-e7f6c9570795\",\"type\":\"Grid\"},{\"attributes\":{},\"id\":\"b3308981-0c07-45ae-8bda-a7f67052b008\",\"type\":\"WheelZoomTool\"},{\"attributes\":{},\"id\":\"89bdb3e2-ddc5-4058-8689-b53a3f9c70ac\",\"type\":\"ResetTool\"},{\"attributes\":{\"fill_color\":{\"value\":\"black\"},\"x\":{\"field\":\"x\"},\"y\":{\"field\":\"y\"}},\"id\":\"0412d88d-e784-46da-aba2-20ad9545729e\",\"type\":\"Circle\"},{\"attributes\":{\"callback\":null,\"column_names\":[\"y2\",\"x2\",\"w\",\"x\",\"y\"],\"data\":{\"w\":[\"\"],\"x\":[0],\"x2\":[0],\"y\":[0],\"y2\":[0]}},\"id\":\"f4594ed9-5db4-42e1-be98-32b666e551e3\",\"type\":\"ColumnDataSource\"},{\"attributes\":{\"callback\":null,\"column_names\":[\"w\",\"x\",\"y\"],\"data\":{\"w\":[\"\"],\"x\":[0],\"y\":[0]}},\"id\":\"9fc18279-194b-421a-9fb3-1811a645fa78\",\"type\":\"ColumnDataSource\"}],\"root_ids\":[\"0e1d2e39-02d5-4578-8d71-c7763c42d5ae\"]},\"title\":\"Bokeh Application\",\"version\":\"0.12.14\"}};\n",
       "  var render_items = [{\"docid\":\"09bc2340-7e21-48fd-8ed4-c26882b3b2b8\",\"elementid\":\"6f491504-9feb-447d-8f03-3989579f4c23\",\"modelid\":\"0e1d2e39-02d5-4578-8d71-c7763c42d5ae\",\"notebook_comms_target\":\"a8b919c0-94a5-4b62-8f38-1155da30e0b7\"}];\n",
       "  root.Bokeh.embed.embed_items_notebook(docs_json, render_items);\n",
       "\n",
       "  }\n",
       "  if (root.Bokeh !== undefined) {\n",
       "    embed_document(root);\n",
       "  } else {\n",
       "    var attempts = 0;\n",
       "    var timer = setInterval(function(root) {\n",
       "      if (root.Bokeh !== undefined) {\n",
       "        embed_document(root);\n",
       "        clearInterval(timer);\n",
       "      }\n",
       "      attempts++;\n",
       "      if (attempts > 100) {\n",
       "        console.log(\"Bokeh: ERROR: Unable to run BokehJS code because BokehJS library is missing\")\n",
       "        clearInterval(timer);\n",
       "      }\n",
       "    }, 10, root)\n",
       "  }\n",
       "})(window);"
      ],
      "application/vnd.bokehjs_exec.v0+json": ""
     },
     "metadata": {
      "application/vnd.bokehjs_exec.v0+json": {
       "id": "0e1d2e39-02d5-4578-8d71-c7763c42d5ae"
      }
     },
     "output_type": "display_data"
    }
   ],
   "source": [
    "#\n",
    "def update_expression_plot(exp_points, result_points, expr_trail):\n",
    "    global expression_plot\n",
    "    expression_plot.expr_words_source.data.update(exp_points)\n",
    "    expression_plot.result_words_source.data.update(result_points)\n",
    "    expression_plot.expr_trail_source.data.update(expr_trail)\n",
    "    bio.push_notebook(handle=expression_plot.handle)\n",
    "\n",
    "\n",
    "def setup_expression_plot():\n",
    "    try:\n",
    "        xp = bp.figure(\n",
    "            plot_width=900, plot_height=600, title='Word Vector Expressions',\n",
    "            tools=TOOLS, toolbar_location=\"right\",\n",
    "            #x_axis_type=None, y_axis_type=None\n",
    "        )\n",
    "\n",
    "        xp.cross(x=0, y=0, size=10, color='blue')\n",
    "\n",
    "        expr_words_source = ColumnDataSource(dict(w=[''],x=[0], y=[0]))\n",
    "        result_words_source = ColumnDataSource(dict(w=[''],x=[0], y=[0]))\n",
    "        expr_trail_source = ColumnDataSource(dict(w=[''],x=[0], y=[0], x2=[0], y2=[0]))\n",
    "\n",
    "        crs = xp.scatter(x='x', y='y', color='black', source=expr_words_source)\n",
    "        crl = bm.LabelSet(x='x', y='y', text='w', level='glyph', x_offset=-2, y_offset=5, source=expr_words_source)\n",
    "        xp.add_layout(crl)\n",
    "\n",
    "        rp = xp.scatter(x='x', y='y', size=5, color='green', source=result_words_source)\n",
    "        rl = bm.LabelSet(x='x', y='y', text='w', level='glyph', x_offset=-2, y_offset=5, source=result_words_source)\n",
    "        xp.add_layout(rl)\n",
    "\n",
    "        xp.add_layout(bm.Arrow(\n",
    "            x_start=0,\n",
    "            y_start=0,\n",
    "            x_end='x',\n",
    "            y_end='y',\n",
    "            line_color='red',\n",
    "            source=expr_words_source,\n",
    "            end=bm.NormalHead(size=10, fill_color='black', fill_alpha=1.0, line_alpha=0.2),\n",
    "        ))\n",
    "\n",
    "        xp.add_layout(bm.Arrow(\n",
    "            x_start='x',\n",
    "            y_start='y',\n",
    "            x_end='x2',\n",
    "            y_end='y2',\n",
    "            line_color='blue',\n",
    "            source=expr_trail_source,\n",
    "            end=bm.NormalHead(size=10, fill_color='black', fill_alpha=1.0, line_alpha=0.2),\n",
    "        ))\n",
    "\n",
    "        handle = bp.show(xp, notebook_handle=True)\n",
    "        return types.SimpleNamespace(\n",
    "            handle=handle,\n",
    "            points=crs,\n",
    "            labels=crl,\n",
    "            expr_words_source=expr_words_source,\n",
    "            result_words_source=result_words_source,\n",
    "            expr_trail_source=expr_trail_source\n",
    "        )\n",
    "    except:\n",
    "        print('Something bad happend.')\n",
    "    \n",
    "expression_plot = setup_expression_plot()"
   ]
  },
  {
   "cell_type": "code",
   "execution_count": 10,
   "metadata": {
    "code_folding": [
     0
    ],
    "scrolled": false
   },
   "outputs": [
    {
     "data": {
      "application/vnd.jupyter.widget-view+json": {
       "model_id": "76ab3a2eac424cfeae7888c47e25f5e4",
       "version_major": 2,
       "version_minor": 0
      },
      "text/html": [
       "<p>Failed to display Jupyter Widget of type <code>VBox</code>.</p>\n",
       "<p>\n",
       "  If you're reading this message in the Jupyter Notebook or JupyterLab Notebook, it may mean\n",
       "  that the widgets JavaScript is still loading. If this message persists, it\n",
       "  likely means that the widgets JavaScript library is either not installed or\n",
       "  not enabled. See the <a href=\"https://ipywidgets.readthedocs.io/en/stable/user_install.html\">Jupyter\n",
       "  Widgets Documentation</a> for setup instructions.\n",
       "</p>\n",
       "<p>\n",
       "  If you're reading this message in another frontend (for example, a static\n",
       "  rendering on GitHub or <a href=\"https://nbviewer.jupyter.org/\">NBViewer</a>),\n",
       "  it may mean that your frontend doesn't currently support widgets.\n",
       "</p>\n"
      ],
      "text/plain": [
       "VBox(children=(HBox(children=(Text(value='', description='Expression', layout=Layout(width='90%'), placeholder='(enter expression e.g. sverige + oslo - stockholm)'),)), HBox(children=(Dropdown(description='Reducer', index=1, options=('pca', 'tsne'), value='tsne'), IntSlider(value=10, continuous_update=False, description='Perplexity', min=10))), Output()))"
      ]
     },
     "metadata": {},
     "output_type": "display_data"
    }
   ],
   "source": [
    "# Calculator\n",
    "history_state = ['', 'man - pojke + flicka']\n",
    "z = BaseWidgetUtility(\n",
    "    method = wf.create_select_widget(\n",
    "        description='Reducer',\n",
    "        options=['pca', 'tsne' ],\n",
    "        value='tsne'\n",
    "    ),\n",
    "    perplexity=wf.create_int_slider(description='Perplexity', min=10, max=100, step=1, value=0),\n",
    "    expression = wf.create_text_input_widget(\n",
    "        description='Expression',\n",
    "        placeholder='(enter expression e.g. sverige + oslo - stockholm)',\n",
    "        value='',\n",
    "        layout=widgets.Layout(width='90%')\n",
    "    )\n",
    ")\n",
    "\n",
    "def compute_expression(expression, method, perplexity, n_top=10):\n",
    "    global state, history_state\n",
    "    try:\n",
    "        result, options = WordVectorUtility.compute_most_similar_expression(state.WEM, expression)\n",
    "\n",
    "        if result is None or options is None:\n",
    "            return\n",
    "\n",
    "        expression_words = (options['positives'] or []) + (options['negatives'] or [])\n",
    "\n",
    "        #if len(expression_words) < 3:\n",
    "        #    return\n",
    "\n",
    "        result_words, result_weights = list(zip(*result[:n_top]))\n",
    "        result_words = [ z for z in result_words if z not in expression_words ]\n",
    "\n",
    "        #df = pd.DataFrame(result_words).assign(weight=result_weights)\n",
    "        #display(HTML(df.to_html()))\n",
    "        #return\n",
    "\n",
    "        X_2_space, index2word = tsne_plot_reduce(expression_words+result_words,perplexity=perplexity)\n",
    "\n",
    "        word2index = dict(zip(index2word, range(0, len(index2word))))\n",
    "\n",
    "        expr_index = [ word2index[x] for x in expression_words ]\n",
    "        result_index = [ word2index[x] for x in result_words ]\n",
    "        positives = options['positives']\n",
    "        color = len(index2word) * ['red']\n",
    "        expr_words=dict(\n",
    "            x=list(X_2_space[expr_index, 0]),\n",
    "            y=list(X_2_space[expr_index, 1]),\n",
    "            w=[ index2word[i] for i in expr_index ],\n",
    "            s=[ index2word[i] in positives for i in expr_index ]\n",
    "        )\n",
    "        result_words=dict(\n",
    "            x=list(X_2_space[result_index, 0]),\n",
    "            y=list(X_2_space[result_index, 1]),\n",
    "            w=[ index2word[i] for i in result_index ],\n",
    "        )\n",
    "\n",
    "        expr_points = [dict(zip(expr_words,t)) for t in zip(*expr_words.values())]\n",
    "        ''' Let trail start at origo '''\n",
    "        trail = [dict(x=0, y=0, w='', x2=0, y2=0)]\n",
    "        for p in expr_points:\n",
    "            ''' tp is our current position '''\n",
    "            tp = trail[-1]\n",
    "            sign = 1 if p['s'] else -1\n",
    "\n",
    "            ''' np = (x, y) is our next position '''\n",
    "            x, y = tp['x'] + sign * p['x'], tp['y'] + sign * p['y']\n",
    "            w = tp['w'] + (' + ' if p['s'] else ' - ') + p['w']\n",
    "\n",
    "            np = dict(x=x, y=y, w=w, x2=0, y2=0)\n",
    "            tp['x2'], tp['y2'] = np['x'], np['y']\n",
    "            trail += [ np ]\n",
    "\n",
    "        expr_trail = dict(\n",
    "            x=[ p['x'] for p in trail ][1:-1],\n",
    "            y=[ p['y'] for p in trail ][1:-1],\n",
    "            w=[ p['w'] for p in trail ][1:-1],\n",
    "            x2=[ p['x2'] for p in trail ][1:-1],\n",
    "            y2=[ p['y2'] for p in trail ][1:-1]\n",
    "        )\n",
    "\n",
    "        update_expression_plot(expr_words, result_words, expr_trail)\n",
    "\n",
    "        #point_map = dict(zip(index2word, zip(X_2_space[:, 0], X_2_space[:, 1])))\n",
    "\n",
    "        #update_expression_plot(x=X_2_space[:, 0], y=X_2_space[:, 1], w=index2word)\n",
    "\n",
    "        df = pd.DataFrame(result_words).assign(weight=result_weights)\n",
    "        display(HTML(df.to_html()))\n",
    "    except Exception as ex:\n",
    "        print(ex)\n",
    "        \n",
    "w = widgets.interactive(compute_expression, expression=z.expression, method=z.method, perplexity=z.perplexity)\n",
    "display(widgets.VBox([\n",
    "    widgets.HBox([z.expression]),\n",
    "    widgets.HBox([z.method, z.perplexity]),\n",
    "    w.children[-1]\n",
    "]))\n",
    "# w.update()\n",
    "# sverige + oslo - stockholm  "
   ]
  },
  {
   "cell_type": "markdown",
   "metadata": {},
   "source": [
    "### Similarity to Analogies/Dichotomies.\n",
    "\n",
    "#### Similarity to analogy direction\n",
    "\n",
    "Let $A$ and $B$ be a word-pair analogy (e.g. \"good\" and \"evil\") represented by word vectors $V_A$ and $V_B$. Then the *analogy direction vector* $V_{AB}$ is defined as $V_{AB} = V_B - V_A$. The position of a word $W$ represented by vector $V_W$ is then defined as the cosine similarity of $V_{AB}$ and $V_W$.\n",
    "\n",
    "#### TODO Alternative Center\n",
    "\n",
    "Let $A$ and $B$ be a word-pair analogy (e.g. \"good\" and \"evil\") represented by word vectors $V_A$ and $V_B$. Then the position of a word $W$ represented by vector $V_W$ on an *\"$A$ to $B$ scale\"* is defined as the the distance between $V_{A}$ and $V_W$ minus the distance between $V_{B}$ and $V_W$. The distance can be e.g. cosine similarity or euclidean. \n"
   ]
  },
  {
   "cell_type": "code",
   "execution_count": 11,
   "metadata": {
    "code_folding": [
     0
    ],
    "scrolled": true
   },
   "outputs": [
    {
     "data": {
      "text/html": [
       "\n",
       "<div class=\"bk-root\">\n",
       "    <div class=\"bk-plotdiv\" id=\"30140c51-87c1-475c-9a17-8b4117c1989e\"></div>\n",
       "</div>"
      ]
     },
     "metadata": {},
     "output_type": "display_data"
    },
    {
     "data": {
      "application/javascript": [
       "(function(root) {\n",
       "  function embed_document(root) {\n",
       "    \n",
       "  var docs_json = {\"53c088c6-07b5-457a-babd-6dca6511e9c6\":{\"roots\":{\"references\":[{\"attributes\":{\"level\":\"glyph\",\"plot\":{\"id\":\"eca73a9e-dc1f-4533-8c63-71ae523365b7\",\"subtype\":\"Figure\",\"type\":\"Plot\"},\"source\":{\"id\":\"cafa8911-8ae1-4f18-9915-2bb69444f7d6\",\"type\":\"ColumnDataSource\"},\"text\":{\"field\":\"w\"},\"text_color\":{\"value\":\"black\"},\"text_font_size\":{\"value\":\"9pt\"},\"x\":{\"field\":\"x\"},\"x_offset\":{\"value\":5},\"y\":{\"field\":\"y\"},\"y_offset\":{\"value\":5}},\"id\":\"69f23a5b-0aaa-4486-bac1-50ecf8d50146\",\"type\":\"LabelSet\"},{\"attributes\":{},\"id\":\"ed69869f-d4ec-41e8-b7b4-964ff39e757f\",\"type\":\"SaveTool\"},{\"attributes\":{\"overlay\":{\"id\":\"dd3691f5-c4f0-4535-ae33-cda8aa8f856b\",\"type\":\"BoxAnnotation\"}},\"id\":\"edfea0e1-214a-411f-9177-54234811411e\",\"type\":\"BoxZoomTool\"},{\"attributes\":{\"fill_alpha\":{\"value\":0.5},\"fill_color\":{\"value\":\"red\"},\"line_alpha\":{\"value\":0.5},\"line_color\":{\"value\":\"red\"},\"size\":{\"units\":\"screen\",\"value\":8},\"x\":{\"field\":\"x\"},\"y\":{\"field\":\"y\"}},\"id\":\"f318a53c-9427-4403-bcab-332d90865cb9\",\"type\":\"Circle\"},{\"attributes\":{\"fill_alpha\":{\"value\":0.5},\"fill_color\":{\"value\":\"blue\"},\"line_alpha\":{\"value\":0.5},\"line_color\":{\"value\":\"blue\"},\"size\":{\"units\":\"screen\",\"value\":8},\"x\":{\"field\":\"x\"},\"y\":{\"field\":\"y\"}},\"id\":\"bd12ce80-d1b6-4983-925d-28cc0de35748\",\"type\":\"Circle\"},{\"attributes\":{\"callback\":null,\"column_names\":[\"w\",\"x\",\"y\"],\"data\":{\"w\":[],\"x\":[],\"y\":[]}},\"id\":\"26545a10-48fe-4e09-bd2a-c3b914db9fb2\",\"type\":\"ColumnDataSource\"},{\"attributes\":{\"active_drag\":\"auto\",\"active_inspect\":\"auto\",\"active_scroll\":\"auto\",\"active_tap\":\"auto\",\"tools\":[{\"id\":\"0a661c6f-0ce3-4499-af24-f96bdfab8a4e\",\"type\":\"PanTool\"},{\"id\":\"911e4529-57fd-4df6-b056-3a0c1ecc18fe\",\"type\":\"WheelZoomTool\"},{\"id\":\"edfea0e1-214a-411f-9177-54234811411e\",\"type\":\"BoxZoomTool\"},{\"id\":\"e298061d-8264-4071-a9f0-031e74896ab5\",\"type\":\"ResetTool\"},{\"id\":\"ed69869f-d4ec-41e8-b7b4-964ff39e757f\",\"type\":\"SaveTool\"}]},\"id\":\"db76ca68-5ead-41f4-b51b-4a95feaf4fbd\",\"type\":\"Toolbar\"},{\"attributes\":{\"data_source\":{\"id\":\"26545a10-48fe-4e09-bd2a-c3b914db9fb2\",\"type\":\"ColumnDataSource\"},\"glyph\":{\"id\":\"f318a53c-9427-4403-bcab-332d90865cb9\",\"type\":\"Circle\"},\"hover_glyph\":null,\"muted_glyph\":null,\"nonselection_glyph\":{\"id\":\"51d234fd-049a-4bb0-8789-48e4eb6b3733\",\"type\":\"Circle\"},\"selection_glyph\":null,\"view\":{\"id\":\"71023a86-bfee-4b5b-b671-a78ced6dd951\",\"type\":\"CDSView\"}},\"id\":\"1b19ec88-e8bc-42f5-af96-fac65600eefb\",\"type\":\"GlyphRenderer\"},{\"attributes\":{\"dimension\":1,\"plot\":{\"id\":\"eca73a9e-dc1f-4533-8c63-71ae523365b7\",\"subtype\":\"Figure\",\"type\":\"Plot\"},\"ticker\":{\"id\":\"0c1b9d6a-bec3-4a79-a936-6805e370b1b8\",\"type\":\"BasicTicker\"}},\"id\":\"fc44a57e-5ef5-4f8d-b3aa-5ca29e015c77\",\"type\":\"Grid\"},{\"attributes\":{},\"id\":\"14c92df8-5ad5-453d-a0dc-c22c98f63529\",\"type\":\"LinearScale\"},{\"attributes\":{\"fill_alpha\":{\"value\":0.1},\"fill_color\":{\"value\":\"#1f77b4\"},\"line_alpha\":{\"value\":0.1},\"line_color\":{\"value\":\"#1f77b4\"},\"size\":{\"units\":\"screen\",\"value\":8},\"x\":{\"field\":\"x\"},\"y\":{\"field\":\"y\"}},\"id\":\"0a2f3ffb-8b27-4a6d-b096-ac5379bd80af\",\"type\":\"Circle\"},{\"attributes\":{},\"id\":\"1902bb31-f3ce-42d5-9965-80c035b55d70\",\"type\":\"BasicTickFormatter\"},{\"attributes\":{},\"id\":\"e298061d-8264-4071-a9f0-031e74896ab5\",\"type\":\"ResetTool\"},{\"attributes\":{\"below\":[{\"id\":\"7fb037f1-9664-4f08-ac10-5798b3f5d4f7\",\"type\":\"LinearAxis\"}],\"left\":[{\"id\":\"fd860c95-154d-4765-8e56-d1180d62c450\",\"type\":\"LinearAxis\"}],\"plot_width\":900,\"renderers\":[{\"id\":\"7fb037f1-9664-4f08-ac10-5798b3f5d4f7\",\"type\":\"LinearAxis\"},{\"id\":\"922b33b7-64da-4060-b309-f8d5ea06b5d4\",\"type\":\"Grid\"},{\"id\":\"fd860c95-154d-4765-8e56-d1180d62c450\",\"type\":\"LinearAxis\"},{\"id\":\"fc44a57e-5ef5-4f8d-b3aa-5ca29e015c77\",\"type\":\"Grid\"},{\"id\":\"dd3691f5-c4f0-4535-ae33-cda8aa8f856b\",\"type\":\"BoxAnnotation\"},{\"id\":\"151e3734-df72-4c0d-8033-538faefc6b8d\",\"type\":\"GlyphRenderer\"},{\"id\":\"69f23a5b-0aaa-4486-bac1-50ecf8d50146\",\"type\":\"LabelSet\"},{\"id\":\"1b19ec88-e8bc-42f5-af96-fac65600eefb\",\"type\":\"GlyphRenderer\"},{\"id\":\"97f18379-62ee-447e-b2ee-6eaaf46ba64a\",\"type\":\"LabelSet\"}],\"title\":{\"id\":\"2ae31d78-c933-45ec-933e-f739d6169b70\",\"type\":\"Title\"},\"toolbar\":{\"id\":\"db76ca68-5ead-41f4-b51b-4a95feaf4fbd\",\"type\":\"Toolbar\"},\"x_range\":{\"id\":\"18bcd717-ecaa-47d8-96ad-36d964b05848\",\"type\":\"DataRange1d\"},\"x_scale\":{\"id\":\"cb811bbd-a102-4b6a-b6d0-19d635d95d4e\",\"type\":\"LinearScale\"},\"y_range\":{\"id\":\"17b319f1-a22d-486b-b9d7-6241cc4551e4\",\"type\":\"DataRange1d\"},\"y_scale\":{\"id\":\"14c92df8-5ad5-453d-a0dc-c22c98f63529\",\"type\":\"LinearScale\"}},\"id\":\"eca73a9e-dc1f-4533-8c63-71ae523365b7\",\"subtype\":\"Figure\",\"type\":\"Plot\"},{\"attributes\":{\"source\":{\"id\":\"cafa8911-8ae1-4f18-9915-2bb69444f7d6\",\"type\":\"ColumnDataSource\"}},\"id\":\"eeed736b-5e70-4d2f-8b79-5fce9c80f399\",\"type\":\"CDSView\"},{\"attributes\":{\"fill_alpha\":{\"value\":0.1},\"fill_color\":{\"value\":\"#1f77b4\"},\"line_alpha\":{\"value\":0.1},\"line_color\":{\"value\":\"#1f77b4\"},\"size\":{\"units\":\"screen\",\"value\":8},\"x\":{\"field\":\"x\"},\"y\":{\"field\":\"y\"}},\"id\":\"51d234fd-049a-4bb0-8789-48e4eb6b3733\",\"type\":\"Circle\"},{\"attributes\":{\"callback\":null},\"id\":\"18bcd717-ecaa-47d8-96ad-36d964b05848\",\"type\":\"DataRange1d\"},{\"attributes\":{\"bottom_units\":\"screen\",\"fill_alpha\":{\"value\":0.5},\"fill_color\":{\"value\":\"lightgrey\"},\"left_units\":\"screen\",\"level\":\"overlay\",\"line_alpha\":{\"value\":1.0},\"line_color\":{\"value\":\"black\"},\"line_dash\":[4,4],\"line_width\":{\"value\":2},\"plot\":null,\"render_mode\":\"css\",\"right_units\":\"screen\",\"top_units\":\"screen\"},\"id\":\"dd3691f5-c4f0-4535-ae33-cda8aa8f856b\",\"type\":\"BoxAnnotation\"},{\"attributes\":{},\"id\":\"cb811bbd-a102-4b6a-b6d0-19d635d95d4e\",\"type\":\"LinearScale\"},{\"attributes\":{\"formatter\":{\"id\":\"18fd8ca1-3470-429b-b8b3-bf52a8f47fd7\",\"type\":\"BasicTickFormatter\"},\"plot\":{\"id\":\"eca73a9e-dc1f-4533-8c63-71ae523365b7\",\"subtype\":\"Figure\",\"type\":\"Plot\"},\"ticker\":{\"id\":\"692dd2ba-2917-4237-9f18-53bfe8bdc5ae\",\"type\":\"BasicTicker\"}},\"id\":\"7fb037f1-9664-4f08-ac10-5798b3f5d4f7\",\"type\":\"LinearAxis\"},{\"attributes\":{\"level\":\"glyph\",\"plot\":{\"id\":\"eca73a9e-dc1f-4533-8c63-71ae523365b7\",\"subtype\":\"Figure\",\"type\":\"Plot\"},\"source\":{\"id\":\"26545a10-48fe-4e09-bd2a-c3b914db9fb2\",\"type\":\"ColumnDataSource\"},\"text\":{\"field\":\"w\"},\"text_color\":{\"value\":\"red\"},\"text_font_size\":{\"value\":\"9pt\"},\"text_font_style\":\"bold\",\"x\":{\"field\":\"x\"},\"x_offset\":{\"value\":5},\"y\":{\"field\":\"y\"},\"y_offset\":{\"value\":5}},\"id\":\"97f18379-62ee-447e-b2ee-6eaaf46ba64a\",\"type\":\"LabelSet\"},{\"attributes\":{},\"id\":\"911e4529-57fd-4df6-b056-3a0c1ecc18fe\",\"type\":\"WheelZoomTool\"},{\"attributes\":{},\"id\":\"18fd8ca1-3470-429b-b8b3-bf52a8f47fd7\",\"type\":\"BasicTickFormatter\"},{\"attributes\":{\"callback\":null,\"column_names\":[\"w\",\"x\",\"y\"],\"data\":{\"w\":[\"\"],\"x\":[0],\"y\":[0]}},\"id\":\"cafa8911-8ae1-4f18-9915-2bb69444f7d6\",\"type\":\"ColumnDataSource\"},{\"attributes\":{},\"id\":\"692dd2ba-2917-4237-9f18-53bfe8bdc5ae\",\"type\":\"BasicTicker\"},{\"attributes\":{\"formatter\":{\"id\":\"1902bb31-f3ce-42d5-9965-80c035b55d70\",\"type\":\"BasicTickFormatter\"},\"plot\":{\"id\":\"eca73a9e-dc1f-4533-8c63-71ae523365b7\",\"subtype\":\"Figure\",\"type\":\"Plot\"},\"ticker\":{\"id\":\"0c1b9d6a-bec3-4a79-a936-6805e370b1b8\",\"type\":\"BasicTicker\"}},\"id\":\"fd860c95-154d-4765-8e56-d1180d62c450\",\"type\":\"LinearAxis\"},{\"attributes\":{\"plot\":{\"id\":\"eca73a9e-dc1f-4533-8c63-71ae523365b7\",\"subtype\":\"Figure\",\"type\":\"Plot\"},\"ticker\":{\"id\":\"692dd2ba-2917-4237-9f18-53bfe8bdc5ae\",\"type\":\"BasicTicker\"}},\"id\":\"922b33b7-64da-4060-b309-f8d5ea06b5d4\",\"type\":\"Grid\"},{\"attributes\":{\"callback\":null},\"id\":\"17b319f1-a22d-486b-b9d7-6241cc4551e4\",\"type\":\"DataRange1d\"},{\"attributes\":{\"plot\":null,\"text\":\"Dichotomy plot\"},\"id\":\"2ae31d78-c933-45ec-933e-f739d6169b70\",\"type\":\"Title\"},{\"attributes\":{\"data_source\":{\"id\":\"cafa8911-8ae1-4f18-9915-2bb69444f7d6\",\"type\":\"ColumnDataSource\"},\"glyph\":{\"id\":\"bd12ce80-d1b6-4983-925d-28cc0de35748\",\"type\":\"Circle\"},\"hover_glyph\":null,\"muted_glyph\":null,\"nonselection_glyph\":{\"id\":\"0a2f3ffb-8b27-4a6d-b096-ac5379bd80af\",\"type\":\"Circle\"},\"selection_glyph\":null,\"view\":{\"id\":\"eeed736b-5e70-4d2f-8b79-5fce9c80f399\",\"type\":\"CDSView\"}},\"id\":\"151e3734-df72-4c0d-8033-538faefc6b8d\",\"type\":\"GlyphRenderer\"},{\"attributes\":{},\"id\":\"0c1b9d6a-bec3-4a79-a936-6805e370b1b8\",\"type\":\"BasicTicker\"},{\"attributes\":{\"source\":{\"id\":\"26545a10-48fe-4e09-bd2a-c3b914db9fb2\",\"type\":\"ColumnDataSource\"}},\"id\":\"71023a86-bfee-4b5b-b671-a78ced6dd951\",\"type\":\"CDSView\"},{\"attributes\":{},\"id\":\"0a661c6f-0ce3-4499-af24-f96bdfab8a4e\",\"type\":\"PanTool\"}],\"root_ids\":[\"eca73a9e-dc1f-4533-8c63-71ae523365b7\"]},\"title\":\"Bokeh Application\",\"version\":\"0.12.14\"}};\n",
       "  var render_items = [{\"docid\":\"53c088c6-07b5-457a-babd-6dca6511e9c6\",\"elementid\":\"30140c51-87c1-475c-9a17-8b4117c1989e\",\"modelid\":\"eca73a9e-dc1f-4533-8c63-71ae523365b7\",\"notebook_comms_target\":\"7a788813-3e0e-4a14-aa89-1c67be990d81\"}];\n",
       "  root.Bokeh.embed.embed_items_notebook(docs_json, render_items);\n",
       "\n",
       "  }\n",
       "  if (root.Bokeh !== undefined) {\n",
       "    embed_document(root);\n",
       "  } else {\n",
       "    var attempts = 0;\n",
       "    var timer = setInterval(function(root) {\n",
       "      if (root.Bokeh !== undefined) {\n",
       "        embed_document(root);\n",
       "        clearInterval(timer);\n",
       "      }\n",
       "      attempts++;\n",
       "      if (attempts > 100) {\n",
       "        console.log(\"Bokeh: ERROR: Unable to run BokehJS code because BokehJS library is missing\")\n",
       "        clearInterval(timer);\n",
       "      }\n",
       "    }, 10, root)\n",
       "  }\n",
       "})(window);"
      ],
      "application/vnd.bokehjs_exec.v0+json": ""
     },
     "metadata": {
      "application/vnd.bokehjs_exec.v0+json": {
       "id": "eca73a9e-dc1f-4533-8c63-71ae523365b7"
      }
     },
     "output_type": "display_data"
    }
   ],
   "source": [
    "# setup_anthology_similarity_and_plot\n",
    "\n",
    "def setup_plot_xy_words(**fig_kwargs):\n",
    "    \n",
    "    xp = bp.figure(**fig_kwargs)\n",
    "    \n",
    "    word_source = bm.ColumnDataSource(dict(w=[''],x=[0], y=[0]))  # , color=['blue']))\n",
    "    word_opts = dict(x_offset=5, y_offset=5, render_mode='canvas', level='glyph', text_font_size=\"9pt\", text_color='black')\n",
    "    crs = xp.scatter(x='x', y='y', size=8, source=word_source, alpha=0.5, color='blue')\n",
    "    crw = bm.LabelSet(x='x', y='y', text='w', source=word_source, **word_opts)\n",
    "    xp.add_layout(crw)\n",
    "\n",
    "    reference_source = bm.ColumnDataSource(dict(w=[],x=[], y=[]))  # , color=['blue']))\n",
    "    ref_opts = dict(x_offset=5, y_offset=5, render_mode='canvas', level='glyph', text_font_style='bold', text_color='red')\n",
    "    crr = xp.scatter(x='x', y='y', size=8, source=reference_source, alpha=0.5, color='red')\n",
    "    crx = bm.LabelSet(x='x', y='y', text='w', text_font_size=\"9pt\", source=reference_source, **ref_opts)\n",
    "    xp.add_layout(crx)\n",
    "\n",
    "    handle = bp.show(xp, notebook_handle=True)\n",
    "                                 \n",
    "    return types.SimpleNamespace(\n",
    "        handle=handle,\n",
    "        points=crs,\n",
    "        labels=crw,\n",
    "        word_source=word_source,\n",
    "        reference_source=reference_source,\n",
    "        plot=xp\n",
    "    )\n",
    "\n",
    "args = dict(plot_width=900, plot_height=600,\n",
    "            title='Dichotomy plot',tools=TOOLS, toolbar_location=\"right\",\n",
    "            #x_axis_type=None,\n",
    "            #y_axis_type=None\n",
    "           )\n",
    "dichotomy_plot = setup_plot_xy_words(**args)\n"
   ]
  },
  {
   "cell_type": "code",
   "execution_count": 12,
   "metadata": {
    "code_folding": [
     0
    ],
    "scrolled": false
   },
   "outputs": [
    {
     "data": {
      "application/vnd.jupyter.widget-view+json": {
       "model_id": "85d0618047b846369145b77df5406027",
       "version_major": 2,
       "version_minor": 0
      },
      "text/html": [
       "<p>Failed to display Jupyter Widget of type <code>VBox</code>.</p>\n",
       "<p>\n",
       "  If you're reading this message in the Jupyter Notebook or JupyterLab Notebook, it may mean\n",
       "  that the widgets JavaScript is still loading. If this message persists, it\n",
       "  likely means that the widgets JavaScript library is either not installed or\n",
       "  not enabled. See the <a href=\"https://ipywidgets.readthedocs.io/en/stable/user_install.html\">Jupyter\n",
       "  Widgets Documentation</a> for setup instructions.\n",
       "</p>\n",
       "<p>\n",
       "  If you're reading this message in another frontend (for example, a static\n",
       "  rendering on GitHub or <a href=\"https://nbviewer.jupyter.org/\">NBViewer</a>),\n",
       "  it may mean that your frontend doesn't currently support widgets.\n",
       "</p>\n"
      ],
      "text/plain": [
       "VBox(children=(HBox(children=(Textarea(value='dator', description='Words', layout=Layout(height='200px', width='80%'), placeholder='(enter or paste words to be plotted)'), VBox(children=(IntProgress(value=0, layout=Layout(width='98%'), max=5), Text(value='människa', description='X-axis', layout=Layout(width='98%')), Text(value='maskin', description='Y-axis', layout=Layout(width='98%')), HBox(children=(Checkbox(value=True, description='Plot axis words'), Checkbox(value=False, description='Normalize'))), Checkbox(value=False, description='Show table'))))), Output()))"
      ]
     },
     "metadata": {},
     "output_type": "display_data"
    }
   ],
   "source": [
    "# Code\n",
    "import numpy as np\n",
    "from functools import reduce\n",
    "\n",
    "# @staticmethod\n",
    "def WordVectorUtility_compute_word_expression(wem, wexpr):\n",
    "    try:\n",
    "        options = WordVectorUtility.split_word_expression(wexpr)\n",
    "\n",
    "        positives = [ wem.word_vec(w) for w in options['positives'] ]\n",
    "        negatives = [ -1.0 * (wem.word_vec(w)) for w in options['negatives'] ]\n",
    "        result = reduce(np.add, positives + negatives)\n",
    "        \n",
    "        return result, options\n",
    "    except Exception as ex:\n",
    "        logger.error(str(ex))\n",
    "        return None, None\n",
    "    \n",
    "#def WordVectorUtility_compute_analogy_direction_vector_similarity(wv, axis, words):\n",
    "#    scale = (wv[axis[1]] - wv[axis[0]]) if len(axis) == 2 else wv[axis[0]]\n",
    "#    values = [(1.0 - spatial.distance.cosine(scale, wv[w])) for w in words ]\n",
    "#    return values\n",
    "\n",
    "def show_similarity_to_dichotomies(wem, xy_axis, xy_expr, words, display_table=False):\n",
    "    global dichotomy_plot\n",
    "    \n",
    "    words = [ x for x in words if x in wem.vocab.keys() ]\n",
    "    \n",
    "    if len(words) == 0:\n",
    "        return\n",
    "    \n",
    "    vectors = [ wem.word_vec(w) for w in words ]\n",
    "    \n",
    "    wxs = wem.cosine_similarities(xy_axis[0], vectors)\n",
    "    wys = wem.cosine_similarities(xy_axis[1], vectors)\n",
    "    \n",
    "    dichotomy_plot.word_source.data.update(dict(w=words+['',''], x=list(wxs)+[0.0, 1.0], y=list(wys)+[0.0,1.0]))\n",
    "    #dichotomy_plot.word_source.data.update(dict(w=words, x=wxs, y=wys))\n",
    "\n",
    "    if xy_expr is not None and xy_expr[2]:\n",
    "        axis_vectors = [ wem.word_vec(w) for w in xy_expr[3] ]\n",
    "        rxs = wem.cosine_similarities(xy_axis[0], axis_vectors + [xy_axis[0], xy_axis[1]])\n",
    "        rys = wem.cosine_similarities(xy_axis[1], axis_vectors + [xy_axis[0], xy_axis[1]])\n",
    "        axis_words = xy_expr[3] + [xy_expr[0], xy_expr[1]]\n",
    "        dichotomy_plot.reference_source.data.update(dict(w=axis_words, x=rxs, y=rys))\n",
    "        \n",
    "    else:\n",
    "        dichotomy_plot.reference_source.data.update(dict(w=[], x=[], y=[]))\n",
    "\n",
    "    bio.push_notebook(handle=dichotomy_plot.handle)\n",
    "    \n",
    "    if display_table:\n",
    "        df = pd.DataFrame({ 'Word': words, 'Distance to X-expr': wxs, 'Distance to Y-expr': wys })\n",
    "        display(df)\n",
    "            \n",
    "def normalize(v):\n",
    "    norm = np.linalg.norm(v)\n",
    "    return v if norm == 0 else v / norm\n",
    "\n",
    "def display_dichotomies_similarity(\n",
    "    x_axis_expr, y_axis_expr, raw_text, plot_axis_words=False, do_normalize=False, display_table=False\n",
    "):\n",
    "    global state\n",
    "    \n",
    "    try:\n",
    "        wem = state.WEM\n",
    "        \n",
    "        x_axis, opt1 = WordVectorUtility_compute_word_expression(wem, x_axis_expr)\n",
    "        y_axis, opt2 = WordVectorUtility_compute_word_expression(wem, y_axis_expr)\n",
    "        \n",
    "        if x_axis is None or y_axis is None:\n",
    "            return\n",
    "        \n",
    "        if do_normalize is True:\n",
    "            x_axis = normalize(x_axis)\n",
    "            y_axis = normalize(y_axis)\n",
    "            \n",
    "        words_of_interest = list(set(word_tokenize(raw_text)))\n",
    "\n",
    "        if len(words_of_interest) == 0:\n",
    "            print(\"Please enter some words to plot.\")\n",
    "            return\n",
    "        \n",
    "        dichotomy_plot.plot.xaxis[0].axis_label = x_axis_expr\n",
    "        dichotomy_plot.plot.yaxis[0].axis_label = y_axis_expr\n",
    "\n",
    "        axis_words = list(\n",
    "            set(opt1.get('positives', []) +\n",
    "                opt1.get('negatives', []) +\n",
    "                opt2.get('positives', []) +\n",
    "                opt2.get('negatives', []))) if opt1 is not None and opt2 is not None else []\n",
    "\n",
    "        show_similarity_to_dichotomies(\n",
    "            wem=wem,\n",
    "            xy_axis=(x_axis, y_axis),\n",
    "            xy_expr=(x_axis_expr, y_axis_expr, plot_axis_words, axis_words),\n",
    "            words=words_of_interest,\n",
    "            display_table=display_table\n",
    "        )\n",
    "        \n",
    "        print('')\n",
    "        \n",
    "    except Exception as ex:\n",
    "        print(ex)\n",
    "        # raise\n",
    "    \n",
    "aw = BaseWidgetUtility(\n",
    "    progress = widgets.IntProgress(min=0, max=5, step=1, value=0, layout=widgets.Layout(width='98%')),\n",
    "    words=widgets.Textarea(\n",
    "        description='Words', placeholder='(enter or paste words to be plotted)',\n",
    "        value='dator', layout=widgets.Layout(width='80%', height='200px'), continuous_update=True\n",
    "    ),\n",
    "    x_axis_expr=widgets.Text(description='X-axis', value='människa', layout=widgets.Layout(width='98%')),\n",
    "    y_axis_expr=widgets.Text(description='Y-axis', value='maskin', layout=widgets.Layout(width='98%')),\n",
    "    plot_axis_words=widgets.Checkbox(value=True, description='Plot axis words'),\n",
    "    do_normalize=widgets.Checkbox(value=False, description='Normalize'),\n",
    "    display_table=widgets.Checkbox(value=False, description='Show table'),\n",
    ")\n",
    "\n",
    "awa = widgets.interactive(\n",
    "    display_dichotomies_similarity,\n",
    "    x_axis_expr=aw.x_axis_expr,\n",
    "    y_axis_expr=aw.y_axis_expr,\n",
    "    raw_text=aw.words,\n",
    "    plot_axis_words=aw.plot_axis_words,\n",
    "    do_normalize=aw.do_normalize,\n",
    "    display_table=aw.display_table,\n",
    ")\n",
    "\n",
    "display(widgets.VBox([\n",
    "    widgets.HBox([\n",
    "        aw.words, widgets.VBox([\n",
    "            aw.progress,\n",
    "            aw.x_axis_expr,\n",
    "            aw.y_axis_expr,\n",
    "            widgets.HBox([aw.plot_axis_words, aw.do_normalize]),\n",
    "            aw.display_table,\n",
    "           ])]),\n",
    "    awa.children[-1]\n",
    "]))\n",
    "    \n",
    "awa.update()\n"
   ]
  },
  {
   "cell_type": "markdown",
   "metadata": {},
   "source": [
    "### Venn diagram of words most similar to expressions"
   ]
  },
  {
   "cell_type": "code",
   "execution_count": 13,
   "metadata": {
    "code_folding": [
     0
    ],
    "scrolled": true
   },
   "outputs": [
    {
     "data": {
      "application/vnd.jupyter.widget-view+json": {
       "model_id": "9f7450af98f54079b3b7c18385295e63",
       "version_major": 2,
       "version_minor": 0
      },
      "text/html": [
       "<p>Failed to display Jupyter Widget of type <code>VBox</code>.</p>\n",
       "<p>\n",
       "  If you're reading this message in the Jupyter Notebook or JupyterLab Notebook, it may mean\n",
       "  that the widgets JavaScript is still loading. If this message persists, it\n",
       "  likely means that the widgets JavaScript library is either not installed or\n",
       "  not enabled. See the <a href=\"https://ipywidgets.readthedocs.io/en/stable/user_install.html\">Jupyter\n",
       "  Widgets Documentation</a> for setup instructions.\n",
       "</p>\n",
       "<p>\n",
       "  If you're reading this message in another frontend (for example, a static\n",
       "  rendering on GitHub or <a href=\"https://nbviewer.jupyter.org/\">NBViewer</a>),\n",
       "  it may mean that your frontend doesn't currently support widgets.\n",
       "</p>\n"
      ],
      "text/plain": [
       "VBox(children=(HBox(children=(Text(value='kvinnor', continuous_update=False, description='Expr #1'), Text(value='män', continuous_update=False, description='Expr #2'), IntSlider(value=40, continuous_update=False, description='Word count', max=500, min=5), IntProgress(value=0, layout=Layout(width='40%'), max=5))), Output()))"
      ]
     },
     "metadata": {},
     "output_type": "display_data"
    }
   ],
   "source": [
    "# Code\n",
    "from matplotlib import pyplot as plt\n",
    "#from matplotlib_venn import venn2, venn3, venn3_circles\n",
    "from matplotlib_venn_wordcloud import venn2_wordcloud\n",
    "#%matplotlib notebook\n",
    "%matplotlib inline\n",
    "\n",
    "#import mpld3\n",
    "#mpld3.enable_notebook()\n",
    "\n",
    "def seed_word_toplist(wem, seed_word, topn=100):\n",
    "    values = wem.most_similar(seed_word, topn=topn)\n",
    "    return values\n",
    "\n",
    "def color_func(word, *args, **kwargs):\n",
    "    if word in just_dem:\n",
    "        # return \"#000080\" # navy blue\n",
    "        return \"#0000ff\" # blue1\n",
    "    elif word in just_rep:\n",
    "        # return \"#8b0000\" # red4\n",
    "        return \"#ff0000\" # red1\n",
    "    else:\n",
    "        return \"#0f0f0f\" # gray6 (aka off-black)\n",
    "\n",
    "def display_wenn_diagram(expr1, expr2, word_count):\n",
    "    global state, vw\n",
    "    try:\n",
    "        vw.progress.value = 0\n",
    "        expr1, expr2 = expr1.lower(), expr2.lower()\n",
    "        \n",
    "        vw.progress.value = 1\n",
    "        \n",
    "        #result1, _ = WordVectorUtility.compute_most_similar_expression(state.WEM, expr1, topn=word_count)\n",
    "        #result2, _ = WordVectorUtility.compute_most_similar_expression(state.WEM, expr2, topn=word_count)\n",
    "        \n",
    "        axis1_vector, _ = WordVectorUtility_compute_word_expression(state.WEM, expr1)\n",
    "        axis2_vector, _ = WordVectorUtility_compute_word_expression(state.WEM, expr2)\n",
    "        \n",
    "        result1 = state.WEM.similar_by_vector(axis1_vector, topn=word_count)\n",
    "        result2 = state.WEM.similar_by_vector(axis2_vector, topn=word_count)\n",
    "        \n",
    "        # print([positive_words, negative_words])\n",
    "        \n",
    "        if result1 is None or result2 is None:\n",
    "            return\n",
    "        \n",
    "        result1 = result1 + [('x',0.1)]\n",
    "        result2 = result2 + [('x',0.1)]\n",
    "        \n",
    "        word_frequencies = [ dict(result1), dict(result2) ]\n",
    "        x_words, y_words = list(word_frequencies[0].keys()), list(word_frequencies[1].keys())\n",
    "\n",
    "        ''' Use avg weight for words in intersection '''\n",
    "        intersection_words = (set(x_words) & set(y_words))\n",
    "        intersection_dict = { w: ( word_frequencies[0][w] + word_frequencies[1][w] ) / 2.0 for w in intersection_words }\n",
    "\n",
    "        word_to_frequency = {}\n",
    "        word_to_frequency = extend(word_to_frequency, word_frequencies[0])\n",
    "        word_to_frequency = extend(word_to_frequency, word_frequencies[1])\n",
    "        \n",
    "        vw.progress.value = 2\n",
    "        if len(intersection_dict.keys()) > 0:\n",
    "            word_to_frequency = extend(word_to_frequency, intersection_dict)\n",
    "            \n",
    "        word_to_frequency = { w: 100.0 * word_to_frequency[w] for w in word_to_frequency.keys() }\n",
    "\n",
    "        fig, ax = plt.subplots(1,1, figsize=(16,12))\n",
    "        #ax.set_title(\"Venn diagram over most similar words\", fontsize=36)\n",
    "        vw.progress.value = 3\n",
    "\n",
    "        v = venn2_wordcloud(\n",
    "            [ set(x_words), set(y_words) ],\n",
    "            [ expr1, expr2 ],\n",
    "            #set_edgecolors=['b', 'r'],\n",
    "            ax=ax,\n",
    "            word_to_frequency=word_to_frequency,\n",
    "            wordcloud_kwargs=dict(relative_scaling=0.5),  #\n",
    "        )\n",
    "        v.get_patch_by_id('10').set_color('green')\n",
    "        v.get_patch_by_id('01').set_color('blue')\n",
    "        v.get_patch_by_id('11').set_color('red')\n",
    "        \n",
    "        vw.progress.value = 5\n",
    "        vw.progress.value = 0\n",
    "    except Exception as ex:\n",
    "        print(ex)\n",
    "        raise\n",
    "        vw.progress.value = 0\n",
    "    \n",
    "vw = BaseWidgetUtility(\n",
    "    progress = wf.create_int_progress_widget(min=0, max=5, step=1, value=0, layout=widgets.Layout(width='40%')),\n",
    "    expr1=wf.create_text_input_widget(description='Expr #1', value='kvinnor', continuous_update=False),\n",
    "    expr2=wf.create_text_input_widget(description='Expr #2', value='män', continuous_update=False),\n",
    "    #plot_vector_words=widgets.Checkbox(value=False, description='Plot refs.', disabled=False)\n",
    "    word_count=wf.create_int_slider('Word count', min=5, max=500, step=1, value=40)\n",
    ")\n",
    "\n",
    "iwv = widgets.interactive(\n",
    "    display_wenn_diagram,\n",
    "    expr1=vw.expr1,\n",
    "    expr2=vw.expr2,\n",
    "    word_count=vw.word_count\n",
    ")\n",
    "\n",
    "display(widgets.VBox([\n",
    "    widgets.HBox([vw.expr1, vw.expr2, vw.word_count, vw.progress]),\n",
    "    iwv.children[-1]\n",
    "]))\n",
    "    \n",
    "iwv.update()"
   ]
  },
  {
   "cell_type": "markdown",
   "metadata": {},
   "source": [
    "### Semantic axis -  display words similar to axis directions"
   ]
  },
  {
   "cell_type": "code",
   "execution_count": 15,
   "metadata": {
    "code_folding": [
     0,
     2
    ]
   },
   "outputs": [
    {
     "data": {
      "application/vnd.jupyter.widget-view+json": {
       "model_id": "4a513eb7f53a46b38069394fe3f2d1b9",
       "version_major": 2,
       "version_minor": 0
      },
      "text/html": [
       "<p>Failed to display Jupyter Widget of type <code>VBox</code>.</p>\n",
       "<p>\n",
       "  If you're reading this message in the Jupyter Notebook or JupyterLab Notebook, it may mean\n",
       "  that the widgets JavaScript is still loading. If this message persists, it\n",
       "  likely means that the widgets JavaScript library is either not installed or\n",
       "  not enabled. See the <a href=\"https://ipywidgets.readthedocs.io/en/stable/user_install.html\">Jupyter\n",
       "  Widgets Documentation</a> for setup instructions.\n",
       "</p>\n",
       "<p>\n",
       "  If you're reading this message in another frontend (for example, a static\n",
       "  rendering on GitHub or <a href=\"https://nbviewer.jupyter.org/\">NBViewer</a>),\n",
       "  it may mean that your frontend doesn't currently support widgets.\n",
       "</p>\n"
      ],
      "text/plain": [
       "VBox(children=(HBox(children=(Text(value='kvinnor-män', continuous_update=False, description='Axis:', layout=Layout(width='60%'), placeholder='(word expr)'), BoundedFloatText(value=0.2, description='Threshold:', layout=Layout(width='15%'), max=1.0, min=0.05, step=0.01))), Output()))"
      ]
     },
     "metadata": {},
     "output_type": "display_data"
    }
   ],
   "source": [
    "### Semantix axis test\n",
    "\n",
    "def display_semantic_axis_diagram(semantic_axis_expr, threshold, output_format='chart'):\n",
    "    global state, saw\n",
    "    try:\n",
    "        semantic_axis_expr = semantic_axis_expr.lower()\n",
    "        semantic_axis_vector, _ = WordVectorUtility_compute_word_expression(state.WEM, semantic_axis_expr)\n",
    "        positive_words = state.WEM.similar_by_vector(semantic_axis_vector, topn=100)\n",
    "        negative_words = state.WEM.similar_by_vector(-1.0 * semantic_axis_vector, topn=100)\n",
    "        \n",
    "        words = positive_words + [ (w, -d) for w, d in negative_words ]\n",
    "        words = [ (w, d) for w, d in words if abs(float(d)) > threshold ]\n",
    "        df = pd.DataFrame(words, columns=['word', 'distance']).sort_values('distance', ascending=False)\n",
    "        df['color'] = df.distance.apply(lambda x: 'lightgreen' if x >= 0 else 'pink')\n",
    "        if output_format == 'chart':\n",
    "\n",
    "            source = bm.ColumnDataSource(dict(y=df.word, right=df.distance, color=df.color))\n",
    "\n",
    "            ydr = list(df.word.values)\n",
    "            xdr = bm.DataRange1d(*(-1.0, 1.0))\n",
    "            word_count = len(df)\n",
    "            plot = bp.figure(\n",
    "                title=None,\n",
    "                x_range=xdr, y_range=ydr,\n",
    "                plot_width=900, plot_height=300+word_count*10,\n",
    "                h_symmetry=False, v_symmetry=False,\n",
    "                min_border=0,\n",
    "                toolbar_location=None)\n",
    "\n",
    "            plot.hbar(y=\"y\", right=\"right\", left=0, height=0.5, fill_color='color', source=source)\n",
    "            \n",
    "            plot.xgrid.grid_line_color = None\n",
    "\n",
    "            bp.show(plot)\n",
    "        else:\n",
    "            display(df)\n",
    "    except Exception as ex:\n",
    "        logger.error(ex)\n",
    "        # raise\n",
    "    \n",
    "saw = BaseWidgetUtility(\n",
    "    semantic_axis=widgets.Text(\n",
    "        value='kvinnor-män', placeholder='(word expr)', description='Axis:', continuous_update=False,\n",
    "        layout=widgets.Layout(width='60%')\n",
    "    ),\n",
    "    threshold=widgets.BoundedFloatText(\n",
    "        value=0.20, min=0.05, max=1.0, step=0.01, description='Threshold:', layout=widgets.Layout(width='15%')\n",
    "    )\n",
    ")\n",
    "\n",
    "isaw = widgets.interactive(\n",
    "    display_semantic_axis_diagram,\n",
    "    semantic_axis_expr=saw.semantic_axis,\n",
    "    threshold=saw.threshold\n",
    ")\n",
    "\n",
    "display(widgets.VBox([\n",
    "    widgets.HBox([saw.semantic_axis, saw.threshold]),\n",
    "    isaw.children[-1]\n",
    "]))\n",
    "    \n",
    "isaw.update()"
   ]
  },
  {
   "cell_type": "markdown",
   "metadata": {},
   "source": [
    "### Some notes"
   ]
  },
  {
   "cell_type": "markdown",
   "metadata": {},
   "source": [
    "\n",
    "#### Tool selection strategy:\n",
    "\n",
    "\n",
    "|Task|Corpus size|Tool|\n",
    "|---|---|---|\n",
    "|Attribute model (related words)|> 1M|word2vec with large window|\n",
    "|Attribute model (related words)|< 1M|WordRank|\n",
    "|interchangability model (synonyms)|\\*|FastText, word2vec small window, VarEmbed|\n",
    "\n",
    "- Ofir Pele and Michael Werman, \"A linear time histogram metric for improved SIFT matching\".\n",
    "- Ofir Pele and Michael Werman, \"Fast and robust earth mover's distances\".\n",
    "- Matt Kusner et al. \"From Word Embeddings To Document Distances\".\n",
    "\n",
    "\n",
    "#### Sample research questions (within the humanities)\n",
    "- Find sentiments in text...?\n",
    "- Find implicit stereotyping...?\n",
    "- Find sematical relationsships (word analogies)...?\n",
    "- Find \"viral text\" - same or similar documents - (see [Cordell's Viral Text project](http://viraltexts.org/) not WEM though)\n",
    "- Ben Schmidt: [Vector Space Models for the Digital Humanities](http://bookworm.benschmidt.org/posts/2015-10-25-Word-Embeddings.html) [blog](http://bookworm.benschmidt.org/posts/2015-10-30-rejecting-the-gender-binary.html)\n",
    "\n",
    "#### How to validate a model\n",
    "- Test semantic relationsships using linear algebraic calculations (i.e. word pair analogies such as queen-king)\n",
    "- Create dataset to validate model e..g table with related words\n",
    "\n",
    "#### Sample pitfalls and challanges\n",
    "\n",
    "- Visualization using dimensionality reduction (e.g. T-SNE, PCA) [Shusen Liu, 2016]\n",
    "- Size of data\n",
    "- How to test validity of model\n",
    "\n",
    "#### Some critical perspectives\n",
    "- Where to begin...?\n",
    "\n",
    "#### Visualization Tools\n",
    "\n",
    "- Word Embedding Visual Explorer [Online](http://residue3.sci.utah.edu/?)\n",
    "- [wevi: word embedding visual inspector [source](https://ronxin.github.io/wevi/), [paper](https://arxiv.org/abs/1411.2738)\n",
    "- [Taporware](http://taporware.ualberta.ca/)\n",
    "- LAMVI (a tool to model training)\n",
    "- TensorBoard (Google)\n",
    "- ~~ Sentiview Hiérarchie ~~\n",
    "\n",
    "#### TODOs\n",
    "\n",
    "- Test other word embeddings (see alternatives above)\n",
    "- Append PoS-tags to words for better precision (see e.g. [link](https://rare-technologies.com/word2vec-in-python-part-two-optimizing/))\n",
    "- Use PoS-tags as filters instead of stopwords\n",
    "\n"
   ]
  },
  {
   "cell_type": "code",
   "execution_count": null,
   "metadata": {},
   "outputs": [],
   "source": []
  }
 ],
 "metadata": {
  "kernelspec": {
   "display_name": "Python 3",
   "language": "python",
   "name": "python3"
  },
  "language_info": {
   "codemirror_mode": {
    "name": "ipython",
    "version": 3
   },
   "file_extension": ".py",
   "mimetype": "text/x-python",
   "name": "python",
   "nbconvert_exporter": "python",
   "pygments_lexer": "ipython3",
   "version": "3.5.3"
  },
  "varInspector": {
   "cols": {
    "lenName": 16,
    "lenType": 16,
    "lenVar": 40
   },
   "kernels_config": {
    "python": {
     "delete_cmd_postfix": "",
     "delete_cmd_prefix": "del ",
     "library": "var_list.py",
     "varRefreshCmd": "print(var_dic_list())"
    },
    "r": {
     "delete_cmd_postfix": ") ",
     "delete_cmd_prefix": "rm(",
     "library": "var_list.r",
     "varRefreshCmd": "cat(var_dic_list()) "
    }
   },
   "types_to_exclude": [
    "module",
    "function",
    "builtin_function_or_method",
    "instance",
    "_Feature"
   ],
   "window_display": false
  }
 },
 "nbformat": 4,
 "nbformat_minor": 2
}
