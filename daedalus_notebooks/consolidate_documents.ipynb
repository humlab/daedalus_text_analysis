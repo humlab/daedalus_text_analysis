{
 "cells": [
  {
   "cell_type": "code",
   "execution_count": 40,
   "metadata": {},
   "outputs": [],
   "source": [
    "import os\n",
    "import pandas as pd\n",
    "\n",
    "join = os.path.join\n",
    "\n",
    "def load_document_index():\n",
    "    df = pd.read_csv(self.document_index_filename, sep='\\t', header=0).set_index('document_id')\n",
    "    return df\n",
    "    \n",
    "data_folder = './tm-data'\n",
    "basename = 'SOU_topics_100_chunks_1000_iterations_2000_lowercase_ldamallet'\n",
    "model_folder = join(data_folder, basename)\n",
    "\n",
    "document_index_filename = join(model_folder, 'document_index.csv')\n",
    "document_topic_weights_filename = join(model_folder, 'result_{}_{}.csv'.format(basename, 'doc_topic_weights'))\n",
    "\n",
    "document_index = pd.read_csv(document_index_filename, sep='\\t').set_index('document_id')\n",
    "document_topic_weights = pd.read_csv(document_topic_weights_filename, sep='\\t')\n",
    "\n",
    "# assume that documents ends with '*_NNN.txt'\n"
   ]
  },
  {
   "cell_type": "code",
   "execution_count": 66,
   "metadata": {},
   "outputs": [],
   "source": [
    "import re\n",
    "\n",
    "def consolidate_filename(filename):\n",
    "    parts = filename.split('_')\n",
    "    return '_'.join(parts[:len(parts)-1])\n",
    "\n",
    "filename = '1989_113_01.txt'\n",
    "\n",
    "document_index['document2'] = document_index.document.apply(consolidate_filename)\n",
    "\n",
    "document_index2 = document_index\\\n",
    "    .groupby(['document2', 'year'])['length']\\\n",
    "    .agg('sum')\\\n",
    "    .reset_index()\\\n",
    "    .rename(columns={'document2': 'document'})\\\n",
    "    .rename_axis('document_id2')\n"
   ]
  },
  {
   "cell_type": "code",
   "execution_count": 59,
   "metadata": {},
   "outputs": [],
   "source": [
    "document_topic_weights2 = document_topic_weights[['document_id', 'topic_id', 'weight']]\\\n",
    "    .merge(document_index, left_on='document_id', right_index=True)[['document_id', 'topic_id', 'document2']]\\\n",
    "    .merge(document_index2.reset_index(), left_on='document2', right_on=['document'])"
   ]
  }
 ],
 "metadata": {
  "kernelspec": {
   "display_name": "Python 3",
   "language": "python",
   "name": "python3"
  },
  "language_info": {
   "codemirror_mode": {
    "name": "ipython",
    "version": 3
   },
   "file_extension": ".py",
   "mimetype": "text/x-python",
   "name": "python",
   "nbconvert_exporter": "python",
   "pygments_lexer": "ipython3",
   "version": "3.5.3"
  },
  "varInspector": {
   "cols": {
    "lenName": 16,
    "lenType": 16,
    "lenVar": 40
   },
   "kernels_config": {
    "python": {
     "delete_cmd_postfix": "",
     "delete_cmd_prefix": "del ",
     "library": "var_list.py",
     "varRefreshCmd": "print(var_dic_list())"
    },
    "r": {
     "delete_cmd_postfix": ") ",
     "delete_cmd_prefix": "rm(",
     "library": "var_list.r",
     "varRefreshCmd": "cat(var_dic_list()) "
    }
   },
   "types_to_exclude": [
    "module",
    "function",
    "builtin_function_or_method",
    "instance",
    "_Feature"
   ],
   "window_display": false
  }
 },
 "nbformat": 4,
 "nbformat_minor": 2
}
