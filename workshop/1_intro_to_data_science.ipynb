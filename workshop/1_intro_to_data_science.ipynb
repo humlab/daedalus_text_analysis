{
 "cells": [
  {
   "cell_type": "markdown",
   "metadata": {
    "slideshow": {
     "slide_type": "slide"
    }
   },
   "source": [
    "## Text Analysis Workshop\n",
    "\n",
    "### Who am I (and what is Humlab)?\n",
    "\n",
    "- Software developer and architect (computer science)\n",
    "- Mostly worked in private companies developing business systems\n",
    "- I'm not an statistician, nor am I an expert in text analysis\n",
    "- As a consultant, problems are tackled in a pragmatic, less theoretical, way\n",
    "- Software development has well defined work flows, high demands on tracability, versioning and change management - as do private businesses.\n"
   ]
  },
  {
   "cell_type": "markdown",
   "metadata": {},
   "source": [
    "### Texts Analysis is Data Science\n",
    "\n",
    "**Data science**, is define in Wikipedia as\n",
    "\n",
    "> \"*...an interdisciplinary field of scientific methods, processes, algorithms and systems to extract knowledge or insights from data in various forms, either structured or unstructured...*\"</br>\n",
    "\n",
    "- Data science is a big “buzzword” outside academia est. 1.5 million positions in US alone. Hottest job in US for last couple of years.\n",
    "- Data science lies in the intersection between several fields.\n",
    "\n",
    "> <img src=\"./images/data-science_new.svg\" style=\"width: 80%; padding: 0; margin: 0;\">\n",
    "- Costly to acquire and keep these skills...\n",
    "- Skills and knowledge are built-in to ready-to use software tools & libraries\n",
    "\n",
    "**But it is risky to use these kind of libraries  as black-boxes.**\n",
    "\n",
    "Texts analysis **is** data science."
   ]
  },
  {
   "cell_type": "markdown",
   "metadata": {},
   "source": [
    "\n",
    "#### Open Science as the New Normal\n",
    "\n",
    "An important driving force behind the increased use of Jupyter Notebooks is the current \"open science\" movement. This is in part caused by the so called *reproducibility crisis*, and the *statistical crisis* (aka data dredging) in science. See\n",
    "- [Presentation by Deevy Bishop](https://www.slideshare.net/deevybishop/what-is-the-reproducibility-crisis-in-science-and-what-can-we-do-about-it)\n",
    "- [Replication Crisis](https://en.wikipedia.org/wiki/Replication_crisis)\n",
    "- [An EU initiative for open science e-Learning](https://www.fosteropenscience.eu/)\n",
    "- Simmons, J., L. Nelson, and U. Simonsohn. 2011. False-positive psychology\n",
    "- [An article on the statistical crisis](https://www.americanscientist.org/article/the-statistical-crisis-in-science)\n"
   ]
  },
  {
   "cell_type": "markdown",
   "metadata": {},
   "source": [
    "#### About The Jupyter Project\n",
    "On the projects web sites at [http://jupyter.org/] it is stated that\n",
    "> Project Jupyter exists to develop open-source software, open standards, and services for **interactive and reproducible computing**\n",
    " > The Jupyter Notebook is an open-source web application that allows you to create and share documents that contain live code, equations, visualizations and narrative text\n",
    " \n",
    "><img src=\"./images/narrative_new.svg\" style=\"width: 300px;padding: 0; margin: 0;\">\n",
    "> Fig. Computational narratives as the engine of collaborative data science\n",
    "\n",
    "The **open science movement** is a driving force.\n",
    "\n",
    "The project is sponsered by large companies such as Google and Microsoft, and funders such as Alfred P. Sloan foundation. See link [jupyter.org/about](http://jupyter.org/about) for all sponsors.\n"
   ]
  },
  {
   "cell_type": "markdown",
   "metadata": {},
   "source": [
    "#### Jupyter Notebooks\n",
    "\n",
    "- Jupyter Notebook is a **web application**\n",
    "- Can  be run on a local computer, or hosted in a multi-user environment.\n",
    "- An computational environment in you web browser\n",
    "- A large number of programming languages are supported.\n",
    "\n",
    "> <img src=\"./images/jupyter_stack.svg\" style=\"width: 180px;\">\n",
    "> <i>**Fig**. Jupyter server</i>"
   ]
  },
  {
   "cell_type": "markdown",
   "metadata": {},
   "source": [
    "#### Why use Jupyter Notebooks?\n",
    "\n",
    "- Easy to learn, use and deploy, lots of people know Python.\n",
    "- Ready to use online platform - trivial to create simple interactivity.\n",
    "- Much faster (and cheaper) development - immediate feedback - agile, collaborative.\n",
    "- Can defer decisions from developer to researcher. \n",
    "- The ability to combine data, narrative and code into an interactive user interface.\n",
    "- Fits users with different tech skills, some researcher wants to understand and be able to tune the logic.\n",
    "- Supports Python, that has big ecosystem of (open source) software libraries.\n",
    "- Very popular, millons of notebooks exist on GitHub."
   ]
  },
  {
   "cell_type": "markdown",
   "metadata": {},
   "source": [
    "#### Brief Instructions on How to Use Notebooks\n",
    "A notebook is a document with embedded executable code presented in a simple and easy to use web interface. Most important things to note are:\n",
    "\n",
    "|----|----|\n",
    "|\n",
    "- Click on the menu Help -> User Interface Tour for an overview of the Jupyter Notebook App user interface.\n",
    "- The **code cells** contains the script code (Python in this case, but can be other languages are also suported) and are the sections marked by **In [x]** in the left margin. It is marked as **In []** if it hasn't been executed, and as **In [n]** when it has been executed(n is an integer). A cell marked as **In [\\*]** is either executing, or waiting to be executed (i.e. other cells are executing).\n",
    "- The **current cell** is highlighted with a blue (or green if in \"edit\" mode) border. You make a cell current by clicking on it,\n",
    "- Code cells aren't executed automatically. Instead you execute the current cell by either pressing **shift+enter** or the **play** button in the toolbar. The output (or result) of a cell's execution is presented directly below the cell prefixed by **Out[n]**.\n",
    "- The next cell will automatically be selected (made current) after a cell has been executed. Repeatadly pressing **shift+enter** or the play button hence executes the cells in sequence.\n",
    "- You can run the entire notebook in a single step by clicking on the menu Cell -> Run All. Note that this can take some time to finish. You can see how cells are executed in sequence via the indicator in the margin (i.e. \"In [\\*]\" changes to \"In [n]\" where n is an integer).\n",
    "- The cells can be edited if they are double-clicked, in which case the cell border turns green. Use the ESC key to escape edit mode (or click on any other cell).\n",
    "\n",
    "To restart the kernel (i.e. the computational engine assigned to your session), click on the menu Kernel -> Restart. "
   ]
  },
  {
   "cell_type": "markdown",
   "metadata": {},
   "source": [
    "\n",
    "#### Methods and Technologies\n",
    "\n",
    "- The figures below show some of the components used in a topic modelling project workflow.\n",
    "- The  \"stack\" spans a large variety of domains and fields\n",
    "- Each **single** method or technology (i.e. word in the clouds) can have a rather steep learning curve.\n",
    "- Many methods, tools and frameworks to chose from.\n",
    "- Lots of overlapping/similar functionality.\n",
    "- Each component needs to be configured for proper (or intended) use.\n",
    "- This require both specific knowledge, and usage experience in order to safely apply the methods and tools on the problem at hand.\n",
    "\n",
    "- Tremendous \"technological noise\" - as a developer you spend the vast majority of the time in learning tools, methods and frameworks.\n",
    "\n",
    "> **Concepts**\n",
    "> <img src=\"./images/wordcloud_concepts.png\" style=\"width: 50%; padding: 0; margin: 0;\">\n",
    "\n",
    "> **Methods**\n",
    "> <img src=\"./images/wordcloud_methods.png\" style=\"width: 50%; padding: 0; margin: 0;\">\n",
    "\n",
    "> **Tools**\n",
    "> <img src=\"./images/wordcloud_tools.png\" style=\"width: 50%; padding: 0; margin: 0;\">\n",
    "\n",
    "> **Framework**\n",
    "> <img src=\"./images/wordcloud_frameworks.png\" style=\"width: 50%; padding: 0; margin: 0;\">\n",
    "\n",
    "- And then there is the actual *problem domain* that is required to interpret and validate the result of the topic models.\n",
    "\n",
    "This method and tool chain unavoidably requires a multitude of both major and minor decisions. It can even be difficult to determine which decision is minor or major. To some extent, black-box use is unavoidable, but this emphasizes the need of a proper validation process. The Jupyter Notebook helps transferring some of these decisions from the tech specialist to the end user i.e. the researcher. It is of great advantage - and a signum of the Python ecosystem - that so many proven and battle-tested open source frameworks and tools exists.\n"
   ]
  },
  {
   "cell_type": "markdown",
   "metadata": {},
   "source": [
    "#### Risks and Challanges\n",
    "- The risk of using tools and methods without fully understanding them\n",
    "- The risk of using tools and methods for non-intended purposes or in new contexts\n",
    "- How to verify performance (correctness of result)\n",
    "- Risk if data dredging, p-hacking, \"the statistical crisis\".\n",
    "- The risk that engineer makes micro-decisions the researcher don'r know about\n",
    "- The risk of reading to much on visualizations (networks, layouts, clusters)."
   ]
  }
 ],
 "metadata": {
  "kernelspec": {
   "display_name": "Python 3",
   "language": "python",
   "name": "python3"
  },
  "language_info": {
   "codemirror_mode": {
    "name": "ipython",
    "version": 3
   },
   "file_extension": ".py",
   "mimetype": "text/x-python",
   "name": "python",
   "nbconvert_exporter": "python",
   "pygments_lexer": "ipython3",
   "version": "3.5.3"
  },
  "toc": {
   "base_numbering": 1,
   "nav_menu": {},
   "number_sections": false,
   "sideBar": false,
   "skip_h1_title": false,
   "title_cell": "Table of Contents",
   "title_sidebar": "Contents",
   "toc_cell": false,
   "toc_position": {},
   "toc_section_display": false,
   "toc_window_display": false
  },
  "varInspector": {
   "cols": {
    "lenName": 16,
    "lenType": 16,
    "lenVar": 40
   },
   "kernels_config": {
    "python": {
     "delete_cmd_postfix": "",
     "delete_cmd_prefix": "del ",
     "library": "var_list.py",
     "varRefreshCmd": "print(var_dic_list())"
    },
    "r": {
     "delete_cmd_postfix": ") ",
     "delete_cmd_prefix": "rm(",
     "library": "var_list.r",
     "varRefreshCmd": "cat(var_dic_list()) "
    }
   },
   "types_to_exclude": [
    "module",
    "function",
    "builtin_function_or_method",
    "instance",
    "_Feature"
   ],
   "window_display": false
  }
 },
 "nbformat": 4,
 "nbformat_minor": 2
}
