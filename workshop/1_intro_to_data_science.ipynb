{
 "cells": [
  {
   "cell_type": "markdown",
   "metadata": {},
   "source": [
    "### Jupyter Notebooks\n",
    "\n",
    "#### About The Jupyter Project\n",
    "On the projects web sites at [http://jupyter.org/] it is stated that\n",
    ">“Project Jupyter exists to develop open-source software, open standards, and services for **interactive and reproducible computing**”.<br/><br/>\n",
    ">“The Jupyter Notebook is an open-source web application that allows you to create and share documents that contain live code, equations, visualizations and narrative text.” <br/><br/>\n",
    "><img src=\"./tm-data/images/narrative_new.svg\" style=\"width: 300px;padding: 0; margin: 0;\"><br/><br/>\n",
    ">”Computational Narratives as the Engine of Collaborative Data Science”\n",
    "\n",
    "The project is sponsered by large companies such as Google and Microsoft, and funders such as Alfred P. Sloan foundation. See link [jupyter.org/about](http://jupyter.org/about) for all sponsors.\n",
    "Jupyter is a tool for **data science**, defined in Wikipedia as \n",
    "> \"...is an interdisciplinary field of scientific methods, processes, algorithms and systems to extract knowledge or insights from data in various forms, either structured or unstructured...\"</br>\n",
    "Data science is a big “buzzword” - outside academia est. 1.5 million positions in US alone. Data science lies in the intersection between several advanced fields, and it is costly to acquire and keep these skills. Lots of necessary skills and knowledge are built-in to ready-to use (sort of) software libraries, though, but it is a  risky to use these kind of libraries entiraly as black-boxes.\n",
    "<img src=\"./images/data-science_new.svg\" style=\"width: 60%; padding: 0; margin: 0;\">\n",
    "\n",
    "#### Jupyter Overview\n",
    "\n",
    "Jupyter Notebook is a **web application** that can either be run on a local computer, or hosted in a multi-user environment. The main advantage of the latter is that the end user only need a web browser to open and execute a notebook. When used locally, the user must install Python and Jupyter, as well as all the necessary frameworks that are needed for the project (and also the correct version of each framework). Server hosted installations is therefore much preferably in most cases.\n",
    "<img src=\"./images/jupyter_stack.svg\" style=\"width: 40%;padding: 0; margin: 0;\">\n",
    "\n",
    "<i>**Fig**. Jupyter server</i>\n",
    "\n",
    "#### Why use Jupyter Notebooks?\n",
    "\n",
    "- Easy to learn, use and deploy, lots of people know Python.\n",
    "- Ready to use online platform - trivial to create simple interactivity.\n",
    "- Much faster (and cheaper) development - immediate feedback - agile, collaborative.\n",
    "- Can defer decisions from developer to researcher. \n",
    "- The ability to combine data, narrative and code into an interactive user interface.\n",
    "- Fits users with different tech skills, some researcher wants to understand and be able to tune the logic.\n",
    "- Supports Python, that has big ecosystem of (open source) software libraries.\n",
    "- Very popular, millons of notebooks exist on GitHub."
   ]
  },
  {
   "cell_type": "markdown",
   "metadata": {},
   "source": [
    "\n",
    "#### Open Science as the New Normal\n",
    "\n",
    "An important driving force behind the increased use of Jupyter Notebooks is the current \"open science\" movement. This is in part caused by the so called *reproducibility crisis*, and the *statistical crisis* (aka data dredging) in science. See\n",
    "- [Presentation by Deevy Bishop](https://www.slideshare.net/deevybishop/what-is-the-reproducibility-crisis-in-science-and-what-can-we-do-about-it)\n",
    "- [Replication Crisis](https://en.wikipedia.org/wiki/Replication_crisis)\n",
    "- [An EU initiative for open science e-Learning](https://www.fosteropenscience.eu/)\n",
    "- Simmons, J., L. Nelson, and U. Simonsohn. 2011. False-positive psychology\n",
    "- [An article on the statistical crisis](https://www.americanscientist.org/article/the-statistical-crisis-in-science)\n"
   ]
  },
  {
   "cell_type": "markdown",
   "metadata": {},
   "source": [
    "\n",
    "#### Methods and Technologies\n",
    "\n",
    "The figure below shows some of the methods, frameworks and tools used in the Daedalus topic modelling workflow. The so called method- and technology stack spans a large variety of domains and fields, where each single method or technology can have a rather steep learning curve. There are also many similar frameworks to choose from, many with overlapping or similar functionality. Each functionality in turn has a number of elements that need to be configured for proper use. This require both specific knowledge, and usage experience in order to safely apply the methods and tools on the problem at hand. What's missing in the figure, which is important to note, is the *problem domain specific knowledge* that is required to interpret and validate the result of the topic models.\n",
    "\n",
    "- Många koncept, metoder, bibliotek och verktyg\n",
    "- Ofta överlappande funktioner\n",
    "- Många alternativ\n",
    "- Många små och stora beslut\n",
    "- Många koncept och ramverk - både stora och små\n",
    "- Enormt mycket \"tekniskt brus\" - majoriteten av tiden används till att lära sig enskilda ramverk som inte har med problemet.\n",
    "- Sedan tillkommer även problemdomänen\n",
    "\n",
    "<img src=\"./images/concept_tools_new.png\" style=\"width: 50%; padding: 0; margin: 0;\">\n",
    "<center><i>**Fig**. High level tech stack</i></center>\n",
    "\n",
    "This method and tool chain unavoidably requires a multitude of both major and minor decisions. It can even be difficult to determine which decision is minor or major. To some extent, black-box use is unavoidable, but this emphasizes the need of a proper validation process. The Jupyter Notebook helps transferring some of these decisions from the tech specialist to the end user i.e. the researcher. It is of great advantage - and a signum of the Python ecosystem - that so many proven and battle-tested open source frameworks and tools exists.\n",
    "\n",
    "#### Risker och utmaningar\n",
    "- Risken med att använda verktyg och metoder utan att till fullo förstå dem.\n",
    "- Risken att använda verktyg och metoder för andra syften och andra kontexter än de var avsedda för\n",
    "- Att säkerställa korrekthet\n",
    "- Risken av data dredging, p-hacking, \"the statistical crisis\".\n",
    "- Risken att tekniker fattar små och store beslut som forskaren inte är medveten om\n",
    "- Risken att övertolka (networks, layouts, clusters)."
   ]
  },
  {
   "cell_type": "code",
   "execution_count": null,
   "metadata": {},
   "outputs": [],
   "source": []
  }
 ],
 "metadata": {
  "kernelspec": {
   "display_name": "Python 3",
   "language": "python",
   "name": "python3"
  },
  "language_info": {
   "codemirror_mode": {
    "name": "ipython",
    "version": 3
   },
   "file_extension": ".py",
   "mimetype": "text/x-python",
   "name": "python",
   "nbconvert_exporter": "python",
   "pygments_lexer": "ipython3",
   "version": "3.5.3"
  },
  "toc": {
   "base_numbering": 1,
   "nav_menu": {},
   "number_sections": false,
   "sideBar": false,
   "skip_h1_title": false,
   "title_cell": "Table of Contents",
   "title_sidebar": "Contents",
   "toc_cell": false,
   "toc_position": {},
   "toc_section_display": false,
   "toc_window_display": false
  },
  "varInspector": {
   "cols": {
    "lenName": 16,
    "lenType": 16,
    "lenVar": 40
   },
   "kernels_config": {
    "python": {
     "delete_cmd_postfix": "",
     "delete_cmd_prefix": "del ",
     "library": "var_list.py",
     "varRefreshCmd": "print(var_dic_list())"
    },
    "r": {
     "delete_cmd_postfix": ") ",
     "delete_cmd_prefix": "rm(",
     "library": "var_list.r",
     "varRefreshCmd": "cat(var_dic_list()) "
    }
   },
   "types_to_exclude": [
    "module",
    "function",
    "builtin_function_or_method",
    "instance",
    "_Feature"
   ],
   "window_display": false
  }
 },
 "nbformat": 4,
 "nbformat_minor": 2
}
