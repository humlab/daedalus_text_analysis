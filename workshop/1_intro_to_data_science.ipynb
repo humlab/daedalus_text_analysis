{
 "cells": [
  {
   "cell_type": "markdown",
   "metadata": {
    "slideshow": {
     "slide_type": "slide"
    }
   },
   "source": [
    "## Text Analysis Workshop\n",
    "\n",
    "### Who am I?\n",
    "\n",
    "- Software developer and architect (15+ year consultant in telecom and utility business)\n",
    "- Humlab, Umeå university since 2013\n",
    "- 15+ years consultant in telecom and utility business\n",
    "- Not a statistician, not an expert in text analysis\n",
    "- As a consultant, problems are tackled in a pragmatic, less theoretical, way\n",
    "- Software development has well defined work flows, high demands on tracability, versioning and change management\n",
    "\n",
    "### Workshop Web Page\n",
    "\n",
    "> https://open-science.humlab.umu.se\n",
    "\n",
    "```\n",
    "Username: ws_ta_180925_01 ... ws_ta_180925_30\n",
    "Password: humlab\n",
    "```\n"
   ]
  },
  {
   "cell_type": "markdown",
   "metadata": {},
   "source": [
    "### What is (Computational) Text Analysis (aka Text Mining)?\n",
    "\n",
    "> *The use of computational methods and techniques to extract knowledge from text.* [Wikipedia](https://en.wikipedia.org/wiki/Text_mining)<br>\n",
    "> The overarching goal is, essentially, to **turn text into data for analysis**, via application of natural language processing (NLP) and analytical methods.\n",
    "> - Often discovery of previously **unknown structure** \n",
    "> - Often very **large amounts of text**\n",
    "> - Often **unstructured text**\n",
    "> - Automatic or semi-automatic **information retrieval (IR) process**\n",
    "> - Often some form of **birds eye view** (distant reading) of the text"
   ]
  },
  {
   "cell_type": "markdown",
   "metadata": {},
   "source": [
    "### The Data Science Buzzword \n",
    "\n",
    "**Data science** is defined in Wikipedia as\n",
    "\n",
    "> \"...an interdisciplinary field of scientific methods, processes, algorithms and systems **to extract knowledge or insights from data** in various forms, either structured or unstructured...\"</br>\n",
    "\n",
    "> <img src=\"./images/data-science_new.svg\" style=\"width: 80%; padding: 0; margin: 0;\">\n",
    "\n",
    "- Computational texts analysis **is** data science\n",
    "\n",
    "- Computers can _only_ computer numbers - everything else is abstractions of numbers\n"
   ]
  },
  {
   "cell_type": "markdown",
   "metadata": {},
   "source": [
    "#### What is The Jupyter Project and Jupyter Notebook\n",
    "\n",
    "> Project [Jupyter](http://jupyter.org/) develops open-source software for **interactive and reproducible computing**.<br>\n",
    "> The **open science movement** is a driving force for Jupyter's popularity.<br>\n",
    "> In part a response to the **reproducibility crisis in science** and the **statistical crisis in science** (aka data dredging, p-hacking) in science.<br>\n",
    "> With Jupyter Notebooks contain **excutable code, equations, visualizations and narrative text**.<br>\n",
    "> It is a **web application** (can run locally) with a simple and easy to use web interface.\n",
    "> <img src=\"./images/narrative_new.svg\" style=\"width: 300px;padding: 0; margin: 0;\"><br>\n",
    "> Jupyter supports a large number of programming languages (50+ e.g. Python, R, JavaScript)\n",
    "\n",
    "The project is sponsered by large companies such as Google and Microsoft, and funders such as Alfred P. Sloan foundation. See link [jupyter.org/about](http://jupyter.org/about) for all sponsors."
   ]
  },
  {
   "cell_type": "markdown",
   "metadata": {},
   "source": [
    "#### Why use Jupyter Notebooks?\n",
    "\n",
    "- **Easy to learn**, use and deploy, lots of people know **Python* and **R**.\n",
    "- Ready to use **online platform** - trivial to create simple interactivity.\n",
    "- Much faster (and cheaper) development: **immediate feedback**, **agile**, **collaborative**.\n",
    "- Can **defer decisions** from developer to researcher. \n",
    "- The **ability to combine data, narrative and code** into an interactive user interface.\n",
    "- Fits users with **different tech skills**, some researcher wants to understand and be able to tune the logic.\n",
    "- Supports **Python**, that has big ecosystem of (open source) software libraries.\n",
    "- Very popular, millons of notebooks exist on GitHub."
   ]
  },
  {
   "cell_type": "markdown",
   "metadata": {},
   "source": [
    "#### Brief Instructions on How to Use Notebooks\n",
    "- **Menu Help -> User Interface Tour** gives an overview of the user interface.\n",
    "- **Code cells** contains the script code and have **In [x]** in the left margin.\n",
    "  - **In []** indicates that the code cell hasn't been executed yet.\n",
    "  - **In [n]** indicates that the code has been executed(n is an integer).\n",
    "  - **In [\\*]** indicates that the code is executing, or waiting to be executed (i.e. other cells are executing).\n",
    "- **The current code** is highlighted with a blue border - you make it current by clicking on it.\n",
    "- **SHIFT+ENTER** or **Play button** executes the current cell. Code cells aren't executed automatically.\n",
    "- **Out[n]** indicates the output (or result) of a cell's execution and is directly below the executed cell.\n",
    "- **SHIFT+ENTER** automatically selects the next code cell.\n",
    "- **SHIFT+ENTER** can hence be used repeatedly to executes the code cells in sequence.\n",
    "- **Menu Cell -> Run All** executes the entire notebook in a single step (can take some time to finish, notice how \"In [\\*]\" indicators change to \"In [n]\" ).\n",
    "- **Double-Click** on a cell to edit its content.\n",
    "- **ESC key** Leaves edit mode (or just click on any other cell).\n",
    "- **Kernel -> Restart** restarts server side kernel (use if notebook seems stuck)\n"
   ]
  },
  {
   "cell_type": "markdown",
   "metadata": {},
   "source": [
    "#### Methods and Technologies\n",
    "<img src=\"./images/concept_tools_new.png\" style=\"width: 800px; padding: 0; margin: 0;\">\n",
    "\n",
    "- Tremendous \"**technological noise**\"\n",
    "- Most time is spent on learning tools, methods and frameworks (transient knwoledge).\n",
    "- **Black-box use is unavoidable** - emphasizes the need of **a proper validation process**."
   ]
  },
  {
   "cell_type": "markdown",
   "metadata": {},
   "source": [
    "#### Risks and Challanges\n",
    "- The risk of using tools and methods **without fully understanding** them\n",
    "- The risk of using tools and methods **for non-intended purposes or in new contexts**\n",
    "- How to verify **performance** (correctness of result)\n",
    "- Risk of **data dredging**, p-hacking, \"the statistical crisis\".\n",
    "- The risk that **engineer makes micro-decisions** the researcher don'r know about\n",
    "- The risk of **reading to much into visualizations** (networks, layouts, clusters)."
   ]
  },
  {
   "cell_type": "markdown",
   "metadata": {},
   "source": [
    "### Challenges\n",
    "- **What’s easy for humans can be extremely hard for computers**\n",
    "- **Human-in-the-loop or supervised learning can be very expensive**\n",
    "- Ambiguity and fuzziness of terms and phrases\n",
    "- Poor data quality, errors in data, wrong data, missing data, ambigeous data\n",
    "- Context, metadata, domain-specific data\n",
    "- Data size (to much, to little)\n",
    "- Computational methods requires a structured internal representation\n",
    "- Internal models are a simplified views of the data\n",
    "- etc..."
   ]
  },
  {
   "cell_type": "markdown",
   "metadata": {},
   "source": [
    "### A sample high-level workflow\n",
    "\n",
    "<img src=\"./images/text_analysis_workflow.svg\" alt=\"\" width=\"1200\"/>"
   ]
  },
  {
   "cell_type": "markdown",
   "metadata": {},
   "source": [
    "### Text Analysis Sample Flow\n",
    "> <img src=\"./images/text-analysis_sample_tasks.svg\" style=\"width: 75%;padding: 0; margin: 0;\">\n"
   ]
  }
 ],
 "metadata": {
  "kernelspec": {
   "display_name": "Python 3",
   "language": "python",
   "name": "python3"
  },
  "language_info": {
   "codemirror_mode": {
    "name": "ipython",
    "version": 3
   },
   "file_extension": ".py",
   "mimetype": "text/x-python",
   "name": "python",
   "nbconvert_exporter": "python",
   "pygments_lexer": "ipython3",
   "version": "3.5.3"
  },
  "toc": {
   "base_numbering": 1,
   "nav_menu": {},
   "number_sections": false,
   "sideBar": false,
   "skip_h1_title": false,
   "title_cell": "Table of Contents",
   "title_sidebar": "Contents",
   "toc_cell": false,
   "toc_position": {},
   "toc_section_display": false,
   "toc_window_display": false
  },
  "varInspector": {
   "cols": {
    "lenName": 16,
    "lenType": 16,
    "lenVar": 40
   },
   "kernels_config": {
    "python": {
     "delete_cmd_postfix": "",
     "delete_cmd_prefix": "del ",
     "library": "var_list.py",
     "varRefreshCmd": "print(var_dic_list())"
    },
    "r": {
     "delete_cmd_postfix": ") ",
     "delete_cmd_prefix": "rm(",
     "library": "var_list.r",
     "varRefreshCmd": "cat(var_dic_list()) "
    }
   },
   "types_to_exclude": [
    "module",
    "function",
    "builtin_function_or_method",
    "instance",
    "_Feature"
   ],
   "window_display": false
  }
 },
 "nbformat": 4,
 "nbformat_minor": 2
}
