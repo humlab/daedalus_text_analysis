{
 "cells": [
  {
   "cell_type": "markdown",
   "metadata": {},
   "source": [
    "# Sample text corpus processing"
   ]
  },
  {
   "cell_type": "code",
   "execution_count": 14,
   "metadata": {},
   "outputs": [
    {
     "name": "stdout",
     "output_type": "stream",
     "text": [
      "<result>\n",
      "<build hash='8ab632e35412789e7595ed0f454ee4bf1b03937d'/>\n",
      "<corpus link='https://ws.spraakbanken.gu.se/ws/sparv/v2/download?hash=8ab632e35412789e7595ed0f454ee4bf1b03937d'>\n",
      "<text>\n",
      "<paragraph>\n",
      "<sentence id=\"8f7-8fd\">\n",
      "<w pos=\"NN\" msd=\"NN.UTR.SIN.DEF.NOM\" lemma=\"|katt|katten|\">Katten</w>\n",
      "<w pos=\"PM\" msd=\"PM.NOM\" lemma=\"|Gösta|\">Gösta</w>\n",
      "<w pos=\"VB\" msd=\"VB.PRS.AKT\" lemma=\"|surfa|\">surfar</w>\n",
      "<w pos=\"PP\" msd=\"PP\" lemma=\"|på|\">på</w>\n",
      "<w pos=\"NN\" msd=\"NN.NEU.SIN.DEF.NOM\" lemma=\"|jobb|\">jobbet</w>\n",
      "<w pos=\"MAD\" msd=\"MAD\" lemma=\"|\">.</w>\n",
      "</sentence>\n",
      "</paragraph>\n",
      "</text>\n",
      "</corpus>\n",
      "</result>\n",
      "\n"
     ]
    }
   ],
   "source": [
    "settings={\n",
    "    \"corpus\": \"exempelkorpus\",\n",
    "    \"lang\": \"sv\",\n",
    "    \"textmode\": \"plain\",\n",
    "    \"word_segmenter\": \"default_tokenizer\",\n",
    "    \"sentence_segmentation\": {\n",
    "        \"sentence_chunk\": \"paragraph\",\n",
    "        \"sentence_segmenter\": \"default_tokenizer\"\n",
    "    },\n",
    "    \"paragraph_segmentation\": {\n",
    "        \"paragraph_segmenter\": \"blanklines\"\n",
    "    },\n",
    "    \"positional_attributes\": {\n",
    "        \"lexical_attributes\": [ \"pos\", \"msd\", \"lemma\", ],\n",
    "        \"compound_attributes\": [ ],\n",
    "        \"dependency_attributes\": [ ],\n",
    "        \"sentiment\": [ ]\n",
    "    },\n",
    "    \"named_entity_recognition\": [],\n",
    "    \"text_attributes\": {\n",
    "        \"readability_metrics\": [ ]\n",
    "    }\n",
    "}\n",
    "import requests\n",
    "import json\n",
    "headers = {\n",
    "    \"Accept\": \"application/xml\",\n",
    "}\n",
    "data = {\n",
    "    'text': \"Katten Gösta surfar på jobbet.\",\n",
    "} \n",
    "url = \"https://ws.spraakbanken.gu.se/ws/sparv/v2/?settings={}\".format(json.dumps(settings))\n",
    " \n",
    "response = requests.post(url=url, headers=headers, data=data) \n",
    "  \n",
    "print(response.text)\n"
   ]
  },
  {
   "cell_type": "code",
   "execution_count": 3,
   "metadata": {},
   "outputs": [
    {
     "data": {
      "text/html": [
       "<style>\n",
       ".jp-RenderedHTMLCommon td, .jp-RenderedHTMLCommon th, .jp-RenderedHTMLCommon tr {\n",
       "    text-align: left;\n",
       "    vertical-align: top;\n",
       "}\n",
       "</style>"
      ],
      "text/plain": [
       "<IPython.core.display.HTML object>"
      ]
     },
     "metadata": {},
     "output_type": "display_data"
    }
   ],
   "source": [
    "%%html\n",
    "<style>\n",
    ".jp-RenderedHTMLCommon td, .jp-RenderedHTMLCommon th, .jp-RenderedHTMLCommon tr {\n",
    "    text-align: left;\n",
    "    vertical-align: top;\n",
    "}\n",
    "</style>"
   ]
  },
  {
   "cell_type": "markdown",
   "metadata": {},
   "source": []
  },
  {
   "cell_type": "markdown",
   "metadata": {},
   "source": [
    "## Statens offentliga utredningar (SOU)\n",
    "\n",
    "Kungliga biblioteket har digitaliserat alla SOU:er publicerade mellan 1922 och 1999 (1129 stycken). Utredningarna kan laddas ned från http://regina.kb.se/sou/ i PDF-format. Filerna kan vara rätt stora, flera hundra MB, då de innehåller dels alla sidor scannade. De innehåller även inbäddad OCR:ad text vilket möjliggör textsökning. Kvaliteten av OCR är genomgående mycket hög.\n",
    "\n",
    "[<img src=\"./images/kb_regina_sou.jpg\" alt=\"http://regina.kb.se/sou/\" width=\"80%\"/>](http://regina.kb.se/sou/)\n",
    "         \n",
    "### Scannade dokument\n",
    "\n",
    "| SOU 1933:15        | Page 23 | \n",
    "| ------------- |:-------------|\n",
    "| [<img src=\"./images/kb-digark-2106487-page-0.jpg\" alt=\"1933:15 Utredning och förslag angående importmonopol på kaffe\" width=\"400\"/>](https://weburn.kb.se/sou/211/urn-nbn-se-kb-digark-2106487.pdf)      | <img src=\"./images/kb-digark-2106487-page-23.jpg\" alt=\"1933:15 Page 23\" width=\"400\"/> |\n",
    "\n",
    "### Text har tolkats (med OCR) från de scannade dokumenten\n",
    "\n",
    "OCR (Optical Character Recognition) innebär maskinell tolkning bilder till text. Processen kan dra nytta av typiska återkommande fel, ordlistor etc. för att få ett bättre resultat. Kvalitet av text är mycket beroende av kvalitet av källmaterial och OCR-processen i sig.\n",
    "\n",
    "> 23 Enligt dessa siffror skulle sålunda **uuder** åren 1911—1913 43 % och år\n",
    "1931 65 % av Sveriges import av orostat kaffe ha varit av brasilianskt\n",
    "ursprung. Ingendera av dessa relationer är emellertid riktig, den första\n",
    "dock i vida mindre mån än den sista. Före kriget var Tyskland ännu en\n",
    "stor mellanhand för vår kaffehandel, liksom i viss utsträckning även\n",
    "Danmark och Holland, Före 1905 voro dessa länder, framför allt Tysk-\n",
    "land, såvitt kan slutas av den svenska handelsstatistiken, ännu mera do-\n",
    "minerande — vi köpte vid denna tid så gott som allt vårt kaffe genom\n",
    "affärshus i Hamburg, Rotterdam, Köpenhamn o. s. v. Efter tillkomsten\n",
    "år 1904 av ett nytt svenskt rederiföretag med trafik på Syd- och Central-\n",
    "amerika har bladet vänt sig. Redan år 1905 återfinnas Brasilien och\n",
    "Centralamerika i vår importstatistik med införselsiffror av resp. 4-5 och\n",
    "0\\*3 milj. kg. från att förut ha varit obefintliga, och sedan dess har den\n",
    "direkta införseln oavlåtligt stigit på den indirektas bekostnad. År 1931\n",
    "redovisas enligt tab. 15 den direkta importen till 85 % av den totala och\n",
    "importen från Brasilien till 65 %. I verkligheten torde omkr. 70—75 %\n",
    "av vårt kaffe vara av brasilianskt ursprung. Danmark, Holland, Tysk-\n",
    "land och England förmedla väsentligen vår import av dyrare kaffesor-\n",
    "ter från Guatemala (vars export till stor del behärskas av den tyska\n",
    "handeln), Mexiko, Costa Rica, Haiti, Java o. s. v.\n",
    "\n",
    "Mer strukturerad information på sidan såsom tabeller, innehållsförteckning, index etc kan vara mycket problematiska, med ofta många fel i scanningen (beroende av material):\n",
    "\n",
    "> T a b . 16. E x p o r t å r 1930 av brasilianskt kaffe.\n",
    "U. S. A\n",
    "Frankrike\n",
    "Tyskland\n",
    "Holland\n",
    "Italien\n",
    "Argentina • • • -\n",
    "Sverige\n",
    "Belgien\n",
    "Övriga\n",
    "Summa\n",
    "1 000 säckar\n",
    "å 60 kg.\n",
    "8 006\n",
    "1995\n",
    "912\n",
    "862\n",
    "781\n",
    "482\n",
    "444\n",
    "410\n",
    "1399\n",
    "15 291\n",
    "52-4\n",
    "13-o\n",
    "6-0\n",
    "5-6\n",
    "5 i\n",
    "3-2\n",
    "2-9\n",
    "27\n",
    "9 1\n",
    "lOOo"
   ]
  },
  {
   "cell_type": "markdown",
   "metadata": {},
   "source": [
    "## Vilken information finns i texten?\n",
    "\n",
    "- Geografiska platser på olika nivåer (länder, städer, världsdelar)\n",
    "- Temporal information (år)\n",
    "- Olika typer av **metriska värden**\n",
    "- Ordklasser såsom substantiv, verb\n",
    "- Prepositioner, konjunktioner kanske inte säger så mycket?\n"
   ]
  },
  {
   "cell_type": "markdown",
   "metadata": {},
   "source": [
    "### Geografiska platser\n",
    "\n",
    "> Enligt dessa siffror skulle sålunda uuder åren 1911—1913 43 % och år\n",
    "1931 65 % av **Sveriges** import av orostat kaffe ha varit av **brasilianskt**\n",
    "ursprung. Ingendera av dessa relationer är emellertid riktig, den första\n",
    "dock i vida mindre mån än den sista. Före kriget var **Tyskland** ännu en\n",
    "stor mellanhand för vår kaffehandel, liksom i viss utsträckning även\n",
    "**Danmark** och **Holland**, Före 1905 voro dessa länder, framför allt **Tyskland**,\n",
    "såvitt kan slutas av den svenska handelsstatistiken, ännu mera dominerande —\n",
    "vi köpte vid denna tid så gott som allt vårt kaffe genom\n",
    "affärshus i **Hamburg**, **Rotterdam**, **Köpenhamn** o. s. v. Efter tillkomsten\n",
    "år 1904 av ett nytt **svenskt** rederiföretag med trafik på **Syd- och Centralamerika**\n",
    "har bladet vänt sig. Redan år 1905 återfinnas **Brasilien** och\n",
    "**Centralamerika** i vår importstatistik med införselsiffror av resp. 4-5 och\n",
    "0\\*3 milj. kg. från att förut ha varit obefintliga, och sedan dess har den\n",
    "direkta införseln oavlåtligt stigit på den indirektas bekostnad. År 1931\n",
    "redovisas enligt tab. 15 den direkta importen till 85 % av den totala och\n",
    "importen från **Brasilien** till 65 %. I verkligheten torde omkr. 70—75 %\n",
    "av vårt kaffe vara av **brasilianskt** ursprung. **Danmark**, **Holland**, **Tyskland** och **England**\n",
    "förmedla väsentligen vår import av dyrare kaffesorter\n",
    "från **Guatemala** (vars export till stor del behärskas av den **tyska**\n",
    "handeln), **Mexiko**, **Costa Rica**, **Haiti**, **Java** o. s. v.\n",
    "    \n",
    "### Tidsmässiga angivelser\n",
    "\n",
    "> Enligt dessa siffror skulle sålunda uuder **åren 1911—1913** 43 % och **år\n",
    "1931** 65 % av Sveriges import av orostat kaffe ha varit av brasilianskt\n",
    "ursprung. Ingendera av dessa relationer är emellertid riktig, den första\n",
    "dock i vida mindre mån än den sista. **Före kriget** var Tyskland ännu en\n",
    "stor mellanhand för vår kaffehandel, liksom i viss utsträckning även\n",
    "Danmark och Holland, **Före 1905** voro dessa länder, framför allt Tyskland,\n",
    "såvitt kan slutas av den svenska handelsstatistiken, ännu mera dominerande —\n",
    "vi köpte **vid denna tid** så gott som allt vårt kaffe genom\n",
    "affärshus i Hamburg, Rotterdam, Köpenhamn o. s. v. Efter tillkomsten\n",
    "**år 1904** av ett nytt svenskt rederiföretag med trafik på Syd- och Centralamerika\n",
    "har bladet vänt sig. Redan **år 1905** återfinnas Brasilien och\n",
    "Centralamerika i vår importstatistik med införselsiffror av resp. 4-5 och\n",
    "0\\*3 milj. kg. från att förut ha varit obefintliga, och sedan dess har den direkta införseln oavlåtligt stigit på den indirektas bekostnad. År **1931**\n",
    "redovisas enligt tab. 15 den direkta importen till 85 % av den totala och\n",
    "av vårt kaffe vara av brasilianskt ursprung. Danmark, Holland, Tyskland och England\n",
    "förmedla väsentligen vår import av dyrare kaffesorter\n",
    "från Guatemala (vars export till stor del behärskas av den tyska\n",
    "handeln), Mexiko, Costa Rica, Haiti, Java o. s. v.\n",
    "\n",
    "### Vilka är nyckelorden?\n",
    "\n",
    "> kanske **kaffe, handel, statistik, (länder), (år)**?\n",
    "\n",
    "### Bara substantiv och egennamn (enligt Språkbanken Sparv)\n",
    "\n",
    "> siffror uuder åren % år % Sveriges import kaffe ursprung relationer mån kriget Tyskland mellanhand kaffehandel utsträckning Danmark Holland länder Tyskland handelsstatistiken tid kaffe affärshus Hamburg Rotterdam Köpenhamn s. v. tillkomsten år rederiföretag trafik Syd- Centralamerika bladet år Brasilien Centralamerika importstatistik införselsiffror \\ milj. kg införseln bekostnad År importen % kaffe ursprung Danmark Holland Tyskland England import kaffesorter Guatemala export del handeln Mexiko Costa Rica Haiti Java s. v.\n",
    "\n",
    "### Bara substantiv och egennamn i deras grundform (enligt Språkbanken Sparv)\n",
    "\n",
    "> siffra uuder år % år % Sverige import kaffe ursprung relation mån krig Tyskland mellanhand kaffehandel utsträckning Danmark Holland land Tyskland handelsstatistik tid kaffe affärshus Hamburg Rotterdam Köpenhamn s. o. s. v.:075 tillkomst år rederiföretag trafik Syd- Centralamerika blad år Brasilien Centralamerika importstatistik införselsiffror \\ milj. kg införsel bekostnad år import % kaffe ursprung Danmark Holland Tyskland England import kaffesort Guatemala export del handel Mexiko Costa Rica Costa Rica:32 Haiti Java s. o. s. v.\n",
    "\n",
    "### Efter enklare städningar\n",
    "Korta ord borttagna, samt ord som saknar alfanumerisk bokstav, samt ord ändrade till genomgående små bokstäver\n",
    "\n",
    "> siffra uuder sverige import kaffe ursprung relation mån krig tyskland mellanhand kaffehandel utsträckning danmark holland land tyskland handelsstatistik tid kaffe affärshus hamburg rotterdam köpenhamn v.:075 tillkomst rederiföretag trafik syd- centralamerika blad brasilien centralamerika importstatistik införselsiffror milj införsel bekostnad import kaffe ursprung danmark holland tyskland england import kaffesort guatemala export del handel mexiko costa rica costa rica:32 haiti java\n",
    "\n",
    "### Top-10 lista av ord\n",
    "\n",
    "<table border=\"1\" class=\"dataframe\">\n",
    "  <thead>\n",
    "    <tr style=\"text-align: right;\">\n",
    "      <th></th>\n",
    "      <th>token</th>\n",
    "      <th>count</th>\n",
    "    </tr>\n",
    "  </thead>\n",
    "  <tbody>\n",
    "    <tr>\n",
    "      <th>0</th>\n",
    "      <td>kaffe</td>\n",
    "      <td>3</td>\n",
    "    </tr>\n",
    "    <tr>\n",
    "      <th>1</th>\n",
    "      <td>import</td>\n",
    "      <td>3</td>\n",
    "    </tr>\n",
    "    <tr>\n",
    "      <th>2</th>\n",
    "      <td>tyskland</td>\n",
    "      <td>3</td>\n",
    "    </tr>\n",
    "    <tr>\n",
    "      <th>3</th>\n",
    "      <td>danmark</td>\n",
    "      <td>2</td>\n",
    "    </tr>\n",
    "    <tr>\n",
    "      <th>4</th>\n",
    "      <td>costa</td>\n",
    "      <td>2</td>\n",
    "    </tr>\n",
    "    <tr>\n",
    "      <th>5</th>\n",
    "      <td>ursprung</td>\n",
    "      <td>2</td>\n",
    "    </tr>\n",
    "    <tr>\n",
    "      <th>6</th>\n",
    "      <td>holland</td>\n",
    "      <td>2</td>\n",
    "    </tr>\n",
    "    <tr>\n",
    "      <th>7</th>\n",
    "      <td>centralamerika</td>\n",
    "      <td>2</td>\n",
    "    </tr>\n",
    "    <tr>\n",
    "      <th>8</th>\n",
    "      <td>sverige</td>\n",
    "      <td>1</td>\n",
    "    </tr>\n",
    "    <tr>\n",
    "      <th>9</th>\n",
    "      <td>kaffehandel</td>\n",
    "      <td>1</td>\n",
    "    </tr>\n",
    "  </tbody>\n",
    "</table>\n"
   ]
  },
  {
   "cell_type": "code",
   "execution_count": 2,
   "metadata": {},
   "outputs": [
    {
     "name": "stdout",
     "output_type": "stream",
     "text": [
      "Antal termer: 58\n",
      "Antal unika termer (vocabulary): 47\n",
      " \n",
      "java mellanhand centralamerika trafik rederiföretag hamburg sverige affärshus tillkomst milj importstatistik v.:075 syd- export tid holland införselsiffror krig siffra blad kaffesort mexiko rotterdam uuder rica kaffe del köpenhamn brasilien kaffehandel införsel costa ursprung import mån handelsstatistik danmark relation utsträckning rica:32 guatemala tyskland handel haiti bekostnad england land\n",
      " \n",
      "         kaffe         import       tyskland centralamerika       ursprung        holland          costa        danmark         trafik  rederiföretag \n",
      "             3              3              3              2              2              2              2              2              1              1 \n"
     ]
    }
   ],
   "source": [
    "import nltk\n",
    "import pandas as pd\n",
    "import matplotlib.pyplot as plt\n",
    "\n",
    "%matplotlib inline\n",
    "\n",
    "def tokenize_and_sanitize(document):\n",
    "    tokens = nltk.word_tokenize(document)\n",
    "\n",
    "    # Ta bort ord kortare än tre tecken\n",
    "    tokens = [ x for x in tokens if len(x) > 2 ]\n",
    "    # Ta bort ord kortare än tre tecken\n",
    "    tokens = [ x for x in tokens if any([c for c in x if c.isalpha()])]\n",
    "    # Transformera till små bokstäver\n",
    "    tokens = [ x.lower() for x in tokens ]\n",
    "    # Ta bort de valigaste stoporden\n",
    "    tokens = [ x for x in tokens if x not in nltk.corpus.stopwords.words('swedish') ]\n",
    "    return tokens\n",
    "\n",
    "def plot_freqdist(wf, n=25, **kwargs):\n",
    "    data = list(zip(*wf.most_common(n)))\n",
    "    x = list(data[0])\n",
    "    y = list(data[1])\n",
    "    labels = x\n",
    "\n",
    "    plt.figure(figsize=(13,6))\n",
    "    plt.plot(x, y, 'ro', **kwargs)\n",
    "    plt.xticks(x, labels, rotation='45')\n",
    "    plt.show()\n",
    "    \n",
    "text = 'siffra uuder år % år % Sverige import kaffe ursprung relation mån krig Tyskland mellanhand kaffehandel utsträckning Danmark Holland land Tyskland handelsstatistik tid kaffe affärshus Hamburg Rotterdam Köpenhamn s. o. s. v.:075 tillkomst år rederiföretag trafik Syd- Centralamerika blad år Brasilien Centralamerika importstatistik införselsiffror \\ milj. kg införsel bekostnad år import % kaffe ursprung Danmark Holland Tyskland England import kaffesort Guatemala export del handel Mexiko Costa Rica Costa Rica:32 Haiti Java s. o. s. v.'\n",
    "\n",
    "tokens = tokenize_and_sanitize(text)\n",
    "\n",
    "wf = nltk.FreqDist(tokens)\n",
    "\n",
    "\n",
    "print('Antal termer: {}'.format(wf.N()))\n",
    "print('Antal unika termer (vocabulary): {}'.format(wf.B()))\n",
    "print(' ')\n",
    "\n",
    "print(' '.join(set(tokens)))\n",
    "print(' ')\n",
    "\n",
    "df = pd.DataFrame(wf.most_common(10), columns=['token','count'])\n",
    "#display(HTML(df[:10].to_html()))\n",
    "\n",
    "wf.tabulate(10)"
   ]
  },
  {
   "cell_type": "markdown",
   "metadata": {},
   "source": [
    "### Öppna textfil och läs in texten"
   ]
  },
  {
   "cell_type": "code",
   "execution_count": 3,
   "metadata": {},
   "outputs": [
    {
     "name": "stdout",
     "output_type": "stream",
     "text": [
      "﻿National Libraryof SwedenDenna bok digitaliserades på Kungl. biblioteket år 2012J£-* A .STATENS OFFENTLIGA UTREDNINGAR 1 9 3 3 : 1 5F I N A N S D E P A R T E M E N T E TUTREDNING OCH FÖRSLAGA N G Å E N D EIMPORTMONOPOL PÅ KAFFEAVGIVNA DEN 15 MARS 19\n",
      ".................\n",
      "\n",
      ".................\n",
      "n.Utrikes ärenden. Internationell rätt.Lagberedningens förslag ang. vissa internationel la rättsförhållanden. 4. Förslag till konvention mellan Sverige,Danmark, Finland, Island och Norge ang. konkurs,m. m. [4]Isaac Marcus Boktr.-Å.-B., Stockholm 193a\n"
     ]
    }
   ],
   "source": [
    "import nltk\n",
    "with open('./data/urn-nbn-se-kb-digark-2106487.txt', 'r') as f:\n",
    "    document = f.read().replace('\\n', '')\n",
    "    \n",
    "# Utskrift av de första och sista 250 tecknen:\n",
    "print('{}\\n.................\\n\\n.................\\n{}'.format(document[:250], document[-250:]))"
   ]
  },
  {
   "cell_type": "markdown",
   "metadata": {},
   "source": [
    "### Dela upp textmassan till ord\n",
    "Texten som lästs in är än så länge, från systemets synvinkel, en enda lång sekvens av tecken. Vi vill upparbeta texten till en sekvens \"relevanta\" termer (ord, tal, etc). Vanligtvis används så kallade \"white spaces\" (blanksteg, tab, radbrytning etc) för att särskilja termer (tokens). De flesta ramverk för språkanalys (ex. NLTK) har inbyggda funktioner, s.k. tokenizers, för att dela up texten i termer. Vi listar de 500 vanligaste orden i fallande ordning.\n",
    "\n",
    "Vi använder paketet Pandas för att få \"snyggare\" utskrifter. "
   ]
  },
  {
   "cell_type": "code",
   "execution_count": 7,
   "metadata": {},
   "outputs": [
    {
     "data": {
      "image/png": "[encoded data removed]",
      "text/plain": [
       "<Figure size 936x432 with 1 Axes>"
      ]
     },
     "metadata": {},
     "output_type": "display_data"
    }
   ],
   "source": [
    "import nltk\n",
    "import pandas as pd\n",
    "from IPython.display import display, HTML\n",
    "import matplotlib.pyplot as plt\n",
    "\n",
    "%matplotlib inline\n",
    "tokens = nltk.word_tokenize(document)\n",
    "wf = nltk.FreqDist(tokens)\n",
    "df = pd.DataFrame(wf.most_common(25), columns=['Token', 'Count']).reset_index()\\\n",
    "    .rename(columns={'index': 'Rank'})\n",
    "\n",
    "#print('Antal termer: {}'.format(wf.N()))\n",
    "#print('Antal unika termer: {}'.format(wf.B()))\n",
    "\n",
    "#display(HTML(df.to_html()))\n",
    "\n",
    "\n",
    "def plot_freqdist(wf, n=25):\n",
    "    data = list(zip(*wf.most_common(n)))\n",
    "    x = list(data[0])\n",
    "    y = list(data[1])\n",
    "    labels = x\n",
    "\n",
    "    plt.figure(figsize=(13,6))\n",
    "    plt.plot(x, y, 'ro')\n",
    "    plt.xticks(x, labels, rotation='45')\n",
    "    plt.show()\n",
    "\n",
    "plot_freqdist(wf, n=25)\n",
    "# ax = df.plot.scatter(x='Rank', y='Count', figsize=(13,6))\n",
    "\n"
   ]
  },
  {
   "cell_type": "markdown",
   "metadata": {},
   "source": [
    "Fördelningen ser ut att följa [Zip's lag](https://simple.wikipedia.org/wiki/Zipf%27s_law):\n",
    "> *Zipf's law states that given a large sample of words used, the frequency of any word is inversely proportional to its rank in the frequency table...\n",
    "\n",
    "> ...*Given a set of Zipfian distributed frequencies, sorted from most common to least common, the second most common frequency will occur ½ as often as the first. The third most common frequency will occur ⅓ as often as the first. The fourth most common frequency will occur ¼ as often as the first. The nth most common frequency will occur 1⁄n as often as the first...* "
   ]
  },
  {
   "cell_type": "code",
   "execution_count": 5,
   "metadata": {},
   "outputs": [
    {
     "data": {
      "image/png": "[encoded data removed]",
      "text/plain": [
       "<Figure size 936x432 with 1 Axes>"
      ]
     },
     "metadata": {},
     "output_type": "display_data"
    }
   ],
   "source": [
    "import matplotlib.pyplot as plt\n",
    "%matplotlib inline\n",
    "ax = df.plot.scatter(x='Rank', y='Count', figsize=(13,6))"
   ]
  },
  {
   "cell_type": "markdown",
   "metadata": {},
   "source": [
    "### Städa texten\n",
    "Vi ser mycket skräp och termer som inte är ord. Det är vanligt att städa texten genom att ex.\n",
    "- ändra texten till genomgående små bokstäver\n",
    "- ta bort termer som inte är är kort (ex. ett tecken)\n",
    "- ta bort termer som innehåller siffror\n",
    "- ta bort mest frekventa termerna (ofta kallade för stoppord)\n",
    "- rad avslutas med \"-\" så ta bort \"-\" och radbrytning dvs slå samman avstavat ord\n"
   ]
  },
  {
   "cell_type": "code",
   "execution_count": 157,
   "metadata": {},
   "outputs": [
    {
     "name": "stdout",
     "output_type": "stream",
     "text": [
      "och det att i en jag hon som han på den med var sig för så till är men ett om hade de av icke mig du henne då sin nu har inte hans honom skulle hennes där min man ej vid kunde något från ut när efter upp vi dem vara vad över än dig kan sina här ha mot alla under någon eller allt mycket sedan ju denna själv detta åt utan varit hur ingen mitt ni bli blev oss din dessa några deras blir mina samma vilken er sådan vår blivit dess inom mellan sådant varför varje vilka ditt vem vilket sitta sådana vart dina vars vårt våra ert era vilkas\n"
     ]
    }
   ],
   "source": [
    "print(' '.join(nltk.corpus.stopwords.words('swedish')))"
   ]
  },
  {
   "cell_type": "code",
   "execution_count": null,
   "metadata": {},
   "outputs": [],
   "source": [
    "import re\n",
    "\n",
    "# hantera avstavningar\n",
    "document = re.sub(r'(-\\W*\\n)', r'', document)\n",
    "\n",
    "# splittra texten till tokens\n",
    "tokens = nltk.word_tokenize(document)\n",
    "\n",
    "# Ta bort ord kortare än tre tecken\n",
    "tokens = [ x for x in tokens if len(x) > 2 ]\n",
    "# Ta bort ord kortare än tre tecken\n",
    "tokens = [ x for x in tokens if any([c for c in x if c.isalpha()])]\n",
    "# Transformera till små bokstäver\n",
    "tokens = [ x.lower() for x in tokens ]\n",
    "# Ta bort de valigaste stoporden\n",
    "tokens = [ x for x in tokens if x not in nltk.corpus.stopwords.words('swedish') ]\n",
    "\n",
    "word_frequencies = nltk.FreqDist(tokens).most_common(500)\n",
    "\n",
    "print('Antal termer: {}'.format(len(tokens)))\n",
    "print('Antal unika termer (vocabulary): {}'.format(len(set(tokens))))\n",
    "\n",
    "print(' '.join([x for x,_ in word_frequencies]))\n",
    "\n",
    "#df = pd.DataFrame(word_frequencies, columns=['Token', 'Count']).reset_index().rename(columns={'index': 'Rank'})\n",
    "#display(HTML(df.to_html()))\n"
   ]
  },
  {
   "cell_type": "code",
   "execution_count": 1,
   "metadata": {},
   "outputs": [
    {
     "data": {
      "text/plain": [
       "'varit själv från vår vilka varför när våra ett du dess mitt och honom vårt det denna hans min åt i över sådant nu men den har oss ni sedan vara han hur vilken mig sådan sitta hon vad vars utan ha era så om med var blir vem än jag man inte alla din ert som en dem sina under vi någon något ut ju att ditt allt icke blev efter kunde sig på några vart sin då de sådana dina ej vilket inom mellan varje till ingen vilkas deras upp henne bli är hennes dessa här detta för mot av skulle där er blivit hade eller kan mina dig mycket samma vid'"
      ]
     },
     "execution_count": 1,
     "metadata": {},
     "output_type": "execute_result"
    }
   ],
   "source": [
    "from nltk.corpus import stopwords\n",
    " \n",
    "swedish_stopwords = set(stopwords.words('swedish'))\n",
    "' '.join(swedish_stopwords)"
   ]
  },
  {
   "cell_type": "code",
   "execution_count": 56,
   "metadata": {},
   "outputs": [
    {
     "data": {
      "application/vnd.jupyter.widget-view+json": {
       "model_id": "a114908adb7342d594075a5050697b94",
       "version_major": 2,
       "version_minor": 0
      },
      "text/plain": [
       "interactive(children=(IntSlider(value=10, description='top', max=500, min=10), Output()), _dom_classes=('widge…"
      ]
     },
     "metadata": {},
     "output_type": "display_data"
    }
   ],
   "source": [
    "import nltk\n",
    "import ipywidgets as widgets\n",
    "import pandas as pd\n",
    "\n",
    "top_count_dropdown = widgets.IntSlider(min=10,max=500,step=1,value=10)\n",
    "\n",
    "@widgets.interact(top=top_count_dropdown)\n",
    "def create_tokens(top=25):\n",
    "    tokens = nltk.word_tokenize(document.lower())\n",
    "    words = nltk.FreqDist(tokens).most_common(top)\n",
    "    df = pd.DataFrame(words, columns=[\"word\", \"count\"])\n",
    "    print(df)\n"
   ]
  },
  {
   "cell_type": "code",
   "execution_count": null,
   "metadata": {},
   "outputs": [],
   "source": []
  },
  {
   "cell_type": "markdown",
   "metadata": {},
   "source": [
    "## Diskursanalys - vad handlar texten om?\n",
    "Vilka ord, eller typer av ord kan \"sammanfatta\" vad texten handlar om - utan att redovisa specifika detaljer?  Nu tittar vi på all text i hela SOU-dokumentet ovan."
   ]
  },
  {
   "cell_type": "markdown",
   "metadata": {},
   "source": [
    "### Keyword extraction\n",
    "\n",
    "Keyword extraction är ett enkelt sätt att skapa en översikt över texter genom att identifiera nyckelord i texten enligt den rankingalgoritm som metoden använder. TF-IDF, RAKE och TextRank är tre algoritmer för keyword extraction. RAKE viktar ord i ett enskilt dokument, utan hänsyn till föreomst i andra dokument, medan TF-IDF viktar (omvänt, inverterat) wordfrekvensen (TF, term frequency) i ett enskilt dokument mot hur ofta ordet förekommer i något dokument i hela korpuset (DF, document frequency).\n",
    "\n",
    "References\n",
    "- [TF-IDF](https://en.wikipedia.org/wiki/Tf%E2%80%93idf)\n",
    "- [Automatic keyword extraction from individual documents by Stuart Rose, Dave Engel, Nick Cramer and Wendy Cowley](https://www.researchgate.net/profile/Stuart_Rose/publication/227988510_Automatic_Keyword_Extraction_from_Individual_Documents/links/55071c570cf27e990e04c8bb.pdf)\n",
    "- [TextRank: Bringing Order into Texts by Rada Mihalcea and Paul Tarau](https://github.com/davidadamojr/TextRank)\n"
   ]
  },
  {
   "cell_type": "code",
   "execution_count": 3,
   "metadata": {},
   "outputs": [],
   "source": [
    "import nltk\n",
    "\n",
    "from corpora.zip_utility import ZipReader, store_documents_to_archive\n",
    "from corpora.corpus_source_reader import SparvCorpusSourceReader\n",
    "\n",
    "default_transforms = [\n",
    "    lambda tokens: [ x.lower() for x in tokens ],\n",
    "    lambda tokens: [ x for x in tokens if len(x) > 2 ],\n",
    "    lambda tokens: [ x for x in tokens if any([c for c in x if c.isalpha()])],\n",
    "    lambda tokens: [ x for x in tokens if x not in nltk.corpus.stopwords.words('swedish') ]\n",
    "]\n",
    "\n",
    "def convert_alto_xml_to_text(source_archive, target_archive, postags=\"\", lemmatize=False, transforms=None, xslt_filename=None):\n",
    "    source = ZipReader(source_archive, pattern='*.xml', filenames=None)\n",
    "    documents = SparvCorpusSourceReader(source=source,\n",
    "                                        transforms=(transforms or []),\n",
    "                                        postags=postags,\n",
    "                                        lemmatize=lemmatize,\n",
    "                                        chunk_size=None,\n",
    "                                        xslt_filename=xslt_filename)\n",
    "    store_documents_to_archive(target_archive, documents)\n",
    "    \n",
    "# convert_alto_xml_to_text('./data/1945_10.zip', './data/1945_10_raw_text.zip', transforms=None, xslt_filename='./corpora/alto_xml_to_text.xslt')\n",
    "convert_alto_xml_to_text('./data/SOU_1990.zip', './data/1990_nnpm_lc_gt2_nsw_lemma_text.zip', postags=\"|NN|PM|\",\n",
    "                         lemmatize=True, transforms=default_transforms)\n"
   ]
  },
  {
   "cell_type": "code",
   "execution_count": 5,
   "metadata": {},
   "outputs": [],
   "source": [
    "import warnings\n",
    "import nltk\n",
    "\n",
    "warnings.filterwarnings(\"ignore\", category=DeprecationWarning)\n",
    "\n",
    "from corpora.zip_utility import ZipReader\n",
    "from corpora.corpus_source_reader import SparvCorpusSourceReader\n",
    "\n",
    "transforms = [\n",
    "    lambda tokens: [ x.lower() for x in tokens ],\n",
    "    lambda tokens: [ x for x in tokens if len(x) > 2 ],\n",
    "    lambda tokens: [ x for x in tokens if x not in nltk.corpus.stopwords.words('swedish') ]\n",
    "]\n",
    "    \n",
    "def get_demo_text_corpus(archive, postags=\"|NN|PM|\", lemmatize=False, transforms=None):\n",
    "    source = CompressedFileReader(archive, pattern='*.xml', filenames=None)\n",
    "    documents = SparvCorpusSourceReader(source=source, transforms=(transforms or []), postags=postags, lemmatize=lemmatize, chunk_size=None, xslt_filename='./corpora/alto_xml_to_text.xslt')\n",
    "    return documents\n",
    "\n",
    "documents = get_demo_text_corpus('./data/1945_10.zip', postags=\"''\", lemmatize=False, transforms=None)\n",
    "\n",
    "w = next((x for x in documents))\n",
    "\n",
    "\n",
    "if False:\n",
    "    from rake_nltk import Rake\n",
    "    r = Rake(language='swedish') # Uses stopwords for english from NLTK, and all puntuation characters.\n",
    "    r.extract_keywords_from_text(' '.join(w[1][:500]))\n",
    "    r.get_ranked_phrases() # To get keyword phrases ranked highest to lowest.\n"
   ]
  },
  {
   "cell_type": "code",
   "execution_count": 6,
   "metadata": {},
   "outputs": [],
   "source": [
    "import zipfile\n",
    "with zipfile.ZipFile('./data/1945_10_text.zip', 'w', zipfile.ZIP_DEFLATED) as xip:\n",
    "    for (filename, document) in documents:\n",
    "        xip.writestr(filename, ' '.join(document))\n",
    "        "
   ]
  },
  {
   "cell_type": "code",
   "execution_count": null,
   "metadata": {},
   "outputs": [],
   "source": [
    "import gensim.downloader as api\n",
    "from gensim.models import TfidfModel\n",
    "from gensim.corpora import Dictionary\n",
    "dataset = api.load(\"text8\")\n",
    "next((x for x in dataset))\n",
    "#dct = Dictionary(dataset)  # fit dictionary\n",
    "#corpus = [dct.doc2bow(line) for line in dataset]  # convert corpus to BoW format\n",
    "#model = TfidfModel(corpus)  # fit model\n",
    "#vector = model[corpus[0]]  # apply model to the first corpus document\n"
   ]
  },
  {
   "cell_type": "code",
   "execution_count": 3,
   "metadata": {},
   "outputs": [
    {
     "data": {
      "text/plain": [
       "text8.Dataset"
      ]
     },
     "execution_count": 3,
     "metadata": {},
     "output_type": "execute_result"
    }
   ],
   "source": [
    "type(dataset)"
   ]
  },
  {
   "cell_type": "markdown",
   "metadata": {},
   "source": [
    "### Part-of-Speech taggning (and Dependency Analysis)\n",
    "\n",
    "https://spraakbanken.gu.se/korp/markup/msdtags.html\n",
    "CoreNLP (Stanford Tagger)\n",
    "https://spraakbanken.gu.se/sparv"
   ]
  },
  {
   "cell_type": "code",
   "execution_count": null,
   "metadata": {},
   "outputs": [],
   "source": []
  }
 ],
 "metadata": {
  "kernelspec": {
   "display_name": "Python 3",
   "language": "python",
   "name": "python3"
  },
  "language_info": {
   "codemirror_mode": {
    "name": "ipython",
    "version": 3
   },
   "file_extension": ".py",
   "mimetype": "text/x-python",
   "name": "python",
   "nbconvert_exporter": "python",
   "pygments_lexer": "ipython3",
   "version": "3.5.3"
  },
  "toc": {
   "base_numbering": 1,
   "nav_menu": {},
   "number_sections": false,
   "sideBar": false,
   "skip_h1_title": false,
   "title_cell": "Table of Contents",
   "title_sidebar": "Contents",
   "toc_cell": false,
   "toc_position": {},
   "toc_section_display": false,
   "toc_window_display": false
  },
  "varInspector": {
   "cols": {
    "lenName": 16,
    "lenType": 16,
    "lenVar": 40
   },
   "kernels_config": {
    "python": {
     "delete_cmd_postfix": "",
     "delete_cmd_prefix": "del ",
     "library": "var_list.py",
     "varRefreshCmd": "print(var_dic_list())"
    },
    "r": {
     "delete_cmd_postfix": ") ",
     "delete_cmd_prefix": "rm(",
     "library": "var_list.r",
     "varRefreshCmd": "cat(var_dic_list()) "
    }
   },
   "types_to_exclude": [
    "module",
    "function",
    "builtin_function_or_method",
    "instance",
    "_Feature"
   ],
   "window_display": false
  }
 },
 "nbformat": 4,
 "nbformat_minor": 2
}
